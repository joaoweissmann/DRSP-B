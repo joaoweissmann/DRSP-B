{
 "cells": [
  {
   "cell_type": "markdown",
   "metadata": {},
   "source": [
    "# Metaheurísticas"
   ]
  },
  {
   "cell_type": "markdown",
   "metadata": {},
   "source": [
    "# Trabalhos concluídos até Dezembro de 2020\n",
    "\n",
    "1. Revisão bibliográfica e texto base\n",
    "2. Formulação matemática CTP\n",
    "3. Formulação matemática TI\n",
    "4. Gerador de instâncias sintéticas\n",
    "5. Modelo CPLEX para formulação CTP\n",
    "6. Modelo CPLEX para formulação TI"
   ]
  },
  {
   "cell_type": "markdown",
   "metadata": {},
   "source": [
    "# Metas para 25/01/2021\n",
    "\n",
    "- Realocação de projetos durante a heurística de construção\n",
    "\n",
    "- Começar a implementar a busca local\n"
   ]
  },
  {
   "cell_type": "markdown",
   "metadata": {},
   "source": [
    "# Avanços até 25/01/2021\n",
    "\n",
    "- Comparação da heurística de construção com resultados do CPLEX\n",
    "- Correção de bug de restrição\n",
    "- Melhorar modularização\n",
    "- Heurística de construção:\n",
    "    - Separar pré-processamento\n",
    "    - Escolher sonda por critério guloso de tempo disponível, ao invés de aleatoriamente\n",
    "    - Escolher tempo de início que maximiza janela remanescente\n",
    "    - Realocar projetos\n",
    "    - Testes com diferentes critérios gulosos"
   ]
  },
  {
   "cell_type": "markdown",
   "metadata": {},
   "source": [
    "# Metas para 03/02/2021\n",
    "\n",
    "- Organizar notebooks\n",
    "\n",
    "- Corrigir realocação checando janelas de tempo\n",
    "\n",
    "- Deixar o gerador de instâncias pronto para fornecer todos os inputs, já pre-processados\n",
    "\n",
    "- Implementar camada alto nível para rodar algoritmos nas instâncias\n",
    "    - Verificar viabilidade: função por restrição para verificar validade da solução\n",
    "    - Guardar custo da função objetivo\n",
    "    - Guardar o tempo de execução do algoritmo na instância\n",
    "    - Gerar tabela/DataFrame com resultados\n",
    "    - Versionar algoritmos com instâncias e resultados (DataFrame)\n",
    "\n",
    "- Começar estruturas de vizinhaça"
   ]
  },
  {
   "cell_type": "markdown",
   "metadata": {},
   "source": [
    "# Avanços até 03/02/2021\n",
    "\n",
    "- Organização dos notebooks\n",
    "- Correção da realocação de projetos durante a heurística de construção\n",
    "- Deixar o gerador de instâncias pronto para fornecer todos os inputs, já pre-processados\n",
    "    - alterar função de leitura de dados\n",
    "- Implementar camada alto nível para rodar algoritmos nas instâncias\n",
    "    - ajustes no makefile para CPLEX\n",
    "    - rodar makefile com CPLEX pelo python \n",
    "    - Guardar custo da função objetivo\n",
    "    - Guardar o tempo de execução do algoritmo na instância\n",
    "    - Gerar tabela/DataFrame com resultados\n",
    "    - Versionar algoritmos com instâncias e resultados (DataFrame formato csv)"
   ]
  },
  {
   "cell_type": "markdown",
   "metadata": {},
   "source": [
    "# Metas para 10/02/2021\n",
    "\n",
    "- Verificar viabilidade: função por restrição para verificar validade da solução\n",
    "\n",
    "- Verificar FO\n",
    "\n",
    "- Critério spam da janela do projeto\n",
    "\n",
    "- Verificar inclusão em nós de projetos (fazendo realocação)\n",
    "\n",
    "- Adicionar aleatoriedade nas escolhas da heurística de construção: tanto nas sondas quanto nos projetos\n",
    "\n",
    "    - lista restritiva de candidatos\n",
    "    \n",
    "        - aleatório para k primeiros\n",
    "    \n",
    "        - randomized greedy\n",
    "\n",
    "- Rodar uma Multi-start heuristic\n",
    "\n",
    "- Ranking por instância no arquivo de resultados (FO > tempo)\n",
    "\n",
    "- Se possível\n",
    "\n",
    "    - Acessar máquina da UFF e fazer o CPLEX"
   ]
  },
  {
   "cell_type": "markdown",
   "metadata": {},
   "source": [
    "# Backlog\n",
    "\n",
    "- possibilidade de usar árvore de busca balanceada (e outras DSs) na representação do conjunto de sondas\n",
    "\n",
    "- gerador de instâncias\n",
    "\n",
    "    - descrever detalhes do algoritmo\n",
    "    \n",
    "    - modularizar\n",
    "    \n",
    "    - codificar categóricas\n",
    "    \n",
    "    - variar tamanho dos quadrados\n",
    "    \n",
    "    - flood fill para gerar regioões mais complexas\n",
    "    \n",
    "    - variar calibração econômica por bacia\n",
    "    \n",
    "    - considerar, na definição dos plays, correlação entre as VAs\n",
    "    \n",
    "    - escalar a incerteza das VAs, na definição dos projetos, pela qualidade de cada bacia\n",
    "    \n",
    "    - considerar, na definição dos projetos, alguns elementos de risco como regionais"
   ]
  },
  {
   "cell_type": "markdown",
   "metadata": {},
   "source": [
    "# Discussões"
   ]
  },
  {
   "cell_type": "markdown",
   "metadata": {},
   "source": []
  },
  {
   "cell_type": "markdown",
   "metadata": {},
   "source": []
  }
 ],
 "metadata": {
  "kernelspec": {
   "display_name": "Python 3",
   "language": "python",
   "name": "python3"
  },
  "language_info": {
   "codemirror_mode": {
    "name": "ipython",
    "version": 3
   },
   "file_extension": ".py",
   "mimetype": "text/x-python",
   "name": "python",
   "nbconvert_exporter": "python",
   "pygments_lexer": "ipython3",
   "version": "3.8.3"
  }
 },
 "nbformat": 4,
 "nbformat_minor": 4
}
