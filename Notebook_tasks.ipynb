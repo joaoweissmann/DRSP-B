{
 "cells": [
  {
   "cell_type": "markdown",
   "metadata": {},
   "source": [
    "# Metaheurísticas"
   ]
  },
  {
   "cell_type": "markdown",
   "metadata": {},
   "source": [
    "# Trabalhos concluídos até Dezembro de 2020\n",
    "\n",
    "1. Revisão bibliográfica e texto base\n",
    "2. Formulação matemática CTP\n",
    "3. Formulação matemática TI\n",
    "4. Gerador de instâncias sintéticas\n",
    "5. Modelo CPLEX para formulação CTP\n",
    "6. Modelo CPLEX para formulação TI"
   ]
  },
  {
   "cell_type": "markdown",
   "metadata": {},
   "source": [
    "# Metas para 25/01/2021\n",
    "\n",
    "- Realocação de projetos durante a heurística de construção\n",
    "\n",
    "- Começar a implementar a busca local\n"
   ]
  },
  {
   "cell_type": "markdown",
   "metadata": {},
   "source": [
    "# Avanços até 25/01/2021\n",
    "\n",
    "- Comparação da heurística de construção com resultados do CPLEX\n",
    "- Correção de bug de restrição\n",
    "- Melhorar modularização\n",
    "- Heurística de construção:\n",
    "    - Separar pré-processamento\n",
    "    - Escolher sonda por critério guloso de tempo disponível, ao invés de aleatoriamente\n",
    "    - Escolher tempo de início que maximiza janela remanescente\n",
    "    - Realocar projetos\n",
    "    - Testes com diferentes critérios gulosos"
   ]
  },
  {
   "cell_type": "markdown",
   "metadata": {},
   "source": [
    "# Metas para 01/02/2021\n",
    "\n",
    "- Organizar notebooks\n",
    "\n",
    "- Corrigir realocação checando janelas de tempo\n",
    "\n",
    "- Deixar o gerador de instâncias pronto para fornecer todos os inputs, já pre-processados\n",
    "\n",
    "- Implementar camada alto nível para rodar algoritmos nas instâncias\n",
    "    - Verificar viabilidade: função por restrição para verificar validade da solução\n",
    "    - Guardar custo da função objetivo\n",
    "    - Guardar o tempo de execução do algoritmo na instância\n",
    "    - Gerar tabela/DataFrame com resultados\n",
    "    - Versionar algoritmos com instâncias e resultados (DataFrame)\n",
    "\n",
    "- Começar estruturas de vizinhaça"
   ]
  },
  {
   "cell_type": "markdown",
   "metadata": {},
   "source": [
    "# Avanços até 01/02/2020\n",
    "\n",
    "- Organização dos notebooks\n",
    "- Correção da realocação de projetos durante a heurística de construção\n",
    "- "
   ]
  },
  {
   "cell_type": "markdown",
   "metadata": {},
   "source": [
    "# Backlog\n",
    "\n",
    "- possibilidade de usar árvore de busca balanceada"
   ]
  },
  {
   "cell_type": "markdown",
   "metadata": {},
   "source": []
  },
  {
   "cell_type": "markdown",
   "metadata": {},
   "source": []
  },
  {
   "cell_type": "markdown",
   "metadata": {},
   "source": []
  }
 ],
 "metadata": {
  "kernelspec": {
   "display_name": "Python 3",
   "language": "python",
   "name": "python3"
  },
  "language_info": {
   "codemirror_mode": {
    "name": "ipython",
    "version": 3
   },
   "file_extension": ".py",
   "mimetype": "text/x-python",
   "name": "python",
   "nbconvert_exporter": "python",
   "pygments_lexer": "ipython3",
   "version": "3.8.3"
  }
 },
 "nbformat": 4,
 "nbformat_minor": 4
}
