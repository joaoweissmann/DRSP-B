{
 "cells": [
  {
   "cell_type": "markdown",
   "metadata": {},
   "source": [
    "# Metaheurísticas"
   ]
  },
  {
   "cell_type": "markdown",
   "metadata": {},
   "source": [
    "## Representação de uma solução viável"
   ]
  },
  {
   "cell_type": "markdown",
   "metadata": {},
   "source": [
    "- Cada sonda guarda uma lista duplamente encadeada de atividades\n",
    "\n",
    "    - Atividades podem ser janelas de tempo ou alocações de projetos\n",
    "    \n",
    "    - Cada item da lista contém (atividade, inicio, final)\n",
    "\n",
    "- Manter um contador de gastos (geral e por tipo de projeto)\n",
    "\n",
    "- Cada sonda guarda uma lista de possíveis projetos (heap, com key por critério guloso)"
   ]
  },
  {
   "cell_type": "markdown",
   "metadata": {},
   "source": [
    "## Estruturas de dados"
   ]
  },
  {
   "cell_type": "markdown",
   "metadata": {},
   "source": [
    "- Doubly Linked list: representação da solução\n",
    "\n",
    "- Heap: candidatos a serem inseridos na solução"
   ]
  },
  {
   "cell_type": "markdown",
   "metadata": {},
   "source": [
    "# Critérios gulosos"
   ]
  },
  {
   "cell_type": "markdown",
   "metadata": {},
   "source": [
    "- lucro\n",
    "\n",
    "- lucro / custo\n",
    "\n",
    "- lucro / duração\n",
    "\n",
    "- custo\n",
    "\n",
    "- duração"
   ]
  },
  {
   "cell_type": "markdown",
   "metadata": {},
   "source": [
    "## Heurística de construção"
   ]
  },
  {
   "cell_type": "markdown",
   "metadata": {},
   "source": [
    "1. Escolher uma sonda\n",
    "2. Escolher um projeto (dentro da heap de possíveis projetos)\n",
    "3. Alocar na sonda\n",
    "    - se for inviável (pelo tempo), tentar realocar por sliding window\n",
    "4. Atualizar dados (gastos, janelas de tempo, projetos possíveis)\n",
    "5. Repetir até restrições serem alcançadas\n"
   ]
  },
  {
   "cell_type": "markdown",
   "metadata": {},
   "source": [
    "## Heurística de refinamento (busca local)"
   ]
  },
  {
   "cell_type": "markdown",
   "metadata": {},
   "source": [
    "### Estrutura de vizinhança 1: Remover um projeto e inserir um não selecionado\n",
    "\n",
    "- Para cada projeto na solução (em orgem gulosa)\n",
    "\n",
    "    - remover projeto j\n",
    "    \n",
    "    - Parada cada projeto não selecionado\n",
    "    \n",
    "        - tentar inserir\n",
    "        \n",
    "        - quando conseguir inserir, temos uma solução vizinha\n",
    "        \n",
    "        - senão, coloca projeto j de volta"
   ]
  },
  {
   "cell_type": "markdown",
   "metadata": {},
   "source": [
    "### Estrutura de vizinhança 2: Remover k projetos e preencher com heurística de construção\n",
    "\n",
    "- Posso variar k projetos a serem removidos\n",
    "\n",
    "- Posso variar critério de remoção e reconstrução para maior diversificação\n"
   ]
  },
  {
   "cell_type": "markdown",
   "metadata": {},
   "source": [
    "## Crossover"
   ]
  },
  {
   "cell_type": "markdown",
   "metadata": {},
   "source": [
    "### Ideia 1: quando a instância tem mais de uma sonda\n",
    "\n",
    "Dadas duas soluções possíveis:\n",
    "\n",
    "- Dividir as sondas em dois conjuntos\n",
    "\n",
    "- Para a primeira solução, escolher o primeiro conjunto de sondas (solução parcial)\n",
    "\n",
    "- Para a segunda solução, escolher o segundo conjunto de sondas (solução complementar)\n",
    "\n",
    "- Remover aleatoriamente projetos que estejam tanto na solução parcial, quanto na complementar\n",
    "\n",
    "- Unir solução parcial com solução complementar\n",
    "\n",
    "- Para cada sonda\n",
    "\n",
    "    - Preencher buracos com heurística de construção"
   ]
  },
  {
   "cell_type": "markdown",
   "metadata": {},
   "source": [
    "### Idéia 2: mais genérica\n",
    "\n",
    "Dadas duas soluções possíveis, para cada sonda:\n",
    "\n",
    "- Dividir os projetos em dois grupos\n",
    "\n",
    "- Para a primeira solução, escolher o primeiro conjunto de projetos (solução parcial)\n",
    "\n",
    "- Para a segunda solução, escolher o segundo conjunto de projetos (solução complementar)\n",
    "\n",
    "- Remover aleatoriamente projetos que estejam tanto na solução parcial, quanto na complementar\n",
    "\n",
    "- Para cada projeto da solução complementar:\n",
    "\n",
    "    - Tentar inserir na solução parcial usando heurística de construção (projetos já selecionados)\n",
    "    \n",
    "- Preencher buracos com heurística de construção"
   ]
  },
  {
   "cell_type": "markdown",
   "metadata": {},
   "source": [
    "## Decodificador BRKGA"
   ]
  },
  {
   "cell_type": "markdown",
   "metadata": {},
   "source": [
    "### Representação:\n",
    "\n",
    "- Cada projeto recebe um número aleatório entre 0 e 1\n",
    "\n",
    "### Ideia:\n",
    "\n",
    "- Usar a heurística de construção, simplificada:\n",
    "\n",
    "    - Critério guloso: ordem dos números aleatórios\n",
    "    \n",
    "    - Eficiência: não pegar pesado em tentar viabilizar a inserção de projetos inviáveis\n",
    "\n",
    "- Construir parte da população inicial com GRASP"
   ]
  }
 ],
 "metadata": {
  "kernelspec": {
   "display_name": "Python 3",
   "language": "python",
   "name": "python3"
  },
  "language_info": {
   "codemirror_mode": {
    "name": "ipython",
    "version": 3
   },
   "file_extension": ".py",
   "mimetype": "text/x-python",
   "name": "python",
   "nbconvert_exporter": "python",
   "pygments_lexer": "ipython3",
   "version": "3.8.3"
  }
 },
 "nbformat": 4,
 "nbformat_minor": 4
}
