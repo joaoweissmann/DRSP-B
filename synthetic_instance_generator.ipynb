{
 "cells": [
  {
   "cell_type": "markdown",
   "metadata": {},
   "source": [
    "# Gerador de instâncias sintéticas para o problema de otimização do mestrado"
   ]
  },
  {
   "cell_type": "markdown",
   "metadata": {},
   "source": [
    "### Etapas"
   ]
  },
  {
   "cell_type": "markdown",
   "metadata": {},
   "source": [
    "**Geral**\n",
    "\n",
    "1. Definir o grid\n",
    "\n",
    "1. Definir bacias geológicas\n",
    "\n",
    "1. Definir plays\n",
    "\n",
    "1. Definir quantidade de projetos\n",
    "\n",
    "**Para cada projeto:**\n",
    "\n",
    "1. Escolher uma bacia\n",
    "\n",
    "1. Sortear coordenada (x,y)\n",
    "\n",
    "1. Pela bacia, temos a estratégia e a qualidade do dado\n",
    "\n",
    "1. Dada a bacia, escolher um play\n",
    "\n",
    "1. O play vai indicar o range de soterramento, e distribuição dos parâmetros volumétricos\n",
    "\n",
    "1. O risco tem componentes regionais da bacia (geração), componentes do play (migração, retenção), e componentes individuais (geometria e reservatório).\n",
    "\n",
    "1. A PCGNA é indicada pelo play\n",
    "\n",
    "1. Simular volume geo, tec, ambos condicionais e incondicionais\n",
    "\n",
    "1. Cada bacia tem uma $f(vol) \\rightarrow VPL$\n",
    "\n",
    "1. Calcular distribuição de VPL e métricas de retorno (risco?)\n",
    "\n",
    "1. O custo do poço exploratório depende da bacia, estratégia e soterramento\n",
    "\n",
    "1. Tempo de excecução dos projetos é função do soterramento e estratégia\n",
    "\n",
    "1. Atribuir contratos à cada parte da bacia com OEs: simular leilões?"
   ]
  },
  {
   "cell_type": "markdown",
   "metadata": {},
   "source": [
    "## Importando bibliotecas"
   ]
  },
  {
   "cell_type": "code",
   "execution_count": 1,
   "metadata": {},
   "outputs": [],
   "source": [
    "import copy\n",
    "import numpy as np\n",
    "from scipy import stats\n",
    "import matplotlib.pyplot as plt\n",
    "import pandas as pd\n",
    "from matplotlib import cm\n",
    "\n",
    "%matplotlib inline"
   ]
  },
  {
   "cell_type": "markdown",
   "metadata": {},
   "source": [
    "## Definição do grid"
   ]
  },
  {
   "cell_type": "code",
   "execution_count": 2,
   "metadata": {},
   "outputs": [],
   "source": [
    "x_min, x_max = (0., 100.)\n",
    "y_min, y_max = (0., 100.)\n",
    "dx, dy = (1., 1.)\n",
    "grid = np.zeros(( int((y_max-y_min)/dy), int((x_max-x_min)/dx) ))"
   ]
  },
  {
   "cell_type": "code",
   "execution_count": 3,
   "metadata": {},
   "outputs": [
    {
     "data": {
      "text/plain": [
       "(100, 100)"
      ]
     },
     "execution_count": 3,
     "metadata": {},
     "output_type": "execute_result"
    }
   ],
   "source": [
    "grid.shape"
   ]
  },
  {
   "cell_type": "code",
   "execution_count": 4,
   "metadata": {},
   "outputs": [
    {
     "data": {
      "text/plain": [
       "<matplotlib.collections.QuadMesh at 0x7f821bc8a040>"
      ]
     },
     "execution_count": 4,
     "metadata": {},
     "output_type": "execute_result"
    },
    {
     "data": {
      "image/png": "[encoded data removed]",
      "text/plain": [
       "<Figure size 432x288 with 1 Axes>"
      ]
     },
     "metadata": {
      "needs_background": "light"
     },
     "output_type": "display_data"
    }
   ],
   "source": [
    "plt.pcolormesh(grid, alpha=0.5)"
   ]
  },
  {
   "cell_type": "markdown",
   "metadata": {},
   "source": [
    "## Criando bacias geológicas"
   ]
  },
  {
   "cell_type": "code",
   "execution_count": 5,
   "metadata": {},
   "outputs": [],
   "source": [
    "estrategias = ['Estrutura pronta', 'Estrutura em construção', 'Nova fronteira']\n",
    "qualidades_dado = ['Qualidade alta', 'Qualidade razoável', 'Qualidade baixa']"
   ]
  },
  {
   "cell_type": "code",
   "execution_count": 6,
   "metadata": {},
   "outputs": [],
   "source": [
    "nx_bacias = 3\n",
    "ny_bacias = 3\n",
    "bacias = {}\n",
    "count = 0\n",
    "x_step = (x_max-x_min)/nx_bacias\n",
    "y_step = (y_max-y_min)/ny_bacias\n",
    "for i in range(1, ny_bacias+1):\n",
    "    y_min_curr = (i-1)*y_step\n",
    "    y_max_curr = (i)*y_step\n",
    "    for j in range(1, nx_bacias+1):\n",
    "        x_min_curr = (j-1)*x_step\n",
    "        x_max_curr = j*x_step\n",
    "        count += 1\n",
    "        bacias[\"Bacia\"+str(count)] = {}\n",
    "        bacias[\"Bacia\"+str(count)]['Coordenadas'] = ((x_min_curr, x_max_curr),(y_min_curr, y_max_curr))\n",
    "        bacias[\"Bacia\"+str(count)]['Maturidade'] = np.random.choice(estrategias)\n",
    "        bacias[\"Bacia\"+str(count)]['Qualidade do dado'] = np.random.choice(qualidades_dado)\n",
    "        grid[int(x_min_curr):int(x_max_curr), int(y_min_curr):int(y_max_curr)] = count"
   ]
  },
  {
   "cell_type": "code",
   "execution_count": 7,
   "metadata": {},
   "outputs": [
    {
     "data": {
      "text/plain": [
       "{'Bacia1': {'Coordenadas': ((0.0, 33.333333333333336),\n",
       "   (0.0, 33.333333333333336)),\n",
       "  'Maturidade': 'Estrutura em construção',\n",
       "  'Qualidade do dado': 'Qualidade alta'},\n",
       " 'Bacia2': {'Coordenadas': ((33.333333333333336, 66.66666666666667),\n",
       "   (0.0, 33.333333333333336)),\n",
       "  'Maturidade': 'Estrutura pronta',\n",
       "  'Qualidade do dado': 'Qualidade alta'},\n",
       " 'Bacia3': {'Coordenadas': ((66.66666666666667, 100.0),\n",
       "   (0.0, 33.333333333333336)),\n",
       "  'Maturidade': 'Estrutura pronta',\n",
       "  'Qualidade do dado': 'Qualidade alta'},\n",
       " 'Bacia4': {'Coordenadas': ((0.0, 33.333333333333336),\n",
       "   (33.333333333333336, 66.66666666666667)),\n",
       "  'Maturidade': 'Nova fronteira',\n",
       "  'Qualidade do dado': 'Qualidade alta'},\n",
       " 'Bacia5': {'Coordenadas': ((33.333333333333336, 66.66666666666667),\n",
       "   (33.333333333333336, 66.66666666666667)),\n",
       "  'Maturidade': 'Nova fronteira',\n",
       "  'Qualidade do dado': 'Qualidade alta'},\n",
       " 'Bacia6': {'Coordenadas': ((66.66666666666667, 100.0),\n",
       "   (33.333333333333336, 66.66666666666667)),\n",
       "  'Maturidade': 'Estrutura em construção',\n",
       "  'Qualidade do dado': 'Qualidade baixa'},\n",
       " 'Bacia7': {'Coordenadas': ((0.0, 33.333333333333336),\n",
       "   (66.66666666666667, 100.0)),\n",
       "  'Maturidade': 'Estrutura pronta',\n",
       "  'Qualidade do dado': 'Qualidade baixa'},\n",
       " 'Bacia8': {'Coordenadas': ((33.333333333333336, 66.66666666666667),\n",
       "   (66.66666666666667, 100.0)),\n",
       "  'Maturidade': 'Estrutura pronta',\n",
       "  'Qualidade do dado': 'Qualidade alta'},\n",
       " 'Bacia9': {'Coordenadas': ((66.66666666666667, 100.0),\n",
       "   (66.66666666666667, 100.0)),\n",
       "  'Maturidade': 'Estrutura em construção',\n",
       "  'Qualidade do dado': 'Qualidade alta'}}"
      ]
     },
     "execution_count": 7,
     "metadata": {},
     "output_type": "execute_result"
    }
   ],
   "source": [
    "bacias"
   ]
  },
  {
   "cell_type": "code",
   "execution_count": 8,
   "metadata": {},
   "outputs": [
    {
     "data": {
      "text/plain": [
       "dict_keys(['magma', 'inferno', 'plasma', 'viridis', 'cividis', 'twilight', 'twilight_shifted', 'Blues', 'BrBG', 'BuGn', 'BuPu', 'CMRmap', 'GnBu', 'Greens', 'Greys', 'OrRd', 'Oranges', 'PRGn', 'PiYG', 'PuBu', 'PuBuGn', 'PuOr', 'PuRd', 'Purples', 'RdBu', 'RdGy', 'RdPu', 'RdYlBu', 'RdYlGn', 'Reds', 'Spectral', 'Wistia', 'YlGn', 'YlGnBu', 'YlOrBr', 'YlOrRd', 'afmhot', 'autumn', 'binary', 'bone', 'brg', 'bwr', 'cool', 'coolwarm', 'copper', 'cubehelix', 'flag', 'gist_earth', 'gist_gray', 'gist_heat', 'gist_ncar', 'gist_rainbow', 'gist_stern', 'gist_yarg', 'gnuplot', 'gnuplot2', 'gray', 'hot', 'hsv', 'jet', 'nipy_spectral', 'ocean', 'pink', 'prism', 'rainbow', 'seismic', 'spring', 'summer', 'terrain', 'winter', 'Accent', 'Dark2', 'Paired', 'Pastel1', 'Pastel2', 'Set1', 'Set2', 'Set3', 'tab10', 'tab20', 'tab20b', 'tab20c', 'magma_r', 'inferno_r', 'plasma_r', 'viridis_r', 'cividis_r', 'twilight_r', 'twilight_shifted_r', 'Blues_r', 'BrBG_r', 'BuGn_r', 'BuPu_r', 'CMRmap_r', 'GnBu_r', 'Greens_r', 'Greys_r', 'OrRd_r', 'Oranges_r', 'PRGn_r', 'PiYG_r', 'PuBu_r', 'PuBuGn_r', 'PuOr_r', 'PuRd_r', 'Purples_r', 'RdBu_r', 'RdGy_r', 'RdPu_r', 'RdYlBu_r', 'RdYlGn_r', 'Reds_r', 'Spectral_r', 'Wistia_r', 'YlGn_r', 'YlGnBu_r', 'YlOrBr_r', 'YlOrRd_r', 'afmhot_r', 'autumn_r', 'binary_r', 'bone_r', 'brg_r', 'bwr_r', 'cool_r', 'coolwarm_r', 'copper_r', 'cubehelix_r', 'flag_r', 'gist_earth_r', 'gist_gray_r', 'gist_heat_r', 'gist_ncar_r', 'gist_rainbow_r', 'gist_stern_r', 'gist_yarg_r', 'gnuplot_r', 'gnuplot2_r', 'gray_r', 'hot_r', 'hsv_r', 'jet_r', 'nipy_spectral_r', 'ocean_r', 'pink_r', 'prism_r', 'rainbow_r', 'seismic_r', 'spring_r', 'summer_r', 'terrain_r', 'winter_r', 'Accent_r', 'Dark2_r', 'Paired_r', 'Pastel1_r', 'Pastel2_r', 'Set1_r', 'Set2_r', 'Set3_r', 'tab10_r', 'tab20_r', 'tab20b_r', 'tab20c_r'])"
      ]
     },
     "execution_count": 8,
     "metadata": {},
     "output_type": "execute_result"
    }
   ],
   "source": [
    "colormap_dict = cm.cmap_d.keys()\n",
    "colormap_dict"
   ]
  },
  {
   "cell_type": "code",
   "execution_count": 9,
   "metadata": {},
   "outputs": [],
   "source": [
    "colormap = cm.inferno"
   ]
  },
  {
   "cell_type": "code",
   "execution_count": 10,
   "metadata": {},
   "outputs": [
    {
     "data": {
      "text/plain": [
       "<matplotlib.collections.QuadMesh at 0x7f821bb9f070>"
      ]
     },
     "execution_count": 10,
     "metadata": {},
     "output_type": "execute_result"
    },
    {
     "data": {
      "image/png": "[encoded data removed]",
      "text/plain": [
       "<Figure size 504x504 with 1 Axes>"
      ]
     },
     "metadata": {
      "needs_background": "light"
     },
     "output_type": "display_data"
    }
   ],
   "source": [
    "plt.figure(figsize=(7, 7))\n",
    "plt.pcolormesh(grid, alpha=0.5, cmap=colormap)"
   ]
  },
  {
   "cell_type": "markdown",
   "metadata": {},
   "source": [
    "## Criando projetos"
   ]
  },
  {
   "cell_type": "code",
   "execution_count": 11,
   "metadata": {},
   "outputs": [],
   "source": [
    "n_plays = 10\n",
    "plays = ['Play '+str(i) for i in range(1, n_plays+1)]"
   ]
  },
  {
   "cell_type": "code",
   "execution_count": 12,
   "metadata": {},
   "outputs": [],
   "source": [
    "n_projetos = 20\n",
    "projetos = {}\n",
    "projetos['Coordenada x'] = []\n",
    "projetos['Coordenada y'] = []\n",
    "projetos['Bacia'] = []\n",
    "projetos['Nome'] = []\n",
    "projetos['Maturidade bacia'] = []\n",
    "projetos['Qualidade do dado'] = []\n",
    "projetos['Play'] = []\n",
    "\n",
    "for i in range(n_projetos):\n",
    "    \n",
    "    # primeiro, sortear uma bacia\n",
    "    bacia = np.random.choice(list(bacias.keys()))\n",
    "    \n",
    "    # não permitir coordenadas nas bordas das bacias\n",
    "    fator = 0.8\n",
    "    x_min_curr, x_max_curr = bacias[bacia]['Coordenadas'][0]\n",
    "    y_min_curr, y_max_curr = bacias[bacia]['Coordenadas'][1]\n",
    "    \n",
    "    x_proj, y_proj = (np.random.uniform(x_min_curr + x_step*(1-fator), x_max_curr - x_step*(1-fator)), \n",
    "                      np.random.uniform(y_min_curr + y_step*(1-fator), y_max_curr - y_step*(1-fator)))\n",
    "    \n",
    "    projetos['Nome'].append(\"Projeto \" + str(i+1))\n",
    "    projetos['Bacia'].append(bacia)\n",
    "    projetos['Coordenada x'].append(x_proj)\n",
    "    projetos['Coordenada y'].append(y_proj)\n",
    "    projetos['Maturidade bacia'].append(bacias[bacia]['Maturidade'])\n",
    "    projetos['Qualidade do dado'].append(bacias[bacia]['Qualidade do dado'])\n",
    "    projetos['Play'].append(np.random.choice(plays))"
   ]
  },
  {
   "cell_type": "code",
   "execution_count": 13,
   "metadata": {},
   "outputs": [
    {
     "data": {
      "text/plain": [
       "<matplotlib.collections.PathCollection at 0x7f821bb7e8e0>"
      ]
     },
     "execution_count": 13,
     "metadata": {},
     "output_type": "execute_result"
    },
    {
     "data": {
      "image/png": "[encoded data removed]",
      "text/plain": [
       "<Figure size 432x288 with 1 Axes>"
      ]
     },
     "metadata": {
      "needs_background": "light"
     },
     "output_type": "display_data"
    }
   ],
   "source": [
    "plt.scatter(projetos['Coordenada x'], projetos['Coordenada y'])"
   ]
  },
  {
   "cell_type": "code",
   "execution_count": 14,
   "metadata": {},
   "outputs": [
    {
     "data": {
      "image/png": "[encoded data removed]",
      "text/plain": [
       "<Figure size 504x504 with 1 Axes>"
      ]
     },
     "metadata": {
      "needs_background": "light"
     },
     "output_type": "display_data"
    }
   ],
   "source": [
    "fig = plt.figure(figsize=(7, 7), frameon=False)\n",
    "\n",
    "im1 = plt.pcolormesh(grid, alpha=0.5, cmap=colormap)\n",
    "im2 = plt.scatter(projetos['Coordenada x'], projetos['Coordenada y'], color=(0.1, 0.8, 0.8), s=50, marker='*')\n",
    "\n",
    "plt.show()"
   ]
  },
  {
   "cell_type": "code",
   "execution_count": 15,
   "metadata": {},
   "outputs": [],
   "source": [
    "proj_df = pd.DataFrame(projetos)"
   ]
  },
  {
   "cell_type": "code",
   "execution_count": 16,
   "metadata": {
    "scrolled": true
   },
   "outputs": [
    {
     "data": {
      "text/html": [
       "<div>\n",
       "<style scoped>\n",
       "    .dataframe tbody tr th:only-of-type {\n",
       "        vertical-align: middle;\n",
       "    }\n",
       "\n",
       "    .dataframe tbody tr th {\n",
       "        vertical-align: top;\n",
       "    }\n",
       "\n",
       "    .dataframe thead th {\n",
       "        text-align: right;\n",
       "    }\n",
       "</style>\n",
       "<table border=\"1\" class=\"dataframe\">\n",
       "  <thead>\n",
       "    <tr style=\"text-align: right;\">\n",
       "      <th></th>\n",
       "      <th>Coordenada x</th>\n",
       "      <th>Coordenada y</th>\n",
       "      <th>Bacia</th>\n",
       "      <th>Nome</th>\n",
       "      <th>Maturidade bacia</th>\n",
       "      <th>Qualidade do dado</th>\n",
       "      <th>Play</th>\n",
       "    </tr>\n",
       "  </thead>\n",
       "  <tbody>\n",
       "    <tr>\n",
       "      <th>0</th>\n",
       "      <td>56.012296</td>\n",
       "      <td>6.773266</td>\n",
       "      <td>Bacia2</td>\n",
       "      <td>Projeto 1</td>\n",
       "      <td>Estrutura pronta</td>\n",
       "      <td>Qualidade alta</td>\n",
       "      <td>Play 10</td>\n",
       "    </tr>\n",
       "    <tr>\n",
       "      <th>1</th>\n",
       "      <td>75.503222</td>\n",
       "      <td>81.020844</td>\n",
       "      <td>Bacia9</td>\n",
       "      <td>Projeto 2</td>\n",
       "      <td>Estrutura em construção</td>\n",
       "      <td>Qualidade alta</td>\n",
       "      <td>Play 5</td>\n",
       "    </tr>\n",
       "    <tr>\n",
       "      <th>2</th>\n",
       "      <td>55.156900</td>\n",
       "      <td>74.092166</td>\n",
       "      <td>Bacia8</td>\n",
       "      <td>Projeto 3</td>\n",
       "      <td>Estrutura pronta</td>\n",
       "      <td>Qualidade alta</td>\n",
       "      <td>Play 8</td>\n",
       "    </tr>\n",
       "    <tr>\n",
       "      <th>3</th>\n",
       "      <td>47.181430</td>\n",
       "      <td>81.264048</td>\n",
       "      <td>Bacia8</td>\n",
       "      <td>Projeto 4</td>\n",
       "      <td>Estrutura pronta</td>\n",
       "      <td>Qualidade alta</td>\n",
       "      <td>Play 4</td>\n",
       "    </tr>\n",
       "    <tr>\n",
       "      <th>4</th>\n",
       "      <td>56.350165</td>\n",
       "      <td>11.581916</td>\n",
       "      <td>Bacia2</td>\n",
       "      <td>Projeto 5</td>\n",
       "      <td>Estrutura pronta</td>\n",
       "      <td>Qualidade alta</td>\n",
       "      <td>Play 6</td>\n",
       "    </tr>\n",
       "    <tr>\n",
       "      <th>5</th>\n",
       "      <td>56.451420</td>\n",
       "      <td>16.375539</td>\n",
       "      <td>Bacia2</td>\n",
       "      <td>Projeto 6</td>\n",
       "      <td>Estrutura pronta</td>\n",
       "      <td>Qualidade alta</td>\n",
       "      <td>Play 3</td>\n",
       "    </tr>\n",
       "    <tr>\n",
       "      <th>6</th>\n",
       "      <td>23.610976</td>\n",
       "      <td>50.904176</td>\n",
       "      <td>Bacia4</td>\n",
       "      <td>Projeto 7</td>\n",
       "      <td>Nova fronteira</td>\n",
       "      <td>Qualidade alta</td>\n",
       "      <td>Play 1</td>\n",
       "    </tr>\n",
       "    <tr>\n",
       "      <th>7</th>\n",
       "      <td>49.057775</td>\n",
       "      <td>13.323056</td>\n",
       "      <td>Bacia2</td>\n",
       "      <td>Projeto 8</td>\n",
       "      <td>Estrutura pronta</td>\n",
       "      <td>Qualidade alta</td>\n",
       "      <td>Play 4</td>\n",
       "    </tr>\n",
       "    <tr>\n",
       "      <th>8</th>\n",
       "      <td>19.943469</td>\n",
       "      <td>41.297717</td>\n",
       "      <td>Bacia4</td>\n",
       "      <td>Projeto 9</td>\n",
       "      <td>Nova fronteira</td>\n",
       "      <td>Qualidade alta</td>\n",
       "      <td>Play 2</td>\n",
       "    </tr>\n",
       "    <tr>\n",
       "      <th>9</th>\n",
       "      <td>86.371380</td>\n",
       "      <td>48.046448</td>\n",
       "      <td>Bacia6</td>\n",
       "      <td>Projeto 10</td>\n",
       "      <td>Estrutura em construção</td>\n",
       "      <td>Qualidade baixa</td>\n",
       "      <td>Play 7</td>\n",
       "    </tr>\n",
       "    <tr>\n",
       "      <th>10</th>\n",
       "      <td>75.842414</td>\n",
       "      <td>56.422398</td>\n",
       "      <td>Bacia6</td>\n",
       "      <td>Projeto 11</td>\n",
       "      <td>Estrutura em construção</td>\n",
       "      <td>Qualidade baixa</td>\n",
       "      <td>Play 4</td>\n",
       "    </tr>\n",
       "    <tr>\n",
       "      <th>11</th>\n",
       "      <td>58.411454</td>\n",
       "      <td>75.882110</td>\n",
       "      <td>Bacia8</td>\n",
       "      <td>Projeto 12</td>\n",
       "      <td>Estrutura pronta</td>\n",
       "      <td>Qualidade alta</td>\n",
       "      <td>Play 1</td>\n",
       "    </tr>\n",
       "    <tr>\n",
       "      <th>12</th>\n",
       "      <td>88.931186</td>\n",
       "      <td>16.753302</td>\n",
       "      <td>Bacia3</td>\n",
       "      <td>Projeto 13</td>\n",
       "      <td>Estrutura pronta</td>\n",
       "      <td>Qualidade alta</td>\n",
       "      <td>Play 3</td>\n",
       "    </tr>\n",
       "    <tr>\n",
       "      <th>13</th>\n",
       "      <td>7.844634</td>\n",
       "      <td>54.547693</td>\n",
       "      <td>Bacia4</td>\n",
       "      <td>Projeto 14</td>\n",
       "      <td>Nova fronteira</td>\n",
       "      <td>Qualidade alta</td>\n",
       "      <td>Play 9</td>\n",
       "    </tr>\n",
       "    <tr>\n",
       "      <th>14</th>\n",
       "      <td>22.290826</td>\n",
       "      <td>78.348606</td>\n",
       "      <td>Bacia7</td>\n",
       "      <td>Projeto 15</td>\n",
       "      <td>Estrutura pronta</td>\n",
       "      <td>Qualidade baixa</td>\n",
       "      <td>Play 7</td>\n",
       "    </tr>\n",
       "    <tr>\n",
       "      <th>15</th>\n",
       "      <td>47.043681</td>\n",
       "      <td>47.740235</td>\n",
       "      <td>Bacia5</td>\n",
       "      <td>Projeto 16</td>\n",
       "      <td>Nova fronteira</td>\n",
       "      <td>Qualidade alta</td>\n",
       "      <td>Play 8</td>\n",
       "    </tr>\n",
       "    <tr>\n",
       "      <th>16</th>\n",
       "      <td>54.780948</td>\n",
       "      <td>12.522122</td>\n",
       "      <td>Bacia2</td>\n",
       "      <td>Projeto 17</td>\n",
       "      <td>Estrutura pronta</td>\n",
       "      <td>Qualidade alta</td>\n",
       "      <td>Play 3</td>\n",
       "    </tr>\n",
       "    <tr>\n",
       "      <th>17</th>\n",
       "      <td>90.139174</td>\n",
       "      <td>76.548381</td>\n",
       "      <td>Bacia9</td>\n",
       "      <td>Projeto 18</td>\n",
       "      <td>Estrutura em construção</td>\n",
       "      <td>Qualidade alta</td>\n",
       "      <td>Play 3</td>\n",
       "    </tr>\n",
       "    <tr>\n",
       "      <th>18</th>\n",
       "      <td>26.547117</td>\n",
       "      <td>58.992739</td>\n",
       "      <td>Bacia4</td>\n",
       "      <td>Projeto 19</td>\n",
       "      <td>Nova fronteira</td>\n",
       "      <td>Qualidade alta</td>\n",
       "      <td>Play 3</td>\n",
       "    </tr>\n",
       "    <tr>\n",
       "      <th>19</th>\n",
       "      <td>15.591824</td>\n",
       "      <td>44.660442</td>\n",
       "      <td>Bacia4</td>\n",
       "      <td>Projeto 20</td>\n",
       "      <td>Nova fronteira</td>\n",
       "      <td>Qualidade alta</td>\n",
       "      <td>Play 9</td>\n",
       "    </tr>\n",
       "  </tbody>\n",
       "</table>\n",
       "</div>"
      ],
      "text/plain": [
       "    Coordenada x  Coordenada y   Bacia        Nome         Maturidade bacia  \\\n",
       "0      56.012296      6.773266  Bacia2   Projeto 1         Estrutura pronta   \n",
       "1      75.503222     81.020844  Bacia9   Projeto 2  Estrutura em construção   \n",
       "2      55.156900     74.092166  Bacia8   Projeto 3         Estrutura pronta   \n",
       "3      47.181430     81.264048  Bacia8   Projeto 4         Estrutura pronta   \n",
       "4      56.350165     11.581916  Bacia2   Projeto 5         Estrutura pronta   \n",
       "5      56.451420     16.375539  Bacia2   Projeto 6         Estrutura pronta   \n",
       "6      23.610976     50.904176  Bacia4   Projeto 7           Nova fronteira   \n",
       "7      49.057775     13.323056  Bacia2   Projeto 8         Estrutura pronta   \n",
       "8      19.943469     41.297717  Bacia4   Projeto 9           Nova fronteira   \n",
       "9      86.371380     48.046448  Bacia6  Projeto 10  Estrutura em construção   \n",
       "10     75.842414     56.422398  Bacia6  Projeto 11  Estrutura em construção   \n",
       "11     58.411454     75.882110  Bacia8  Projeto 12         Estrutura pronta   \n",
       "12     88.931186     16.753302  Bacia3  Projeto 13         Estrutura pronta   \n",
       "13      7.844634     54.547693  Bacia4  Projeto 14           Nova fronteira   \n",
       "14     22.290826     78.348606  Bacia7  Projeto 15         Estrutura pronta   \n",
       "15     47.043681     47.740235  Bacia5  Projeto 16           Nova fronteira   \n",
       "16     54.780948     12.522122  Bacia2  Projeto 17         Estrutura pronta   \n",
       "17     90.139174     76.548381  Bacia9  Projeto 18  Estrutura em construção   \n",
       "18     26.547117     58.992739  Bacia4  Projeto 19           Nova fronteira   \n",
       "19     15.591824     44.660442  Bacia4  Projeto 20           Nova fronteira   \n",
       "\n",
       "   Qualidade do dado     Play  \n",
       "0     Qualidade alta  Play 10  \n",
       "1     Qualidade alta   Play 5  \n",
       "2     Qualidade alta   Play 8  \n",
       "3     Qualidade alta   Play 4  \n",
       "4     Qualidade alta   Play 6  \n",
       "5     Qualidade alta   Play 3  \n",
       "6     Qualidade alta   Play 1  \n",
       "7     Qualidade alta   Play 4  \n",
       "8     Qualidade alta   Play 2  \n",
       "9    Qualidade baixa   Play 7  \n",
       "10   Qualidade baixa   Play 4  \n",
       "11    Qualidade alta   Play 1  \n",
       "12    Qualidade alta   Play 3  \n",
       "13    Qualidade alta   Play 9  \n",
       "14   Qualidade baixa   Play 7  \n",
       "15    Qualidade alta   Play 8  \n",
       "16    Qualidade alta   Play 3  \n",
       "17    Qualidade alta   Play 3  \n",
       "18    Qualidade alta   Play 3  \n",
       "19    Qualidade alta   Play 9  "
      ]
     },
     "execution_count": 16,
     "metadata": {},
     "output_type": "execute_result"
    }
   ],
   "source": [
    "proj_df"
   ]
  },
  {
   "cell_type": "code",
   "execution_count": 17,
   "metadata": {},
   "outputs": [
    {
     "data": {
      "text/plain": [
       "(array(['Bacia2', 'Bacia9', 'Bacia8', 'Bacia4', 'Bacia6', 'Bacia3',\n",
       "        'Bacia7', 'Bacia5'], dtype=object),\n",
       " array(['Estrutura pronta', 'Estrutura em construção', 'Nova fronteira'],\n",
       "       dtype=object),\n",
       " array(['Qualidade alta', 'Qualidade baixa'], dtype=object),\n",
       " array(['Play 10', 'Play 5', 'Play 8', 'Play 4', 'Play 6', 'Play 3',\n",
       "        'Play 1', 'Play 2', 'Play 7', 'Play 9'], dtype=object))"
      ]
     },
     "execution_count": 17,
     "metadata": {},
     "output_type": "execute_result"
    }
   ],
   "source": [
    "proj_df['Bacia'].unique(), proj_df['Maturidade bacia'].unique(), proj_df['Qualidade do dado'].unique(), proj_df['Play'].unique()"
   ]
  },
  {
   "cell_type": "markdown",
   "metadata": {},
   "source": [
    "## Definindo parâmetros volumétricos e risco geológico"
   ]
  },
  {
   "cell_type": "code",
   "execution_count": 18,
   "metadata": {},
   "outputs": [],
   "source": [
    "soterramento_range = (1000., 5000.)\n",
    "\n",
    "pcgna_range = (0., 1.)\n",
    "\n",
    "area_range = (20., 200.)\n",
    "netpay_range = (5., 100.)\n",
    "phi_range = (0.10, 0.32)\n",
    "trapfill_range = (0.5, 1.)\n",
    "shc_range = (0.5, 1.)\n",
    "bo_range = (1.4, 1.9)\n",
    "bg_range = (0.002, 0.004)\n",
    "rgo_range = (150, 250)\n",
    "rlg_range = (0.1, 0.15)\n",
    "froleo_range = (0.15, 0.25)\n",
    "frga_range = (0.15, 0.25)\n",
    "frgna_range = (0.15, 0.25)\n",
    "frcond_range = (0.15, 0.25)"
   ]
  },
  {
   "cell_type": "markdown",
   "metadata": {},
   "source": [
    "### TODO: colocar correlação nas variáveis aleatórias"
   ]
  },
  {
   "cell_type": "code",
   "execution_count": 19,
   "metadata": {},
   "outputs": [],
   "source": [
    "plays_completo = {}\n",
    "for p in plays:\n",
    "    plays_completo[copy.copy(p)] = {}\n",
    "    \n",
    "    loc, scale = soterramento_range[0], soterramento_range[1]-soterramento_range[0]\n",
    "    plays_completo[copy.copy(p)]['Soterramento'] = stats.uniform(loc, scale).rvs(2)\n",
    "    \n",
    "    loc, scale = pcgna_range[0], pcgna_range[1] - pcgna_range[0]\n",
    "    plays_completo[copy.copy(p)]['pcgna'] = stats.uniform(loc, scale).rvs(2)\n",
    "    \n",
    "    loc, scale = area_range[0], area_range[1] - area_range[0]\n",
    "    plays_completo[copy.copy(p)]['area'] = stats.uniform(loc, scale).rvs(2)\n",
    "    \n",
    "    loc, scale = netpay_range[0], netpay_range[1] - netpay_range[0]\n",
    "    plays_completo[copy.copy(p)]['netpay'] = stats.uniform(loc, scale).rvs(2)\n",
    "    \n",
    "    loc, scale = phi_range[0], phi_range[1] - phi_range[0]\n",
    "    plays_completo[copy.copy(p)]['phi'] = stats.uniform(loc, scale).rvs(2)\n",
    "    \n",
    "    loc, scale = trapfill_range[0], trapfill_range[1] - trapfill_range[0]\n",
    "    plays_completo[copy.copy(p)]['trapfill'] = stats.uniform(loc, scale).rvs(2)\n",
    "    \n",
    "    loc, scale = shc_range[0], shc_range[1] - shc_range[0]\n",
    "    plays_completo[copy.copy(p)]['shc'] = stats.uniform(loc, scale).rvs(2)\n",
    "    \n",
    "    loc, scale = bo_range[0], bo_range[1] - bo_range[0]\n",
    "    plays_completo[copy.copy(p)]['bo'] = stats.uniform(loc, scale).rvs(2)\n",
    "    \n",
    "    loc, scale = bg_range[0], bg_range[1] - bg_range[0]\n",
    "    plays_completo[copy.copy(p)]['bg'] = stats.uniform(loc, scale).rvs(2)\n",
    "    \n",
    "    loc, scale = rgo_range[0], rgo_range[1] - rgo_range[0]\n",
    "    plays_completo[copy.copy(p)]['rgo'] = stats.uniform(loc, scale).rvs(2)\n",
    "    \n",
    "    loc, scale = rlg_range[0], rlg_range[1] - rlg_range[0]\n",
    "    plays_completo[copy.copy(p)]['rlg'] = stats.uniform(loc, scale).rvs(2)\n",
    "    \n",
    "    loc, scale = froleo_range[0], froleo_range[1] - froleo_range[0]\n",
    "    plays_completo[copy.copy(p)]['froleo'] = stats.uniform(loc, scale).rvs(2)\n",
    "    \n",
    "    loc, scale = frga_range[0], frga_range[1] - frga_range[0]\n",
    "    plays_completo[copy.copy(p)]['frga'] = stats.uniform(loc, scale).rvs(2)\n",
    "    \n",
    "    loc, scale = frgna_range[0], frgna_range[1] - frgna_range[0]\n",
    "    plays_completo[copy.copy(p)]['frgna'] = stats.uniform(loc, scale).rvs(2)\n",
    "    \n",
    "    loc, scale = frcond_range[0], frcond_range[1] - frcond_range[0]\n",
    "    plays_completo[copy.copy(p)]['frcond'] = stats.uniform(loc, scale).rvs(2)"
   ]
  },
  {
   "cell_type": "code",
   "execution_count": 20,
   "metadata": {},
   "outputs": [
    {
     "data": {
      "text/plain": [
       "{'Play 1': {'Soterramento': array([3662.51582359, 1723.27422828]),\n",
       "  'pcgna': array([0.01119899, 0.05872092]),\n",
       "  'area': array([ 32.34008478, 196.61397057]),\n",
       "  'netpay': array([75.15473169, 80.84558677]),\n",
       "  'phi': array([0.11145229, 0.28985533]),\n",
       "  'trapfill': array([0.63118079, 0.66998476]),\n",
       "  'shc': array([0.75544767, 0.86408224]),\n",
       "  'bo': array([1.88614334, 1.53394717]),\n",
       "  'bg': array([0.00206267, 0.0030555 ]),\n",
       "  'rgo': array([201.96090327, 190.4875047 ]),\n",
       "  'rlg': array([0.10117681, 0.10254795]),\n",
       "  'froleo': array([0.23774658, 0.1632285 ]),\n",
       "  'frga': array([0.21602822, 0.23542095]),\n",
       "  'frgna': array([0.18038776, 0.15283558]),\n",
       "  'frcond': array([0.21285691, 0.23699255])},\n",
       " 'Play 2': {'Soterramento': array([3085.93414241, 1486.39942551]),\n",
       "  'pcgna': array([0.04001206, 0.09472877]),\n",
       "  'area': array([85.03296218, 45.18055482]),\n",
       "  'netpay': array([34.09096384, 79.86727581]),\n",
       "  'phi': array([0.21913968, 0.17238805]),\n",
       "  'trapfill': array([0.53811979, 0.55316015]),\n",
       "  'shc': array([0.67433595, 0.51771566]),\n",
       "  'bo': array([1.50200067, 1.85931953]),\n",
       "  'bg': array([0.00219517, 0.00289938]),\n",
       "  'rgo': array([183.23310166, 212.89347649]),\n",
       "  'rlg': array([0.12561443, 0.1477993 ]),\n",
       "  'froleo': array([0.17424198, 0.20083755]),\n",
       "  'frga': array([0.20999488, 0.16431677]),\n",
       "  'frgna': array([0.16235412, 0.15555627]),\n",
       "  'frcond': array([0.22928825, 0.18751875])},\n",
       " 'Play 3': {'Soterramento': array([4732.5131399 , 2508.80196836]),\n",
       "  'pcgna': array([0.53291427, 0.38158547]),\n",
       "  'area': array([119.92851348, 187.44111005]),\n",
       "  'netpay': array([98.42304548, 55.19047363]),\n",
       "  'phi': array([0.3018684 , 0.24056682]),\n",
       "  'trapfill': array([0.86739147, 0.77334252]),\n",
       "  'shc': array([0.73658738, 0.64829986]),\n",
       "  'bo': array([1.62855889, 1.60934349]),\n",
       "  'bg': array([0.00313045, 0.00397705]),\n",
       "  'rgo': array([189.26912157, 177.31858436]),\n",
       "  'rlg': array([0.10138525, 0.14164023]),\n",
       "  'froleo': array([0.23071045, 0.16852726]),\n",
       "  'frga': array([0.18370273, 0.2066234 ]),\n",
       "  'frgna': array([0.24221837, 0.15445479]),\n",
       "  'frcond': array([0.16781017, 0.19099198])},\n",
       " 'Play 4': {'Soterramento': array([4480.0827537 , 2994.75956697]),\n",
       "  'pcgna': array([0.50134515, 0.57016655]),\n",
       "  'area': array([ 22.82980613, 132.41285712]),\n",
       "  'netpay': array([92.81453032, 23.58880563]),\n",
       "  'phi': array([0.20349088, 0.31578016]),\n",
       "  'trapfill': array([0.87398705, 0.51595337]),\n",
       "  'shc': array([0.50814224, 0.81802766]),\n",
       "  'bo': array([1.7705396 , 1.53943012]),\n",
       "  'bg': array([0.00228753, 0.00307776]),\n",
       "  'rgo': array([209.40621351, 242.8222275 ]),\n",
       "  'rlg': array([0.13290309, 0.10841721]),\n",
       "  'froleo': array([0.19980967, 0.15720912]),\n",
       "  'frga': array([0.21308585, 0.22934971]),\n",
       "  'frgna': array([0.17751556, 0.17429817]),\n",
       "  'frcond': array([0.1851279 , 0.18889457])},\n",
       " 'Play 5': {'Soterramento': array([3060.52787244, 1830.56518544]),\n",
       "  'pcgna': array([0.19530166, 0.20147082]),\n",
       "  'area': array([136.31187942,  69.27459045]),\n",
       "  'netpay': array([75.55260106, 74.30245041]),\n",
       "  'phi': array([0.31118957, 0.12274037]),\n",
       "  'trapfill': array([0.94497356, 0.9993711 ]),\n",
       "  'shc': array([0.70468721, 0.76278999]),\n",
       "  'bo': array([1.61533016, 1.88201497]),\n",
       "  'bg': array([0.00232106, 0.00211048]),\n",
       "  'rgo': array([217.30788078, 158.67670242]),\n",
       "  'rlg': array([0.12631686, 0.11404879]),\n",
       "  'froleo': array([0.21688069, 0.19725634]),\n",
       "  'frga': array([0.19228669, 0.23595431]),\n",
       "  'frgna': array([0.17255692, 0.18181018]),\n",
       "  'frcond': array([0.15822332, 0.22585638])},\n",
       " 'Play 6': {'Soterramento': array([1047.05448656, 2424.70486835]),\n",
       "  'pcgna': array([0.4589989 , 0.11260412]),\n",
       "  'area': array([192.05230258, 182.79147223]),\n",
       "  'netpay': array([78.33162165, 56.76582358]),\n",
       "  'phi': array([0.30719214, 0.21478505]),\n",
       "  'trapfill': array([0.60656466, 0.87986177]),\n",
       "  'shc': array([0.674038  , 0.83590292]),\n",
       "  'bo': array([1.61945148, 1.52322834]),\n",
       "  'bg': array([0.00343239, 0.0029011 ]),\n",
       "  'rgo': array([195.62632078, 160.63819525]),\n",
       "  'rlg': array([0.13444263, 0.12843796]),\n",
       "  'froleo': array([0.19925652, 0.20432358]),\n",
       "  'frga': array([0.22661848, 0.23652735]),\n",
       "  'frgna': array([0.23431324, 0.160785  ]),\n",
       "  'frcond': array([0.19251624, 0.16569412])},\n",
       " 'Play 7': {'Soterramento': array([1423.02794021, 4060.36224445]),\n",
       "  'pcgna': array([0.85179845, 0.55090291]),\n",
       "  'area': array([195.27453395, 140.2407158 ]),\n",
       "  'netpay': array([43.79687043, 84.1803423 ]),\n",
       "  'phi': array([0.10112316, 0.18211314]),\n",
       "  'trapfill': array([0.77185497, 0.89533884]),\n",
       "  'shc': array([0.59757746, 0.90145277]),\n",
       "  'bo': array([1.59764001, 1.78630499]),\n",
       "  'bg': array([0.00307675, 0.00339063]),\n",
       "  'rgo': array([241.95486756, 228.36624737]),\n",
       "  'rlg': array([0.13764022, 0.12093321]),\n",
       "  'froleo': array([0.19993846, 0.17588755]),\n",
       "  'frga': array([0.24713298, 0.20217118]),\n",
       "  'frgna': array([0.17269674, 0.18750812]),\n",
       "  'frcond': array([0.1917205 , 0.17973528])},\n",
       " 'Play 8': {'Soterramento': array([4519.23550864, 1044.69811826]),\n",
       "  'pcgna': array([0.28662162, 0.18661287]),\n",
       "  'area': array([ 65.35270647, 106.91299946]),\n",
       "  'netpay': array([65.00734459, 31.46741849]),\n",
       "  'phi': array([0.14202588, 0.26771142]),\n",
       "  'trapfill': array([0.94915599, 0.50365932]),\n",
       "  'shc': array([0.77489446, 0.50814225]),\n",
       "  'bo': array([1.63709466, 1.84071847]),\n",
       "  'bg': array([0.00217378, 0.00275658]),\n",
       "  'rgo': array([162.0284483 , 239.25189714]),\n",
       "  'rlg': array([0.13631164, 0.140677  ]),\n",
       "  'froleo': array([0.21716087, 0.23067188]),\n",
       "  'frga': array([0.2289269 , 0.15362112]),\n",
       "  'frgna': array([0.17795477, 0.21749002]),\n",
       "  'frcond': array([0.23049015, 0.20500013])},\n",
       " 'Play 9': {'Soterramento': array([4638.52247713, 1031.34740911]),\n",
       "  'pcgna': array([0.12715465, 0.80176256]),\n",
       "  'area': array([ 28.53498394, 179.27949624]),\n",
       "  'netpay': array([48.9676203 , 29.24227835]),\n",
       "  'phi': array([0.19155236, 0.24840056]),\n",
       "  'trapfill': array([0.80105046, 0.86209964]),\n",
       "  'shc': array([0.50879318, 0.78199027]),\n",
       "  'bo': array([1.76728553, 1.47896593]),\n",
       "  'bg': array([0.00392182, 0.00253264]),\n",
       "  'rgo': array([188.77057994, 169.82412034]),\n",
       "  'rlg': array([0.11822058, 0.13563485]),\n",
       "  'froleo': array([0.16686097, 0.16599457]),\n",
       "  'frga': array([0.22043726, 0.18698095]),\n",
       "  'frgna': array([0.22818533, 0.22127855]),\n",
       "  'frcond': array([0.24911253, 0.19878391])},\n",
       " 'Play 10': {'Soterramento': array([2945.91802309, 3957.62745122]),\n",
       "  'pcgna': array([0.96041366, 0.63075475]),\n",
       "  'area': array([172.28139106, 129.71373557]),\n",
       "  'netpay': array([22.67428746, 73.17477256]),\n",
       "  'phi': array([0.17690853, 0.15572974]),\n",
       "  'trapfill': array([0.54890905, 0.77904707]),\n",
       "  'shc': array([0.71457267, 0.53716109]),\n",
       "  'bo': array([1.85261741, 1.40687687]),\n",
       "  'bg': array([0.00313582, 0.00345928]),\n",
       "  'rgo': array([219.11316408, 205.25872576]),\n",
       "  'rlg': array([0.1093548 , 0.14797292]),\n",
       "  'froleo': array([0.16068665, 0.21444834]),\n",
       "  'frga': array([0.22860777, 0.15962816]),\n",
       "  'frgna': array([0.16337947, 0.16633593]),\n",
       "  'frcond': array([0.23467614, 0.1607003 ])}}"
      ]
     },
     "execution_count": 20,
     "metadata": {},
     "output_type": "execute_result"
    }
   ],
   "source": [
    "plays_completo"
   ]
  },
  {
   "cell_type": "markdown",
   "metadata": {},
   "source": [
    "### TODO: escalar incerteza pela qualidade do dado e maturidade da bacia"
   ]
  },
  {
   "cell_type": "markdown",
   "metadata": {},
   "source": [
    "### TODO: colocar fatores de risco com compentes por bacia, play, e prospecto"
   ]
  },
  {
   "cell_type": "code",
   "execution_count": 21,
   "metadata": {},
   "outputs": [],
   "source": [
    "def ComputeDist(p90_play, p10_play):\n",
    "    loc, scale = p90_play, p10_play - p90_play\n",
    "    p90_proj, p10_proj = sorted(stats.uniform(loc, scale).rvs(2))\n",
    "    mu = (np.log(p90_proj) + np.log(p10_proj)) / 2\n",
    "    sigma = (np.log(p10_proj)-mu) / 1.2815515655446\n",
    "    dist = stats.lognorm(s=sigma, scale=np.exp(mu))\n",
    "    return dist\n",
    "\n",
    "projetos['Soterramento'] = []\n",
    "projetos['pcgna'] = []\n",
    "projetos['area'] = []\n",
    "projetos['netpay'] = []\n",
    "projetos['phi'] = []\n",
    "projetos['trapfill'] = []\n",
    "projetos['shc'] = []\n",
    "projetos['bo'] = []\n",
    "projetos['bg'] = []\n",
    "projetos['rgo'] = []\n",
    "projetos['rlg'] = []\n",
    "projetos['froleo'] = []\n",
    "projetos['frga'] = []\n",
    "projetos['frgna'] = []\n",
    "projetos['frcond'] = []\n",
    "projetos['geração'] = []\n",
    "projetos['migração'] = []\n",
    "projetos['reservatório'] = []\n",
    "projetos['geometria'] = []\n",
    "projetos['retenção'] = []\n",
    "projetos['PS HC'] = []\n",
    "\n",
    "for k, p in enumerate(projetos['Nome']):\n",
    "    \n",
    "    play = projetos['Play'][k]\n",
    "    \n",
    "    soterr_p90_play, soterr_p10_play = sorted(plays_completo[play]['Soterramento']) # soterramento\n",
    "    pcgna_p90_play, pcgna_p10_play = sorted(plays_completo[play]['pcgna']) # pcgna \n",
    "    area_p90_play, area_p10_play = sorted(plays_completo[play]['area']) # area\n",
    "    netpay_p90_play, netpay_p10_play = sorted(plays_completo[play]['netpay']) # netpay \n",
    "    phi_p90_play, phi_p10_play = sorted(plays_completo[play]['phi']) # phi \n",
    "    trapfill_p90_play, trapfill_p10_play = sorted(plays_completo[play]['trapfill']) # trapfill \n",
    "    shc_p90_play, shc_p10_play = sorted(plays_completo[play]['shc']) # shc \n",
    "    bo_p90_play, bo_p10_play = sorted(plays_completo[play]['bo']) # bo \n",
    "    bg_p90_play, bg_p10_play = sorted(plays_completo[play]['bg']) # bg \n",
    "    rgo_p90_play, rgo_p10_play = sorted(plays_completo[play]['rgo']) # rgo \n",
    "    rlg_p90_play, rlg_p10_play = sorted(plays_completo[play]['rlg']) # rlg \n",
    "    froleo_p90_play, froleo_p10_play = sorted(plays_completo[play]['froleo']) # froleo \n",
    "    frga_p90_play, frga_p10_play = sorted(plays_completo[play]['frga']) # frga \n",
    "    frgna_p90_play, frgna_p10_play = sorted(plays_completo[play]['frgna']) # frgna\n",
    "    frcond_p90_play, frcond_p10_play = sorted(plays_completo[play]['frcond']) # frcond\n",
    "    \n",
    "    loc, scale = soterr_p90_play, soterr_p10_play - soterr_p90_play\n",
    "    soterramento = stats.uniform(loc, scale).rvs(1)[0]\n",
    "    projetos['Soterramento'].append(soterramento)\n",
    "    \n",
    "    loc, scale = pcgna_p90_play, pcgna_p10_play - pcgna_p90_play\n",
    "    pcgna = stats.uniform(loc, scale).rvs(1)[0]\n",
    "    projetos['pcgna'].append(pcgna)\n",
    "    \n",
    "    # area\n",
    "    area_dist = ComputeDist(area_p90_play, area_p10_play)\n",
    "    projetos['area'].append(area_dist)\n",
    "    # netpay\n",
    "    netpay_dist = ComputeDist(netpay_p90_play, netpay_p10_play)\n",
    "    projetos['netpay'].append(netpay_dist)\n",
    "    # phi\n",
    "    phi_dist = ComputeDist(phi_p90_play, phi_p10_play)\n",
    "    projetos['phi'].append(phi_dist)\n",
    "    # trapfill\n",
    "    trapfill_dist = ComputeDist(trapfill_p90_play, trapfill_p10_play)\n",
    "    projetos['trapfill'].append(trapfill_dist)\n",
    "    # shc\n",
    "    shc_dist = ComputeDist(shc_p90_play, shc_p10_play)\n",
    "    projetos['shc'].append(shc_dist)\n",
    "    # bo\n",
    "    bo_dist = ComputeDist(bo_p90_play, bo_p10_play)\n",
    "    projetos['bo'].append(bo_dist)\n",
    "    # bg\n",
    "    bg_dist = ComputeDist(bg_p90_play, bg_p10_play)\n",
    "    projetos['bg'].append(bg_dist)\n",
    "    # rgo\n",
    "    rgo_dist = ComputeDist(rgo_p90_play, rgo_p10_play)\n",
    "    projetos['rgo'].append(rgo_dist)\n",
    "    # rlg\n",
    "    rlg_dist = ComputeDist(rlg_p90_play, rlg_p10_play)\n",
    "    projetos['rlg'].append(rlg_dist)\n",
    "    # froleo\n",
    "    froleo_dist = ComputeDist(froleo_p90_play, froleo_p10_play)\n",
    "    projetos['froleo'].append(froleo_dist)\n",
    "    # frga\n",
    "    frga_dist = ComputeDist(frga_p90_play, frga_p10_play)\n",
    "    projetos['frga'].append(frga_dist)\n",
    "    # frgna\n",
    "    frgna_dist = ComputeDist(frgna_p90_play, frgna_p10_play)\n",
    "    projetos['frgna'].append(frgna_dist)\n",
    "    # frcond\n",
    "    frcond_dist = ComputeDist(frcond_p90_play, frcond_p10_play)\n",
    "    projetos['frcond'].append(frcond_dist)\n",
    "    \n",
    "    geracao = stats.uniform(0.5, 0.6).rvs(1)[0]\n",
    "    projetos['geração'].append(geracao)\n",
    "    migracao = stats.uniform(0.5, 0.6).rvs(1)[0]\n",
    "    projetos['migração'].append(migracao)\n",
    "    reservatorio = stats.uniform(0.5, 0.6).rvs(1)[0]\n",
    "    projetos['reservatório'].append(reservatorio)\n",
    "    geometria = stats.uniform(0.5, 0.6).rvs(1)[0]\n",
    "    projetos['geometria'].append(geometria)\n",
    "    retencao = stats.uniform(0.5, 0.6).rvs(1)[0]\n",
    "    projetos['retenção'].append(retencao)\n",
    "    projetos['PS HC'].append( geracao*migracao*reservatorio*geometria*retencao )\n",
    "    "
   ]
  },
  {
   "cell_type": "code",
   "execution_count": 22,
   "metadata": {},
   "outputs": [],
   "source": [
    "proj_df = pd.DataFrame(projetos)"
   ]
  },
  {
   "cell_type": "code",
   "execution_count": 23,
   "metadata": {},
   "outputs": [
    {
     "data": {
      "text/html": [
       "<div>\n",
       "<style scoped>\n",
       "    .dataframe tbody tr th:only-of-type {\n",
       "        vertical-align: middle;\n",
       "    }\n",
       "\n",
       "    .dataframe tbody tr th {\n",
       "        vertical-align: top;\n",
       "    }\n",
       "\n",
       "    .dataframe thead th {\n",
       "        text-align: right;\n",
       "    }\n",
       "</style>\n",
       "<table border=\"1\" class=\"dataframe\">\n",
       "  <thead>\n",
       "    <tr style=\"text-align: right;\">\n",
       "      <th></th>\n",
       "      <th>Coordenada x</th>\n",
       "      <th>Coordenada y</th>\n",
       "      <th>Bacia</th>\n",
       "      <th>Nome</th>\n",
       "      <th>Maturidade bacia</th>\n",
       "      <th>Qualidade do dado</th>\n",
       "      <th>Play</th>\n",
       "      <th>Soterramento</th>\n",
       "      <th>pcgna</th>\n",
       "      <th>area</th>\n",
       "      <th>...</th>\n",
       "      <th>froleo</th>\n",
       "      <th>frga</th>\n",
       "      <th>frgna</th>\n",
       "      <th>frcond</th>\n",
       "      <th>geração</th>\n",
       "      <th>migração</th>\n",
       "      <th>reservatório</th>\n",
       "      <th>geometria</th>\n",
       "      <th>retenção</th>\n",
       "      <th>PS HC</th>\n",
       "    </tr>\n",
       "  </thead>\n",
       "  <tbody>\n",
       "    <tr>\n",
       "      <th>0</th>\n",
       "      <td>56.012296</td>\n",
       "      <td>6.773266</td>\n",
       "      <td>Bacia2</td>\n",
       "      <td>Projeto 1</td>\n",
       "      <td>Estrutura pronta</td>\n",
       "      <td>Qualidade alta</td>\n",
       "      <td>Play 10</td>\n",
       "      <td>3124.907385</td>\n",
       "      <td>0.829291</td>\n",
       "      <td>&lt;scipy.stats._distn_infrastructure.rv_frozen o...</td>\n",
       "      <td>...</td>\n",
       "      <td>&lt;scipy.stats._distn_infrastructure.rv_frozen o...</td>\n",
       "      <td>&lt;scipy.stats._distn_infrastructure.rv_frozen o...</td>\n",
       "      <td>&lt;scipy.stats._distn_infrastructure.rv_frozen o...</td>\n",
       "      <td>&lt;scipy.stats._distn_infrastructure.rv_frozen o...</td>\n",
       "      <td>0.990970</td>\n",
       "      <td>0.964767</td>\n",
       "      <td>0.530563</td>\n",
       "      <td>0.730870</td>\n",
       "      <td>1.012768</td>\n",
       "      <td>0.375465</td>\n",
       "    </tr>\n",
       "    <tr>\n",
       "      <th>1</th>\n",
       "      <td>75.503222</td>\n",
       "      <td>81.020844</td>\n",
       "      <td>Bacia9</td>\n",
       "      <td>Projeto 2</td>\n",
       "      <td>Estrutura em construção</td>\n",
       "      <td>Qualidade alta</td>\n",
       "      <td>Play 5</td>\n",
       "      <td>2363.513328</td>\n",
       "      <td>0.199045</td>\n",
       "      <td>&lt;scipy.stats._distn_infrastructure.rv_frozen o...</td>\n",
       "      <td>...</td>\n",
       "      <td>&lt;scipy.stats._distn_infrastructure.rv_frozen o...</td>\n",
       "      <td>&lt;scipy.stats._distn_infrastructure.rv_frozen o...</td>\n",
       "      <td>&lt;scipy.stats._distn_infrastructure.rv_frozen o...</td>\n",
       "      <td>&lt;scipy.stats._distn_infrastructure.rv_frozen o...</td>\n",
       "      <td>0.544609</td>\n",
       "      <td>0.820524</td>\n",
       "      <td>0.880434</td>\n",
       "      <td>0.752889</td>\n",
       "      <td>0.610567</td>\n",
       "      <td>0.180858</td>\n",
       "    </tr>\n",
       "    <tr>\n",
       "      <th>2</th>\n",
       "      <td>55.156900</td>\n",
       "      <td>74.092166</td>\n",
       "      <td>Bacia8</td>\n",
       "      <td>Projeto 3</td>\n",
       "      <td>Estrutura pronta</td>\n",
       "      <td>Qualidade alta</td>\n",
       "      <td>Play 8</td>\n",
       "      <td>2659.383967</td>\n",
       "      <td>0.251256</td>\n",
       "      <td>&lt;scipy.stats._distn_infrastructure.rv_frozen o...</td>\n",
       "      <td>...</td>\n",
       "      <td>&lt;scipy.stats._distn_infrastructure.rv_frozen o...</td>\n",
       "      <td>&lt;scipy.stats._distn_infrastructure.rv_frozen o...</td>\n",
       "      <td>&lt;scipy.stats._distn_infrastructure.rv_frozen o...</td>\n",
       "      <td>&lt;scipy.stats._distn_infrastructure.rv_frozen o...</td>\n",
       "      <td>0.511499</td>\n",
       "      <td>0.977347</td>\n",
       "      <td>0.839909</td>\n",
       "      <td>1.064984</td>\n",
       "      <td>0.901523</td>\n",
       "      <td>0.403131</td>\n",
       "    </tr>\n",
       "    <tr>\n",
       "      <th>3</th>\n",
       "      <td>47.181430</td>\n",
       "      <td>81.264048</td>\n",
       "      <td>Bacia8</td>\n",
       "      <td>Projeto 4</td>\n",
       "      <td>Estrutura pronta</td>\n",
       "      <td>Qualidade alta</td>\n",
       "      <td>Play 4</td>\n",
       "      <td>3283.317611</td>\n",
       "      <td>0.516500</td>\n",
       "      <td>&lt;scipy.stats._distn_infrastructure.rv_frozen o...</td>\n",
       "      <td>...</td>\n",
       "      <td>&lt;scipy.stats._distn_infrastructure.rv_frozen o...</td>\n",
       "      <td>&lt;scipy.stats._distn_infrastructure.rv_frozen o...</td>\n",
       "      <td>&lt;scipy.stats._distn_infrastructure.rv_frozen o...</td>\n",
       "      <td>&lt;scipy.stats._distn_infrastructure.rv_frozen o...</td>\n",
       "      <td>0.648240</td>\n",
       "      <td>0.792899</td>\n",
       "      <td>0.973312</td>\n",
       "      <td>0.675339</td>\n",
       "      <td>0.955548</td>\n",
       "      <td>0.322834</td>\n",
       "    </tr>\n",
       "    <tr>\n",
       "      <th>4</th>\n",
       "      <td>56.350165</td>\n",
       "      <td>11.581916</td>\n",
       "      <td>Bacia2</td>\n",
       "      <td>Projeto 5</td>\n",
       "      <td>Estrutura pronta</td>\n",
       "      <td>Qualidade alta</td>\n",
       "      <td>Play 6</td>\n",
       "      <td>1899.611719</td>\n",
       "      <td>0.356531</td>\n",
       "      <td>&lt;scipy.stats._distn_infrastructure.rv_frozen o...</td>\n",
       "      <td>...</td>\n",
       "      <td>&lt;scipy.stats._distn_infrastructure.rv_frozen o...</td>\n",
       "      <td>&lt;scipy.stats._distn_infrastructure.rv_frozen o...</td>\n",
       "      <td>&lt;scipy.stats._distn_infrastructure.rv_frozen o...</td>\n",
       "      <td>&lt;scipy.stats._distn_infrastructure.rv_frozen o...</td>\n",
       "      <td>0.858288</td>\n",
       "      <td>0.679162</td>\n",
       "      <td>0.894345</td>\n",
       "      <td>0.555073</td>\n",
       "      <td>0.524721</td>\n",
       "      <td>0.151842</td>\n",
       "    </tr>\n",
       "  </tbody>\n",
       "</table>\n",
       "<p>5 rows × 28 columns</p>\n",
       "</div>"
      ],
      "text/plain": [
       "   Coordenada x  Coordenada y   Bacia       Nome         Maturidade bacia  \\\n",
       "0     56.012296      6.773266  Bacia2  Projeto 1         Estrutura pronta   \n",
       "1     75.503222     81.020844  Bacia9  Projeto 2  Estrutura em construção   \n",
       "2     55.156900     74.092166  Bacia8  Projeto 3         Estrutura pronta   \n",
       "3     47.181430     81.264048  Bacia8  Projeto 4         Estrutura pronta   \n",
       "4     56.350165     11.581916  Bacia2  Projeto 5         Estrutura pronta   \n",
       "\n",
       "  Qualidade do dado     Play  Soterramento     pcgna  \\\n",
       "0    Qualidade alta  Play 10   3124.907385  0.829291   \n",
       "1    Qualidade alta   Play 5   2363.513328  0.199045   \n",
       "2    Qualidade alta   Play 8   2659.383967  0.251256   \n",
       "3    Qualidade alta   Play 4   3283.317611  0.516500   \n",
       "4    Qualidade alta   Play 6   1899.611719  0.356531   \n",
       "\n",
       "                                                area  ...  \\\n",
       "0  <scipy.stats._distn_infrastructure.rv_frozen o...  ...   \n",
       "1  <scipy.stats._distn_infrastructure.rv_frozen o...  ...   \n",
       "2  <scipy.stats._distn_infrastructure.rv_frozen o...  ...   \n",
       "3  <scipy.stats._distn_infrastructure.rv_frozen o...  ...   \n",
       "4  <scipy.stats._distn_infrastructure.rv_frozen o...  ...   \n",
       "\n",
       "                                              froleo  \\\n",
       "0  <scipy.stats._distn_infrastructure.rv_frozen o...   \n",
       "1  <scipy.stats._distn_infrastructure.rv_frozen o...   \n",
       "2  <scipy.stats._distn_infrastructure.rv_frozen o...   \n",
       "3  <scipy.stats._distn_infrastructure.rv_frozen o...   \n",
       "4  <scipy.stats._distn_infrastructure.rv_frozen o...   \n",
       "\n",
       "                                                frga  \\\n",
       "0  <scipy.stats._distn_infrastructure.rv_frozen o...   \n",
       "1  <scipy.stats._distn_infrastructure.rv_frozen o...   \n",
       "2  <scipy.stats._distn_infrastructure.rv_frozen o...   \n",
       "3  <scipy.stats._distn_infrastructure.rv_frozen o...   \n",
       "4  <scipy.stats._distn_infrastructure.rv_frozen o...   \n",
       "\n",
       "                                               frgna  \\\n",
       "0  <scipy.stats._distn_infrastructure.rv_frozen o...   \n",
       "1  <scipy.stats._distn_infrastructure.rv_frozen o...   \n",
       "2  <scipy.stats._distn_infrastructure.rv_frozen o...   \n",
       "3  <scipy.stats._distn_infrastructure.rv_frozen o...   \n",
       "4  <scipy.stats._distn_infrastructure.rv_frozen o...   \n",
       "\n",
       "                                              frcond   geração  migração  \\\n",
       "0  <scipy.stats._distn_infrastructure.rv_frozen o...  0.990970  0.964767   \n",
       "1  <scipy.stats._distn_infrastructure.rv_frozen o...  0.544609  0.820524   \n",
       "2  <scipy.stats._distn_infrastructure.rv_frozen o...  0.511499  0.977347   \n",
       "3  <scipy.stats._distn_infrastructure.rv_frozen o...  0.648240  0.792899   \n",
       "4  <scipy.stats._distn_infrastructure.rv_frozen o...  0.858288  0.679162   \n",
       "\n",
       "  reservatório geometria  retenção     PS HC  \n",
       "0     0.530563  0.730870  1.012768  0.375465  \n",
       "1     0.880434  0.752889  0.610567  0.180858  \n",
       "2     0.839909  1.064984  0.901523  0.403131  \n",
       "3     0.973312  0.675339  0.955548  0.322834  \n",
       "4     0.894345  0.555073  0.524721  0.151842  \n",
       "\n",
       "[5 rows x 28 columns]"
      ]
     },
     "execution_count": 23,
     "metadata": {},
     "output_type": "execute_result"
    }
   ],
   "source": [
    "proj_df.head()"
   ]
  },
  {
   "cell_type": "code",
   "execution_count": 24,
   "metadata": {},
   "outputs": [
    {
     "data": {
      "text/html": [
       "<div>\n",
       "<style scoped>\n",
       "    .dataframe tbody tr th:only-of-type {\n",
       "        vertical-align: middle;\n",
       "    }\n",
       "\n",
       "    .dataframe tbody tr th {\n",
       "        vertical-align: top;\n",
       "    }\n",
       "\n",
       "    .dataframe thead th {\n",
       "        text-align: right;\n",
       "    }\n",
       "</style>\n",
       "<table border=\"1\" class=\"dataframe\">\n",
       "  <thead>\n",
       "    <tr style=\"text-align: right;\">\n",
       "      <th></th>\n",
       "      <th>geração</th>\n",
       "      <th>migração</th>\n",
       "      <th>reservatório</th>\n",
       "      <th>geometria</th>\n",
       "      <th>retenção</th>\n",
       "      <th>PS HC</th>\n",
       "    </tr>\n",
       "  </thead>\n",
       "  <tbody>\n",
       "    <tr>\n",
       "      <th>count</th>\n",
       "      <td>20.000000</td>\n",
       "      <td>20.000000</td>\n",
       "      <td>20.000000</td>\n",
       "      <td>20.000000</td>\n",
       "      <td>20.000000</td>\n",
       "      <td>20.000000</td>\n",
       "    </tr>\n",
       "    <tr>\n",
       "      <th>mean</th>\n",
       "      <td>0.769668</td>\n",
       "      <td>0.804962</td>\n",
       "      <td>0.819600</td>\n",
       "      <td>0.806378</td>\n",
       "      <td>0.775561</td>\n",
       "      <td>0.328659</td>\n",
       "    </tr>\n",
       "    <tr>\n",
       "      <th>std</th>\n",
       "      <td>0.157525</td>\n",
       "      <td>0.172113</td>\n",
       "      <td>0.168436</td>\n",
       "      <td>0.170808</td>\n",
       "      <td>0.200424</td>\n",
       "      <td>0.198059</td>\n",
       "    </tr>\n",
       "    <tr>\n",
       "      <th>min</th>\n",
       "      <td>0.511499</td>\n",
       "      <td>0.506239</td>\n",
       "      <td>0.530563</td>\n",
       "      <td>0.553227</td>\n",
       "      <td>0.514255</td>\n",
       "      <td>0.117849</td>\n",
       "    </tr>\n",
       "    <tr>\n",
       "      <th>25%</th>\n",
       "      <td>0.655970</td>\n",
       "      <td>0.673998</td>\n",
       "      <td>0.672106</td>\n",
       "      <td>0.674984</td>\n",
       "      <td>0.602331</td>\n",
       "      <td>0.187957</td>\n",
       "    </tr>\n",
       "    <tr>\n",
       "      <th>50%</th>\n",
       "      <td>0.774000</td>\n",
       "      <td>0.795342</td>\n",
       "      <td>0.866944</td>\n",
       "      <td>0.764464</td>\n",
       "      <td>0.784749</td>\n",
       "      <td>0.255509</td>\n",
       "    </tr>\n",
       "    <tr>\n",
       "      <th>75%</th>\n",
       "      <td>0.849508</td>\n",
       "      <td>0.973261</td>\n",
       "      <td>0.914086</td>\n",
       "      <td>0.973259</td>\n",
       "      <td>0.930401</td>\n",
       "      <td>0.416341</td>\n",
       "    </tr>\n",
       "    <tr>\n",
       "      <th>max</th>\n",
       "      <td>1.091358</td>\n",
       "      <td>1.053832</td>\n",
       "      <td>1.058409</td>\n",
       "      <td>1.083419</td>\n",
       "      <td>1.097652</td>\n",
       "      <td>0.840215</td>\n",
       "    </tr>\n",
       "  </tbody>\n",
       "</table>\n",
       "</div>"
      ],
      "text/plain": [
       "         geração   migração  reservatório  geometria   retenção      PS HC\n",
       "count  20.000000  20.000000     20.000000  20.000000  20.000000  20.000000\n",
       "mean    0.769668   0.804962      0.819600   0.806378   0.775561   0.328659\n",
       "std     0.157525   0.172113      0.168436   0.170808   0.200424   0.198059\n",
       "min     0.511499   0.506239      0.530563   0.553227   0.514255   0.117849\n",
       "25%     0.655970   0.673998      0.672106   0.674984   0.602331   0.187957\n",
       "50%     0.774000   0.795342      0.866944   0.764464   0.784749   0.255509\n",
       "75%     0.849508   0.973261      0.914086   0.973259   0.930401   0.416341\n",
       "max     1.091358   1.053832      1.058409   1.083419   1.097652   0.840215"
      ]
     },
     "execution_count": 24,
     "metadata": {},
     "output_type": "execute_result"
    }
   ],
   "source": [
    "proj_df[['geração', 'migração', 'reservatório', 'geometria', 'retenção', 'PS HC']].describe()"
   ]
  },
  {
   "cell_type": "code",
   "execution_count": 25,
   "metadata": {
    "scrolled": false
   },
   "outputs": [
    {
     "data": {
      "text/plain": [
       "['Coordenada x',\n",
       " 'Coordenada y',\n",
       " 'Bacia',\n",
       " 'Nome',\n",
       " 'Maturidade bacia',\n",
       " 'Qualidade do dado',\n",
       " 'Play',\n",
       " 'Soterramento',\n",
       " 'pcgna',\n",
       " 'area',\n",
       " 'netpay',\n",
       " 'phi',\n",
       " 'trapfill',\n",
       " 'shc',\n",
       " 'bo',\n",
       " 'bg',\n",
       " 'rgo',\n",
       " 'rlg',\n",
       " 'froleo',\n",
       " 'frga',\n",
       " 'frgna',\n",
       " 'frcond',\n",
       " 'geração',\n",
       " 'migração',\n",
       " 'reservatório',\n",
       " 'geometria',\n",
       " 'retenção',\n",
       " 'PS HC']"
      ]
     },
     "execution_count": 25,
     "metadata": {},
     "output_type": "execute_result"
    }
   ],
   "source": [
    "list(projetos.keys())"
   ]
  },
  {
   "cell_type": "markdown",
   "metadata": {},
   "source": [
    "## Simulação dos volumes condicionais e incondicionais (Monte Carlo)"
   ]
  },
  {
   "cell_type": "code",
   "execution_count": 26,
   "metadata": {},
   "outputs": [],
   "source": [
    "iteracoes = 1000\n",
    "\n",
    "projetos['volume oleo'] = []\n",
    "projetos['volume ga'] = []\n",
    "projetos['volume gna'] = []\n",
    "projetos['volume cond'] = []\n",
    "projetos['volume condicional'] = []\n",
    "projetos['média condicional'] = []\n",
    "projetos['volume incondicional'] = []\n",
    "projetos['média incondicional'] = []\n",
    "\n",
    "for k in range(n_projetos):\n",
    "    \n",
    "    volume_oleo_dist = []\n",
    "    volume_ga_dist = []\n",
    "    volume_gna_dist = []\n",
    "    volume_cond_dist = []\n",
    "    volume_hc_dist = []\n",
    "    volume_condicional_dist = []\n",
    "    volume_incondicional_dist = []\n",
    "    \n",
    "    for i in range(iteracoes):\n",
    "        \n",
    "        # sortear se é uma descoberta\n",
    "        descoberta = stats.uniform(0, 1).rvs(1)[0] < projetos['PS HC'][k]\n",
    "        \n",
    "        # sortear o flúido principal\n",
    "        fluido = 'óleo' if stats.uniform(0, 1).rvs(1)[0] < projetos['pcgna'][k] else 'gás'\n",
    "        \n",
    "        # dado o flúido principal, calcular volumes\n",
    "        area = projetos['area'][k].rvs(1)[0]\n",
    "        netpay = projetos['netpay'][k].rvs(1)[0]\n",
    "        phi = projetos['phi'][k].rvs(1)[0]\n",
    "        trapfill = projetos['trapfill'][k].rvs(1)[0]\n",
    "        shc = projetos['shc'][k].rvs(1)[0]\n",
    "        bo = projetos['bo'][k].rvs(1)[0]\n",
    "        bg = projetos['bg'][k].rvs(1)[0]\n",
    "        rgo = projetos['rgo'][k].rvs(1)[0]\n",
    "        rlg = projetos['rlg'][k].rvs(1)[0]\n",
    "        froleo = projetos['froleo'][k].rvs(1)[0]\n",
    "        frga = projetos['frga'][k].rvs(1)[0]\n",
    "        frgna = projetos['frgna'][k].rvs(1)[0]\n",
    "        frcond = projetos['frcond'][k].rvs(1)[0]\n",
    "        \n",
    "        if fluido == 'óleo':\n",
    "            comum = area * netpay * phi * trapfill * shc\n",
    "            volume_oleo = ((comum * froleo) / bo) / (0.159)\n",
    "            volume_ga = ((comum * rgo * frga) / bo)/(1000*0.159)\n",
    "            volume_hc = volume_oleo + volume_ga\n",
    "            volume_oleo_dist.append(volume_oleo)\n",
    "            volume_ga_dist.append(volume_ga)\n",
    "        elif fluido == 'gás':\n",
    "            comum = area * netpay * phi * trapfill * shc\n",
    "            volume_gna = ((comum * frgna) / bg) / (1000*0.159)\n",
    "            volume_cond = ((comum * rlg * frcond) / bg) / (1000*0.159)\n",
    "            volume_hc = volume_gna + volume_cond\n",
    "            volume_gna_dist.append(volume_gna)\n",
    "            volume_cond_dist.append(volume_cond)\n",
    "        \n",
    "        volume_hc_incond = volume_hc if descoberta else 0\n",
    "        volume_condicional_dist.append(volume_hc)\n",
    "        volume_incondicional_dist.append(volume_hc_incond)\n",
    "        \n",
    "    projetos['volume oleo'].append(volume_oleo_dist)\n",
    "    projetos['volume ga'].append(volume_ga_dist)\n",
    "    projetos['volume gna'].append(volume_gna_dist)\n",
    "    projetos['volume cond'].append(volume_cond_dist)\n",
    "    projetos['volume condicional'].append(volume_condicional_dist)\n",
    "    projetos['média condicional'].append(np.mean(volume_condicional_dist))\n",
    "    projetos['volume incondicional'].append(volume_incondicional_dist)\n",
    "    projetos['média incondicional'].append(np.mean(volume_incondicional_dist))"
   ]
  },
  {
   "cell_type": "code",
   "execution_count": 27,
   "metadata": {},
   "outputs": [],
   "source": [
    "proj_df = pd.DataFrame(projetos)"
   ]
  },
  {
   "cell_type": "code",
   "execution_count": 28,
   "metadata": {},
   "outputs": [
    {
     "data": {
      "text/html": [
       "<div>\n",
       "<style scoped>\n",
       "    .dataframe tbody tr th:only-of-type {\n",
       "        vertical-align: middle;\n",
       "    }\n",
       "\n",
       "    .dataframe tbody tr th {\n",
       "        vertical-align: top;\n",
       "    }\n",
       "\n",
       "    .dataframe thead th {\n",
       "        text-align: right;\n",
       "    }\n",
       "</style>\n",
       "<table border=\"1\" class=\"dataframe\">\n",
       "  <thead>\n",
       "    <tr style=\"text-align: right;\">\n",
       "      <th></th>\n",
       "      <th>Coordenada x</th>\n",
       "      <th>Coordenada y</th>\n",
       "      <th>Bacia</th>\n",
       "      <th>Nome</th>\n",
       "      <th>Maturidade bacia</th>\n",
       "      <th>Qualidade do dado</th>\n",
       "      <th>Play</th>\n",
       "      <th>Soterramento</th>\n",
       "      <th>pcgna</th>\n",
       "      <th>area</th>\n",
       "      <th>...</th>\n",
       "      <th>retenção</th>\n",
       "      <th>PS HC</th>\n",
       "      <th>volume oleo</th>\n",
       "      <th>volume ga</th>\n",
       "      <th>volume gna</th>\n",
       "      <th>volume cond</th>\n",
       "      <th>volume condicional</th>\n",
       "      <th>média condicional</th>\n",
       "      <th>volume incondicional</th>\n",
       "      <th>média incondicional</th>\n",
       "    </tr>\n",
       "  </thead>\n",
       "  <tbody>\n",
       "    <tr>\n",
       "      <th>0</th>\n",
       "      <td>56.012296</td>\n",
       "      <td>6.773266</td>\n",
       "      <td>Bacia2</td>\n",
       "      <td>Projeto 1</td>\n",
       "      <td>Estrutura pronta</td>\n",
       "      <td>Qualidade alta</td>\n",
       "      <td>Play 10</td>\n",
       "      <td>3124.907385</td>\n",
       "      <td>0.829291</td>\n",
       "      <td>&lt;scipy.stats._distn_infrastructure.rv_frozen o...</td>\n",
       "      <td>...</td>\n",
       "      <td>1.012768</td>\n",
       "      <td>0.375465</td>\n",
       "      <td>[404.19994191672566, 457.3378592204212, 394.13...</td>\n",
       "      <td>[87.37712521978932, 100.44822390189951, 91.142...</td>\n",
       "      <td>[166.98151809038137, 215.40097868635283, 177.4...</td>\n",
       "      <td>[20.461651809259525, 28.263033530191972, 23.46...</td>\n",
       "      <td>[491.577067136515, 187.4431698996409, 557.7860...</td>\n",
       "      <td>483.842903</td>\n",
       "      <td>[491.577067136515, 187.4431698996409, 557.7860...</td>\n",
       "      <td>182.284043</td>\n",
       "    </tr>\n",
       "    <tr>\n",
       "      <th>1</th>\n",
       "      <td>75.503222</td>\n",
       "      <td>81.020844</td>\n",
       "      <td>Bacia9</td>\n",
       "      <td>Projeto 2</td>\n",
       "      <td>Estrutura em construção</td>\n",
       "      <td>Qualidade alta</td>\n",
       "      <td>Play 5</td>\n",
       "      <td>2363.513328</td>\n",
       "      <td>0.199045</td>\n",
       "      <td>&lt;scipy.stats._distn_infrastructure.rv_frozen o...</td>\n",
       "      <td>...</td>\n",
       "      <td>0.610567</td>\n",
       "      <td>0.180858</td>\n",
       "      <td>[1066.3408577064506, 913.4627061205606, 893.13...</td>\n",
       "      <td>[205.0268245786545, 178.98320716037242, 174.35...</td>\n",
       "      <td>[458.12672173813047, 525.0703820224502, 582.76...</td>\n",
       "      <td>[62.18621562620252, 63.72083565750058, 86.4298...</td>\n",
       "      <td>[520.312937364333, 588.7912176799508, 669.1949...</td>\n",
       "      <td>729.754054</td>\n",
       "      <td>[0, 0, 0, 1271.367682285105, 0, 1092.445913280...</td>\n",
       "      <td>129.608850</td>\n",
       "    </tr>\n",
       "    <tr>\n",
       "      <th>2</th>\n",
       "      <td>55.156900</td>\n",
       "      <td>74.092166</td>\n",
       "      <td>Bacia8</td>\n",
       "      <td>Projeto 3</td>\n",
       "      <td>Estrutura pronta</td>\n",
       "      <td>Qualidade alta</td>\n",
       "      <td>Play 8</td>\n",
       "      <td>2659.383967</td>\n",
       "      <td>0.251256</td>\n",
       "      <td>&lt;scipy.stats._distn_infrastructure.rv_frozen o...</td>\n",
       "      <td>...</td>\n",
       "      <td>0.901523</td>\n",
       "      <td>0.403131</td>\n",
       "      <td>[325.3179829749676, 214.49397221562882, 372.18...</td>\n",
       "      <td>[54.95572774369687, 34.046525144336755, 70.760...</td>\n",
       "      <td>[191.43318068787988, 261.4395449715394, 133.40...</td>\n",
       "      <td>[28.448726169303495, 40.74146489741645, 20.949...</td>\n",
       "      <td>[219.88190685718337, 302.18100986895587, 154.3...</td>\n",
       "      <td>250.737661</td>\n",
       "      <td>[0, 0, 154.35219984860623, 0, 0, 0, 278.623864...</td>\n",
       "      <td>98.606699</td>\n",
       "    </tr>\n",
       "    <tr>\n",
       "      <th>3</th>\n",
       "      <td>47.181430</td>\n",
       "      <td>81.264048</td>\n",
       "      <td>Bacia8</td>\n",
       "      <td>Projeto 4</td>\n",
       "      <td>Estrutura pronta</td>\n",
       "      <td>Qualidade alta</td>\n",
       "      <td>Play 4</td>\n",
       "      <td>3283.317611</td>\n",
       "      <td>0.516500</td>\n",
       "      <td>&lt;scipy.stats._distn_infrastructure.rv_frozen o...</td>\n",
       "      <td>...</td>\n",
       "      <td>0.955548</td>\n",
       "      <td>0.322834</td>\n",
       "      <td>[448.24405726235193, 134.05470605187637, 307.0...</td>\n",
       "      <td>[121.47525665362673, 36.75359628365343, 86.893...</td>\n",
       "      <td>[75.60330658796558, 93.0144573493328, 155.0376...</td>\n",
       "      <td>[10.191799137216698, 12.38492162762527, 21.672...</td>\n",
       "      <td>[569.7193139159787, 85.79510572518228, 105.399...</td>\n",
       "      <td>229.743535</td>\n",
       "      <td>[0, 85.79510572518228, 105.39937897695808, 0, ...</td>\n",
       "      <td>76.425941</td>\n",
       "    </tr>\n",
       "    <tr>\n",
       "      <th>4</th>\n",
       "      <td>56.350165</td>\n",
       "      <td>11.581916</td>\n",
       "      <td>Bacia2</td>\n",
       "      <td>Projeto 5</td>\n",
       "      <td>Estrutura pronta</td>\n",
       "      <td>Qualidade alta</td>\n",
       "      <td>Play 6</td>\n",
       "      <td>1899.611719</td>\n",
       "      <td>0.356531</td>\n",
       "      <td>&lt;scipy.stats._distn_infrastructure.rv_frozen o...</td>\n",
       "      <td>...</td>\n",
       "      <td>0.524721</td>\n",
       "      <td>0.151842</td>\n",
       "      <td>[1584.831689346121, 1679.5929616453084, 1485.0...</td>\n",
       "      <td>[305.12301737702825, 330.00819828202, 305.5532...</td>\n",
       "      <td>[744.4222668339538, 669.7843962409361, 718.452...</td>\n",
       "      <td>[100.41137844473185, 90.99309548385031, 97.100...</td>\n",
       "      <td>[1889.9547067231492, 2009.6011599273284, 1790....</td>\n",
       "      <td>1197.618407</td>\n",
       "      <td>[1889.9547067231492, 0, 0, 0, 0, 0, 760.777491...</td>\n",
       "      <td>186.664994</td>\n",
       "    </tr>\n",
       "  </tbody>\n",
       "</table>\n",
       "<p>5 rows × 36 columns</p>\n",
       "</div>"
      ],
      "text/plain": [
       "   Coordenada x  Coordenada y   Bacia       Nome         Maturidade bacia  \\\n",
       "0     56.012296      6.773266  Bacia2  Projeto 1         Estrutura pronta   \n",
       "1     75.503222     81.020844  Bacia9  Projeto 2  Estrutura em construção   \n",
       "2     55.156900     74.092166  Bacia8  Projeto 3         Estrutura pronta   \n",
       "3     47.181430     81.264048  Bacia8  Projeto 4         Estrutura pronta   \n",
       "4     56.350165     11.581916  Bacia2  Projeto 5         Estrutura pronta   \n",
       "\n",
       "  Qualidade do dado     Play  Soterramento     pcgna  \\\n",
       "0    Qualidade alta  Play 10   3124.907385  0.829291   \n",
       "1    Qualidade alta   Play 5   2363.513328  0.199045   \n",
       "2    Qualidade alta   Play 8   2659.383967  0.251256   \n",
       "3    Qualidade alta   Play 4   3283.317611  0.516500   \n",
       "4    Qualidade alta   Play 6   1899.611719  0.356531   \n",
       "\n",
       "                                                area  ...  retenção     PS HC  \\\n",
       "0  <scipy.stats._distn_infrastructure.rv_frozen o...  ...  1.012768  0.375465   \n",
       "1  <scipy.stats._distn_infrastructure.rv_frozen o...  ...  0.610567  0.180858   \n",
       "2  <scipy.stats._distn_infrastructure.rv_frozen o...  ...  0.901523  0.403131   \n",
       "3  <scipy.stats._distn_infrastructure.rv_frozen o...  ...  0.955548  0.322834   \n",
       "4  <scipy.stats._distn_infrastructure.rv_frozen o...  ...  0.524721  0.151842   \n",
       "\n",
       "                                         volume oleo  \\\n",
       "0  [404.19994191672566, 457.3378592204212, 394.13...   \n",
       "1  [1066.3408577064506, 913.4627061205606, 893.13...   \n",
       "2  [325.3179829749676, 214.49397221562882, 372.18...   \n",
       "3  [448.24405726235193, 134.05470605187637, 307.0...   \n",
       "4  [1584.831689346121, 1679.5929616453084, 1485.0...   \n",
       "\n",
       "                                           volume ga  \\\n",
       "0  [87.37712521978932, 100.44822390189951, 91.142...   \n",
       "1  [205.0268245786545, 178.98320716037242, 174.35...   \n",
       "2  [54.95572774369687, 34.046525144336755, 70.760...   \n",
       "3  [121.47525665362673, 36.75359628365343, 86.893...   \n",
       "4  [305.12301737702825, 330.00819828202, 305.5532...   \n",
       "\n",
       "                                          volume gna  \\\n",
       "0  [166.98151809038137, 215.40097868635283, 177.4...   \n",
       "1  [458.12672173813047, 525.0703820224502, 582.76...   \n",
       "2  [191.43318068787988, 261.4395449715394, 133.40...   \n",
       "3  [75.60330658796558, 93.0144573493328, 155.0376...   \n",
       "4  [744.4222668339538, 669.7843962409361, 718.452...   \n",
       "\n",
       "                                         volume cond  \\\n",
       "0  [20.461651809259525, 28.263033530191972, 23.46...   \n",
       "1  [62.18621562620252, 63.72083565750058, 86.4298...   \n",
       "2  [28.448726169303495, 40.74146489741645, 20.949...   \n",
       "3  [10.191799137216698, 12.38492162762527, 21.672...   \n",
       "4  [100.41137844473185, 90.99309548385031, 97.100...   \n",
       "\n",
       "                                  volume condicional média condicional  \\\n",
       "0  [491.577067136515, 187.4431698996409, 557.7860...        483.842903   \n",
       "1  [520.312937364333, 588.7912176799508, 669.1949...        729.754054   \n",
       "2  [219.88190685718337, 302.18100986895587, 154.3...        250.737661   \n",
       "3  [569.7193139159787, 85.79510572518228, 105.399...        229.743535   \n",
       "4  [1889.9547067231492, 2009.6011599273284, 1790....       1197.618407   \n",
       "\n",
       "                                volume incondicional média incondicional  \n",
       "0  [491.577067136515, 187.4431698996409, 557.7860...          182.284043  \n",
       "1  [0, 0, 0, 1271.367682285105, 0, 1092.445913280...          129.608850  \n",
       "2  [0, 0, 154.35219984860623, 0, 0, 0, 278.623864...           98.606699  \n",
       "3  [0, 85.79510572518228, 105.39937897695808, 0, ...           76.425941  \n",
       "4  [1889.9547067231492, 0, 0, 0, 0, 0, 760.777491...          186.664994  \n",
       "\n",
       "[5 rows x 36 columns]"
      ]
     },
     "execution_count": 28,
     "metadata": {},
     "output_type": "execute_result"
    }
   ],
   "source": [
    "proj_df.head()"
   ]
  },
  {
   "cell_type": "code",
   "execution_count": 29,
   "metadata": {},
   "outputs": [],
   "source": [
    "def VisualizarVA(dist):\n",
    "    \n",
    "    p10, p90 = np.percentile(dist, 10), np.percentile(dist, 90)\n",
    "    \n",
    "    plt.hist(dist, bins=20, cumulative=False, density=True, align='right')\n",
    "    plt.axvline(p10, color='r')\n",
    "    plt.axvline(p90, color='r')\n",
    "    plt.xlabel('classes')\n",
    "    plt.ylabel('probabilidade acumulada');"
   ]
  },
  {
   "cell_type": "code",
   "execution_count": 30,
   "metadata": {},
   "outputs": [
    {
     "data": {
      "image/png": "[encoded data removed]",
      "text/plain": [
       "<Figure size 432x288 with 1 Axes>"
      ]
     },
     "metadata": {
      "needs_background": "light"
     },
     "output_type": "display_data"
    },
    {
     "data": {
      "image/png": "[encoded data removed]",
      "text/plain": [
       "<Figure size 432x288 with 1 Axes>"
      ]
     },
     "metadata": {
      "needs_background": "light"
     },
     "output_type": "display_data"
    },
    {
     "data": {
      "image/png": "[encoded data removed]",
      "text/plain": [
       "<Figure size 432x288 with 1 Axes>"
      ]
     },
     "metadata": {
      "needs_background": "light"
     },
     "output_type": "display_data"
    },
    {
     "data": {
      "image/png": "[encoded data removed]",
      "text/plain": [
       "<Figure size 432x288 with 1 Axes>"
      ]
     },
     "metadata": {
      "needs_background": "light"
     },
     "output_type": "display_data"
    },
    {
     "data": {
      "image/png": "[encoded data removed]",
      "text/plain": [
       "<Figure size 432x288 with 1 Axes>"
      ]
     },
     "metadata": {
      "needs_background": "light"
     },
     "output_type": "display_data"
    },
    {
     "data": {
      "image/png": "[encoded data removed]",
      "text/plain": [
       "<Figure size 432x288 with 1 Axes>"
      ]
     },
     "metadata": {
      "needs_background": "light"
     },
     "output_type": "display_data"
    },
    {
     "data": {
      "image/png": "[encoded data removed]",
      "text/plain": [
       "<Figure size 432x288 with 1 Axes>"
      ]
     },
     "metadata": {
      "needs_background": "light"
     },
     "output_type": "display_data"
    },
    {
     "data": {
      "image/png": "[encoded data removed]",
      "text/plain": [
       "<Figure size 432x288 with 1 Axes>"
      ]
     },
     "metadata": {
      "needs_background": "light"
     },
     "output_type": "display_data"
    },
    {
     "data": {
      "image/png": "[encoded data removed]",
      "text/plain": [
       "<Figure size 432x288 with 1 Axes>"
      ]
     },
     "metadata": {
      "needs_background": "light"
     },
     "output_type": "display_data"
    },
    {
     "data": {
      "image/png": "[encoded data removed]",
      "text/plain": [
       "<Figure size 432x288 with 1 Axes>"
      ]
     },
     "metadata": {
      "needs_background": "light"
     },
     "output_type": "display_data"
    },
    {
     "data": {
      "image/png": "[encoded data removed]",
      "text/plain": [
       "<Figure size 432x288 with 1 Axes>"
      ]
     },
     "metadata": {
      "needs_background": "light"
     },
     "output_type": "display_data"
    },
    {
     "data": {
      "image/png": "[encoded data removed]",
      "text/plain": [
       "<Figure size 432x288 with 1 Axes>"
      ]
     },
     "metadata": {
      "needs_background": "light"
     },
     "output_type": "display_data"
    },
    {
     "data": {
      "image/png": "[encoded data removed]",
      "text/plain": [
       "<Figure size 432x288 with 1 Axes>"
      ]
     },
     "metadata": {
      "needs_background": "light"
     },
     "output_type": "display_data"
    },
    {
     "data": {
      "image/png": "[encoded data removed]",
      "text/plain": [
       "<Figure size 432x288 with 1 Axes>"
      ]
     },
     "metadata": {
      "needs_background": "light"
     },
     "output_type": "display_data"
    },
    {
     "data": {
      "image/png": "[encoded data removed]",
      "text/plain": [
       "<Figure size 432x288 with 1 Axes>"
      ]
     },
     "metadata": {
      "needs_background": "light"
     },
     "output_type": "display_data"
    },
    {
     "data": {
      "image/png": "[encoded data removed]",
      "text/plain": [
       "<Figure size 432x288 with 1 Axes>"
      ]
     },
     "metadata": {
      "needs_background": "light"
     },
     "output_type": "display_data"
    },
    {
     "data": {
      "image/png": "[encoded data removed]",
      "text/plain": [
       "<Figure size 432x288 with 1 Axes>"
      ]
     },
     "metadata": {
      "needs_background": "light"
     },
     "output_type": "display_data"
    },
    {
     "data": {
      "image/png": "[encoded data removed]",
      "text/plain": [
       "<Figure size 432x288 with 1 Axes>"
      ]
     },
     "metadata": {
      "needs_background": "light"
     },
     "output_type": "display_data"
    },
    {
     "data": {
      "image/png": "[encoded data removed]",
      "text/plain": [
       "<Figure size 432x288 with 1 Axes>"
      ]
     },
     "metadata": {
      "needs_background": "light"
     },
     "output_type": "display_data"
    },
    {
     "data": {
      "image/png": "[encoded data removed]",
      "text/plain": [
       "<Figure size 432x288 with 1 Axes>"
      ]
     },
     "metadata": {
      "needs_background": "light"
     },
     "output_type": "display_data"
    }
   ],
   "source": [
    "for i in range(n_projetos):\n",
    "    plt.figure(i)\n",
    "    VisualizarVA(projetos['volume condicional'][i])"
   ]
  },
  {
   "cell_type": "code",
   "execution_count": 31,
   "metadata": {},
   "outputs": [
    {
     "data": {
      "image/png": "[encoded data removed]",
      "text/plain": [
       "<Figure size 432x288 with 1 Axes>"
      ]
     },
     "metadata": {
      "needs_background": "light"
     },
     "output_type": "display_data"
    },
    {
     "data": {
      "image/png": "[encoded data removed]",
      "text/plain": [
       "<Figure size 432x288 with 1 Axes>"
      ]
     },
     "metadata": {
      "needs_background": "light"
     },
     "output_type": "display_data"
    },
    {
     "data": {
      "image/png": "[encoded data removed]",
      "text/plain": [
       "<Figure size 432x288 with 1 Axes>"
      ]
     },
     "metadata": {
      "needs_background": "light"
     },
     "output_type": "display_data"
    },
    {
     "data": {
      "image/png": "[encoded data removed]",
      "text/plain": [
       "<Figure size 432x288 with 1 Axes>"
      ]
     },
     "metadata": {
      "needs_background": "light"
     },
     "output_type": "display_data"
    },
    {
     "data": {
      "image/png": "[encoded data removed]",
      "text/plain": [
       "<Figure size 432x288 with 1 Axes>"
      ]
     },
     "metadata": {
      "needs_background": "light"
     },
     "output_type": "display_data"
    },
    {
     "data": {
      "image/png": "[encoded data removed]",
      "text/plain": [
       "<Figure size 432x288 with 1 Axes>"
      ]
     },
     "metadata": {
      "needs_background": "light"
     },
     "output_type": "display_data"
    },
    {
     "data": {
      "image/png": "[encoded data removed]",
      "text/plain": [
       "<Figure size 432x288 with 1 Axes>"
      ]
     },
     "metadata": {
      "needs_background": "light"
     },
     "output_type": "display_data"
    },
    {
     "data": {
      "image/png": "[encoded data removed]",
      "text/plain": [
       "<Figure size 432x288 with 1 Axes>"
      ]
     },
     "metadata": {
      "needs_background": "light"
     },
     "output_type": "display_data"
    },
    {
     "data": {
      "image/png": "[encoded data removed]",
      "text/plain": [
       "<Figure size 432x288 with 1 Axes>"
      ]
     },
     "metadata": {
      "needs_background": "light"
     },
     "output_type": "display_data"
    },
    {
     "data": {
      "image/png": "[encoded data removed]",
      "text/plain": [
       "<Figure size 432x288 with 1 Axes>"
      ]
     },
     "metadata": {
      "needs_background": "light"
     },
     "output_type": "display_data"
    },
    {
     "data": {
      "image/png": "[encoded data removed]",
      "text/plain": [
       "<Figure size 432x288 with 1 Axes>"
      ]
     },
     "metadata": {
      "needs_background": "light"
     },
     "output_type": "display_data"
    },
    {
     "data": {
      "image/png": "[encoded data removed]",
      "text/plain": [
       "<Figure size 432x288 with 1 Axes>"
      ]
     },
     "metadata": {
      "needs_background": "light"
     },
     "output_type": "display_data"
    },
    {
     "data": {
      "image/png": "[encoded data removed]",
      "text/plain": [
       "<Figure size 432x288 with 1 Axes>"
      ]
     },
     "metadata": {
      "needs_background": "light"
     },
     "output_type": "display_data"
    },
    {
     "data": {
      "image/png": "[encoded data removed]",
      "text/plain": [
       "<Figure size 432x288 with 1 Axes>"
      ]
     },
     "metadata": {
      "needs_background": "light"
     },
     "output_type": "display_data"
    },
    {
     "data": {
      "image/png": "[encoded data removed]",
      "text/plain": [
       "<Figure size 432x288 with 1 Axes>"
      ]
     },
     "metadata": {
      "needs_background": "light"
     },
     "output_type": "display_data"
    },
    {
     "data": {
      "image/png": "[encoded data removed]",
      "text/plain": [
       "<Figure size 432x288 with 1 Axes>"
      ]
     },
     "metadata": {
      "needs_background": "light"
     },
     "output_type": "display_data"
    },
    {
     "data": {
      "image/png": "[encoded data removed]",
      "text/plain": [
       "<Figure size 432x288 with 1 Axes>"
      ]
     },
     "metadata": {
      "needs_background": "light"
     },
     "output_type": "display_data"
    },
    {
     "data": {
      "image/png": "[encoded data removed]",
      "text/plain": [
       "<Figure size 432x288 with 1 Axes>"
      ]
     },
     "metadata": {
      "needs_background": "light"
     },
     "output_type": "display_data"
    },
    {
     "data": {
      "image/png": "[encoded data removed]",
      "text/plain": [
       "<Figure size 432x288 with 1 Axes>"
      ]
     },
     "metadata": {
      "needs_background": "light"
     },
     "output_type": "display_data"
    },
    {
     "data": {
      "image/png": "[encoded data removed]",
      "text/plain": [
       "<Figure size 432x288 with 1 Axes>"
      ]
     },
     "metadata": {
      "needs_background": "light"
     },
     "output_type": "display_data"
    }
   ],
   "source": [
    "for i in range(n_projetos):\n",
    "    plt.figure(i)\n",
    "    VisualizarVA(projetos['volume incondicional'][i])"
   ]
  },
  {
   "cell_type": "markdown",
   "metadata": {},
   "source": [
    "## Calibração econômica: $f(volume) \\rightarrow VPL$"
   ]
  },
  {
   "cell_type": "markdown",
   "metadata": {},
   "source": [
    "### TODO: variar calibração por maturidade da bacia"
   ]
  },
  {
   "cell_type": "code",
   "execution_count": 32,
   "metadata": {},
   "outputs": [],
   "source": [
    "def AvalEcon(vol, fixo, unit):\n",
    "    vpl = - fixo + (vol * unit)\n",
    "    return vpl\n",
    "\n",
    "def CalibEcon(dist, fixo, unit):\n",
    "    vpl_dist = []\n",
    "    for v in dist:\n",
    "        vpl = AvalEcon(v, fixo, unit)\n",
    "        vpl_dist.append(vpl)\n",
    "    return vpl_dist"
   ]
  },
  {
   "cell_type": "code",
   "execution_count": 33,
   "metadata": {},
   "outputs": [],
   "source": [
    "projetos['VPL condicional'] = []\n",
    "projetos['VPL incondicional'] = []\n",
    "projetos['VPL condicional médio'] = []\n",
    "projetos['VPL incondicional médio'] = []\n",
    "for i in range(n_projetos):\n",
    "    vpl_dist_cond = CalibEcon(projetos['volume condicional'][i], fixo=500, unit=5)\n",
    "    vpl_dist_incond = CalibEcon(projetos['volume incondicional'][i], fixo=500, unit=5)\n",
    "    projetos['VPL condicional'].append(copy.copy(vpl_dist_cond))\n",
    "    projetos['VPL incondicional'].append(copy.copy(vpl_dist_incond))\n",
    "    projetos['VPL condicional médio'].append(np.mean(vpl_dist_cond))\n",
    "    projetos['VPL incondicional médio'].append(np.mean(vpl_dist_incond))"
   ]
  },
  {
   "cell_type": "code",
   "execution_count": 34,
   "metadata": {},
   "outputs": [
    {
     "data": {
      "image/png": "[encoded data removed]",
      "text/plain": [
       "<Figure size 432x288 with 1 Axes>"
      ]
     },
     "metadata": {
      "needs_background": "light"
     },
     "output_type": "display_data"
    },
    {
     "data": {
      "image/png": "[encoded data removed]",
      "text/plain": [
       "<Figure size 432x288 with 1 Axes>"
      ]
     },
     "metadata": {
      "needs_background": "light"
     },
     "output_type": "display_data"
    },
    {
     "data": {
      "image/png": "[encoded data removed]",
      "text/plain": [
       "<Figure size 432x288 with 1 Axes>"
      ]
     },
     "metadata": {
      "needs_background": "light"
     },
     "output_type": "display_data"
    },
    {
     "data": {
      "image/png": "[encoded data removed]",
      "text/plain": [
       "<Figure size 432x288 with 1 Axes>"
      ]
     },
     "metadata": {
      "needs_background": "light"
     },
     "output_type": "display_data"
    },
    {
     "data": {
      "image/png": "[encoded data removed]",
      "text/plain": [
       "<Figure size 432x288 with 1 Axes>"
      ]
     },
     "metadata": {
      "needs_background": "light"
     },
     "output_type": "display_data"
    },
    {
     "data": {
      "image/png": "[encoded data removed]",
      "text/plain": [
       "<Figure size 432x288 with 1 Axes>"
      ]
     },
     "metadata": {
      "needs_background": "light"
     },
     "output_type": "display_data"
    },
    {
     "data": {
      "image/png": "[encoded data removed]",
      "text/plain": [
       "<Figure size 432x288 with 1 Axes>"
      ]
     },
     "metadata": {
      "needs_background": "light"
     },
     "output_type": "display_data"
    },
    {
     "data": {
      "image/png": "[encoded data removed]",
      "text/plain": [
       "<Figure size 432x288 with 1 Axes>"
      ]
     },
     "metadata": {
      "needs_background": "light"
     },
     "output_type": "display_data"
    },
    {
     "data": {
      "image/png": "[encoded data removed]",
      "text/plain": [
       "<Figure size 432x288 with 1 Axes>"
      ]
     },
     "metadata": {
      "needs_background": "light"
     },
     "output_type": "display_data"
    },
    {
     "data": {
      "image/png": "[encoded data removed]",
      "text/plain": [
       "<Figure size 432x288 with 1 Axes>"
      ]
     },
     "metadata": {
      "needs_background": "light"
     },
     "output_type": "display_data"
    },
    {
     "data": {
      "image/png": "[encoded data removed]",
      "text/plain": [
       "<Figure size 432x288 with 1 Axes>"
      ]
     },
     "metadata": {
      "needs_background": "light"
     },
     "output_type": "display_data"
    },
    {
     "data": {
      "image/png": "[encoded data removed]",
      "text/plain": [
       "<Figure size 432x288 with 1 Axes>"
      ]
     },
     "metadata": {
      "needs_background": "light"
     },
     "output_type": "display_data"
    },
    {
     "data": {
      "image/png": "[encoded data removed]",
      "text/plain": [
       "<Figure size 432x288 with 1 Axes>"
      ]
     },
     "metadata": {
      "needs_background": "light"
     },
     "output_type": "display_data"
    },
    {
     "data": {
      "image/png": "[encoded data removed]",
      "text/plain": [
       "<Figure size 432x288 with 1 Axes>"
      ]
     },
     "metadata": {
      "needs_background": "light"
     },
     "output_type": "display_data"
    },
    {
     "data": {
      "image/png": "[encoded data removed]",
      "text/plain": [
       "<Figure size 432x288 with 1 Axes>"
      ]
     },
     "metadata": {
      "needs_background": "light"
     },
     "output_type": "display_data"
    },
    {
     "data": {
      "image/png": "[encoded data removed]",
      "text/plain": [
       "<Figure size 432x288 with 1 Axes>"
      ]
     },
     "metadata": {
      "needs_background": "light"
     },
     "output_type": "display_data"
    },
    {
     "data": {
      "image/png": "[encoded data removed]",
      "text/plain": [
       "<Figure size 432x288 with 1 Axes>"
      ]
     },
     "metadata": {
      "needs_background": "light"
     },
     "output_type": "display_data"
    },
    {
     "data": {
      "image/png": "[encoded data removed]",
      "text/plain": [
       "<Figure size 432x288 with 1 Axes>"
      ]
     },
     "metadata": {
      "needs_background": "light"
     },
     "output_type": "display_data"
    },
    {
     "data": {
      "image/png": "[encoded data removed]",
      "text/plain": [
       "<Figure size 432x288 with 1 Axes>"
      ]
     },
     "metadata": {
      "needs_background": "light"
     },
     "output_type": "display_data"
    },
    {
     "data": {
      "image/png": "[encoded data removed]",
      "text/plain": [
       "<Figure size 432x288 with 1 Axes>"
      ]
     },
     "metadata": {
      "needs_background": "light"
     },
     "output_type": "display_data"
    }
   ],
   "source": [
    "for i in range(n_projetos):\n",
    "    plt.figure(i)\n",
    "    VisualizarVA(projetos['VPL condicional'][i])"
   ]
  },
  {
   "cell_type": "code",
   "execution_count": 35,
   "metadata": {},
   "outputs": [],
   "source": [
    "proj_df = pd.DataFrame(projetos)"
   ]
  },
  {
   "cell_type": "code",
   "execution_count": 36,
   "metadata": {},
   "outputs": [
    {
     "data": {
      "text/html": [
       "<div>\n",
       "<style scoped>\n",
       "    .dataframe tbody tr th:only-of-type {\n",
       "        vertical-align: middle;\n",
       "    }\n",
       "\n",
       "    .dataframe tbody tr th {\n",
       "        vertical-align: top;\n",
       "    }\n",
       "\n",
       "    .dataframe thead th {\n",
       "        text-align: right;\n",
       "    }\n",
       "</style>\n",
       "<table border=\"1\" class=\"dataframe\">\n",
       "  <thead>\n",
       "    <tr style=\"text-align: right;\">\n",
       "      <th></th>\n",
       "      <th>Coordenada x</th>\n",
       "      <th>Coordenada y</th>\n",
       "      <th>Bacia</th>\n",
       "      <th>Nome</th>\n",
       "      <th>Maturidade bacia</th>\n",
       "      <th>Qualidade do dado</th>\n",
       "      <th>Play</th>\n",
       "      <th>Soterramento</th>\n",
       "      <th>pcgna</th>\n",
       "      <th>area</th>\n",
       "      <th>...</th>\n",
       "      <th>volume gna</th>\n",
       "      <th>volume cond</th>\n",
       "      <th>volume condicional</th>\n",
       "      <th>média condicional</th>\n",
       "      <th>volume incondicional</th>\n",
       "      <th>média incondicional</th>\n",
       "      <th>VPL condicional</th>\n",
       "      <th>VPL incondicional</th>\n",
       "      <th>VPL condicional médio</th>\n",
       "      <th>VPL incondicional médio</th>\n",
       "    </tr>\n",
       "  </thead>\n",
       "  <tbody>\n",
       "    <tr>\n",
       "      <th>0</th>\n",
       "      <td>56.012296</td>\n",
       "      <td>6.773266</td>\n",
       "      <td>Bacia2</td>\n",
       "      <td>Projeto 1</td>\n",
       "      <td>Estrutura pronta</td>\n",
       "      <td>Qualidade alta</td>\n",
       "      <td>Play 10</td>\n",
       "      <td>3124.907385</td>\n",
       "      <td>0.829291</td>\n",
       "      <td>&lt;scipy.stats._distn_infrastructure.rv_frozen o...</td>\n",
       "      <td>...</td>\n",
       "      <td>[166.98151809038137, 215.40097868635283, 177.4...</td>\n",
       "      <td>[20.461651809259525, 28.263033530191972, 23.46...</td>\n",
       "      <td>[491.577067136515, 187.4431698996409, 557.7860...</td>\n",
       "      <td>483.842903</td>\n",
       "      <td>[491.577067136515, 187.4431698996409, 557.7860...</td>\n",
       "      <td>182.284043</td>\n",
       "      <td>[1957.8853356825748, 437.21584949820453, 2288....</td>\n",
       "      <td>[1957.8853356825748, 437.21584949820453, 2288....</td>\n",
       "      <td>1919.214515</td>\n",
       "      <td>411.420213</td>\n",
       "    </tr>\n",
       "    <tr>\n",
       "      <th>1</th>\n",
       "      <td>75.503222</td>\n",
       "      <td>81.020844</td>\n",
       "      <td>Bacia9</td>\n",
       "      <td>Projeto 2</td>\n",
       "      <td>Estrutura em construção</td>\n",
       "      <td>Qualidade alta</td>\n",
       "      <td>Play 5</td>\n",
       "      <td>2363.513328</td>\n",
       "      <td>0.199045</td>\n",
       "      <td>&lt;scipy.stats._distn_infrastructure.rv_frozen o...</td>\n",
       "      <td>...</td>\n",
       "      <td>[458.12672173813047, 525.0703820224502, 582.76...</td>\n",
       "      <td>[62.18621562620252, 63.72083565750058, 86.4298...</td>\n",
       "      <td>[520.312937364333, 588.7912176799508, 669.1949...</td>\n",
       "      <td>729.754054</td>\n",
       "      <td>[0, 0, 0, 1271.367682285105, 0, 1092.445913280...</td>\n",
       "      <td>129.608850</td>\n",
       "      <td>[2101.5646868216654, 2443.956088399754, 2845.9...</td>\n",
       "      <td>[-500, -500, -500, 5856.838411425525, -500, 49...</td>\n",
       "      <td>3148.770268</td>\n",
       "      <td>148.044249</td>\n",
       "    </tr>\n",
       "    <tr>\n",
       "      <th>2</th>\n",
       "      <td>55.156900</td>\n",
       "      <td>74.092166</td>\n",
       "      <td>Bacia8</td>\n",
       "      <td>Projeto 3</td>\n",
       "      <td>Estrutura pronta</td>\n",
       "      <td>Qualidade alta</td>\n",
       "      <td>Play 8</td>\n",
       "      <td>2659.383967</td>\n",
       "      <td>0.251256</td>\n",
       "      <td>&lt;scipy.stats._distn_infrastructure.rv_frozen o...</td>\n",
       "      <td>...</td>\n",
       "      <td>[191.43318068787988, 261.4395449715394, 133.40...</td>\n",
       "      <td>[28.448726169303495, 40.74146489741645, 20.949...</td>\n",
       "      <td>[219.88190685718337, 302.18100986895587, 154.3...</td>\n",
       "      <td>250.737661</td>\n",
       "      <td>[0, 0, 154.35219984860623, 0, 0, 0, 278.623864...</td>\n",
       "      <td>98.606699</td>\n",
       "      <td>[599.4095342859168, 1010.9050493447794, 271.76...</td>\n",
       "      <td>[-500, -500, 271.76099924303116, -500, -500, -...</td>\n",
       "      <td>753.688303</td>\n",
       "      <td>-6.966506</td>\n",
       "    </tr>\n",
       "    <tr>\n",
       "      <th>3</th>\n",
       "      <td>47.181430</td>\n",
       "      <td>81.264048</td>\n",
       "      <td>Bacia8</td>\n",
       "      <td>Projeto 4</td>\n",
       "      <td>Estrutura pronta</td>\n",
       "      <td>Qualidade alta</td>\n",
       "      <td>Play 4</td>\n",
       "      <td>3283.317611</td>\n",
       "      <td>0.516500</td>\n",
       "      <td>&lt;scipy.stats._distn_infrastructure.rv_frozen o...</td>\n",
       "      <td>...</td>\n",
       "      <td>[75.60330658796558, 93.0144573493328, 155.0376...</td>\n",
       "      <td>[10.191799137216698, 12.38492162762527, 21.672...</td>\n",
       "      <td>[569.7193139159787, 85.79510572518228, 105.399...</td>\n",
       "      <td>229.743535</td>\n",
       "      <td>[0, 85.79510572518228, 105.39937897695808, 0, ...</td>\n",
       "      <td>76.425941</td>\n",
       "      <td>[2348.596569579893, -71.02447137408859, 26.996...</td>\n",
       "      <td>[-500, -71.02447137408859, 26.996894884790436,...</td>\n",
       "      <td>648.717676</td>\n",
       "      <td>-117.870295</td>\n",
       "    </tr>\n",
       "    <tr>\n",
       "      <th>4</th>\n",
       "      <td>56.350165</td>\n",
       "      <td>11.581916</td>\n",
       "      <td>Bacia2</td>\n",
       "      <td>Projeto 5</td>\n",
       "      <td>Estrutura pronta</td>\n",
       "      <td>Qualidade alta</td>\n",
       "      <td>Play 6</td>\n",
       "      <td>1899.611719</td>\n",
       "      <td>0.356531</td>\n",
       "      <td>&lt;scipy.stats._distn_infrastructure.rv_frozen o...</td>\n",
       "      <td>...</td>\n",
       "      <td>[744.4222668339538, 669.7843962409361, 718.452...</td>\n",
       "      <td>[100.41137844473185, 90.99309548385031, 97.100...</td>\n",
       "      <td>[1889.9547067231492, 2009.6011599273284, 1790....</td>\n",
       "      <td>1197.618407</td>\n",
       "      <td>[1889.9547067231492, 0, 0, 0, 0, 0, 760.777491...</td>\n",
       "      <td>186.664994</td>\n",
       "      <td>[8949.773533615746, 9548.005799636641, 8453.08...</td>\n",
       "      <td>[8949.773533615746, -500, -500, -500, -500, -5...</td>\n",
       "      <td>5488.092036</td>\n",
       "      <td>433.324971</td>\n",
       "    </tr>\n",
       "  </tbody>\n",
       "</table>\n",
       "<p>5 rows × 40 columns</p>\n",
       "</div>"
      ],
      "text/plain": [
       "   Coordenada x  Coordenada y   Bacia       Nome         Maturidade bacia  \\\n",
       "0     56.012296      6.773266  Bacia2  Projeto 1         Estrutura pronta   \n",
       "1     75.503222     81.020844  Bacia9  Projeto 2  Estrutura em construção   \n",
       "2     55.156900     74.092166  Bacia8  Projeto 3         Estrutura pronta   \n",
       "3     47.181430     81.264048  Bacia8  Projeto 4         Estrutura pronta   \n",
       "4     56.350165     11.581916  Bacia2  Projeto 5         Estrutura pronta   \n",
       "\n",
       "  Qualidade do dado     Play  Soterramento     pcgna  \\\n",
       "0    Qualidade alta  Play 10   3124.907385  0.829291   \n",
       "1    Qualidade alta   Play 5   2363.513328  0.199045   \n",
       "2    Qualidade alta   Play 8   2659.383967  0.251256   \n",
       "3    Qualidade alta   Play 4   3283.317611  0.516500   \n",
       "4    Qualidade alta   Play 6   1899.611719  0.356531   \n",
       "\n",
       "                                                area  ...  \\\n",
       "0  <scipy.stats._distn_infrastructure.rv_frozen o...  ...   \n",
       "1  <scipy.stats._distn_infrastructure.rv_frozen o...  ...   \n",
       "2  <scipy.stats._distn_infrastructure.rv_frozen o...  ...   \n",
       "3  <scipy.stats._distn_infrastructure.rv_frozen o...  ...   \n",
       "4  <scipy.stats._distn_infrastructure.rv_frozen o...  ...   \n",
       "\n",
       "                                          volume gna  \\\n",
       "0  [166.98151809038137, 215.40097868635283, 177.4...   \n",
       "1  [458.12672173813047, 525.0703820224502, 582.76...   \n",
       "2  [191.43318068787988, 261.4395449715394, 133.40...   \n",
       "3  [75.60330658796558, 93.0144573493328, 155.0376...   \n",
       "4  [744.4222668339538, 669.7843962409361, 718.452...   \n",
       "\n",
       "                                         volume cond  \\\n",
       "0  [20.461651809259525, 28.263033530191972, 23.46...   \n",
       "1  [62.18621562620252, 63.72083565750058, 86.4298...   \n",
       "2  [28.448726169303495, 40.74146489741645, 20.949...   \n",
       "3  [10.191799137216698, 12.38492162762527, 21.672...   \n",
       "4  [100.41137844473185, 90.99309548385031, 97.100...   \n",
       "\n",
       "                                  volume condicional média condicional  \\\n",
       "0  [491.577067136515, 187.4431698996409, 557.7860...        483.842903   \n",
       "1  [520.312937364333, 588.7912176799508, 669.1949...        729.754054   \n",
       "2  [219.88190685718337, 302.18100986895587, 154.3...        250.737661   \n",
       "3  [569.7193139159787, 85.79510572518228, 105.399...        229.743535   \n",
       "4  [1889.9547067231492, 2009.6011599273284, 1790....       1197.618407   \n",
       "\n",
       "                                volume incondicional média incondicional  \\\n",
       "0  [491.577067136515, 187.4431698996409, 557.7860...          182.284043   \n",
       "1  [0, 0, 0, 1271.367682285105, 0, 1092.445913280...          129.608850   \n",
       "2  [0, 0, 154.35219984860623, 0, 0, 0, 278.623864...           98.606699   \n",
       "3  [0, 85.79510572518228, 105.39937897695808, 0, ...           76.425941   \n",
       "4  [1889.9547067231492, 0, 0, 0, 0, 0, 760.777491...          186.664994   \n",
       "\n",
       "                                     VPL condicional  \\\n",
       "0  [1957.8853356825748, 437.21584949820453, 2288....   \n",
       "1  [2101.5646868216654, 2443.956088399754, 2845.9...   \n",
       "2  [599.4095342859168, 1010.9050493447794, 271.76...   \n",
       "3  [2348.596569579893, -71.02447137408859, 26.996...   \n",
       "4  [8949.773533615746, 9548.005799636641, 8453.08...   \n",
       "\n",
       "                                   VPL incondicional VPL condicional médio  \\\n",
       "0  [1957.8853356825748, 437.21584949820453, 2288....           1919.214515   \n",
       "1  [-500, -500, -500, 5856.838411425525, -500, 49...           3148.770268   \n",
       "2  [-500, -500, 271.76099924303116, -500, -500, -...            753.688303   \n",
       "3  [-500, -71.02447137408859, 26.996894884790436,...            648.717676   \n",
       "4  [8949.773533615746, -500, -500, -500, -500, -5...           5488.092036   \n",
       "\n",
       "  VPL incondicional médio  \n",
       "0              411.420213  \n",
       "1              148.044249  \n",
       "2               -6.966506  \n",
       "3             -117.870295  \n",
       "4              433.324971  \n",
       "\n",
       "[5 rows x 40 columns]"
      ]
     },
     "execution_count": 36,
     "metadata": {},
     "output_type": "execute_result"
    }
   ],
   "source": [
    "proj_df.head()"
   ]
  },
  {
   "cell_type": "markdown",
   "metadata": {},
   "source": [
    "## Calculando custo por poço perfurado"
   ]
  },
  {
   "cell_type": "code",
   "execution_count": 37,
   "metadata": {},
   "outputs": [],
   "source": [
    "def CustoPoco(soterramento, maturidade):\n",
    "    unit_loc = {'Nova fronteira': 2,\n",
    "            'Estrutura em construção': 1.5,\n",
    "            'Estrutura pronta': 1}\n",
    "    unit = 20000\n",
    "    custo = soterramento*unit*unit_loc[maturidade]\n",
    "    return custo / 10**6\n",
    "    "
   ]
  },
  {
   "cell_type": "code",
   "execution_count": 38,
   "metadata": {},
   "outputs": [],
   "source": [
    "projetos['Custo do poço'] = []\n",
    "for i in range(n_projetos):\n",
    "    projetos['Custo do poço'].append(CustoPoco(projetos['Soterramento'][i], projetos['Maturidade bacia'][i]))"
   ]
  },
  {
   "cell_type": "code",
   "execution_count": 39,
   "metadata": {},
   "outputs": [],
   "source": [
    "proj_df = pd.DataFrame(projetos)"
   ]
  },
  {
   "cell_type": "code",
   "execution_count": 40,
   "metadata": {},
   "outputs": [
    {
     "data": {
      "text/html": [
       "<div>\n",
       "<style scoped>\n",
       "    .dataframe tbody tr th:only-of-type {\n",
       "        vertical-align: middle;\n",
       "    }\n",
       "\n",
       "    .dataframe tbody tr th {\n",
       "        vertical-align: top;\n",
       "    }\n",
       "\n",
       "    .dataframe thead th {\n",
       "        text-align: right;\n",
       "    }\n",
       "</style>\n",
       "<table border=\"1\" class=\"dataframe\">\n",
       "  <thead>\n",
       "    <tr style=\"text-align: right;\">\n",
       "      <th></th>\n",
       "      <th>Coordenada x</th>\n",
       "      <th>Coordenada y</th>\n",
       "      <th>Bacia</th>\n",
       "      <th>Nome</th>\n",
       "      <th>Maturidade bacia</th>\n",
       "      <th>Qualidade do dado</th>\n",
       "      <th>Play</th>\n",
       "      <th>Soterramento</th>\n",
       "      <th>pcgna</th>\n",
       "      <th>area</th>\n",
       "      <th>...</th>\n",
       "      <th>volume cond</th>\n",
       "      <th>volume condicional</th>\n",
       "      <th>média condicional</th>\n",
       "      <th>volume incondicional</th>\n",
       "      <th>média incondicional</th>\n",
       "      <th>VPL condicional</th>\n",
       "      <th>VPL incondicional</th>\n",
       "      <th>VPL condicional médio</th>\n",
       "      <th>VPL incondicional médio</th>\n",
       "      <th>Custo do poço</th>\n",
       "    </tr>\n",
       "  </thead>\n",
       "  <tbody>\n",
       "    <tr>\n",
       "      <th>0</th>\n",
       "      <td>56.012296</td>\n",
       "      <td>6.773266</td>\n",
       "      <td>Bacia2</td>\n",
       "      <td>Projeto 1</td>\n",
       "      <td>Estrutura pronta</td>\n",
       "      <td>Qualidade alta</td>\n",
       "      <td>Play 10</td>\n",
       "      <td>3124.907385</td>\n",
       "      <td>0.829291</td>\n",
       "      <td>&lt;scipy.stats._distn_infrastructure.rv_frozen o...</td>\n",
       "      <td>...</td>\n",
       "      <td>[20.461651809259525, 28.263033530191972, 23.46...</td>\n",
       "      <td>[491.577067136515, 187.4431698996409, 557.7860...</td>\n",
       "      <td>483.842903</td>\n",
       "      <td>[491.577067136515, 187.4431698996409, 557.7860...</td>\n",
       "      <td>182.284043</td>\n",
       "      <td>[1957.8853356825748, 437.21584949820453, 2288....</td>\n",
       "      <td>[1957.8853356825748, 437.21584949820453, 2288....</td>\n",
       "      <td>1919.214515</td>\n",
       "      <td>411.420213</td>\n",
       "      <td>62.498148</td>\n",
       "    </tr>\n",
       "    <tr>\n",
       "      <th>1</th>\n",
       "      <td>75.503222</td>\n",
       "      <td>81.020844</td>\n",
       "      <td>Bacia9</td>\n",
       "      <td>Projeto 2</td>\n",
       "      <td>Estrutura em construção</td>\n",
       "      <td>Qualidade alta</td>\n",
       "      <td>Play 5</td>\n",
       "      <td>2363.513328</td>\n",
       "      <td>0.199045</td>\n",
       "      <td>&lt;scipy.stats._distn_infrastructure.rv_frozen o...</td>\n",
       "      <td>...</td>\n",
       "      <td>[62.18621562620252, 63.72083565750058, 86.4298...</td>\n",
       "      <td>[520.312937364333, 588.7912176799508, 669.1949...</td>\n",
       "      <td>729.754054</td>\n",
       "      <td>[0, 0, 0, 1271.367682285105, 0, 1092.445913280...</td>\n",
       "      <td>129.608850</td>\n",
       "      <td>[2101.5646868216654, 2443.956088399754, 2845.9...</td>\n",
       "      <td>[-500, -500, -500, 5856.838411425525, -500, 49...</td>\n",
       "      <td>3148.770268</td>\n",
       "      <td>148.044249</td>\n",
       "      <td>70.905400</td>\n",
       "    </tr>\n",
       "    <tr>\n",
       "      <th>2</th>\n",
       "      <td>55.156900</td>\n",
       "      <td>74.092166</td>\n",
       "      <td>Bacia8</td>\n",
       "      <td>Projeto 3</td>\n",
       "      <td>Estrutura pronta</td>\n",
       "      <td>Qualidade alta</td>\n",
       "      <td>Play 8</td>\n",
       "      <td>2659.383967</td>\n",
       "      <td>0.251256</td>\n",
       "      <td>&lt;scipy.stats._distn_infrastructure.rv_frozen o...</td>\n",
       "      <td>...</td>\n",
       "      <td>[28.448726169303495, 40.74146489741645, 20.949...</td>\n",
       "      <td>[219.88190685718337, 302.18100986895587, 154.3...</td>\n",
       "      <td>250.737661</td>\n",
       "      <td>[0, 0, 154.35219984860623, 0, 0, 0, 278.623864...</td>\n",
       "      <td>98.606699</td>\n",
       "      <td>[599.4095342859168, 1010.9050493447794, 271.76...</td>\n",
       "      <td>[-500, -500, 271.76099924303116, -500, -500, -...</td>\n",
       "      <td>753.688303</td>\n",
       "      <td>-6.966506</td>\n",
       "      <td>53.187679</td>\n",
       "    </tr>\n",
       "    <tr>\n",
       "      <th>3</th>\n",
       "      <td>47.181430</td>\n",
       "      <td>81.264048</td>\n",
       "      <td>Bacia8</td>\n",
       "      <td>Projeto 4</td>\n",
       "      <td>Estrutura pronta</td>\n",
       "      <td>Qualidade alta</td>\n",
       "      <td>Play 4</td>\n",
       "      <td>3283.317611</td>\n",
       "      <td>0.516500</td>\n",
       "      <td>&lt;scipy.stats._distn_infrastructure.rv_frozen o...</td>\n",
       "      <td>...</td>\n",
       "      <td>[10.191799137216698, 12.38492162762527, 21.672...</td>\n",
       "      <td>[569.7193139159787, 85.79510572518228, 105.399...</td>\n",
       "      <td>229.743535</td>\n",
       "      <td>[0, 85.79510572518228, 105.39937897695808, 0, ...</td>\n",
       "      <td>76.425941</td>\n",
       "      <td>[2348.596569579893, -71.02447137408859, 26.996...</td>\n",
       "      <td>[-500, -71.02447137408859, 26.996894884790436,...</td>\n",
       "      <td>648.717676</td>\n",
       "      <td>-117.870295</td>\n",
       "      <td>65.666352</td>\n",
       "    </tr>\n",
       "    <tr>\n",
       "      <th>4</th>\n",
       "      <td>56.350165</td>\n",
       "      <td>11.581916</td>\n",
       "      <td>Bacia2</td>\n",
       "      <td>Projeto 5</td>\n",
       "      <td>Estrutura pronta</td>\n",
       "      <td>Qualidade alta</td>\n",
       "      <td>Play 6</td>\n",
       "      <td>1899.611719</td>\n",
       "      <td>0.356531</td>\n",
       "      <td>&lt;scipy.stats._distn_infrastructure.rv_frozen o...</td>\n",
       "      <td>...</td>\n",
       "      <td>[100.41137844473185, 90.99309548385031, 97.100...</td>\n",
       "      <td>[1889.9547067231492, 2009.6011599273284, 1790....</td>\n",
       "      <td>1197.618407</td>\n",
       "      <td>[1889.9547067231492, 0, 0, 0, 0, 0, 760.777491...</td>\n",
       "      <td>186.664994</td>\n",
       "      <td>[8949.773533615746, 9548.005799636641, 8453.08...</td>\n",
       "      <td>[8949.773533615746, -500, -500, -500, -500, -5...</td>\n",
       "      <td>5488.092036</td>\n",
       "      <td>433.324971</td>\n",
       "      <td>37.992234</td>\n",
       "    </tr>\n",
       "  </tbody>\n",
       "</table>\n",
       "<p>5 rows × 41 columns</p>\n",
       "</div>"
      ],
      "text/plain": [
       "   Coordenada x  Coordenada y   Bacia       Nome         Maturidade bacia  \\\n",
       "0     56.012296      6.773266  Bacia2  Projeto 1         Estrutura pronta   \n",
       "1     75.503222     81.020844  Bacia9  Projeto 2  Estrutura em construção   \n",
       "2     55.156900     74.092166  Bacia8  Projeto 3         Estrutura pronta   \n",
       "3     47.181430     81.264048  Bacia8  Projeto 4         Estrutura pronta   \n",
       "4     56.350165     11.581916  Bacia2  Projeto 5         Estrutura pronta   \n",
       "\n",
       "  Qualidade do dado     Play  Soterramento     pcgna  \\\n",
       "0    Qualidade alta  Play 10   3124.907385  0.829291   \n",
       "1    Qualidade alta   Play 5   2363.513328  0.199045   \n",
       "2    Qualidade alta   Play 8   2659.383967  0.251256   \n",
       "3    Qualidade alta   Play 4   3283.317611  0.516500   \n",
       "4    Qualidade alta   Play 6   1899.611719  0.356531   \n",
       "\n",
       "                                                area  ...  \\\n",
       "0  <scipy.stats._distn_infrastructure.rv_frozen o...  ...   \n",
       "1  <scipy.stats._distn_infrastructure.rv_frozen o...  ...   \n",
       "2  <scipy.stats._distn_infrastructure.rv_frozen o...  ...   \n",
       "3  <scipy.stats._distn_infrastructure.rv_frozen o...  ...   \n",
       "4  <scipy.stats._distn_infrastructure.rv_frozen o...  ...   \n",
       "\n",
       "                                         volume cond  \\\n",
       "0  [20.461651809259525, 28.263033530191972, 23.46...   \n",
       "1  [62.18621562620252, 63.72083565750058, 86.4298...   \n",
       "2  [28.448726169303495, 40.74146489741645, 20.949...   \n",
       "3  [10.191799137216698, 12.38492162762527, 21.672...   \n",
       "4  [100.41137844473185, 90.99309548385031, 97.100...   \n",
       "\n",
       "                                  volume condicional média condicional  \\\n",
       "0  [491.577067136515, 187.4431698996409, 557.7860...        483.842903   \n",
       "1  [520.312937364333, 588.7912176799508, 669.1949...        729.754054   \n",
       "2  [219.88190685718337, 302.18100986895587, 154.3...        250.737661   \n",
       "3  [569.7193139159787, 85.79510572518228, 105.399...        229.743535   \n",
       "4  [1889.9547067231492, 2009.6011599273284, 1790....       1197.618407   \n",
       "\n",
       "                                volume incondicional média incondicional  \\\n",
       "0  [491.577067136515, 187.4431698996409, 557.7860...          182.284043   \n",
       "1  [0, 0, 0, 1271.367682285105, 0, 1092.445913280...          129.608850   \n",
       "2  [0, 0, 154.35219984860623, 0, 0, 0, 278.623864...           98.606699   \n",
       "3  [0, 85.79510572518228, 105.39937897695808, 0, ...           76.425941   \n",
       "4  [1889.9547067231492, 0, 0, 0, 0, 0, 760.777491...          186.664994   \n",
       "\n",
       "                                     VPL condicional  \\\n",
       "0  [1957.8853356825748, 437.21584949820453, 2288....   \n",
       "1  [2101.5646868216654, 2443.956088399754, 2845.9...   \n",
       "2  [599.4095342859168, 1010.9050493447794, 271.76...   \n",
       "3  [2348.596569579893, -71.02447137408859, 26.996...   \n",
       "4  [8949.773533615746, 9548.005799636641, 8453.08...   \n",
       "\n",
       "                                   VPL incondicional VPL condicional médio  \\\n",
       "0  [1957.8853356825748, 437.21584949820453, 2288....           1919.214515   \n",
       "1  [-500, -500, -500, 5856.838411425525, -500, 49...           3148.770268   \n",
       "2  [-500, -500, 271.76099924303116, -500, -500, -...            753.688303   \n",
       "3  [-500, -71.02447137408859, 26.996894884790436,...            648.717676   \n",
       "4  [8949.773533615746, -500, -500, -500, -500, -5...           5488.092036   \n",
       "\n",
       "  VPL incondicional médio Custo do poço  \n",
       "0              411.420213     62.498148  \n",
       "1              148.044249     70.905400  \n",
       "2               -6.966506     53.187679  \n",
       "3             -117.870295     65.666352  \n",
       "4              433.324971     37.992234  \n",
       "\n",
       "[5 rows x 41 columns]"
      ]
     },
     "execution_count": 40,
     "metadata": {},
     "output_type": "execute_result"
    }
   ],
   "source": [
    "proj_df.head()"
   ]
  },
  {
   "cell_type": "markdown",
   "metadata": {},
   "source": [
    "## Calculando tempo de execução por poço perfurado"
   ]
  },
  {
   "cell_type": "code",
   "execution_count": 41,
   "metadata": {},
   "outputs": [],
   "source": [
    "def TempoExecucao(soterramento, maturidade):\n",
    "    unit_loc = {'Nova fronteira': 3,\n",
    "            'Estrutura em construção': 2,\n",
    "            'Estrutura pronta': 1}\n",
    "    unit = (100 / 5000)\n",
    "    tempo = soterramento*unit*unit_loc[maturidade]\n",
    "    return tempo"
   ]
  },
  {
   "cell_type": "code",
   "execution_count": 42,
   "metadata": {},
   "outputs": [],
   "source": [
    "projetos['Tempo de execução'] = []\n",
    "for i in range(n_projetos):\n",
    "    projetos['Tempo de execução'].append(TempoExecucao(projetos['Soterramento'][i], projetos['Maturidade bacia'][i]))"
   ]
  },
  {
   "cell_type": "code",
   "execution_count": 43,
   "metadata": {},
   "outputs": [],
   "source": [
    "proj_df = pd.DataFrame(projetos)"
   ]
  },
  {
   "cell_type": "code",
   "execution_count": 44,
   "metadata": {},
   "outputs": [
    {
     "data": {
      "text/html": [
       "<div>\n",
       "<style scoped>\n",
       "    .dataframe tbody tr th:only-of-type {\n",
       "        vertical-align: middle;\n",
       "    }\n",
       "\n",
       "    .dataframe tbody tr th {\n",
       "        vertical-align: top;\n",
       "    }\n",
       "\n",
       "    .dataframe thead th {\n",
       "        text-align: right;\n",
       "    }\n",
       "</style>\n",
       "<table border=\"1\" class=\"dataframe\">\n",
       "  <thead>\n",
       "    <tr style=\"text-align: right;\">\n",
       "      <th></th>\n",
       "      <th>Coordenada x</th>\n",
       "      <th>Coordenada y</th>\n",
       "      <th>Bacia</th>\n",
       "      <th>Nome</th>\n",
       "      <th>Maturidade bacia</th>\n",
       "      <th>Qualidade do dado</th>\n",
       "      <th>Play</th>\n",
       "      <th>Soterramento</th>\n",
       "      <th>pcgna</th>\n",
       "      <th>area</th>\n",
       "      <th>...</th>\n",
       "      <th>volume condicional</th>\n",
       "      <th>média condicional</th>\n",
       "      <th>volume incondicional</th>\n",
       "      <th>média incondicional</th>\n",
       "      <th>VPL condicional</th>\n",
       "      <th>VPL incondicional</th>\n",
       "      <th>VPL condicional médio</th>\n",
       "      <th>VPL incondicional médio</th>\n",
       "      <th>Custo do poço</th>\n",
       "      <th>Tempo de execução</th>\n",
       "    </tr>\n",
       "  </thead>\n",
       "  <tbody>\n",
       "    <tr>\n",
       "      <th>0</th>\n",
       "      <td>56.012296</td>\n",
       "      <td>6.773266</td>\n",
       "      <td>Bacia2</td>\n",
       "      <td>Projeto 1</td>\n",
       "      <td>Estrutura pronta</td>\n",
       "      <td>Qualidade alta</td>\n",
       "      <td>Play 10</td>\n",
       "      <td>3124.907385</td>\n",
       "      <td>0.829291</td>\n",
       "      <td>&lt;scipy.stats._distn_infrastructure.rv_frozen o...</td>\n",
       "      <td>...</td>\n",
       "      <td>[491.577067136515, 187.4431698996409, 557.7860...</td>\n",
       "      <td>483.842903</td>\n",
       "      <td>[491.577067136515, 187.4431698996409, 557.7860...</td>\n",
       "      <td>182.284043</td>\n",
       "      <td>[1957.8853356825748, 437.21584949820453, 2288....</td>\n",
       "      <td>[1957.8853356825748, 437.21584949820453, 2288....</td>\n",
       "      <td>1919.214515</td>\n",
       "      <td>411.420213</td>\n",
       "      <td>62.498148</td>\n",
       "      <td>62.498148</td>\n",
       "    </tr>\n",
       "    <tr>\n",
       "      <th>1</th>\n",
       "      <td>75.503222</td>\n",
       "      <td>81.020844</td>\n",
       "      <td>Bacia9</td>\n",
       "      <td>Projeto 2</td>\n",
       "      <td>Estrutura em construção</td>\n",
       "      <td>Qualidade alta</td>\n",
       "      <td>Play 5</td>\n",
       "      <td>2363.513328</td>\n",
       "      <td>0.199045</td>\n",
       "      <td>&lt;scipy.stats._distn_infrastructure.rv_frozen o...</td>\n",
       "      <td>...</td>\n",
       "      <td>[520.312937364333, 588.7912176799508, 669.1949...</td>\n",
       "      <td>729.754054</td>\n",
       "      <td>[0, 0, 0, 1271.367682285105, 0, 1092.445913280...</td>\n",
       "      <td>129.608850</td>\n",
       "      <td>[2101.5646868216654, 2443.956088399754, 2845.9...</td>\n",
       "      <td>[-500, -500, -500, 5856.838411425525, -500, 49...</td>\n",
       "      <td>3148.770268</td>\n",
       "      <td>148.044249</td>\n",
       "      <td>70.905400</td>\n",
       "      <td>94.540533</td>\n",
       "    </tr>\n",
       "    <tr>\n",
       "      <th>2</th>\n",
       "      <td>55.156900</td>\n",
       "      <td>74.092166</td>\n",
       "      <td>Bacia8</td>\n",
       "      <td>Projeto 3</td>\n",
       "      <td>Estrutura pronta</td>\n",
       "      <td>Qualidade alta</td>\n",
       "      <td>Play 8</td>\n",
       "      <td>2659.383967</td>\n",
       "      <td>0.251256</td>\n",
       "      <td>&lt;scipy.stats._distn_infrastructure.rv_frozen o...</td>\n",
       "      <td>...</td>\n",
       "      <td>[219.88190685718337, 302.18100986895587, 154.3...</td>\n",
       "      <td>250.737661</td>\n",
       "      <td>[0, 0, 154.35219984860623, 0, 0, 0, 278.623864...</td>\n",
       "      <td>98.606699</td>\n",
       "      <td>[599.4095342859168, 1010.9050493447794, 271.76...</td>\n",
       "      <td>[-500, -500, 271.76099924303116, -500, -500, -...</td>\n",
       "      <td>753.688303</td>\n",
       "      <td>-6.966506</td>\n",
       "      <td>53.187679</td>\n",
       "      <td>53.187679</td>\n",
       "    </tr>\n",
       "    <tr>\n",
       "      <th>3</th>\n",
       "      <td>47.181430</td>\n",
       "      <td>81.264048</td>\n",
       "      <td>Bacia8</td>\n",
       "      <td>Projeto 4</td>\n",
       "      <td>Estrutura pronta</td>\n",
       "      <td>Qualidade alta</td>\n",
       "      <td>Play 4</td>\n",
       "      <td>3283.317611</td>\n",
       "      <td>0.516500</td>\n",
       "      <td>&lt;scipy.stats._distn_infrastructure.rv_frozen o...</td>\n",
       "      <td>...</td>\n",
       "      <td>[569.7193139159787, 85.79510572518228, 105.399...</td>\n",
       "      <td>229.743535</td>\n",
       "      <td>[0, 85.79510572518228, 105.39937897695808, 0, ...</td>\n",
       "      <td>76.425941</td>\n",
       "      <td>[2348.596569579893, -71.02447137408859, 26.996...</td>\n",
       "      <td>[-500, -71.02447137408859, 26.996894884790436,...</td>\n",
       "      <td>648.717676</td>\n",
       "      <td>-117.870295</td>\n",
       "      <td>65.666352</td>\n",
       "      <td>65.666352</td>\n",
       "    </tr>\n",
       "    <tr>\n",
       "      <th>4</th>\n",
       "      <td>56.350165</td>\n",
       "      <td>11.581916</td>\n",
       "      <td>Bacia2</td>\n",
       "      <td>Projeto 5</td>\n",
       "      <td>Estrutura pronta</td>\n",
       "      <td>Qualidade alta</td>\n",
       "      <td>Play 6</td>\n",
       "      <td>1899.611719</td>\n",
       "      <td>0.356531</td>\n",
       "      <td>&lt;scipy.stats._distn_infrastructure.rv_frozen o...</td>\n",
       "      <td>...</td>\n",
       "      <td>[1889.9547067231492, 2009.6011599273284, 1790....</td>\n",
       "      <td>1197.618407</td>\n",
       "      <td>[1889.9547067231492, 0, 0, 0, 0, 0, 760.777491...</td>\n",
       "      <td>186.664994</td>\n",
       "      <td>[8949.773533615746, 9548.005799636641, 8453.08...</td>\n",
       "      <td>[8949.773533615746, -500, -500, -500, -500, -5...</td>\n",
       "      <td>5488.092036</td>\n",
       "      <td>433.324971</td>\n",
       "      <td>37.992234</td>\n",
       "      <td>37.992234</td>\n",
       "    </tr>\n",
       "  </tbody>\n",
       "</table>\n",
       "<p>5 rows × 42 columns</p>\n",
       "</div>"
      ],
      "text/plain": [
       "   Coordenada x  Coordenada y   Bacia       Nome         Maturidade bacia  \\\n",
       "0     56.012296      6.773266  Bacia2  Projeto 1         Estrutura pronta   \n",
       "1     75.503222     81.020844  Bacia9  Projeto 2  Estrutura em construção   \n",
       "2     55.156900     74.092166  Bacia8  Projeto 3         Estrutura pronta   \n",
       "3     47.181430     81.264048  Bacia8  Projeto 4         Estrutura pronta   \n",
       "4     56.350165     11.581916  Bacia2  Projeto 5         Estrutura pronta   \n",
       "\n",
       "  Qualidade do dado     Play  Soterramento     pcgna  \\\n",
       "0    Qualidade alta  Play 10   3124.907385  0.829291   \n",
       "1    Qualidade alta   Play 5   2363.513328  0.199045   \n",
       "2    Qualidade alta   Play 8   2659.383967  0.251256   \n",
       "3    Qualidade alta   Play 4   3283.317611  0.516500   \n",
       "4    Qualidade alta   Play 6   1899.611719  0.356531   \n",
       "\n",
       "                                                area  ...  \\\n",
       "0  <scipy.stats._distn_infrastructure.rv_frozen o...  ...   \n",
       "1  <scipy.stats._distn_infrastructure.rv_frozen o...  ...   \n",
       "2  <scipy.stats._distn_infrastructure.rv_frozen o...  ...   \n",
       "3  <scipy.stats._distn_infrastructure.rv_frozen o...  ...   \n",
       "4  <scipy.stats._distn_infrastructure.rv_frozen o...  ...   \n",
       "\n",
       "                                  volume condicional média condicional  \\\n",
       "0  [491.577067136515, 187.4431698996409, 557.7860...        483.842903   \n",
       "1  [520.312937364333, 588.7912176799508, 669.1949...        729.754054   \n",
       "2  [219.88190685718337, 302.18100986895587, 154.3...        250.737661   \n",
       "3  [569.7193139159787, 85.79510572518228, 105.399...        229.743535   \n",
       "4  [1889.9547067231492, 2009.6011599273284, 1790....       1197.618407   \n",
       "\n",
       "                                volume incondicional média incondicional  \\\n",
       "0  [491.577067136515, 187.4431698996409, 557.7860...          182.284043   \n",
       "1  [0, 0, 0, 1271.367682285105, 0, 1092.445913280...          129.608850   \n",
       "2  [0, 0, 154.35219984860623, 0, 0, 0, 278.623864...           98.606699   \n",
       "3  [0, 85.79510572518228, 105.39937897695808, 0, ...           76.425941   \n",
       "4  [1889.9547067231492, 0, 0, 0, 0, 0, 760.777491...          186.664994   \n",
       "\n",
       "                                     VPL condicional  \\\n",
       "0  [1957.8853356825748, 437.21584949820453, 2288....   \n",
       "1  [2101.5646868216654, 2443.956088399754, 2845.9...   \n",
       "2  [599.4095342859168, 1010.9050493447794, 271.76...   \n",
       "3  [2348.596569579893, -71.02447137408859, 26.996...   \n",
       "4  [8949.773533615746, 9548.005799636641, 8453.08...   \n",
       "\n",
       "                                   VPL incondicional VPL condicional médio  \\\n",
       "0  [1957.8853356825748, 437.21584949820453, 2288....           1919.214515   \n",
       "1  [-500, -500, -500, 5856.838411425525, -500, 49...           3148.770268   \n",
       "2  [-500, -500, 271.76099924303116, -500, -500, -...            753.688303   \n",
       "3  [-500, -71.02447137408859, 26.996894884790436,...            648.717676   \n",
       "4  [8949.773533615746, -500, -500, -500, -500, -5...           5488.092036   \n",
       "\n",
       "  VPL incondicional médio Custo do poço Tempo de execução  \n",
       "0              411.420213     62.498148         62.498148  \n",
       "1              148.044249     70.905400         94.540533  \n",
       "2               -6.966506     53.187679         53.187679  \n",
       "3             -117.870295     65.666352         65.666352  \n",
       "4              433.324971     37.992234         37.992234  \n",
       "\n",
       "[5 rows x 42 columns]"
      ]
     },
     "execution_count": 44,
     "metadata": {},
     "output_type": "execute_result"
    }
   ],
   "source": [
    "proj_df.head()"
   ]
  },
  {
   "cell_type": "markdown",
   "metadata": {},
   "source": [
    "## Atribuindo contratos aos projetos"
   ]
  },
  {
   "cell_type": "code",
   "execution_count": 45,
   "metadata": {},
   "outputs": [],
   "source": [
    "duracao = [1, 2, 3, 4, 5]\n",
    "projetos['Início do Contrato'] = []\n",
    "projetos['Final do Contrato'] = []\n",
    "for i in range(n_projetos):\n",
    "    inicio = np.random.randint(0, 365*5)\n",
    "    final = inicio + 365*np.random.choice(duracao)\n",
    "    projetos['Início do Contrato'].append(copy.copy(inicio))\n",
    "    projetos['Final do Contrato'].append(copy.copy(final))"
   ]
  },
  {
   "cell_type": "code",
   "execution_count": 46,
   "metadata": {},
   "outputs": [],
   "source": [
    "proj_df = pd.DataFrame(projetos)"
   ]
  },
  {
   "cell_type": "code",
   "execution_count": 47,
   "metadata": {},
   "outputs": [
    {
     "data": {
      "text/html": [
       "<div>\n",
       "<style scoped>\n",
       "    .dataframe tbody tr th:only-of-type {\n",
       "        vertical-align: middle;\n",
       "    }\n",
       "\n",
       "    .dataframe tbody tr th {\n",
       "        vertical-align: top;\n",
       "    }\n",
       "\n",
       "    .dataframe thead th {\n",
       "        text-align: right;\n",
       "    }\n",
       "</style>\n",
       "<table border=\"1\" class=\"dataframe\">\n",
       "  <thead>\n",
       "    <tr style=\"text-align: right;\">\n",
       "      <th></th>\n",
       "      <th>Coordenada x</th>\n",
       "      <th>Coordenada y</th>\n",
       "      <th>Bacia</th>\n",
       "      <th>Nome</th>\n",
       "      <th>Maturidade bacia</th>\n",
       "      <th>Qualidade do dado</th>\n",
       "      <th>Play</th>\n",
       "      <th>Soterramento</th>\n",
       "      <th>pcgna</th>\n",
       "      <th>area</th>\n",
       "      <th>...</th>\n",
       "      <th>volume incondicional</th>\n",
       "      <th>média incondicional</th>\n",
       "      <th>VPL condicional</th>\n",
       "      <th>VPL incondicional</th>\n",
       "      <th>VPL condicional médio</th>\n",
       "      <th>VPL incondicional médio</th>\n",
       "      <th>Custo do poço</th>\n",
       "      <th>Tempo de execução</th>\n",
       "      <th>Início do Contrato</th>\n",
       "      <th>Final do Contrato</th>\n",
       "    </tr>\n",
       "  </thead>\n",
       "  <tbody>\n",
       "    <tr>\n",
       "      <th>0</th>\n",
       "      <td>56.012296</td>\n",
       "      <td>6.773266</td>\n",
       "      <td>Bacia2</td>\n",
       "      <td>Projeto 1</td>\n",
       "      <td>Estrutura pronta</td>\n",
       "      <td>Qualidade alta</td>\n",
       "      <td>Play 10</td>\n",
       "      <td>3124.907385</td>\n",
       "      <td>0.829291</td>\n",
       "      <td>&lt;scipy.stats._distn_infrastructure.rv_frozen o...</td>\n",
       "      <td>...</td>\n",
       "      <td>[491.577067136515, 187.4431698996409, 557.7860...</td>\n",
       "      <td>182.284043</td>\n",
       "      <td>[1957.8853356825748, 437.21584949820453, 2288....</td>\n",
       "      <td>[1957.8853356825748, 437.21584949820453, 2288....</td>\n",
       "      <td>1919.214515</td>\n",
       "      <td>411.420213</td>\n",
       "      <td>62.498148</td>\n",
       "      <td>62.498148</td>\n",
       "      <td>370</td>\n",
       "      <td>1100</td>\n",
       "    </tr>\n",
       "    <tr>\n",
       "      <th>1</th>\n",
       "      <td>75.503222</td>\n",
       "      <td>81.020844</td>\n",
       "      <td>Bacia9</td>\n",
       "      <td>Projeto 2</td>\n",
       "      <td>Estrutura em construção</td>\n",
       "      <td>Qualidade alta</td>\n",
       "      <td>Play 5</td>\n",
       "      <td>2363.513328</td>\n",
       "      <td>0.199045</td>\n",
       "      <td>&lt;scipy.stats._distn_infrastructure.rv_frozen o...</td>\n",
       "      <td>...</td>\n",
       "      <td>[0, 0, 0, 1271.367682285105, 0, 1092.445913280...</td>\n",
       "      <td>129.608850</td>\n",
       "      <td>[2101.5646868216654, 2443.956088399754, 2845.9...</td>\n",
       "      <td>[-500, -500, -500, 5856.838411425525, -500, 49...</td>\n",
       "      <td>3148.770268</td>\n",
       "      <td>148.044249</td>\n",
       "      <td>70.905400</td>\n",
       "      <td>94.540533</td>\n",
       "      <td>1006</td>\n",
       "      <td>1736</td>\n",
       "    </tr>\n",
       "    <tr>\n",
       "      <th>2</th>\n",
       "      <td>55.156900</td>\n",
       "      <td>74.092166</td>\n",
       "      <td>Bacia8</td>\n",
       "      <td>Projeto 3</td>\n",
       "      <td>Estrutura pronta</td>\n",
       "      <td>Qualidade alta</td>\n",
       "      <td>Play 8</td>\n",
       "      <td>2659.383967</td>\n",
       "      <td>0.251256</td>\n",
       "      <td>&lt;scipy.stats._distn_infrastructure.rv_frozen o...</td>\n",
       "      <td>...</td>\n",
       "      <td>[0, 0, 154.35219984860623, 0, 0, 0, 278.623864...</td>\n",
       "      <td>98.606699</td>\n",
       "      <td>[599.4095342859168, 1010.9050493447794, 271.76...</td>\n",
       "      <td>[-500, -500, 271.76099924303116, -500, -500, -...</td>\n",
       "      <td>753.688303</td>\n",
       "      <td>-6.966506</td>\n",
       "      <td>53.187679</td>\n",
       "      <td>53.187679</td>\n",
       "      <td>1735</td>\n",
       "      <td>2830</td>\n",
       "    </tr>\n",
       "    <tr>\n",
       "      <th>3</th>\n",
       "      <td>47.181430</td>\n",
       "      <td>81.264048</td>\n",
       "      <td>Bacia8</td>\n",
       "      <td>Projeto 4</td>\n",
       "      <td>Estrutura pronta</td>\n",
       "      <td>Qualidade alta</td>\n",
       "      <td>Play 4</td>\n",
       "      <td>3283.317611</td>\n",
       "      <td>0.516500</td>\n",
       "      <td>&lt;scipy.stats._distn_infrastructure.rv_frozen o...</td>\n",
       "      <td>...</td>\n",
       "      <td>[0, 85.79510572518228, 105.39937897695808, 0, ...</td>\n",
       "      <td>76.425941</td>\n",
       "      <td>[2348.596569579893, -71.02447137408859, 26.996...</td>\n",
       "      <td>[-500, -71.02447137408859, 26.996894884790436,...</td>\n",
       "      <td>648.717676</td>\n",
       "      <td>-117.870295</td>\n",
       "      <td>65.666352</td>\n",
       "      <td>65.666352</td>\n",
       "      <td>449</td>\n",
       "      <td>1909</td>\n",
       "    </tr>\n",
       "    <tr>\n",
       "      <th>4</th>\n",
       "      <td>56.350165</td>\n",
       "      <td>11.581916</td>\n",
       "      <td>Bacia2</td>\n",
       "      <td>Projeto 5</td>\n",
       "      <td>Estrutura pronta</td>\n",
       "      <td>Qualidade alta</td>\n",
       "      <td>Play 6</td>\n",
       "      <td>1899.611719</td>\n",
       "      <td>0.356531</td>\n",
       "      <td>&lt;scipy.stats._distn_infrastructure.rv_frozen o...</td>\n",
       "      <td>...</td>\n",
       "      <td>[1889.9547067231492, 0, 0, 0, 0, 0, 760.777491...</td>\n",
       "      <td>186.664994</td>\n",
       "      <td>[8949.773533615746, 9548.005799636641, 8453.08...</td>\n",
       "      <td>[8949.773533615746, -500, -500, -500, -500, -5...</td>\n",
       "      <td>5488.092036</td>\n",
       "      <td>433.324971</td>\n",
       "      <td>37.992234</td>\n",
       "      <td>37.992234</td>\n",
       "      <td>1683</td>\n",
       "      <td>2413</td>\n",
       "    </tr>\n",
       "  </tbody>\n",
       "</table>\n",
       "<p>5 rows × 44 columns</p>\n",
       "</div>"
      ],
      "text/plain": [
       "   Coordenada x  Coordenada y   Bacia       Nome         Maturidade bacia  \\\n",
       "0     56.012296      6.773266  Bacia2  Projeto 1         Estrutura pronta   \n",
       "1     75.503222     81.020844  Bacia9  Projeto 2  Estrutura em construção   \n",
       "2     55.156900     74.092166  Bacia8  Projeto 3         Estrutura pronta   \n",
       "3     47.181430     81.264048  Bacia8  Projeto 4         Estrutura pronta   \n",
       "4     56.350165     11.581916  Bacia2  Projeto 5         Estrutura pronta   \n",
       "\n",
       "  Qualidade do dado     Play  Soterramento     pcgna  \\\n",
       "0    Qualidade alta  Play 10   3124.907385  0.829291   \n",
       "1    Qualidade alta   Play 5   2363.513328  0.199045   \n",
       "2    Qualidade alta   Play 8   2659.383967  0.251256   \n",
       "3    Qualidade alta   Play 4   3283.317611  0.516500   \n",
       "4    Qualidade alta   Play 6   1899.611719  0.356531   \n",
       "\n",
       "                                                area  ...  \\\n",
       "0  <scipy.stats._distn_infrastructure.rv_frozen o...  ...   \n",
       "1  <scipy.stats._distn_infrastructure.rv_frozen o...  ...   \n",
       "2  <scipy.stats._distn_infrastructure.rv_frozen o...  ...   \n",
       "3  <scipy.stats._distn_infrastructure.rv_frozen o...  ...   \n",
       "4  <scipy.stats._distn_infrastructure.rv_frozen o...  ...   \n",
       "\n",
       "                                volume incondicional média incondicional  \\\n",
       "0  [491.577067136515, 187.4431698996409, 557.7860...          182.284043   \n",
       "1  [0, 0, 0, 1271.367682285105, 0, 1092.445913280...          129.608850   \n",
       "2  [0, 0, 154.35219984860623, 0, 0, 0, 278.623864...           98.606699   \n",
       "3  [0, 85.79510572518228, 105.39937897695808, 0, ...           76.425941   \n",
       "4  [1889.9547067231492, 0, 0, 0, 0, 0, 760.777491...          186.664994   \n",
       "\n",
       "                                     VPL condicional  \\\n",
       "0  [1957.8853356825748, 437.21584949820453, 2288....   \n",
       "1  [2101.5646868216654, 2443.956088399754, 2845.9...   \n",
       "2  [599.4095342859168, 1010.9050493447794, 271.76...   \n",
       "3  [2348.596569579893, -71.02447137408859, 26.996...   \n",
       "4  [8949.773533615746, 9548.005799636641, 8453.08...   \n",
       "\n",
       "                                   VPL incondicional VPL condicional médio  \\\n",
       "0  [1957.8853356825748, 437.21584949820453, 2288....           1919.214515   \n",
       "1  [-500, -500, -500, 5856.838411425525, -500, 49...           3148.770268   \n",
       "2  [-500, -500, 271.76099924303116, -500, -500, -...            753.688303   \n",
       "3  [-500, -71.02447137408859, 26.996894884790436,...            648.717676   \n",
       "4  [8949.773533615746, -500, -500, -500, -500, -5...           5488.092036   \n",
       "\n",
       "  VPL incondicional médio Custo do poço Tempo de execução Início do Contrato  \\\n",
       "0              411.420213     62.498148         62.498148                370   \n",
       "1              148.044249     70.905400         94.540533               1006   \n",
       "2               -6.966506     53.187679         53.187679               1735   \n",
       "3             -117.870295     65.666352         65.666352                449   \n",
       "4              433.324971     37.992234         37.992234               1683   \n",
       "\n",
       "  Final do Contrato  \n",
       "0              1100  \n",
       "1              1736  \n",
       "2              2830  \n",
       "3              1909  \n",
       "4              2413  \n",
       "\n",
       "[5 rows x 44 columns]"
      ]
     },
     "execution_count": 47,
     "metadata": {},
     "output_type": "execute_result"
    }
   ],
   "source": [
    "proj_df.head()"
   ]
  },
  {
   "cell_type": "markdown",
   "metadata": {},
   "source": [
    "## Criando conjunto de sondas de perfuração"
   ]
  },
  {
   "cell_type": "code",
   "execution_count": 49,
   "metadata": {},
   "outputs": [],
   "source": [
    "n_sondas = max(1, n_projetos // 10)\n",
    "sondas = {}\n",
    "sondas['Coordenada x'] = []\n",
    "sondas['Coordenada y'] = []\n",
    "\n",
    "for i in range(n_sondas):\n",
    "    \n",
    "    # primeiro, sortear uma bacia\n",
    "    bacia = np.random.choice(list(bacias.keys()))\n",
    "    \n",
    "    # colocar coordenadas nos extremos verticais da bacia\n",
    "    x_min_curr, x_max_curr = bacias[bacia]['Coordenadas'][0]\n",
    "    y_min_curr, y_max_curr = bacias[bacia]['Coordenadas'][1]\n",
    "    \n",
    "    x_rig, y_rig = (0.0, np.random.choice([y_min_curr, y_max_curr]))\n",
    "    \n",
    "    sondas['Coordenada x'].append(x_rig)\n",
    "    sondas['Coordenada y'].append(y_rig)"
   ]
  },
  {
   "cell_type": "code",
   "execution_count": 50,
   "metadata": {},
   "outputs": [
    {
     "data": {
      "text/plain": [
       "{'Coordenada x': [0.0, 0.0], 'Coordenada y': [33.333333333333336, 100.0]}"
      ]
     },
     "execution_count": 50,
     "metadata": {},
     "output_type": "execute_result"
    }
   ],
   "source": [
    "sondas"
   ]
  },
  {
   "cell_type": "markdown",
   "metadata": {},
   "source": [
    "## Visualizando métricas dos projetos para controle de qualidade dos dados"
   ]
  },
  {
   "cell_type": "code",
   "execution_count": null,
   "metadata": {},
   "outputs": [],
   "source": []
  },
  {
   "cell_type": "markdown",
   "metadata": {},
   "source": [
    "## Exportando instância"
   ]
  },
  {
   "cell_type": "code",
   "execution_count": 51,
   "metadata": {},
   "outputs": [
    {
     "data": {
      "text/plain": [
       "dict_keys(['Coordenada x', 'Coordenada y', 'Bacia', 'Nome', 'Maturidade bacia', 'Qualidade do dado', 'Play', 'Soterramento', 'pcgna', 'area', 'netpay', 'phi', 'trapfill', 'shc', 'bo', 'bg', 'rgo', 'rlg', 'froleo', 'frga', 'frgna', 'frcond', 'geração', 'migração', 'reservatório', 'geometria', 'retenção', 'PS HC', 'volume oleo', 'volume ga', 'volume gna', 'volume cond', 'volume condicional', 'média condicional', 'volume incondicional', 'média incondicional', 'VPL condicional', 'VPL incondicional', 'VPL condicional médio', 'VPL incondicional médio', 'Custo do poço', 'Tempo de execução', 'Início do Contrato', 'Final do Contrato'])"
      ]
     },
     "execution_count": 51,
     "metadata": {},
     "output_type": "execute_result"
    }
   ],
   "source": [
    "projetos.keys()"
   ]
  },
  {
   "cell_type": "code",
   "execution_count": 53,
   "metadata": {},
   "outputs": [],
   "source": [
    "colunas_out = ['Coordenada x', 'Coordenada y', 'Bacia', 'Nome', 'Maturidade bacia',\n",
    "               'Qualidade do dado', 'Play', 'Soterramento', 'pcgna', 'geração', 'migração', \n",
    "               'reservatório', 'geometria', 'retenção', 'PS HC', 'média condicional', 'média incondicional', \n",
    "               'VPL condicional médio', 'VPL incondicional médio', 'Custo do poço', \n",
    "               'Tempo de execução', 'Início do Contrato', 'Final do Contrato']\n",
    "\n",
    "with open('instancia_mestrado.dat', 'w') as f:\n",
    "    print (n_projetos, sum(projetos['Custo do poço'])/2, file=f)\n",
    "    for col in colunas_out:\n",
    "        print(projetos[col], file=f)\n",
    "    print (n_sondas, file=f)\n",
    "    print (sondas['Coordenada x'], file=f)\n",
    "    print (sondas['Coordenada y'], file=f)"
   ]
  },
  {
   "cell_type": "code",
   "execution_count": null,
   "metadata": {},
   "outputs": [],
   "source": []
  }
 ],
 "metadata": {
  "kernelspec": {
   "display_name": "Python 3",
   "language": "python",
   "name": "python3"
  },
  "language_info": {
   "codemirror_mode": {
    "name": "ipython",
    "version": 3
   },
   "file_extension": ".py",
   "mimetype": "text/x-python",
   "name": "python",
   "nbconvert_exporter": "python",
   "pygments_lexer": "ipython3",
   "version": "3.8.3"
  }
 },
 "nbformat": 4,
 "nbformat_minor": 4
}
