{
 "cells": [
  {
   "cell_type": "markdown",
   "metadata": {},
   "source": [
    "# Gerador de instâncias sintéticas para o problema de otimização do mestrado"
   ]
  },
  {
   "cell_type": "markdown",
   "metadata": {},
   "source": [
    "### Etapas"
   ]
  },
  {
   "cell_type": "markdown",
   "metadata": {},
   "source": [
    "**Geral**\n",
    "\n",
    "1. Definir o grid\n",
    "\n",
    "1. Definir bacias geológicas\n",
    "\n",
    "1. Definir ...\n",
    "\n",
    "1. Definir quantidade de projetos\n",
    "\n",
    "**Para cada projeto:**\n",
    "\n",
    "1. Escolher uma bacia\n",
    "\n",
    "1. Sortear coordenada (x,y)\n",
    "\n",
    "1. Pela bacia, temos a estratégia e a qualidade do dado\n",
    "\n",
    "1. Dada a bacia, escoolher um play\n",
    "\n",
    "1. O play vai indicar se é arenito ou carbonato, range de soterramento, e distribuição dos parâmetros volumétricos\n",
    "\n",
    "1. O risco tem componentes regionais da bacia (geração), componentes do play (migração, retenção), e componentes individuais (geometria e reservatório).\n",
    "\n",
    "1. A PCGNA é indicada pelo play\n",
    "\n",
    "1. Simular volume geo, tec, ambos condicionais e incondicionais\n",
    "\n",
    "1. O custo do poço exploratório depende da bacia, estratégia e soterramento\n",
    "\n",
    "1. Cada bacia tem uma $f(vol) \\rightarrow VPL$\n",
    "\n",
    "1. Calcular distribuição de VPL e métricas de retorno (risco?)\n",
    "\n",
    "1. Atribuir contratos à cada parte da bacia com OEs: simular leilões?\n",
    "\n",
    "1. Tempo de excecução dos projetos é função do soterramento e estratégia"
   ]
  },
  {
   "cell_type": "markdown",
   "metadata": {},
   "source": [
    "## Importando bibliotecas"
   ]
  },
  {
   "cell_type": "code",
   "execution_count": 1,
   "metadata": {},
   "outputs": [],
   "source": [
    "import copy\n",
    "import numpy as np\n",
    "import matplotlib.pyplot as plt\n",
    "import pandas as pd\n",
    "from matplotlib import cm\n",
    "\n",
    "%matplotlib inline"
   ]
  },
  {
   "cell_type": "markdown",
   "metadata": {},
   "source": [
    "## Definição do grid"
   ]
  },
  {
   "cell_type": "code",
   "execution_count": 2,
   "metadata": {},
   "outputs": [],
   "source": [
    "x_min, x_max = (0., 100.)\n",
    "y_min, y_max = (0., 100.)\n",
    "dx, dy = (1., 1.)\n",
    "grid = np.zeros(( int((y_max-y_min)/dy), int((x_max-x_min)/dx) ))"
   ]
  },
  {
   "cell_type": "code",
   "execution_count": 3,
   "metadata": {},
   "outputs": [
    {
     "data": {
      "text/plain": [
       "(100, 100)"
      ]
     },
     "execution_count": 3,
     "metadata": {},
     "output_type": "execute_result"
    }
   ],
   "source": [
    "grid.shape"
   ]
  },
  {
   "cell_type": "code",
   "execution_count": 4,
   "metadata": {},
   "outputs": [
    {
     "data": {
      "text/plain": [
       "<matplotlib.image.AxesImage at 0x7f80e6141910>"
      ]
     },
     "execution_count": 4,
     "metadata": {},
     "output_type": "execute_result"
    },
    {
     "data": {
      "image/png": "[encoded data removed]",
      "text/plain": [
       "<Figure size 432x288 with 1 Axes>"
      ]
     },
     "metadata": {
      "needs_background": "light"
     },
     "output_type": "display_data"
    }
   ],
   "source": [
    "plt.imshow(grid)"
   ]
  },
  {
   "cell_type": "markdown",
   "metadata": {},
   "source": [
    "## Criando bacias geológicas"
   ]
  },
  {
   "cell_type": "code",
   "execution_count": 5,
   "metadata": {},
   "outputs": [],
   "source": [
    "estrategias = ['Estrutura pronta', 'Estrutura em construção', 'Nova fronteira']\n",
    "qualidades_dado = ['Qualidade alta', 'Qualidade razoável', 'Qualidade baixa']"
   ]
  },
  {
   "cell_type": "code",
   "execution_count": 6,
   "metadata": {},
   "outputs": [],
   "source": [
    "nx_bacias = 3\n",
    "ny_bacias = 3\n",
    "bacias = {}\n",
    "count = 0\n",
    "x_step = (x_max-x_min)/nx_bacias\n",
    "y_step = (y_max-y_min)/ny_bacias\n",
    "for i in range(1, ny_bacias+1):\n",
    "    y_min_curr = (i-1)*y_step\n",
    "    y_max_curr = (i)*y_step\n",
    "    for j in range(1, nx_bacias+1):\n",
    "        x_min_curr = (j-1)*x_step\n",
    "        x_max_curr = j*x_step\n",
    "        count += 1\n",
    "        bacias[\"Bacia\"+str(count)] = {}\n",
    "        bacias[\"Bacia\"+str(count)]['Coordenadas'] = ((x_min_curr, x_max_curr),(y_min_curr, y_max_curr))\n",
    "        bacias[\"Bacia\"+str(count)]['Maturidade'] = np.random.choice(estrategias)\n",
    "        bacias[\"Bacia\"+str(count)]['Qualidade do dado'] = np.random.choice(qualidades_dado)\n",
    "        grid[int(x_min_curr):int(x_max_curr), int(y_min_curr):int(y_max_curr)] = count"
   ]
  },
  {
   "cell_type": "code",
   "execution_count": 7,
   "metadata": {},
   "outputs": [
    {
     "data": {
      "text/plain": [
       "{'Bacia1': {'Coordenadas': ((0.0, 33.333333333333336),\n",
       "   (0.0, 33.333333333333336)),\n",
       "  'Maturidade': 'Nova fronteira',\n",
       "  'Qualidade do dado': 'Qualidade razoável'},\n",
       " 'Bacia2': {'Coordenadas': ((33.333333333333336, 66.66666666666667),\n",
       "   (0.0, 33.333333333333336)),\n",
       "  'Maturidade': 'Estrutura pronta',\n",
       "  'Qualidade do dado': 'Qualidade baixa'},\n",
       " 'Bacia3': {'Coordenadas': ((66.66666666666667, 100.0),\n",
       "   (0.0, 33.333333333333336)),\n",
       "  'Maturidade': 'Estrutura em construção',\n",
       "  'Qualidade do dado': 'Qualidade baixa'},\n",
       " 'Bacia4': {'Coordenadas': ((0.0, 33.333333333333336),\n",
       "   (33.333333333333336, 66.66666666666667)),\n",
       "  'Maturidade': 'Estrutura em construção',\n",
       "  'Qualidade do dado': 'Qualidade razoável'},\n",
       " 'Bacia5': {'Coordenadas': ((33.333333333333336, 66.66666666666667),\n",
       "   (33.333333333333336, 66.66666666666667)),\n",
       "  'Maturidade': 'Estrutura em construção',\n",
       "  'Qualidade do dado': 'Qualidade razoável'},\n",
       " 'Bacia6': {'Coordenadas': ((66.66666666666667, 100.0),\n",
       "   (33.333333333333336, 66.66666666666667)),\n",
       "  'Maturidade': 'Estrutura pronta',\n",
       "  'Qualidade do dado': 'Qualidade baixa'},\n",
       " 'Bacia7': {'Coordenadas': ((0.0, 33.333333333333336),\n",
       "   (66.66666666666667, 100.0)),\n",
       "  'Maturidade': 'Nova fronteira',\n",
       "  'Qualidade do dado': 'Qualidade baixa'},\n",
       " 'Bacia8': {'Coordenadas': ((33.333333333333336, 66.66666666666667),\n",
       "   (66.66666666666667, 100.0)),\n",
       "  'Maturidade': 'Estrutura pronta',\n",
       "  'Qualidade do dado': 'Qualidade alta'},\n",
       " 'Bacia9': {'Coordenadas': ((66.66666666666667, 100.0),\n",
       "   (66.66666666666667, 100.0)),\n",
       "  'Maturidade': 'Nova fronteira',\n",
       "  'Qualidade do dado': 'Qualidade razoável'}}"
      ]
     },
     "execution_count": 7,
     "metadata": {},
     "output_type": "execute_result"
    }
   ],
   "source": [
    "bacias"
   ]
  },
  {
   "cell_type": "code",
   "execution_count": 8,
   "metadata": {},
   "outputs": [
    {
     "data": {
      "text/plain": [
       "dict_keys(['magma', 'inferno', 'plasma', 'viridis', 'cividis', 'twilight', 'twilight_shifted', 'Blues', 'BrBG', 'BuGn', 'BuPu', 'CMRmap', 'GnBu', 'Greens', 'Greys', 'OrRd', 'Oranges', 'PRGn', 'PiYG', 'PuBu', 'PuBuGn', 'PuOr', 'PuRd', 'Purples', 'RdBu', 'RdGy', 'RdPu', 'RdYlBu', 'RdYlGn', 'Reds', 'Spectral', 'Wistia', 'YlGn', 'YlGnBu', 'YlOrBr', 'YlOrRd', 'afmhot', 'autumn', 'binary', 'bone', 'brg', 'bwr', 'cool', 'coolwarm', 'copper', 'cubehelix', 'flag', 'gist_earth', 'gist_gray', 'gist_heat', 'gist_ncar', 'gist_rainbow', 'gist_stern', 'gist_yarg', 'gnuplot', 'gnuplot2', 'gray', 'hot', 'hsv', 'jet', 'nipy_spectral', 'ocean', 'pink', 'prism', 'rainbow', 'seismic', 'spring', 'summer', 'terrain', 'winter', 'Accent', 'Dark2', 'Paired', 'Pastel1', 'Pastel2', 'Set1', 'Set2', 'Set3', 'tab10', 'tab20', 'tab20b', 'tab20c', 'magma_r', 'inferno_r', 'plasma_r', 'viridis_r', 'cividis_r', 'twilight_r', 'twilight_shifted_r', 'Blues_r', 'BrBG_r', 'BuGn_r', 'BuPu_r', 'CMRmap_r', 'GnBu_r', 'Greens_r', 'Greys_r', 'OrRd_r', 'Oranges_r', 'PRGn_r', 'PiYG_r', 'PuBu_r', 'PuBuGn_r', 'PuOr_r', 'PuRd_r', 'Purples_r', 'RdBu_r', 'RdGy_r', 'RdPu_r', 'RdYlBu_r', 'RdYlGn_r', 'Reds_r', 'Spectral_r', 'Wistia_r', 'YlGn_r', 'YlGnBu_r', 'YlOrBr_r', 'YlOrRd_r', 'afmhot_r', 'autumn_r', 'binary_r', 'bone_r', 'brg_r', 'bwr_r', 'cool_r', 'coolwarm_r', 'copper_r', 'cubehelix_r', 'flag_r', 'gist_earth_r', 'gist_gray_r', 'gist_heat_r', 'gist_ncar_r', 'gist_rainbow_r', 'gist_stern_r', 'gist_yarg_r', 'gnuplot_r', 'gnuplot2_r', 'gray_r', 'hot_r', 'hsv_r', 'jet_r', 'nipy_spectral_r', 'ocean_r', 'pink_r', 'prism_r', 'rainbow_r', 'seismic_r', 'spring_r', 'summer_r', 'terrain_r', 'winter_r', 'Accent_r', 'Dark2_r', 'Paired_r', 'Pastel1_r', 'Pastel2_r', 'Set1_r', 'Set2_r', 'Set3_r', 'tab10_r', 'tab20_r', 'tab20b_r', 'tab20c_r'])"
      ]
     },
     "execution_count": 8,
     "metadata": {},
     "output_type": "execute_result"
    }
   ],
   "source": [
    "colormap_dict = cm.cmap_d.keys()\n",
    "colormap_dict"
   ]
  },
  {
   "cell_type": "code",
   "execution_count": 9,
   "metadata": {},
   "outputs": [],
   "source": [
    "colormap = cm.inferno"
   ]
  },
  {
   "cell_type": "code",
   "execution_count": 10,
   "metadata": {},
   "outputs": [
    {
     "data": {
      "text/plain": [
       "<matplotlib.collections.QuadMesh at 0x7f80e6057f40>"
      ]
     },
     "execution_count": 10,
     "metadata": {},
     "output_type": "execute_result"
    },
    {
     "data": {
      "image/png": "[encoded data removed]",
      "text/plain": [
       "<Figure size 504x504 with 1 Axes>"
      ]
     },
     "metadata": {
      "needs_background": "light"
     },
     "output_type": "display_data"
    }
   ],
   "source": [
    "plt.figure(figsize=(7, 7))\n",
    "plt.pcolormesh(grid, alpha=0.5, cmap=colormap)"
   ]
  },
  {
   "cell_type": "markdown",
   "metadata": {},
   "source": [
    "## Criando projetos"
   ]
  },
  {
   "cell_type": "code",
   "execution_count": 11,
   "metadata": {},
   "outputs": [],
   "source": [
    "n_plays = 10\n",
    "plays = ['Play '+str(i) for i in range(1, n_plays+1)]"
   ]
  },
  {
   "cell_type": "code",
   "execution_count": 12,
   "metadata": {},
   "outputs": [],
   "source": [
    "n_projetos = 300\n",
    "projetos = {}\n",
    "projetos['Coordenada x'] = []\n",
    "projetos['Coordenada y'] = []\n",
    "projetos['Bacia'] = []\n",
    "projetos['Nome'] = []\n",
    "projetos['Maturidade bacia'] = []\n",
    "projetos['Qualidade do dado'] = []\n",
    "projetos['Play'] = []\n",
    "\n",
    "for i in range(n_projetos):\n",
    "    \n",
    "    # primeiro, sortear uma bacia\n",
    "    bacia = np.random.choice(list(bacias.keys()))\n",
    "    \n",
    "    # não permitir coordenadas nas bordas das bacias\n",
    "    fator = 0.8\n",
    "    x_min_curr, x_max_curr = bacias[bacia]['Coordenadas'][0]\n",
    "    y_min_curr, y_max_curr = bacias[bacia]['Coordenadas'][1]\n",
    "    \n",
    "    x_proj, y_proj = (np.random.uniform(x_min_curr + x_step*(1-fator), x_max_curr - x_step*(1-fator)), \n",
    "                      np.random.uniform(y_min_curr + y_step*(1-fator), y_max_curr - y_step*(1-fator)))\n",
    "    \n",
    "    projetos['Nome'].append(\"Projeto \" + str(i+1))\n",
    "    projetos['Bacia'].append(bacia)\n",
    "    projetos['Coordenada x'].append(x_proj)\n",
    "    projetos['Coordenada y'].append(y_proj)\n",
    "    projetos['Maturidade bacia'].append(bacias[bacia]['Maturidade'])\n",
    "    projetos['Qualidade do dado'].append(bacias[bacia]['Qualidade do dado'])\n",
    "    projetos['Play'].append(np.random.choice(plays))"
   ]
  },
  {
   "cell_type": "code",
   "execution_count": 13,
   "metadata": {},
   "outputs": [
    {
     "data": {
      "text/plain": [
       "<matplotlib.collections.PathCollection at 0x7f80e604cfa0>"
      ]
     },
     "execution_count": 13,
     "metadata": {},
     "output_type": "execute_result"
    },
    {
     "data": {
      "image/png": "[encoded data removed]",
      "text/plain": [
       "<Figure size 432x288 with 1 Axes>"
      ]
     },
     "metadata": {
      "needs_background": "light"
     },
     "output_type": "display_data"
    }
   ],
   "source": [
    "plt.scatter(projetos['Coordenada x'], projetos['Coordenada y'])"
   ]
  },
  {
   "cell_type": "code",
   "execution_count": 14,
   "metadata": {},
   "outputs": [
    {
     "data": {
      "image/png": "[encoded data removed]",
      "text/plain": [
       "<Figure size 504x504 with 1 Axes>"
      ]
     },
     "metadata": {
      "needs_background": "light"
     },
     "output_type": "display_data"
    }
   ],
   "source": [
    "fig = plt.figure(figsize=(7, 7), frameon=False)\n",
    "\n",
    "im1 = plt.pcolormesh(grid, alpha=0.5, cmap=colormap)\n",
    "im2 = plt.scatter(projetos['Coordenada x'], projetos['Coordenada y'], color=(0.1, 0.8, 0.8), s=50, marker='*')\n",
    "\n",
    "plt.show()"
   ]
  },
  {
   "cell_type": "code",
   "execution_count": 15,
   "metadata": {},
   "outputs": [],
   "source": [
    "proj_df = pd.DataFrame(projetos)"
   ]
  },
  {
   "cell_type": "code",
   "execution_count": 16,
   "metadata": {
    "scrolled": true
   },
   "outputs": [
    {
     "data": {
      "text/html": [
       "<div>\n",
       "<style scoped>\n",
       "    .dataframe tbody tr th:only-of-type {\n",
       "        vertical-align: middle;\n",
       "    }\n",
       "\n",
       "    .dataframe tbody tr th {\n",
       "        vertical-align: top;\n",
       "    }\n",
       "\n",
       "    .dataframe thead th {\n",
       "        text-align: right;\n",
       "    }\n",
       "</style>\n",
       "<table border=\"1\" class=\"dataframe\">\n",
       "  <thead>\n",
       "    <tr style=\"text-align: right;\">\n",
       "      <th></th>\n",
       "      <th>Coordenada x</th>\n",
       "      <th>Coordenada y</th>\n",
       "      <th>Bacia</th>\n",
       "      <th>Nome</th>\n",
       "      <th>Maturidade bacia</th>\n",
       "      <th>Qualidade do dado</th>\n",
       "      <th>Play</th>\n",
       "    </tr>\n",
       "  </thead>\n",
       "  <tbody>\n",
       "    <tr>\n",
       "      <th>0</th>\n",
       "      <td>88.883448</td>\n",
       "      <td>80.055862</td>\n",
       "      <td>Bacia9</td>\n",
       "      <td>Projeto 1</td>\n",
       "      <td>Nova fronteira</td>\n",
       "      <td>Qualidade razoável</td>\n",
       "      <td>Play 2</td>\n",
       "    </tr>\n",
       "    <tr>\n",
       "      <th>1</th>\n",
       "      <td>16.572381</td>\n",
       "      <td>44.580512</td>\n",
       "      <td>Bacia4</td>\n",
       "      <td>Projeto 2</td>\n",
       "      <td>Estrutura em construção</td>\n",
       "      <td>Qualidade razoável</td>\n",
       "      <td>Play 2</td>\n",
       "    </tr>\n",
       "    <tr>\n",
       "      <th>2</th>\n",
       "      <td>78.247171</td>\n",
       "      <td>10.243562</td>\n",
       "      <td>Bacia3</td>\n",
       "      <td>Projeto 3</td>\n",
       "      <td>Estrutura em construção</td>\n",
       "      <td>Qualidade baixa</td>\n",
       "      <td>Play 8</td>\n",
       "    </tr>\n",
       "    <tr>\n",
       "      <th>3</th>\n",
       "      <td>40.155509</td>\n",
       "      <td>74.558282</td>\n",
       "      <td>Bacia8</td>\n",
       "      <td>Projeto 4</td>\n",
       "      <td>Estrutura pronta</td>\n",
       "      <td>Qualidade alta</td>\n",
       "      <td>Play 8</td>\n",
       "    </tr>\n",
       "    <tr>\n",
       "      <th>4</th>\n",
       "      <td>6.726483</td>\n",
       "      <td>45.119771</td>\n",
       "      <td>Bacia4</td>\n",
       "      <td>Projeto 5</td>\n",
       "      <td>Estrutura em construção</td>\n",
       "      <td>Qualidade razoável</td>\n",
       "      <td>Play 8</td>\n",
       "    </tr>\n",
       "    <tr>\n",
       "      <th>...</th>\n",
       "      <td>...</td>\n",
       "      <td>...</td>\n",
       "      <td>...</td>\n",
       "      <td>...</td>\n",
       "      <td>...</td>\n",
       "      <td>...</td>\n",
       "      <td>...</td>\n",
       "    </tr>\n",
       "    <tr>\n",
       "      <th>295</th>\n",
       "      <td>87.712580</td>\n",
       "      <td>48.251175</td>\n",
       "      <td>Bacia6</td>\n",
       "      <td>Projeto 296</td>\n",
       "      <td>Estrutura pronta</td>\n",
       "      <td>Qualidade baixa</td>\n",
       "      <td>Play 2</td>\n",
       "    </tr>\n",
       "    <tr>\n",
       "      <th>296</th>\n",
       "      <td>89.024217</td>\n",
       "      <td>54.001200</td>\n",
       "      <td>Bacia6</td>\n",
       "      <td>Projeto 297</td>\n",
       "      <td>Estrutura pronta</td>\n",
       "      <td>Qualidade baixa</td>\n",
       "      <td>Play 10</td>\n",
       "    </tr>\n",
       "    <tr>\n",
       "      <th>297</th>\n",
       "      <td>81.974275</td>\n",
       "      <td>43.439030</td>\n",
       "      <td>Bacia6</td>\n",
       "      <td>Projeto 298</td>\n",
       "      <td>Estrutura pronta</td>\n",
       "      <td>Qualidade baixa</td>\n",
       "      <td>Play 5</td>\n",
       "    </tr>\n",
       "    <tr>\n",
       "      <th>298</th>\n",
       "      <td>91.735194</td>\n",
       "      <td>87.009178</td>\n",
       "      <td>Bacia9</td>\n",
       "      <td>Projeto 299</td>\n",
       "      <td>Nova fronteira</td>\n",
       "      <td>Qualidade razoável</td>\n",
       "      <td>Play 8</td>\n",
       "    </tr>\n",
       "    <tr>\n",
       "      <th>299</th>\n",
       "      <td>14.474996</td>\n",
       "      <td>16.427429</td>\n",
       "      <td>Bacia1</td>\n",
       "      <td>Projeto 300</td>\n",
       "      <td>Nova fronteira</td>\n",
       "      <td>Qualidade razoável</td>\n",
       "      <td>Play 3</td>\n",
       "    </tr>\n",
       "  </tbody>\n",
       "</table>\n",
       "<p>300 rows × 7 columns</p>\n",
       "</div>"
      ],
      "text/plain": [
       "     Coordenada x  Coordenada y   Bacia         Nome         Maturidade bacia  \\\n",
       "0       88.883448     80.055862  Bacia9    Projeto 1           Nova fronteira   \n",
       "1       16.572381     44.580512  Bacia4    Projeto 2  Estrutura em construção   \n",
       "2       78.247171     10.243562  Bacia3    Projeto 3  Estrutura em construção   \n",
       "3       40.155509     74.558282  Bacia8    Projeto 4         Estrutura pronta   \n",
       "4        6.726483     45.119771  Bacia4    Projeto 5  Estrutura em construção   \n",
       "..            ...           ...     ...          ...                      ...   \n",
       "295     87.712580     48.251175  Bacia6  Projeto 296         Estrutura pronta   \n",
       "296     89.024217     54.001200  Bacia6  Projeto 297         Estrutura pronta   \n",
       "297     81.974275     43.439030  Bacia6  Projeto 298         Estrutura pronta   \n",
       "298     91.735194     87.009178  Bacia9  Projeto 299           Nova fronteira   \n",
       "299     14.474996     16.427429  Bacia1  Projeto 300           Nova fronteira   \n",
       "\n",
       "      Qualidade do dado     Play  \n",
       "0    Qualidade razoável   Play 2  \n",
       "1    Qualidade razoável   Play 2  \n",
       "2       Qualidade baixa   Play 8  \n",
       "3        Qualidade alta   Play 8  \n",
       "4    Qualidade razoável   Play 8  \n",
       "..                  ...      ...  \n",
       "295     Qualidade baixa   Play 2  \n",
       "296     Qualidade baixa  Play 10  \n",
       "297     Qualidade baixa   Play 5  \n",
       "298  Qualidade razoável   Play 8  \n",
       "299  Qualidade razoável   Play 3  \n",
       "\n",
       "[300 rows x 7 columns]"
      ]
     },
     "execution_count": 16,
     "metadata": {},
     "output_type": "execute_result"
    }
   ],
   "source": [
    "proj_df"
   ]
  },
  {
   "cell_type": "code",
   "execution_count": 17,
   "metadata": {},
   "outputs": [
    {
     "data": {
      "text/plain": [
       "(array(['Bacia9', 'Bacia4', 'Bacia3', 'Bacia8', 'Bacia5', 'Bacia2',\n",
       "        'Bacia1', 'Bacia7', 'Bacia6'], dtype=object),\n",
       " array(['Nova fronteira', 'Estrutura em construção', 'Estrutura pronta'],\n",
       "       dtype=object),\n",
       " array(['Qualidade razoável', 'Qualidade baixa', 'Qualidade alta'],\n",
       "       dtype=object),\n",
       " array(['Play 2', 'Play 8', 'Play 4', 'Play 5', 'Play 3', 'Play 10',\n",
       "        'Play 1', 'Play 6', 'Play 9', 'Play 7'], dtype=object))"
      ]
     },
     "execution_count": 17,
     "metadata": {},
     "output_type": "execute_result"
    }
   ],
   "source": [
    "proj_df['Bacia'].unique(), proj_df['Maturidade bacia'].unique(), proj_df['Qualidade do dado'].unique(), proj_df['Play'].unique()"
   ]
  },
  {
   "cell_type": "markdown",
   "metadata": {},
   "source": [
    "## Soterramento, parâmetros volumétricos e risco"
   ]
  },
  {
   "cell_type": "code",
   "execution_count": 18,
   "metadata": {},
   "outputs": [],
   "source": [
    "incerteza_p10p90 = {'Qualidade alta': 2,\n",
    "                    'Qualidade razoável': 3,\n",
    "                    'Qualidade baixa': 4}"
   ]
  },
  {
   "cell_type": "code",
   "execution_count": 19,
   "metadata": {},
   "outputs": [],
   "source": [
    "soterramento_range = (1000., 5000.)\n",
    "\n",
    "pcgna_range = (0., 1.)\n",
    "\n",
    "area_range = (20., 200.)\n",
    "netpay_range = (5., 100.)\n",
    "phi_range = (0.10, 0.32)\n",
    "trapfill_range = (0.5, 1.)\n",
    "shc_range = (0.5, 1.)\n",
    "bo_range = (1.4, 1.9)\n",
    "bg_range = (0.002, 0.004)\n",
    "rgo_range = (150, 250)\n",
    "rlg_range = (0.1, 0.15)\n",
    "froleo_range = (0.15, 0.25)\n",
    "frga_range = (0.15, 0.25)\n",
    "frgna_range = (0.15, 0.25)"
   ]
  },
  {
   "cell_type": "code",
   "execution_count": 20,
   "metadata": {},
   "outputs": [],
   "source": [
    "plays_completo = {}\n",
    "for p in plays:\n",
    "    plays_completo[copy.copy(p)] = {}\n",
    "    \n",
    "    plays_completo[copy.copy(p)]['Soterramento'] = np.random.uniform(soterramento_range[0], soterramento_range[1], 2)\n",
    "    plays_completo[copy.copy(p)]['pcgna'] = np.random.uniform(pcgna_range[0], pcgna_range[1], 2)\n",
    "    plays_completo[copy.copy(p)]['area'] = np.random.uniform(area_range[0], area_range[1], 2)\n",
    "    plays_completo[copy.copy(p)]['netpay'] = np.random.uniform(netpay_range[0], netpay_range[1], 2)\n",
    "    plays_completo[copy.copy(p)]['phi'] = np.random.uniform(phi_range[0], phi_range[1], 2)\n",
    "    plays_completo[copy.copy(p)]['trapfill'] = np.random.uniform(trapfill_range[0], trapfill_range[1], 2)\n",
    "    plays_completo[copy.copy(p)]['shc'] = np.random.uniform(shc_range[0], shc_range[1], 2)\n",
    "    plays_completo[copy.copy(p)]['bo'] = np.random.uniform(bo_range[0], bo_range[1], 2)\n",
    "    plays_completo[copy.copy(p)]['bg'] = np.random.uniform(bg_range[0], bg_range[1], 2)\n",
    "    plays_completo[copy.copy(p)]['rgo'] = np.random.uniform(rgo_range[0], rgo_range[1], 2)\n",
    "    plays_completo[copy.copy(p)]['rlg'] = np.random.uniform(rlg_range[0], rlg_range[1], 2)\n",
    "    plays_completo[copy.copy(p)]['froleo'] = np.random.uniform(froleo_range[0], froleo_range[1], 2)\n",
    "    plays_completo[copy.copy(p)]['frga'] = np.random.uniform(frga_range[0], frga_range[1], 2)\n",
    "    plays_completo[copy.copy(p)]['frgna'] = np.random.uniform(frgna_range[0], frgna_range[1], 2)"
   ]
  },
  {
   "cell_type": "code",
   "execution_count": 21,
   "metadata": {},
   "outputs": [
    {
     "data": {
      "text/plain": [
       "{'Play 1': {'Soterramento': array([1957.18377218, 1010.76506525]),\n",
       "  'pcgna': array([0.73327504, 0.10092399]),\n",
       "  'area': array([30.56061712, 95.26312757]),\n",
       "  'netpay': array([80.0022551 , 76.98606753]),\n",
       "  'phi': array([0.27151427, 0.27775797]),\n",
       "  'trapfill': array([0.68046387, 0.88403413]),\n",
       "  'shc': array([0.73418783, 0.91920694]),\n",
       "  'bo': array([1.49168945, 1.62638006]),\n",
       "  'bg': array([0.00262653, 0.00329918]),\n",
       "  'rgo': array([209.23162449, 218.82442522]),\n",
       "  'rlg': array([0.12898997, 0.12623256]),\n",
       "  'froleo': array([0.20904303, 0.18531627]),\n",
       "  'frga': array([0.20908722, 0.18679546]),\n",
       "  'frgna': array([0.16353729, 0.15133236])},\n",
       " 'Play 2': {'Soterramento': array([1436.07096567, 2978.78274065]),\n",
       "  'pcgna': array([0.9333308 , 0.22605561]),\n",
       "  'area': array([ 29.30498702, 160.84658727]),\n",
       "  'netpay': array([50.61169046, 18.39992394]),\n",
       "  'phi': array([0.30780172, 0.19837865]),\n",
       "  'trapfill': array([0.85880501, 0.90569023]),\n",
       "  'shc': array([0.91364738, 0.95659907]),\n",
       "  'bo': array([1.62558643, 1.73299685]),\n",
       "  'bg': array([0.00285646, 0.00299893]),\n",
       "  'rgo': array([166.72222145, 226.38839734]),\n",
       "  'rlg': array([0.13413919, 0.11179892]),\n",
       "  'froleo': array([0.24835148, 0.19291517]),\n",
       "  'frga': array([0.20873698, 0.17755575]),\n",
       "  'frgna': array([0.17245902, 0.19538807])},\n",
       " 'Play 3': {'Soterramento': array([4217.88399881, 3705.26532774]),\n",
       "  'pcgna': array([0.17459144, 0.3581893 ]),\n",
       "  'area': array([21.12019897, 96.56439968]),\n",
       "  'netpay': array([84.16178124, 33.45641224]),\n",
       "  'phi': array([0.18570552, 0.11711309]),\n",
       "  'trapfill': array([0.76253818, 0.83483547]),\n",
       "  'shc': array([0.9112086 , 0.79690213]),\n",
       "  'bo': array([1.58405427, 1.50595672]),\n",
       "  'bg': array([0.0025617 , 0.00217707]),\n",
       "  'rgo': array([175.44292746, 199.34714352]),\n",
       "  'rlg': array([0.13834583, 0.10622498]),\n",
       "  'froleo': array([0.19983015, 0.22250246]),\n",
       "  'frga': array([0.17491411, 0.23804604]),\n",
       "  'frgna': array([0.20753514, 0.18063095])},\n",
       " 'Play 4': {'Soterramento': array([4734.8928093 , 4478.06666365]),\n",
       "  'pcgna': array([0.45281573, 0.19120567]),\n",
       "  'area': array([25.85317048, 94.60307577]),\n",
       "  'netpay': array([20.2470243 , 81.73798492]),\n",
       "  'phi': array([0.28350164, 0.11387181]),\n",
       "  'trapfill': array([0.88634948, 0.93194386]),\n",
       "  'shc': array([0.62154839, 0.60602847]),\n",
       "  'bo': array([1.5846528 , 1.72726165]),\n",
       "  'bg': array([0.00285746, 0.00281509]),\n",
       "  'rgo': array([220.50105001, 221.845402  ]),\n",
       "  'rlg': array([0.10541403, 0.10662788]),\n",
       "  'froleo': array([0.24101402, 0.20480376]),\n",
       "  'frga': array([0.17853702, 0.24492356]),\n",
       "  'frgna': array([0.18643841, 0.1918883 ])},\n",
       " 'Play 5': {'Soterramento': array([2738.01473247, 4722.66084432]),\n",
       "  'pcgna': array([0.73993092, 0.65836842]),\n",
       "  'area': array([ 89.30707889, 139.84980326]),\n",
       "  'netpay': array([88.59424348, 88.01736685]),\n",
       "  'phi': array([0.25299597, 0.16104447]),\n",
       "  'trapfill': array([0.5395581 , 0.77812928]),\n",
       "  'shc': array([0.52463104, 0.96737695]),\n",
       "  'bo': array([1.82301724, 1.41878054]),\n",
       "  'bg': array([0.00389161, 0.00244716]),\n",
       "  'rgo': array([170.99321447, 171.76473563]),\n",
       "  'rlg': array([0.13469516, 0.13290331]),\n",
       "  'froleo': array([0.24441093, 0.16217798]),\n",
       "  'frga': array([0.17861807, 0.20540433]),\n",
       "  'frgna': array([0.18446983, 0.20391114])},\n",
       " 'Play 6': {'Soterramento': array([2525.79729207, 3989.45152899]),\n",
       "  'pcgna': array([0.88361923, 0.01371387]),\n",
       "  'area': array([165.49952284,  48.46288156]),\n",
       "  'netpay': array([75.48100429, 31.40666551]),\n",
       "  'phi': array([0.29465952, 0.13755426]),\n",
       "  'trapfill': array([0.83151177, 0.7398327 ]),\n",
       "  'shc': array([0.60501029, 0.58228488]),\n",
       "  'bo': array([1.40641998, 1.56395319]),\n",
       "  'bg': array([0.00285259, 0.00308571]),\n",
       "  'rgo': array([222.05225397, 249.82661753]),\n",
       "  'rlg': array([0.1122033 , 0.10459665]),\n",
       "  'froleo': array([0.22508518, 0.24263345]),\n",
       "  'frga': array([0.21329089, 0.22875129]),\n",
       "  'frgna': array([0.15839365, 0.15477351])},\n",
       " 'Play 7': {'Soterramento': array([3366.01872582, 2419.96869953]),\n",
       "  'pcgna': array([0.77145646, 0.85627339]),\n",
       "  'area': array([129.65517772,  88.64920165]),\n",
       "  'netpay': array([85.05898694, 75.31543554]),\n",
       "  'phi': array([0.27250422, 0.26298109]),\n",
       "  'trapfill': array([0.97876695, 0.70051824]),\n",
       "  'shc': array([0.84506465, 0.88450674]),\n",
       "  'bo': array([1.76704615, 1.81027779]),\n",
       "  'bg': array([0.00363036, 0.00328741]),\n",
       "  'rgo': array([209.33023408, 227.28748565]),\n",
       "  'rlg': array([0.11061886, 0.12349786]),\n",
       "  'froleo': array([0.15469992, 0.18309523]),\n",
       "  'frga': array([0.16707184, 0.23288018]),\n",
       "  'frgna': array([0.20477949, 0.16604641])},\n",
       " 'Play 8': {'Soterramento': array([3334.42406479, 3842.0598767 ]),\n",
       "  'pcgna': array([0.45739872, 0.8097422 ]),\n",
       "  'area': array([29.56478967, 47.0706052 ]),\n",
       "  'netpay': array([69.17957931, 35.72114839]),\n",
       "  'phi': array([0.1787975 , 0.19066689]),\n",
       "  'trapfill': array([0.96925484, 0.50507262]),\n",
       "  'shc': array([0.75937081, 0.70378573]),\n",
       "  'bo': array([1.80370517, 1.59211921]),\n",
       "  'bg': array([0.00274486, 0.00330866]),\n",
       "  'rgo': array([234.72933794, 205.7095032 ]),\n",
       "  'rlg': array([0.13671804, 0.11868046]),\n",
       "  'froleo': array([0.20873645, 0.24270827]),\n",
       "  'frga': array([0.15136152, 0.24114906]),\n",
       "  'frgna': array([0.17739491, 0.20908123])},\n",
       " 'Play 9': {'Soterramento': array([4363.91338934, 4743.76752487]),\n",
       "  'pcgna': array([0.72720803, 0.36337107]),\n",
       "  'area': array([134.66774571,  25.58163684]),\n",
       "  'netpay': array([ 9.62231465, 29.33572685]),\n",
       "  'phi': array([0.1771374 , 0.20108101]),\n",
       "  'trapfill': array([0.97231134, 0.67665366]),\n",
       "  'shc': array([0.65285457, 0.68913757]),\n",
       "  'bo': array([1.64253771, 1.83787294]),\n",
       "  'bg': array([0.00371319, 0.00382861]),\n",
       "  'rgo': array([196.76347712, 194.00185316]),\n",
       "  'rlg': array([0.13134327, 0.12897043]),\n",
       "  'froleo': array([0.18196615, 0.23444252]),\n",
       "  'frga': array([0.21410763, 0.21927826]),\n",
       "  'frgna': array([0.17569494, 0.18462878])},\n",
       " 'Play 10': {'Soterramento': array([4405.22582191, 4501.81187662]),\n",
       "  'pcgna': array([0.68523701, 0.29818387]),\n",
       "  'area': array([ 76.05542649, 176.58949123]),\n",
       "  'netpay': array([71.46388992,  8.29595444]),\n",
       "  'phi': array([0.24064663, 0.18372565]),\n",
       "  'trapfill': array([0.71154283, 0.86577195]),\n",
       "  'shc': array([0.58954163, 0.94071222]),\n",
       "  'bo': array([1.57490791, 1.73566102]),\n",
       "  'bg': array([0.00216559, 0.00300179]),\n",
       "  'rgo': array([205.62900452, 188.71711533]),\n",
       "  'rlg': array([0.14855274, 0.13611341]),\n",
       "  'froleo': array([0.19069208, 0.16098917]),\n",
       "  'frga': array([0.20449065, 0.21176588]),\n",
       "  'frgna': array([0.23990814, 0.20017804])}}"
      ]
     },
     "execution_count": 21,
     "metadata": {},
     "output_type": "execute_result"
    }
   ],
   "source": [
    "plays_completo"
   ]
  },
  {
   "cell_type": "code",
   "execution_count": null,
   "metadata": {},
   "outputs": [],
   "source": []
  },
  {
   "cell_type": "code",
   "execution_count": null,
   "metadata": {},
   "outputs": [],
   "source": []
  },
  {
   "cell_type": "code",
   "execution_count": null,
   "metadata": {},
   "outputs": [],
   "source": []
  }
 ],
 "metadata": {
  "kernelspec": {
   "display_name": "Python 3",
   "language": "python",
   "name": "python3"
  },
  "language_info": {
   "codemirror_mode": {
    "name": "ipython",
    "version": 3
   },
   "file_extension": ".py",
   "mimetype": "text/x-python",
   "name": "python",
   "nbconvert_exporter": "python",
   "pygments_lexer": "ipython3",
   "version": "3.8.3"
  }
 },
 "nbformat": 4,
 "nbformat_minor": 4
}
