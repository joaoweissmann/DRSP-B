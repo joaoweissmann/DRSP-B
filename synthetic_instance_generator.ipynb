{
 "cells": [
  {
   "cell_type": "markdown",
   "metadata": {},
   "source": [
    "# Gerador de instâncias sintéticas para o problema de otimização do mestrado"
   ]
  },
  {
   "cell_type": "markdown",
   "metadata": {},
   "source": [
    "### Etapas"
   ]
  },
  {
   "cell_type": "markdown",
   "metadata": {},
   "source": [
    "1. Dado um grid, sortear coordenada (x, y)\n",
    "\n",
    "1. Dada a coordenada, verificar bacia\n",
    "\n",
    "1. Pela bacia, temos a estratégia e a qualidade do dado\n",
    "\n",
    "1. Dada a bacia, escoolher um play disponível na bacia\n",
    "\n",
    "1. O play vai indicar se é arenito ou carbonato, range de soterramento, e distribuição dos parâmetros volumétricos\n",
    "\n",
    "1. O risco tem componentes regionais da bacia (geração), componentes do play (migração, retenção), e componentes individuais (geometria e reservatório).\n",
    "\n",
    "1. A PCGNA é indicada pelo play\n",
    "\n",
    "1. Simular volume geo, tec, ambos condicionais e incondicionais\n",
    "\n",
    "1. O custo do poço exploratório depende da bacia, estratégia e soterramento\n",
    "\n",
    "1. Cada bacia tem uma $f(vol) \\rightarrow VPL$\n",
    "\n",
    "1. Calcular distribuição de VPL e métricas de retorno (risco?)\n",
    "\n",
    "1. Atribuir contratos à cada parte da bacia com OEs: simular leilões?\n",
    "\n",
    "1. Tempo de excecução dos projetos é função do soterramento e estratégia"
   ]
  },
  {
   "cell_type": "markdown",
   "metadata": {},
   "source": [
    "## Importando bibliotecas"
   ]
  },
  {
   "cell_type": "code",
   "execution_count": 1,
   "metadata": {},
   "outputs": [],
   "source": [
    "import copy\n",
    "import numpy as np\n",
    "import matplotlib.pyplot as plt\n",
    "import pandas as pd\n",
    "\n",
    "%matplotlib inline"
   ]
  },
  {
   "cell_type": "markdown",
   "metadata": {},
   "source": [
    "## Definição do grid"
   ]
  },
  {
   "cell_type": "code",
   "execution_count": 2,
   "metadata": {},
   "outputs": [],
   "source": [
    "x_min, x_max = (0., 100.)\n",
    "y_min, y_max = (0., 100.)\n",
    "dx, dy = (1., 1.)\n",
    "grid = np.zeros(( int((y_max-y_min)/dy), int((x_max-x_min)/dx) ))"
   ]
  },
  {
   "cell_type": "code",
   "execution_count": 3,
   "metadata": {},
   "outputs": [
    {
     "data": {
      "text/plain": [
       "(100, 100)"
      ]
     },
     "execution_count": 3,
     "metadata": {},
     "output_type": "execute_result"
    }
   ],
   "source": [
    "grid.shape"
   ]
  },
  {
   "cell_type": "code",
   "execution_count": 4,
   "metadata": {},
   "outputs": [
    {
     "data": {
      "text/plain": [
       "<matplotlib.image.AxesImage at 0x7fe83f8ad910>"
      ]
     },
     "execution_count": 4,
     "metadata": {},
     "output_type": "execute_result"
    },
    {
     "data": {
      "image/png": "[encoded data removed]",
      "text/plain": [
       "<Figure size 432x288 with 1 Axes>"
      ]
     },
     "metadata": {
      "needs_background": "light"
     },
     "output_type": "display_data"
    }
   ],
   "source": [
    "plt.imshow(grid)"
   ]
  },
  {
   "cell_type": "code",
   "execution_count": 5,
   "metadata": {},
   "outputs": [],
   "source": [
    "nx_bacias = 3\n",
    "ny_bacias = 3\n",
    "bacias = {}\n",
    "count = 0\n",
    "x_step = (x_max-x_min)/nx_bacias\n",
    "y_step = (y_max-y_min)/ny_bacias\n",
    "for i in range(1, ny_bacias+1):\n",
    "    y_min_curr = (i-1)*y_step\n",
    "    y_max_curr = (i)*y_step\n",
    "    for j in range(1, nx_bacias+1):\n",
    "        x_min_curr = (j-1)*x_step\n",
    "        x_max_curr = j*x_step\n",
    "        count += 1\n",
    "        bacias[\"Bacia\"+str(count)] = ((x_min_curr, x_max_curr),(y_min_curr, y_max_curr))\n",
    "        grid[int(x_min_curr):int(x_max_curr), int(y_min_curr):int(y_max_curr)] = count"
   ]
  },
  {
   "cell_type": "code",
   "execution_count": 6,
   "metadata": {},
   "outputs": [
    {
     "data": {
      "text/plain": [
       "{'Bacia1': ((0.0, 33.333333333333336), (0.0, 33.333333333333336)),\n",
       " 'Bacia2': ((33.333333333333336, 66.66666666666667),\n",
       "  (0.0, 33.333333333333336)),\n",
       " 'Bacia3': ((66.66666666666667, 100.0), (0.0, 33.333333333333336)),\n",
       " 'Bacia4': ((0.0, 33.333333333333336),\n",
       "  (33.333333333333336, 66.66666666666667)),\n",
       " 'Bacia5': ((33.333333333333336, 66.66666666666667),\n",
       "  (33.333333333333336, 66.66666666666667)),\n",
       " 'Bacia6': ((66.66666666666667, 100.0),\n",
       "  (33.333333333333336, 66.66666666666667)),\n",
       " 'Bacia7': ((0.0, 33.333333333333336), (66.66666666666667, 100.0)),\n",
       " 'Bacia8': ((33.333333333333336, 66.66666666666667),\n",
       "  (66.66666666666667, 100.0)),\n",
       " 'Bacia9': ((66.66666666666667, 100.0), (66.66666666666667, 100.0))}"
      ]
     },
     "execution_count": 6,
     "metadata": {},
     "output_type": "execute_result"
    }
   ],
   "source": [
    "bacias"
   ]
  },
  {
   "cell_type": "code",
   "execution_count": 7,
   "metadata": {},
   "outputs": [
    {
     "data": {
      "text/plain": [
       "<matplotlib.collections.QuadMesh at 0x7fe83f8423a0>"
      ]
     },
     "execution_count": 7,
     "metadata": {},
     "output_type": "execute_result"
    },
    {
     "data": {
      "image/png": "[encoded data removed]",
      "text/plain": [
       "<Figure size 576x576 with 1 Axes>"
      ]
     },
     "metadata": {
      "needs_background": "light"
     },
     "output_type": "display_data"
    }
   ],
   "source": [
    "plt.figure(figsize=(8, 8))\n",
    "plt.pcolormesh(grid, alpha=0.5, cmap=None)"
   ]
  },
  {
   "cell_type": "code",
   "execution_count": 8,
   "metadata": {},
   "outputs": [],
   "source": [
    "n_projetos = 30\n",
    "projetos = {}\n",
    "projetos['Coordenada x'] = []\n",
    "projetos['Coordenada y'] = []\n",
    "projetos['Bacia'] = []\n",
    "projetos['Nome'] = []\n",
    "\n",
    "for i in range(n_projetos):\n",
    "    \n",
    "    # primeiro, sortear uma bacia\n",
    "    bacia = np.random.choice(list(bacias.keys()))\n",
    "    \n",
    "    # não permitir coordenadas nas bordas das bacias\n",
    "    fator = 1\n",
    "    x_min_curr, x_max_curr = bacias[bacia][0]\n",
    "    y_min_curr, y_max_curr = bacias[bacia][1]\n",
    "    \n",
    "    x_proj, y_proj = (np.random.uniform(x_min_curr*fator, x_max_curr*fator), \n",
    "                      np.random.uniform(y_min_curr*fator, y_max_curr*fator))\n",
    "    \n",
    "    projetos['Nome'].append(\"Projeto \" + str(i+1))\n",
    "    projetos['Bacia'].append(bacia)\n",
    "    projetos['Coordenada x'].append(x_proj)\n",
    "    projetos['Coordenada y'].append(y_proj)"
   ]
  },
  {
   "cell_type": "code",
   "execution_count": 9,
   "metadata": {},
   "outputs": [
    {
     "data": {
      "text/plain": [
       "<matplotlib.collections.PathCollection at 0x7fe83f79ae20>"
      ]
     },
     "execution_count": 9,
     "metadata": {},
     "output_type": "execute_result"
    },
    {
     "data": {
      "image/png": "[encoded data removed]",
      "text/plain": [
       "<Figure size 432x288 with 1 Axes>"
      ]
     },
     "metadata": {
      "needs_background": "light"
     },
     "output_type": "display_data"
    }
   ],
   "source": [
    "plt.scatter(projetos['Coordenada x'], projetos['Coordenada y'])"
   ]
  },
  {
   "cell_type": "code",
   "execution_count": 10,
   "metadata": {},
   "outputs": [
    {
     "data": {
      "image/png": "[encoded data removed]",
      "text/plain": [
       "<Figure size 504x504 with 1 Axes>"
      ]
     },
     "metadata": {
      "needs_background": "light"
     },
     "output_type": "display_data"
    }
   ],
   "source": [
    "fig = plt.figure(figsize=(7, 7), frameon=False)\n",
    "\n",
    "im1 = plt.pcolormesh(grid, alpha=0.5, cmap=None)\n",
    "im2 = plt.scatter(projetos['Coordenada x'], projetos['Coordenada y'], c='red', s=50, marker='*')\n",
    "\n",
    "plt.show()"
   ]
  },
  {
   "cell_type": "code",
   "execution_count": 11,
   "metadata": {},
   "outputs": [],
   "source": [
    "proj_df = pd.DataFrame(projetos)"
   ]
  },
  {
   "cell_type": "code",
   "execution_count": 12,
   "metadata": {
    "scrolled": true
   },
   "outputs": [
    {
     "data": {
      "text/html": [
       "<div>\n",
       "<style scoped>\n",
       "    .dataframe tbody tr th:only-of-type {\n",
       "        vertical-align: middle;\n",
       "    }\n",
       "\n",
       "    .dataframe tbody tr th {\n",
       "        vertical-align: top;\n",
       "    }\n",
       "\n",
       "    .dataframe thead th {\n",
       "        text-align: right;\n",
       "    }\n",
       "</style>\n",
       "<table border=\"1\" class=\"dataframe\">\n",
       "  <thead>\n",
       "    <tr style=\"text-align: right;\">\n",
       "      <th></th>\n",
       "      <th>Coordenada x</th>\n",
       "      <th>Coordenada y</th>\n",
       "      <th>Bacia</th>\n",
       "      <th>Nome</th>\n",
       "    </tr>\n",
       "  </thead>\n",
       "  <tbody>\n",
       "    <tr>\n",
       "      <th>0</th>\n",
       "      <td>17.503490</td>\n",
       "      <td>39.991798</td>\n",
       "      <td>Bacia4</td>\n",
       "      <td>Projeto 1</td>\n",
       "    </tr>\n",
       "    <tr>\n",
       "      <th>1</th>\n",
       "      <td>53.745864</td>\n",
       "      <td>77.861445</td>\n",
       "      <td>Bacia8</td>\n",
       "      <td>Projeto 2</td>\n",
       "    </tr>\n",
       "    <tr>\n",
       "      <th>2</th>\n",
       "      <td>32.417612</td>\n",
       "      <td>55.147469</td>\n",
       "      <td>Bacia4</td>\n",
       "      <td>Projeto 3</td>\n",
       "    </tr>\n",
       "    <tr>\n",
       "      <th>3</th>\n",
       "      <td>67.221864</td>\n",
       "      <td>56.225619</td>\n",
       "      <td>Bacia6</td>\n",
       "      <td>Projeto 4</td>\n",
       "    </tr>\n",
       "    <tr>\n",
       "      <th>4</th>\n",
       "      <td>2.807885</td>\n",
       "      <td>72.320857</td>\n",
       "      <td>Bacia7</td>\n",
       "      <td>Projeto 5</td>\n",
       "    </tr>\n",
       "    <tr>\n",
       "      <th>5</th>\n",
       "      <td>36.586194</td>\n",
       "      <td>81.087959</td>\n",
       "      <td>Bacia8</td>\n",
       "      <td>Projeto 6</td>\n",
       "    </tr>\n",
       "    <tr>\n",
       "      <th>6</th>\n",
       "      <td>24.610501</td>\n",
       "      <td>44.793757</td>\n",
       "      <td>Bacia4</td>\n",
       "      <td>Projeto 7</td>\n",
       "    </tr>\n",
       "    <tr>\n",
       "      <th>7</th>\n",
       "      <td>37.129962</td>\n",
       "      <td>63.548988</td>\n",
       "      <td>Bacia5</td>\n",
       "      <td>Projeto 8</td>\n",
       "    </tr>\n",
       "    <tr>\n",
       "      <th>8</th>\n",
       "      <td>40.908689</td>\n",
       "      <td>83.364527</td>\n",
       "      <td>Bacia8</td>\n",
       "      <td>Projeto 9</td>\n",
       "    </tr>\n",
       "    <tr>\n",
       "      <th>9</th>\n",
       "      <td>41.535784</td>\n",
       "      <td>9.623033</td>\n",
       "      <td>Bacia2</td>\n",
       "      <td>Projeto 10</td>\n",
       "    </tr>\n",
       "    <tr>\n",
       "      <th>10</th>\n",
       "      <td>51.426759</td>\n",
       "      <td>54.621621</td>\n",
       "      <td>Bacia5</td>\n",
       "      <td>Projeto 11</td>\n",
       "    </tr>\n",
       "    <tr>\n",
       "      <th>11</th>\n",
       "      <td>64.394664</td>\n",
       "      <td>39.450742</td>\n",
       "      <td>Bacia5</td>\n",
       "      <td>Projeto 12</td>\n",
       "    </tr>\n",
       "    <tr>\n",
       "      <th>12</th>\n",
       "      <td>22.341836</td>\n",
       "      <td>26.755665</td>\n",
       "      <td>Bacia1</td>\n",
       "      <td>Projeto 13</td>\n",
       "    </tr>\n",
       "    <tr>\n",
       "      <th>13</th>\n",
       "      <td>6.824996</td>\n",
       "      <td>12.672400</td>\n",
       "      <td>Bacia1</td>\n",
       "      <td>Projeto 14</td>\n",
       "    </tr>\n",
       "    <tr>\n",
       "      <th>14</th>\n",
       "      <td>93.904478</td>\n",
       "      <td>35.930721</td>\n",
       "      <td>Bacia6</td>\n",
       "      <td>Projeto 15</td>\n",
       "    </tr>\n",
       "    <tr>\n",
       "      <th>15</th>\n",
       "      <td>77.216964</td>\n",
       "      <td>44.694151</td>\n",
       "      <td>Bacia6</td>\n",
       "      <td>Projeto 16</td>\n",
       "    </tr>\n",
       "    <tr>\n",
       "      <th>16</th>\n",
       "      <td>18.260826</td>\n",
       "      <td>12.097412</td>\n",
       "      <td>Bacia1</td>\n",
       "      <td>Projeto 17</td>\n",
       "    </tr>\n",
       "    <tr>\n",
       "      <th>17</th>\n",
       "      <td>52.324868</td>\n",
       "      <td>23.858571</td>\n",
       "      <td>Bacia2</td>\n",
       "      <td>Projeto 18</td>\n",
       "    </tr>\n",
       "    <tr>\n",
       "      <th>18</th>\n",
       "      <td>43.819939</td>\n",
       "      <td>66.269733</td>\n",
       "      <td>Bacia5</td>\n",
       "      <td>Projeto 19</td>\n",
       "    </tr>\n",
       "    <tr>\n",
       "      <th>19</th>\n",
       "      <td>38.536403</td>\n",
       "      <td>51.320905</td>\n",
       "      <td>Bacia5</td>\n",
       "      <td>Projeto 20</td>\n",
       "    </tr>\n",
       "    <tr>\n",
       "      <th>20</th>\n",
       "      <td>67.829630</td>\n",
       "      <td>33.027356</td>\n",
       "      <td>Bacia3</td>\n",
       "      <td>Projeto 21</td>\n",
       "    </tr>\n",
       "    <tr>\n",
       "      <th>21</th>\n",
       "      <td>73.990995</td>\n",
       "      <td>8.244242</td>\n",
       "      <td>Bacia3</td>\n",
       "      <td>Projeto 22</td>\n",
       "    </tr>\n",
       "    <tr>\n",
       "      <th>22</th>\n",
       "      <td>0.409892</td>\n",
       "      <td>33.349484</td>\n",
       "      <td>Bacia4</td>\n",
       "      <td>Projeto 23</td>\n",
       "    </tr>\n",
       "    <tr>\n",
       "      <th>23</th>\n",
       "      <td>68.351144</td>\n",
       "      <td>84.524137</td>\n",
       "      <td>Bacia9</td>\n",
       "      <td>Projeto 24</td>\n",
       "    </tr>\n",
       "    <tr>\n",
       "      <th>24</th>\n",
       "      <td>32.330356</td>\n",
       "      <td>52.236225</td>\n",
       "      <td>Bacia4</td>\n",
       "      <td>Projeto 25</td>\n",
       "    </tr>\n",
       "    <tr>\n",
       "      <th>25</th>\n",
       "      <td>42.043225</td>\n",
       "      <td>36.361566</td>\n",
       "      <td>Bacia5</td>\n",
       "      <td>Projeto 26</td>\n",
       "    </tr>\n",
       "    <tr>\n",
       "      <th>26</th>\n",
       "      <td>32.046196</td>\n",
       "      <td>73.247710</td>\n",
       "      <td>Bacia7</td>\n",
       "      <td>Projeto 27</td>\n",
       "    </tr>\n",
       "    <tr>\n",
       "      <th>27</th>\n",
       "      <td>27.501066</td>\n",
       "      <td>27.052498</td>\n",
       "      <td>Bacia1</td>\n",
       "      <td>Projeto 28</td>\n",
       "    </tr>\n",
       "    <tr>\n",
       "      <th>28</th>\n",
       "      <td>39.293121</td>\n",
       "      <td>69.309113</td>\n",
       "      <td>Bacia8</td>\n",
       "      <td>Projeto 29</td>\n",
       "    </tr>\n",
       "    <tr>\n",
       "      <th>29</th>\n",
       "      <td>62.962422</td>\n",
       "      <td>55.475961</td>\n",
       "      <td>Bacia5</td>\n",
       "      <td>Projeto 30</td>\n",
       "    </tr>\n",
       "  </tbody>\n",
       "</table>\n",
       "</div>"
      ],
      "text/plain": [
       "    Coordenada x  Coordenada y   Bacia        Nome\n",
       "0      17.503490     39.991798  Bacia4   Projeto 1\n",
       "1      53.745864     77.861445  Bacia8   Projeto 2\n",
       "2      32.417612     55.147469  Bacia4   Projeto 3\n",
       "3      67.221864     56.225619  Bacia6   Projeto 4\n",
       "4       2.807885     72.320857  Bacia7   Projeto 5\n",
       "5      36.586194     81.087959  Bacia8   Projeto 6\n",
       "6      24.610501     44.793757  Bacia4   Projeto 7\n",
       "7      37.129962     63.548988  Bacia5   Projeto 8\n",
       "8      40.908689     83.364527  Bacia8   Projeto 9\n",
       "9      41.535784      9.623033  Bacia2  Projeto 10\n",
       "10     51.426759     54.621621  Bacia5  Projeto 11\n",
       "11     64.394664     39.450742  Bacia5  Projeto 12\n",
       "12     22.341836     26.755665  Bacia1  Projeto 13\n",
       "13      6.824996     12.672400  Bacia1  Projeto 14\n",
       "14     93.904478     35.930721  Bacia6  Projeto 15\n",
       "15     77.216964     44.694151  Bacia6  Projeto 16\n",
       "16     18.260826     12.097412  Bacia1  Projeto 17\n",
       "17     52.324868     23.858571  Bacia2  Projeto 18\n",
       "18     43.819939     66.269733  Bacia5  Projeto 19\n",
       "19     38.536403     51.320905  Bacia5  Projeto 20\n",
       "20     67.829630     33.027356  Bacia3  Projeto 21\n",
       "21     73.990995      8.244242  Bacia3  Projeto 22\n",
       "22      0.409892     33.349484  Bacia4  Projeto 23\n",
       "23     68.351144     84.524137  Bacia9  Projeto 24\n",
       "24     32.330356     52.236225  Bacia4  Projeto 25\n",
       "25     42.043225     36.361566  Bacia5  Projeto 26\n",
       "26     32.046196     73.247710  Bacia7  Projeto 27\n",
       "27     27.501066     27.052498  Bacia1  Projeto 28\n",
       "28     39.293121     69.309113  Bacia8  Projeto 29\n",
       "29     62.962422     55.475961  Bacia5  Projeto 30"
      ]
     },
     "execution_count": 12,
     "metadata": {},
     "output_type": "execute_result"
    }
   ],
   "source": [
    "proj_df"
   ]
  },
  {
   "cell_type": "code",
   "execution_count": null,
   "metadata": {},
   "outputs": [],
   "source": []
  }
 ],
 "metadata": {
  "kernelspec": {
   "display_name": "Python 3",
   "language": "python",
   "name": "python3"
  },
  "language_info": {
   "codemirror_mode": {
    "name": "ipython",
    "version": 3
   },
   "file_extension": ".py",
   "mimetype": "text/x-python",
   "name": "python",
   "nbconvert_exporter": "python",
   "pygments_lexer": "ipython3",
   "version": "3.8.3"
  }
 },
 "nbformat": 4,
 "nbformat_minor": 4
}
