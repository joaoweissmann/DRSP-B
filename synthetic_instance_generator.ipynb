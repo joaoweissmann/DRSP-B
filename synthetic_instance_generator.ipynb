{
 "cells": [
  {
   "cell_type": "markdown",
   "metadata": {},
   "source": [
    "# Gerador de instâncias sintéticas para o problema de otimização do mestrado"
   ]
  },
  {
   "cell_type": "markdown",
   "metadata": {},
   "source": [
    "### Etapas"
   ]
  },
  {
   "cell_type": "markdown",
   "metadata": {},
   "source": [
    "**Geral**\n",
    "\n",
    "1. Definir o grid\n",
    "\n",
    "1. Definir bacias geológicas\n",
    "\n",
    "1. Definir plays\n",
    "\n",
    "1. Definir quantidade de projetos\n",
    "\n",
    "**Para cada projeto:**\n",
    "\n",
    "1. Escolher uma bacia\n",
    "\n",
    "1. Sortear coordenada (x,y)\n",
    "\n",
    "1. Pela bacia, temos a estratégia e a qualidade do dado\n",
    "\n",
    "1. Dada a bacia, escolher um play\n",
    "\n",
    "1. O play vai indicar o range de soterramento, e distribuição dos parâmetros volumétricos\n",
    "\n",
    "1. O risco tem componentes regionais da bacia (geração), componentes do play (migração, retenção), e componentes individuais (geometria e reservatório).\n",
    "\n",
    "1. A PCGNA é indicada pelo play\n",
    "\n",
    "1. Simular volume geo, tec, ambos condicionais e incondicionais\n",
    "\n",
    "1. Cada bacia tem uma $f(vol) \\rightarrow VPL$\n",
    "\n",
    "1. Calcular distribuição de VPL e métricas de retorno (risco?)\n",
    "\n",
    "1. O custo do poço exploratório depende da bacia, estratégia e soterramento\n",
    "\n",
    "1. Tempo de excecução dos projetos é função do soterramento e estratégia\n",
    "\n",
    "1. Atribuir contratos à cada parte da bacia com OEs: simular leilões?"
   ]
  },
  {
   "cell_type": "markdown",
   "metadata": {},
   "source": [
    "# Setup da instância"
   ]
  },
  {
   "cell_type": "code",
   "execution_count": null,
   "metadata": {},
   "outputs": [],
   "source": [
    "n_plays = 10\n",
    "n_projetos = 190\n",
    "n_sondas = 10\n",
    "iteracoes = 1000\n",
    "t_init = 0\n",
    "t_final = 5*12*4*7\n",
    "delta_t = 1*7*4"
   ]
  },
  {
   "cell_type": "code",
   "execution_count": null,
   "metadata": {},
   "outputs": [],
   "source": [
    "estrategias = [1, 2, 3]\n",
    "qualidades_dado = [1, 2, 3]"
   ]
  },
  {
   "cell_type": "markdown",
   "metadata": {},
   "source": [
    "## Importando bibliotecas"
   ]
  },
  {
   "cell_type": "code",
   "execution_count": null,
   "metadata": {},
   "outputs": [],
   "source": [
    "import math\n",
    "import copy\n",
    "import numpy as np\n",
    "from scipy import stats\n",
    "import matplotlib.pyplot as plt\n",
    "import pandas as pd\n",
    "from matplotlib import cm\n",
    "\n",
    "%matplotlib inline"
   ]
  },
  {
   "cell_type": "markdown",
   "metadata": {},
   "source": [
    "## Definição do grid"
   ]
  },
  {
   "cell_type": "code",
   "execution_count": null,
   "metadata": {},
   "outputs": [],
   "source": [
    "x_min, x_max = (0., 100.)\n",
    "y_min, y_max = (0., 100.)\n",
    "dx, dy = (1., 1.)\n",
    "grid = np.zeros(( int((y_max-y_min)/dy), int((x_max-x_min)/dx) ))"
   ]
  },
  {
   "cell_type": "code",
   "execution_count": null,
   "metadata": {},
   "outputs": [],
   "source": [
    "grid.shape"
   ]
  },
  {
   "cell_type": "code",
   "execution_count": null,
   "metadata": {},
   "outputs": [],
   "source": [
    "plt.pcolormesh(grid, alpha=0.5)"
   ]
  },
  {
   "cell_type": "markdown",
   "metadata": {},
   "source": [
    "## Criando bacias geológicas"
   ]
  },
  {
   "cell_type": "code",
   "execution_count": null,
   "metadata": {},
   "outputs": [],
   "source": [
    "nx_bacias = 3\n",
    "ny_bacias = 3\n",
    "bacias = {}\n",
    "count = 0\n",
    "x_step = (x_max-x_min)/nx_bacias\n",
    "y_step = (y_max-y_min)/ny_bacias\n",
    "for i in range(1, ny_bacias+1):\n",
    "    y_min_curr = (i-1)*y_step\n",
    "    y_max_curr = (i)*y_step\n",
    "    for j in range(1, nx_bacias+1):\n",
    "        x_min_curr = (j-1)*x_step\n",
    "        x_max_curr = j*x_step\n",
    "        count += 1\n",
    "        bacias[count] = {}\n",
    "        bacias[count]['Coordenadas'] = ((x_min_curr, x_max_curr),(y_min_curr, y_max_curr))\n",
    "        bacias[count]['Maturidade'] = np.random.choice(estrategias)\n",
    "        bacias[count]['Qualidade do dado'] = np.random.choice(qualidades_dado)\n",
    "        grid[int(x_min_curr):int(x_max_curr), int(y_min_curr):int(y_max_curr)] = count"
   ]
  },
  {
   "cell_type": "code",
   "execution_count": null,
   "metadata": {},
   "outputs": [],
   "source": [
    "bacias"
   ]
  },
  {
   "cell_type": "code",
   "execution_count": null,
   "metadata": {},
   "outputs": [],
   "source": [
    "colormap_dict = cm.cmap_d.keys()\n",
    "colormap_dict"
   ]
  },
  {
   "cell_type": "code",
   "execution_count": null,
   "metadata": {},
   "outputs": [],
   "source": [
    "colormap = cm.inferno\n",
    "plt.figure(figsize=(7, 7))\n",
    "plt.pcolormesh(grid, alpha=0.5, cmap=colormap)"
   ]
  },
  {
   "cell_type": "markdown",
   "metadata": {},
   "source": [
    "## Criando projetos"
   ]
  },
  {
   "cell_type": "code",
   "execution_count": null,
   "metadata": {},
   "outputs": [],
   "source": [
    "plays = [i for i in range(1, n_plays+1)]"
   ]
  },
  {
   "cell_type": "code",
   "execution_count": null,
   "metadata": {},
   "outputs": [],
   "source": [
    "projetos = {}\n",
    "projetos['Coordenada x'] = []\n",
    "projetos['Coordenada y'] = []\n",
    "projetos['Bacia'] = []\n",
    "projetos['Nome'] = []\n",
    "projetos['Maturidade bacia'] = []\n",
    "projetos['Qualidade do dado'] = []\n",
    "projetos['Play'] = []\n",
    "\n",
    "for i in range(n_projetos):\n",
    "    \n",
    "    # primeiro, sortear uma bacia\n",
    "    bacia = np.random.choice(list(bacias.keys()))\n",
    "    \n",
    "    # não permitir coordenadas nas bordas das bacias\n",
    "    fator = 0.8\n",
    "    x_min_curr, x_max_curr = bacias[bacia]['Coordenadas'][0]\n",
    "    y_min_curr, y_max_curr = bacias[bacia]['Coordenadas'][1]\n",
    "    \n",
    "    x_proj, y_proj = (np.random.uniform(x_min_curr + x_step*(1-fator), x_max_curr - x_step*(1-fator)), \n",
    "                      np.random.uniform(y_min_curr + y_step*(1-fator), y_max_curr - y_step*(1-fator)))\n",
    "    \n",
    "    projetos['Nome'].append(i+1)\n",
    "    projetos['Bacia'].append(bacia)\n",
    "    projetos['Coordenada x'].append(x_proj)\n",
    "    projetos['Coordenada y'].append(y_proj)\n",
    "    projetos['Maturidade bacia'].append(bacias[bacia]['Maturidade'])\n",
    "    projetos['Qualidade do dado'].append(bacias[bacia]['Qualidade do dado'])\n",
    "    projetos['Play'].append(np.random.choice(plays))"
   ]
  },
  {
   "cell_type": "code",
   "execution_count": null,
   "metadata": {},
   "outputs": [],
   "source": [
    "plt.scatter(projetos['Coordenada x'], projetos['Coordenada y'])"
   ]
  },
  {
   "cell_type": "code",
   "execution_count": null,
   "metadata": {},
   "outputs": [],
   "source": [
    "fig = plt.figure(figsize=(7, 7), frameon=False)\n",
    "\n",
    "im1 = plt.pcolormesh(grid, alpha=0.5, cmap=colormap)\n",
    "im2 = plt.scatter(projetos['Coordenada x'], projetos['Coordenada y'], color=(0.1, 0.8, 0.8), s=50, marker='*')\n",
    "\n",
    "plt.show()"
   ]
  },
  {
   "cell_type": "code",
   "execution_count": null,
   "metadata": {},
   "outputs": [],
   "source": [
    "proj_df = pd.DataFrame(projetos)"
   ]
  },
  {
   "cell_type": "code",
   "execution_count": null,
   "metadata": {
    "scrolled": true
   },
   "outputs": [],
   "source": [
    "proj_df"
   ]
  },
  {
   "cell_type": "code",
   "execution_count": null,
   "metadata": {},
   "outputs": [],
   "source": [
    "proj_df['Bacia'].unique(), proj_df['Maturidade bacia'].unique(), proj_df['Qualidade do dado'].unique(), proj_df['Play'].unique()"
   ]
  },
  {
   "cell_type": "markdown",
   "metadata": {},
   "source": [
    "## Definindo parâmetros volumétricos e risco geológico"
   ]
  },
  {
   "cell_type": "code",
   "execution_count": null,
   "metadata": {},
   "outputs": [],
   "source": [
    "soterramento_range = (1000., 5000.)\n",
    "\n",
    "pcgna_range = (0., 1.)\n",
    "\n",
    "area_range = (20., 200.)\n",
    "netpay_range = (5., 100.)\n",
    "phi_range = (0.10, 0.32)\n",
    "trapfill_range = (0.5, 1.)\n",
    "shc_range = (0.5, 1.)\n",
    "bo_range = (1.4, 1.9)\n",
    "bg_range = (0.002, 0.004)\n",
    "rgo_range = (150, 250)\n",
    "rlg_range = (0.1, 0.15)\n",
    "froleo_range = (0.15, 0.25)\n",
    "frga_range = (0.15, 0.25)\n",
    "frgna_range = (0.15, 0.25)\n",
    "frcond_range = (0.15, 0.25)"
   ]
  },
  {
   "cell_type": "markdown",
   "metadata": {},
   "source": [
    "### TODO: colocar correlação nas variáveis aleatórias"
   ]
  },
  {
   "cell_type": "code",
   "execution_count": null,
   "metadata": {},
   "outputs": [],
   "source": [
    "plays_completo = {}\n",
    "for p in plays:\n",
    "    plays_completo[copy.copy(p)] = {}\n",
    "    \n",
    "    loc, scale = soterramento_range[0], soterramento_range[1]-soterramento_range[0]\n",
    "    plays_completo[copy.copy(p)]['Soterramento'] = stats.uniform(loc, scale).rvs(2)\n",
    "    \n",
    "    loc, scale = pcgna_range[0], pcgna_range[1] - pcgna_range[0]\n",
    "    plays_completo[copy.copy(p)]['pcgna'] = stats.uniform(loc, scale).rvs(2)\n",
    "    \n",
    "    loc, scale = area_range[0], area_range[1] - area_range[0]\n",
    "    plays_completo[copy.copy(p)]['area'] = stats.uniform(loc, scale).rvs(2)\n",
    "    \n",
    "    loc, scale = netpay_range[0], netpay_range[1] - netpay_range[0]\n",
    "    plays_completo[copy.copy(p)]['netpay'] = stats.uniform(loc, scale).rvs(2)\n",
    "    \n",
    "    loc, scale = phi_range[0], phi_range[1] - phi_range[0]\n",
    "    plays_completo[copy.copy(p)]['phi'] = stats.uniform(loc, scale).rvs(2)\n",
    "    \n",
    "    loc, scale = trapfill_range[0], trapfill_range[1] - trapfill_range[0]\n",
    "    plays_completo[copy.copy(p)]['trapfill'] = stats.uniform(loc, scale).rvs(2)\n",
    "    \n",
    "    loc, scale = shc_range[0], shc_range[1] - shc_range[0]\n",
    "    plays_completo[copy.copy(p)]['shc'] = stats.uniform(loc, scale).rvs(2)\n",
    "    \n",
    "    loc, scale = bo_range[0], bo_range[1] - bo_range[0]\n",
    "    plays_completo[copy.copy(p)]['bo'] = stats.uniform(loc, scale).rvs(2)\n",
    "    \n",
    "    loc, scale = bg_range[0], bg_range[1] - bg_range[0]\n",
    "    plays_completo[copy.copy(p)]['bg'] = stats.uniform(loc, scale).rvs(2)\n",
    "    \n",
    "    loc, scale = rgo_range[0], rgo_range[1] - rgo_range[0]\n",
    "    plays_completo[copy.copy(p)]['rgo'] = stats.uniform(loc, scale).rvs(2)\n",
    "    \n",
    "    loc, scale = rlg_range[0], rlg_range[1] - rlg_range[0]\n",
    "    plays_completo[copy.copy(p)]['rlg'] = stats.uniform(loc, scale).rvs(2)\n",
    "    \n",
    "    loc, scale = froleo_range[0], froleo_range[1] - froleo_range[0]\n",
    "    plays_completo[copy.copy(p)]['froleo'] = stats.uniform(loc, scale).rvs(2)\n",
    "    \n",
    "    loc, scale = frga_range[0], frga_range[1] - frga_range[0]\n",
    "    plays_completo[copy.copy(p)]['frga'] = stats.uniform(loc, scale).rvs(2)\n",
    "    \n",
    "    loc, scale = frgna_range[0], frgna_range[1] - frgna_range[0]\n",
    "    plays_completo[copy.copy(p)]['frgna'] = stats.uniform(loc, scale).rvs(2)\n",
    "    \n",
    "    loc, scale = frcond_range[0], frcond_range[1] - frcond_range[0]\n",
    "    plays_completo[copy.copy(p)]['frcond'] = stats.uniform(loc, scale).rvs(2)"
   ]
  },
  {
   "cell_type": "code",
   "execution_count": null,
   "metadata": {},
   "outputs": [],
   "source": [
    "plays_completo"
   ]
  },
  {
   "cell_type": "markdown",
   "metadata": {},
   "source": [
    "### TODO: escalar incerteza pela qualidade do dado e maturidade da bacia"
   ]
  },
  {
   "cell_type": "markdown",
   "metadata": {},
   "source": [
    "### TODO: colocar fatores de risco com compentes por bacia, play, e prospecto"
   ]
  },
  {
   "cell_type": "code",
   "execution_count": null,
   "metadata": {},
   "outputs": [],
   "source": [
    "def ComputeDist(p90_play, p10_play):\n",
    "    loc, scale = p90_play, p10_play - p90_play\n",
    "    p90_proj, p10_proj = sorted(stats.uniform(loc, scale).rvs(2))\n",
    "    mu = (np.log(p90_proj) + np.log(p10_proj)) / 2\n",
    "    sigma = (np.log(p10_proj)-mu) / 1.2815515655446\n",
    "    dist = stats.lognorm(s=sigma, scale=np.exp(mu))\n",
    "    return dist\n",
    "\n",
    "projetos['Soterramento'] = []\n",
    "projetos['pcgna'] = []\n",
    "projetos['area'] = []\n",
    "projetos['netpay'] = []\n",
    "projetos['phi'] = []\n",
    "projetos['trapfill'] = []\n",
    "projetos['shc'] = []\n",
    "projetos['bo'] = []\n",
    "projetos['bg'] = []\n",
    "projetos['rgo'] = []\n",
    "projetos['rlg'] = []\n",
    "projetos['froleo'] = []\n",
    "projetos['frga'] = []\n",
    "projetos['frgna'] = []\n",
    "projetos['frcond'] = []\n",
    "projetos['geração'] = []\n",
    "projetos['migração'] = []\n",
    "projetos['reservatório'] = []\n",
    "projetos['geometria'] = []\n",
    "projetos['retenção'] = []\n",
    "projetos['PS HC'] = []\n",
    "\n",
    "for k, p in enumerate(projetos['Nome']):\n",
    "    \n",
    "    play = projetos['Play'][k]\n",
    "    \n",
    "    soterr_p90_play, soterr_p10_play = sorted(plays_completo[play]['Soterramento']) # soterramento\n",
    "    pcgna_p90_play, pcgna_p10_play = sorted(plays_completo[play]['pcgna']) # pcgna \n",
    "    area_p90_play, area_p10_play = sorted(plays_completo[play]['area']) # area\n",
    "    netpay_p90_play, netpay_p10_play = sorted(plays_completo[play]['netpay']) # netpay \n",
    "    phi_p90_play, phi_p10_play = sorted(plays_completo[play]['phi']) # phi \n",
    "    trapfill_p90_play, trapfill_p10_play = sorted(plays_completo[play]['trapfill']) # trapfill \n",
    "    shc_p90_play, shc_p10_play = sorted(plays_completo[play]['shc']) # shc \n",
    "    bo_p90_play, bo_p10_play = sorted(plays_completo[play]['bo']) # bo \n",
    "    bg_p90_play, bg_p10_play = sorted(plays_completo[play]['bg']) # bg \n",
    "    rgo_p90_play, rgo_p10_play = sorted(plays_completo[play]['rgo']) # rgo \n",
    "    rlg_p90_play, rlg_p10_play = sorted(plays_completo[play]['rlg']) # rlg \n",
    "    froleo_p90_play, froleo_p10_play = sorted(plays_completo[play]['froleo']) # froleo \n",
    "    frga_p90_play, frga_p10_play = sorted(plays_completo[play]['frga']) # frga \n",
    "    frgna_p90_play, frgna_p10_play = sorted(plays_completo[play]['frgna']) # frgna\n",
    "    frcond_p90_play, frcond_p10_play = sorted(plays_completo[play]['frcond']) # frcond\n",
    "    \n",
    "    loc, scale = soterr_p90_play, soterr_p10_play - soterr_p90_play\n",
    "    soterramento = stats.uniform(loc, scale).rvs(1)[0]\n",
    "    projetos['Soterramento'].append(soterramento)\n",
    "    \n",
    "    loc, scale = pcgna_p90_play, pcgna_p10_play - pcgna_p90_play\n",
    "    pcgna = stats.uniform(loc, scale).rvs(1)[0]\n",
    "    projetos['pcgna'].append(pcgna)\n",
    "    \n",
    "    # area\n",
    "    area_dist = ComputeDist(area_p90_play, area_p10_play)\n",
    "    projetos['area'].append(area_dist)\n",
    "    # netpay\n",
    "    netpay_dist = ComputeDist(netpay_p90_play, netpay_p10_play)\n",
    "    projetos['netpay'].append(netpay_dist)\n",
    "    # phi\n",
    "    phi_dist = ComputeDist(phi_p90_play, phi_p10_play)\n",
    "    projetos['phi'].append(phi_dist)\n",
    "    # trapfill\n",
    "    trapfill_dist = ComputeDist(trapfill_p90_play, trapfill_p10_play)\n",
    "    projetos['trapfill'].append(trapfill_dist)\n",
    "    # shc\n",
    "    shc_dist = ComputeDist(shc_p90_play, shc_p10_play)\n",
    "    projetos['shc'].append(shc_dist)\n",
    "    # bo\n",
    "    bo_dist = ComputeDist(bo_p90_play, bo_p10_play)\n",
    "    projetos['bo'].append(bo_dist)\n",
    "    # bg\n",
    "    bg_dist = ComputeDist(bg_p90_play, bg_p10_play)\n",
    "    projetos['bg'].append(bg_dist)\n",
    "    # rgo\n",
    "    rgo_dist = ComputeDist(rgo_p90_play, rgo_p10_play)\n",
    "    projetos['rgo'].append(rgo_dist)\n",
    "    # rlg\n",
    "    rlg_dist = ComputeDist(rlg_p90_play, rlg_p10_play)\n",
    "    projetos['rlg'].append(rlg_dist)\n",
    "    # froleo\n",
    "    froleo_dist = ComputeDist(froleo_p90_play, froleo_p10_play)\n",
    "    projetos['froleo'].append(froleo_dist)\n",
    "    # frga\n",
    "    frga_dist = ComputeDist(frga_p90_play, frga_p10_play)\n",
    "    projetos['frga'].append(frga_dist)\n",
    "    # frgna\n",
    "    frgna_dist = ComputeDist(frgna_p90_play, frgna_p10_play)\n",
    "    projetos['frgna'].append(frgna_dist)\n",
    "    # frcond\n",
    "    frcond_dist = ComputeDist(frcond_p90_play, frcond_p10_play)\n",
    "    projetos['frcond'].append(frcond_dist)\n",
    "    \n",
    "    geracao = stats.uniform(0.5, 0.6).rvs(1)[0]\n",
    "    projetos['geração'].append(geracao)\n",
    "    migracao = stats.uniform(0.5, 0.6).rvs(1)[0]\n",
    "    projetos['migração'].append(migracao)\n",
    "    reservatorio = stats.uniform(0.5, 0.6).rvs(1)[0]\n",
    "    projetos['reservatório'].append(reservatorio)\n",
    "    geometria = stats.uniform(0.5, 0.6).rvs(1)[0]\n",
    "    projetos['geometria'].append(geometria)\n",
    "    retencao = stats.uniform(0.5, 0.6).rvs(1)[0]\n",
    "    projetos['retenção'].append(retencao)\n",
    "    projetos['PS HC'].append( geracao*migracao*reservatorio*geometria*retencao )\n",
    "    "
   ]
  },
  {
   "cell_type": "code",
   "execution_count": null,
   "metadata": {},
   "outputs": [],
   "source": [
    "proj_df = pd.DataFrame(projetos)"
   ]
  },
  {
   "cell_type": "code",
   "execution_count": null,
   "metadata": {},
   "outputs": [],
   "source": [
    "proj_df.head()"
   ]
  },
  {
   "cell_type": "code",
   "execution_count": null,
   "metadata": {},
   "outputs": [],
   "source": [
    "proj_df[['geração', 'migração', 'reservatório', 'geometria', 'retenção', 'PS HC']].describe()"
   ]
  },
  {
   "cell_type": "code",
   "execution_count": null,
   "metadata": {
    "scrolled": false
   },
   "outputs": [],
   "source": [
    "list(projetos.keys())"
   ]
  },
  {
   "cell_type": "markdown",
   "metadata": {},
   "source": [
    "## Simulação dos volumes condicionais e incondicionais (Monte Carlo)"
   ]
  },
  {
   "cell_type": "code",
   "execution_count": null,
   "metadata": {},
   "outputs": [],
   "source": [
    "projetos['volume oleo'] = []\n",
    "projetos['volume ga'] = []\n",
    "projetos['volume gna'] = []\n",
    "projetos['volume cond'] = []\n",
    "projetos['volume condicional'] = []\n",
    "projetos['média condicional'] = []\n",
    "projetos['volume incondicional'] = []\n",
    "projetos['média incondicional'] = []\n",
    "\n",
    "for k in range(n_projetos):\n",
    "    \n",
    "    volume_oleo_dist = []\n",
    "    volume_ga_dist = []\n",
    "    volume_gna_dist = []\n",
    "    volume_cond_dist = []\n",
    "    volume_hc_dist = []\n",
    "    volume_condicional_dist = []\n",
    "    volume_incondicional_dist = []\n",
    "    \n",
    "    for i in range(iteracoes):\n",
    "        \n",
    "        # sortear se é uma descoberta\n",
    "        descoberta = stats.uniform(0, 1).rvs(1)[0] < projetos['PS HC'][k]\n",
    "        \n",
    "        # sortear o flúido principal\n",
    "        fluido = 'óleo' if stats.uniform(0, 1).rvs(1)[0] < projetos['pcgna'][k] else 'gás'\n",
    "        \n",
    "        # dado o flúido principal, calcular volumes\n",
    "        area = projetos['area'][k].rvs(1)[0]\n",
    "        netpay = projetos['netpay'][k].rvs(1)[0]\n",
    "        phi = projetos['phi'][k].rvs(1)[0]\n",
    "        trapfill = projetos['trapfill'][k].rvs(1)[0]\n",
    "        shc = projetos['shc'][k].rvs(1)[0]\n",
    "        bo = projetos['bo'][k].rvs(1)[0]\n",
    "        bg = projetos['bg'][k].rvs(1)[0]\n",
    "        rgo = projetos['rgo'][k].rvs(1)[0]\n",
    "        rlg = projetos['rlg'][k].rvs(1)[0]\n",
    "        froleo = projetos['froleo'][k].rvs(1)[0]\n",
    "        frga = projetos['frga'][k].rvs(1)[0]\n",
    "        frgna = projetos['frgna'][k].rvs(1)[0]\n",
    "        frcond = projetos['frcond'][k].rvs(1)[0]\n",
    "        \n",
    "        if fluido == 'óleo':\n",
    "            comum = area * netpay * phi * trapfill * shc\n",
    "            volume_oleo = ((comum * froleo) / bo) / (0.159)\n",
    "            volume_ga = ((comum * rgo * frga) / bo)/(1000*0.159)\n",
    "            volume_hc = volume_oleo + volume_ga\n",
    "            volume_oleo_dist.append(volume_oleo)\n",
    "            volume_ga_dist.append(volume_ga)\n",
    "        elif fluido == 'gás':\n",
    "            comum = area * netpay * phi * trapfill * shc\n",
    "            volume_gna = ((comum * frgna) / bg) / (1000*0.159)\n",
    "            volume_cond = ((comum * rlg * frcond) / bg) / (1000*0.159)\n",
    "            volume_hc = volume_gna + volume_cond\n",
    "            volume_gna_dist.append(volume_gna)\n",
    "            volume_cond_dist.append(volume_cond)\n",
    "        \n",
    "        volume_hc_incond = volume_hc if descoberta else 0\n",
    "        volume_condicional_dist.append(volume_hc)\n",
    "        volume_incondicional_dist.append(volume_hc_incond)\n",
    "        \n",
    "    projetos['volume oleo'].append(volume_oleo_dist)\n",
    "    projetos['volume ga'].append(volume_ga_dist)\n",
    "    projetos['volume gna'].append(volume_gna_dist)\n",
    "    projetos['volume cond'].append(volume_cond_dist)\n",
    "    projetos['volume condicional'].append(volume_condicional_dist)\n",
    "    projetos['média condicional'].append(np.mean(volume_condicional_dist))\n",
    "    projetos['volume incondicional'].append(volume_incondicional_dist)\n",
    "    projetos['média incondicional'].append(np.mean(volume_incondicional_dist))"
   ]
  },
  {
   "cell_type": "code",
   "execution_count": null,
   "metadata": {},
   "outputs": [],
   "source": [
    "proj_df = pd.DataFrame(projetos)"
   ]
  },
  {
   "cell_type": "code",
   "execution_count": null,
   "metadata": {},
   "outputs": [],
   "source": [
    "proj_df.head()"
   ]
  },
  {
   "cell_type": "code",
   "execution_count": null,
   "metadata": {},
   "outputs": [],
   "source": [
    "def VisualizarVA(dist):\n",
    "    \n",
    "    p10, p90 = np.percentile(dist, 10), np.percentile(dist, 90)\n",
    "    \n",
    "    plt.hist(dist, bins=20, cumulative=False, density=True, align='right')\n",
    "    plt.axvline(p10, color='r')\n",
    "    plt.axvline(p90, color='r')\n",
    "    plt.xlabel('classes')\n",
    "    plt.ylabel('probabilidade acumulada');"
   ]
  },
  {
   "cell_type": "code",
   "execution_count": null,
   "metadata": {},
   "outputs": [],
   "source": [
    "for i in range(n_projetos):\n",
    "    plt.figure(i)\n",
    "    VisualizarVA(projetos['volume condicional'][i])"
   ]
  },
  {
   "cell_type": "code",
   "execution_count": null,
   "metadata": {},
   "outputs": [],
   "source": [
    "for i in range(n_projetos):\n",
    "    plt.figure(i)\n",
    "    VisualizarVA(projetos['volume incondicional'][i])"
   ]
  },
  {
   "cell_type": "markdown",
   "metadata": {},
   "source": [
    "## Calibração econômica: $f(volume) \\rightarrow VPL$"
   ]
  },
  {
   "cell_type": "markdown",
   "metadata": {},
   "source": [
    "### TODO: variar calibração por maturidade da bacia"
   ]
  },
  {
   "cell_type": "code",
   "execution_count": null,
   "metadata": {},
   "outputs": [],
   "source": [
    "def AvalEcon(vol, fixo, unit):\n",
    "    vpl = - fixo + (vol * unit)\n",
    "    return vpl\n",
    "\n",
    "def CalibEcon(dist, fixo, unit):\n",
    "    vpl_dist = []\n",
    "    for v in dist:\n",
    "        vpl = AvalEcon(v, fixo, unit)\n",
    "        vpl_dist.append(vpl)\n",
    "    return vpl_dist"
   ]
  },
  {
   "cell_type": "code",
   "execution_count": null,
   "metadata": {},
   "outputs": [],
   "source": [
    "projetos['VPL condicional'] = []\n",
    "projetos['VPL incondicional'] = []\n",
    "projetos['VPL condicional médio'] = []\n",
    "projetos['VPL incondicional médio'] = []\n",
    "for i in range(n_projetos):\n",
    "    vpl_dist_cond = CalibEcon(projetos['volume condicional'][i], fixo=500, unit=5)\n",
    "    vpl_dist_incond = CalibEcon(projetos['volume incondicional'][i], fixo=500, unit=5)\n",
    "    projetos['VPL condicional'].append(copy.copy(vpl_dist_cond))\n",
    "    projetos['VPL incondicional'].append(copy.copy(vpl_dist_incond))\n",
    "    projetos['VPL condicional médio'].append(np.mean(vpl_dist_cond))\n",
    "    projetos['VPL incondicional médio'].append(np.mean(vpl_dist_incond))"
   ]
  },
  {
   "cell_type": "code",
   "execution_count": null,
   "metadata": {},
   "outputs": [],
   "source": [
    "for i in range(n_projetos):\n",
    "    plt.figure(i)\n",
    "    VisualizarVA(projetos['VPL condicional'][i])"
   ]
  },
  {
   "cell_type": "code",
   "execution_count": null,
   "metadata": {},
   "outputs": [],
   "source": [
    "proj_df = pd.DataFrame(projetos)"
   ]
  },
  {
   "cell_type": "code",
   "execution_count": null,
   "metadata": {},
   "outputs": [],
   "source": [
    "proj_df.head()"
   ]
  },
  {
   "cell_type": "markdown",
   "metadata": {},
   "source": [
    "## Calculando custo por poço perfurado"
   ]
  },
  {
   "cell_type": "code",
   "execution_count": null,
   "metadata": {},
   "outputs": [],
   "source": [
    "def CustoPoco(soterramento, maturidade):\n",
    "    unit_loc = {3: 2,\n",
    "                2: 1.5,\n",
    "                1: 1}\n",
    "    unit = 20000\n",
    "    custo = soterramento*unit*unit_loc[maturidade]\n",
    "    return custo / 10**6\n",
    "    "
   ]
  },
  {
   "cell_type": "code",
   "execution_count": null,
   "metadata": {},
   "outputs": [],
   "source": [
    "projetos['Custo do poço'] = []\n",
    "for i in range(n_projetos):\n",
    "    projetos['Custo do poço'].append(CustoPoco(projetos['Soterramento'][i], projetos['Maturidade bacia'][i]))"
   ]
  },
  {
   "cell_type": "code",
   "execution_count": null,
   "metadata": {},
   "outputs": [],
   "source": [
    "proj_df = pd.DataFrame(projetos)"
   ]
  },
  {
   "cell_type": "code",
   "execution_count": null,
   "metadata": {},
   "outputs": [],
   "source": [
    "proj_df.head()"
   ]
  },
  {
   "cell_type": "markdown",
   "metadata": {},
   "source": [
    "## Calculando tempo de execução por poço perfurado"
   ]
  },
  {
   "cell_type": "code",
   "execution_count": null,
   "metadata": {},
   "outputs": [],
   "source": [
    "def TempoExecucao(soterramento, maturidade):\n",
    "    unit_loc = {3: 3,\n",
    "                2: 2,\n",
    "                1: 1}\n",
    "    unit = (100 / 5000)\n",
    "    tempo = soterramento*unit*unit_loc[maturidade]\n",
    "    return max(tempo, 28.)"
   ]
  },
  {
   "cell_type": "code",
   "execution_count": null,
   "metadata": {},
   "outputs": [],
   "source": [
    "projetos['Tempo de execução'] = []\n",
    "for i in range(n_projetos):\n",
    "    projetos['Tempo de execução'].append(int(TempoExecucao(projetos['Soterramento'][i], projetos['Maturidade bacia'][i])))"
   ]
  },
  {
   "cell_type": "code",
   "execution_count": null,
   "metadata": {},
   "outputs": [],
   "source": [
    "proj_df = pd.DataFrame(projetos)"
   ]
  },
  {
   "cell_type": "code",
   "execution_count": null,
   "metadata": {},
   "outputs": [],
   "source": [
    "proj_df.head()"
   ]
  },
  {
   "cell_type": "markdown",
   "metadata": {},
   "source": [
    "## Atribuindo contratos aos projetos"
   ]
  },
  {
   "cell_type": "code",
   "execution_count": null,
   "metadata": {},
   "outputs": [],
   "source": [
    "duracao = [1, 2, 3, 4, 5]\n",
    "projetos['Início do Contrato'] = []\n",
    "projetos['Final do Contrato'] = []\n",
    "for i in range(n_projetos):\n",
    "    inicio = np.random.randint(0, (5 * 12 * 4 * 7))\n",
    "    final = inicio + (12 * 4 * 7)*np.random.choice(duracao)\n",
    "    final = min(final, (5 * 12 * 4 * 7))\n",
    "    projetos['Início do Contrato'].append(int(copy.copy(inicio)))\n",
    "    projetos['Final do Contrato'].append(int(copy.copy(final)))"
   ]
  },
  {
   "cell_type": "code",
   "execution_count": null,
   "metadata": {},
   "outputs": [],
   "source": [
    "proj_df = pd.DataFrame(projetos)"
   ]
  },
  {
   "cell_type": "code",
   "execution_count": null,
   "metadata": {},
   "outputs": [],
   "source": [
    "proj_df.head()"
   ]
  },
  {
   "cell_type": "markdown",
   "metadata": {},
   "source": [
    "## Criando conjunto de sondas de perfuração"
   ]
  },
  {
   "cell_type": "code",
   "execution_count": null,
   "metadata": {},
   "outputs": [],
   "source": [
    "sondas = {}\n",
    "sondas['Coordenada x'] = []\n",
    "sondas['Coordenada y'] = []\n",
    "\n",
    "for i in range(n_sondas):\n",
    "    \n",
    "    # primeiro, sortear uma bacia\n",
    "    bacia = np.random.choice(list(bacias.keys()))\n",
    "    \n",
    "    # colocar coordenadas nos extremos verticais da bacia\n",
    "    x_min_curr, x_max_curr = bacias[bacia]['Coordenadas'][0]\n",
    "    y_min_curr, y_max_curr = bacias[bacia]['Coordenadas'][1]\n",
    "    \n",
    "    x_rig, y_rig = (0.0, np.random.choice([y_min_curr, y_max_curr]))\n",
    "    \n",
    "    sondas['Coordenada x'].append(x_rig)\n",
    "    sondas['Coordenada y'].append(y_rig)"
   ]
  },
  {
   "cell_type": "code",
   "execution_count": null,
   "metadata": {},
   "outputs": [],
   "source": [
    "sondas"
   ]
  },
  {
   "cell_type": "markdown",
   "metadata": {},
   "source": [
    "## Visualizando métricas dos projetos para controle de qualidade dos dados"
   ]
  },
  {
   "cell_type": "code",
   "execution_count": null,
   "metadata": {},
   "outputs": [],
   "source": [
    "proj_df[['Soterramento', 'média incondicional', 'VPL incondicional médio', 'Custo do poço', 'Tempo de execução']].describe()"
   ]
  },
  {
   "cell_type": "markdown",
   "metadata": {},
   "source": [
    "## Codificando variáveis categóricas para a exportação"
   ]
  },
  {
   "cell_type": "markdown",
   "metadata": {},
   "source": [
    "### TODO: codificar categóricas"
   ]
  },
  {
   "cell_type": "code",
   "execution_count": null,
   "metadata": {},
   "outputs": [],
   "source": []
  },
  {
   "cell_type": "markdown",
   "metadata": {},
   "source": [
    "## Definindo períodos de tempo"
   ]
  },
  {
   "cell_type": "code",
   "execution_count": null,
   "metadata": {},
   "outputs": [],
   "source": [
    "n_periodos = ((t_final - t_init) // delta_t)"
   ]
  },
  {
   "cell_type": "markdown",
   "metadata": {},
   "source": [
    "## Convertendo dados de tempo para períodos"
   ]
  },
  {
   "cell_type": "code",
   "execution_count": null,
   "metadata": {},
   "outputs": [],
   "source": [
    "for i in range(n_projetos):\n",
    "    projetos['Tempo de execução'][i] = int(projetos['Tempo de execução'][i] // delta_t)\n",
    "    projetos['Início do Contrato'][i] = int(projetos['Início do Contrato'][i] // delta_t)\n",
    "    projetos['Final do Contrato'][i] = int(projetos['Final do Contrato'][i] // delta_t)"
   ]
  },
  {
   "cell_type": "markdown",
   "metadata": {},
   "source": [
    "## Calcula tempos de deslocamento"
   ]
  },
  {
   "cell_type": "code",
   "execution_count": null,
   "metadata": {},
   "outputs": [],
   "source": [
    "desloc = []\n",
    "lag = n_sondas\n",
    "for i in range(n_projetos+n_sondas):\n",
    "    desloc.append([])\n",
    "    for j in range(n_projetos+n_sondas):\n",
    "        if (i<n_sondas) and (j<n_sondas):\n",
    "            dist = math.sqrt( (sondas['Coordenada x'][i] - sondas['Coordenada x'][j])**2 + \n",
    "                             (sondas['Coordenada y'][i] - sondas['Coordenada y'][j])**2 )\n",
    "        elif (i<n_sondas) and not(j<n_sondas):\n",
    "            dist = math.sqrt( (sondas['Coordenada x'][i] - projetos['Coordenada x'][j-lag])**2 + \n",
    "                             (sondas['Coordenada y'][i] - projetos['Coordenada y'][j-lag])**2 )\n",
    "        elif not(i<n_sondas) and (j<n_sondas):\n",
    "            dist = math.sqrt( (projetos['Coordenada x'][i-lag] - sondas['Coordenada x'][j])**2 + \n",
    "                             (projetos['Coordenada y'][i-lag] - sondas['Coordenada y'][j])**2 )\n",
    "        else:\n",
    "            dist = math.sqrt( (projetos['Coordenada x'][i-lag] - projetos['Coordenada x'][j-lag])**2 + \n",
    "                             (projetos['Coordenada y'][i-lag] - projetos['Coordenada y'][j-lag])**2 )\n",
    "\n",
    "        desloc[i].append(int(dist // delta_t))"
   ]
  },
  {
   "cell_type": "markdown",
   "metadata": {},
   "source": [
    "## Exportando instância"
   ]
  },
  {
   "cell_type": "code",
   "execution_count": null,
   "metadata": {},
   "outputs": [],
   "source": [
    "colunas_out_proj = ['Coordenada x', 'Coordenada y', 'Bacia', 'Nome', 'Maturidade bacia',\n",
    "               'Qualidade do dado', 'Play', 'Soterramento', 'pcgna', 'geração', 'migração', \n",
    "               'reservatório', 'geometria', 'retenção', 'PS HC', 'média condicional', 'média incondicional', \n",
    "               'VPL condicional médio', 'VPL incondicional médio', 'Custo do poço', \n",
    "               'Tempo de execução', 'Início do Contrato', 'Final do Contrato']"
   ]
  },
  {
   "cell_type": "code",
   "execution_count": null,
   "metadata": {},
   "outputs": [],
   "source": [
    "for col in colunas_out_proj:\n",
    "    for i, it in enumerate(projetos[col]):\n",
    "        projetos[col][i] = round(projetos[col][i], 2)"
   ]
  },
  {
   "cell_type": "code",
   "execution_count": null,
   "metadata": {},
   "outputs": [],
   "source": [
    "colunas_out_sondas = ['Coordenada x', 'Coordenada y']"
   ]
  },
  {
   "cell_type": "code",
   "execution_count": null,
   "metadata": {},
   "outputs": [],
   "source": [
    "for col in colunas_out_sondas:\n",
    "    for i, it in enumerate(sondas[col]):\n",
    "        sondas[col][i] = round(sondas[col][i], 2)"
   ]
  },
  {
   "cell_type": "code",
   "execution_count": null,
   "metadata": {},
   "outputs": [],
   "source": [
    "with open('instancia_' + str(n_projetos) + 'projetos_' + \n",
    "          str(n_sondas) + 'sondas_delta_t' + str(delta_t) + '.dat', 'w') as f:\n",
    "    print (n_projetos, sum(projetos['Custo do poço'])/np.random.choice([1, 2, 3, 4]), t_init, t_final, delta_t, n_periodos, file=f)\n",
    "    for col in colunas_out_proj:\n",
    "        print(projetos[col], file=f)\n",
    "    print (n_sondas, file=f)\n",
    "    print (sondas['Coordenada x'], file=f)\n",
    "    print (sondas['Coordenada y'], file=f)\n",
    "    print (desloc, file=f)"
   ]
  },
  {
   "cell_type": "code",
   "execution_count": null,
   "metadata": {},
   "outputs": [],
   "source": []
  },
  {
   "cell_type": "code",
   "execution_count": null,
   "metadata": {},
   "outputs": [],
   "source": []
  }
 ],
 "metadata": {
  "kernelspec": {
   "display_name": "Python 3",
   "language": "python",
   "name": "python3"
  },
  "language_info": {
   "codemirror_mode": {
    "name": "ipython",
    "version": 3
   },
   "file_extension": ".py",
   "mimetype": "text/x-python",
   "name": "python",
   "nbconvert_exporter": "python",
   "pygments_lexer": "ipython3",
   "version": "3.8.3"
  }
 },
 "nbformat": 4,
 "nbformat_minor": 4
}
