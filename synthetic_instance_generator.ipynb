{
 "cells": [
  {
   "cell_type": "markdown",
   "metadata": {},
   "source": [
    "# Gerador de instâncias sintéticas para o problema de otimização do mestrado"
   ]
  },
  {
   "cell_type": "markdown",
   "metadata": {},
   "source": [
    "### Etapas"
   ]
  },
  {
   "cell_type": "markdown",
   "metadata": {},
   "source": [
    "**Geral**\n",
    "\n",
    "1. Definir o grid\n",
    "\n",
    "1. Definir bacias geológicas\n",
    "\n",
    "1. Definir plays\n",
    "\n",
    "1. Definir quantidade de projetos\n",
    "\n",
    "**Para cada projeto:**\n",
    "\n",
    "1. Escolher uma bacia\n",
    "\n",
    "1. Sortear coordenada (x,y)\n",
    "\n",
    "1. Pela bacia, temos a estratégia e a qualidade do dado\n",
    "\n",
    "1. Dada a bacia, escolher um play\n",
    "\n",
    "1. O play vai indicar o range de soterramento, e distribuição dos parâmetros volumétricos\n",
    "\n",
    "1. O risco tem componentes regionais da bacia (geração), componentes do play (migração, retenção), e componentes individuais (geometria e reservatório).\n",
    "\n",
    "1. A PCGNA é indicada pelo play\n",
    "\n",
    "1. Simular volume geo, tec, ambos condicionais e incondicionais\n",
    "\n",
    "1. Cada bacia tem uma $f(vol) \\rightarrow VPL$\n",
    "\n",
    "1. Calcular distribuição de VPL e métricas de retorno (risco?)\n",
    "\n",
    "1. O custo do poço exploratório depende da bacia, estratégia e soterramento\n",
    "\n",
    "1. Tempo de excecução dos projetos é função do soterramento e estratégia\n",
    "\n",
    "1. Atribuir contratos à cada parte da bacia com OEs: simular leilões?"
   ]
  },
  {
   "cell_type": "markdown",
   "metadata": {},
   "source": [
    "## Importando bibliotecas"
   ]
  },
  {
   "cell_type": "code",
   "execution_count": 1,
   "metadata": {},
   "outputs": [],
   "source": [
    "import copy\n",
    "import numpy as np\n",
    "from scipy import stats\n",
    "import matplotlib.pyplot as plt\n",
    "import pandas as pd\n",
    "from matplotlib import cm\n",
    "\n",
    "%matplotlib inline"
   ]
  },
  {
   "cell_type": "markdown",
   "metadata": {},
   "source": [
    "## Definição do grid"
   ]
  },
  {
   "cell_type": "code",
   "execution_count": 2,
   "metadata": {},
   "outputs": [],
   "source": [
    "x_min, x_max = (0., 100.)\n",
    "y_min, y_max = (0., 100.)\n",
    "dx, dy = (1., 1.)\n",
    "grid = np.zeros(( int((y_max-y_min)/dy), int((x_max-x_min)/dx) ))"
   ]
  },
  {
   "cell_type": "code",
   "execution_count": 3,
   "metadata": {},
   "outputs": [
    {
     "data": {
      "text/plain": [
       "(100, 100)"
      ]
     },
     "execution_count": 3,
     "metadata": {},
     "output_type": "execute_result"
    }
   ],
   "source": [
    "grid.shape"
   ]
  },
  {
   "cell_type": "code",
   "execution_count": 47,
   "metadata": {},
   "outputs": [
    {
     "data": {
      "text/plain": [
       "<matplotlib.collections.QuadMesh at 0x7f1a4c763e20>"
      ]
     },
     "execution_count": 47,
     "metadata": {},
     "output_type": "execute_result"
    },
    {
     "data": {
      "image/png": "[encoded data removed]",
      "text/plain": [
       "<Figure size 432x288 with 1 Axes>"
      ]
     },
     "metadata": {
      "needs_background": "light"
     },
     "output_type": "display_data"
    }
   ],
   "source": [
    "plt.pcolormesh(grid, alpha=0.5)"
   ]
  },
  {
   "cell_type": "markdown",
   "metadata": {},
   "source": [
    "## Criando bacias geológicas"
   ]
  },
  {
   "cell_type": "code",
   "execution_count": 5,
   "metadata": {},
   "outputs": [],
   "source": [
    "estrategias = ['Estrutura pronta', 'Estrutura em construção', 'Nova fronteira']\n",
    "qualidades_dado = ['Qualidade alta', 'Qualidade razoável', 'Qualidade baixa']"
   ]
  },
  {
   "cell_type": "code",
   "execution_count": 6,
   "metadata": {},
   "outputs": [],
   "source": [
    "nx_bacias = 3\n",
    "ny_bacias = 3\n",
    "bacias = {}\n",
    "count = 0\n",
    "x_step = (x_max-x_min)/nx_bacias\n",
    "y_step = (y_max-y_min)/ny_bacias\n",
    "for i in range(1, ny_bacias+1):\n",
    "    y_min_curr = (i-1)*y_step\n",
    "    y_max_curr = (i)*y_step\n",
    "    for j in range(1, nx_bacias+1):\n",
    "        x_min_curr = (j-1)*x_step\n",
    "        x_max_curr = j*x_step\n",
    "        count += 1\n",
    "        bacias[\"Bacia\"+str(count)] = {}\n",
    "        bacias[\"Bacia\"+str(count)]['Coordenadas'] = ((x_min_curr, x_max_curr),(y_min_curr, y_max_curr))\n",
    "        bacias[\"Bacia\"+str(count)]['Maturidade'] = np.random.choice(estrategias)\n",
    "        bacias[\"Bacia\"+str(count)]['Qualidade do dado'] = np.random.choice(qualidades_dado)\n",
    "        grid[int(x_min_curr):int(x_max_curr), int(y_min_curr):int(y_max_curr)] = count"
   ]
  },
  {
   "cell_type": "code",
   "execution_count": 7,
   "metadata": {},
   "outputs": [
    {
     "data": {
      "text/plain": [
       "{'Bacia1': {'Coordenadas': ((0.0, 33.333333333333336),\n",
       "   (0.0, 33.333333333333336)),\n",
       "  'Maturidade': 'Estrutura pronta',\n",
       "  'Qualidade do dado': 'Qualidade alta'},\n",
       " 'Bacia2': {'Coordenadas': ((33.333333333333336, 66.66666666666667),\n",
       "   (0.0, 33.333333333333336)),\n",
       "  'Maturidade': 'Nova fronteira',\n",
       "  'Qualidade do dado': 'Qualidade baixa'},\n",
       " 'Bacia3': {'Coordenadas': ((66.66666666666667, 100.0),\n",
       "   (0.0, 33.333333333333336)),\n",
       "  'Maturidade': 'Estrutura pronta',\n",
       "  'Qualidade do dado': 'Qualidade razoável'},\n",
       " 'Bacia4': {'Coordenadas': ((0.0, 33.333333333333336),\n",
       "   (33.333333333333336, 66.66666666666667)),\n",
       "  'Maturidade': 'Estrutura em construção',\n",
       "  'Qualidade do dado': 'Qualidade alta'},\n",
       " 'Bacia5': {'Coordenadas': ((33.333333333333336, 66.66666666666667),\n",
       "   (33.333333333333336, 66.66666666666667)),\n",
       "  'Maturidade': 'Estrutura em construção',\n",
       "  'Qualidade do dado': 'Qualidade baixa'},\n",
       " 'Bacia6': {'Coordenadas': ((66.66666666666667, 100.0),\n",
       "   (33.333333333333336, 66.66666666666667)),\n",
       "  'Maturidade': 'Estrutura pronta',\n",
       "  'Qualidade do dado': 'Qualidade baixa'},\n",
       " 'Bacia7': {'Coordenadas': ((0.0, 33.333333333333336),\n",
       "   (66.66666666666667, 100.0)),\n",
       "  'Maturidade': 'Estrutura pronta',\n",
       "  'Qualidade do dado': 'Qualidade baixa'},\n",
       " 'Bacia8': {'Coordenadas': ((33.333333333333336, 66.66666666666667),\n",
       "   (66.66666666666667, 100.0)),\n",
       "  'Maturidade': 'Estrutura pronta',\n",
       "  'Qualidade do dado': 'Qualidade razoável'},\n",
       " 'Bacia9': {'Coordenadas': ((66.66666666666667, 100.0),\n",
       "   (66.66666666666667, 100.0)),\n",
       "  'Maturidade': 'Estrutura pronta',\n",
       "  'Qualidade do dado': 'Qualidade razoável'}}"
      ]
     },
     "execution_count": 7,
     "metadata": {},
     "output_type": "execute_result"
    }
   ],
   "source": [
    "bacias"
   ]
  },
  {
   "cell_type": "code",
   "execution_count": 8,
   "metadata": {},
   "outputs": [
    {
     "data": {
      "text/plain": [
       "dict_keys(['magma', 'inferno', 'plasma', 'viridis', 'cividis', 'twilight', 'twilight_shifted', 'Blues', 'BrBG', 'BuGn', 'BuPu', 'CMRmap', 'GnBu', 'Greens', 'Greys', 'OrRd', 'Oranges', 'PRGn', 'PiYG', 'PuBu', 'PuBuGn', 'PuOr', 'PuRd', 'Purples', 'RdBu', 'RdGy', 'RdPu', 'RdYlBu', 'RdYlGn', 'Reds', 'Spectral', 'Wistia', 'YlGn', 'YlGnBu', 'YlOrBr', 'YlOrRd', 'afmhot', 'autumn', 'binary', 'bone', 'brg', 'bwr', 'cool', 'coolwarm', 'copper', 'cubehelix', 'flag', 'gist_earth', 'gist_gray', 'gist_heat', 'gist_ncar', 'gist_rainbow', 'gist_stern', 'gist_yarg', 'gnuplot', 'gnuplot2', 'gray', 'hot', 'hsv', 'jet', 'nipy_spectral', 'ocean', 'pink', 'prism', 'rainbow', 'seismic', 'spring', 'summer', 'terrain', 'winter', 'Accent', 'Dark2', 'Paired', 'Pastel1', 'Pastel2', 'Set1', 'Set2', 'Set3', 'tab10', 'tab20', 'tab20b', 'tab20c', 'magma_r', 'inferno_r', 'plasma_r', 'viridis_r', 'cividis_r', 'twilight_r', 'twilight_shifted_r', 'Blues_r', 'BrBG_r', 'BuGn_r', 'BuPu_r', 'CMRmap_r', 'GnBu_r', 'Greens_r', 'Greys_r', 'OrRd_r', 'Oranges_r', 'PRGn_r', 'PiYG_r', 'PuBu_r', 'PuBuGn_r', 'PuOr_r', 'PuRd_r', 'Purples_r', 'RdBu_r', 'RdGy_r', 'RdPu_r', 'RdYlBu_r', 'RdYlGn_r', 'Reds_r', 'Spectral_r', 'Wistia_r', 'YlGn_r', 'YlGnBu_r', 'YlOrBr_r', 'YlOrRd_r', 'afmhot_r', 'autumn_r', 'binary_r', 'bone_r', 'brg_r', 'bwr_r', 'cool_r', 'coolwarm_r', 'copper_r', 'cubehelix_r', 'flag_r', 'gist_earth_r', 'gist_gray_r', 'gist_heat_r', 'gist_ncar_r', 'gist_rainbow_r', 'gist_stern_r', 'gist_yarg_r', 'gnuplot_r', 'gnuplot2_r', 'gray_r', 'hot_r', 'hsv_r', 'jet_r', 'nipy_spectral_r', 'ocean_r', 'pink_r', 'prism_r', 'rainbow_r', 'seismic_r', 'spring_r', 'summer_r', 'terrain_r', 'winter_r', 'Accent_r', 'Dark2_r', 'Paired_r', 'Pastel1_r', 'Pastel2_r', 'Set1_r', 'Set2_r', 'Set3_r', 'tab10_r', 'tab20_r', 'tab20b_r', 'tab20c_r'])"
      ]
     },
     "execution_count": 8,
     "metadata": {},
     "output_type": "execute_result"
    }
   ],
   "source": [
    "colormap_dict = cm.cmap_d.keys()\n",
    "colormap_dict"
   ]
  },
  {
   "cell_type": "code",
   "execution_count": 9,
   "metadata": {},
   "outputs": [],
   "source": [
    "colormap = cm.inferno"
   ]
  },
  {
   "cell_type": "code",
   "execution_count": 10,
   "metadata": {},
   "outputs": [
    {
     "data": {
      "text/plain": [
       "<matplotlib.collections.QuadMesh at 0x7f1a4ceb09d0>"
      ]
     },
     "execution_count": 10,
     "metadata": {},
     "output_type": "execute_result"
    },
    {
     "data": {
      "image/png": "[encoded data removed]",
      "text/plain": [
       "<Figure size 504x504 with 1 Axes>"
      ]
     },
     "metadata": {
      "needs_background": "light"
     },
     "output_type": "display_data"
    }
   ],
   "source": [
    "plt.figure(figsize=(7, 7))\n",
    "plt.pcolormesh(grid, alpha=0.5, cmap=colormap)"
   ]
  },
  {
   "cell_type": "markdown",
   "metadata": {},
   "source": [
    "## Criando projetos"
   ]
  },
  {
   "cell_type": "code",
   "execution_count": 11,
   "metadata": {},
   "outputs": [],
   "source": [
    "n_plays = 10\n",
    "plays = ['Play '+str(i) for i in range(1, n_plays+1)]"
   ]
  },
  {
   "cell_type": "code",
   "execution_count": 12,
   "metadata": {},
   "outputs": [],
   "source": [
    "n_projetos = 20\n",
    "projetos = {}\n",
    "projetos['Coordenada x'] = []\n",
    "projetos['Coordenada y'] = []\n",
    "projetos['Bacia'] = []\n",
    "projetos['Nome'] = []\n",
    "projetos['Maturidade bacia'] = []\n",
    "projetos['Qualidade do dado'] = []\n",
    "projetos['Play'] = []\n",
    "\n",
    "for i in range(n_projetos):\n",
    "    \n",
    "    # primeiro, sortear uma bacia\n",
    "    bacia = np.random.choice(list(bacias.keys()))\n",
    "    \n",
    "    # não permitir coordenadas nas bordas das bacias\n",
    "    fator = 0.8\n",
    "    x_min_curr, x_max_curr = bacias[bacia]['Coordenadas'][0]\n",
    "    y_min_curr, y_max_curr = bacias[bacia]['Coordenadas'][1]\n",
    "    \n",
    "    x_proj, y_proj = (np.random.uniform(x_min_curr + x_step*(1-fator), x_max_curr - x_step*(1-fator)), \n",
    "                      np.random.uniform(y_min_curr + y_step*(1-fator), y_max_curr - y_step*(1-fator)))\n",
    "    \n",
    "    projetos['Nome'].append(\"Projeto \" + str(i+1))\n",
    "    projetos['Bacia'].append(bacia)\n",
    "    projetos['Coordenada x'].append(x_proj)\n",
    "    projetos['Coordenada y'].append(y_proj)\n",
    "    projetos['Maturidade bacia'].append(bacias[bacia]['Maturidade'])\n",
    "    projetos['Qualidade do dado'].append(bacias[bacia]['Qualidade do dado'])\n",
    "    projetos['Play'].append(np.random.choice(plays))"
   ]
  },
  {
   "cell_type": "code",
   "execution_count": 13,
   "metadata": {},
   "outputs": [
    {
     "data": {
      "text/plain": [
       "<matplotlib.collections.PathCollection at 0x7f1a4ce21700>"
      ]
     },
     "execution_count": 13,
     "metadata": {},
     "output_type": "execute_result"
    },
    {
     "data": {
      "image/png": "[encoded data removed]",
      "text/plain": [
       "<Figure size 432x288 with 1 Axes>"
      ]
     },
     "metadata": {
      "needs_background": "light"
     },
     "output_type": "display_data"
    }
   ],
   "source": [
    "plt.scatter(projetos['Coordenada x'], projetos['Coordenada y'])"
   ]
  },
  {
   "cell_type": "code",
   "execution_count": 14,
   "metadata": {},
   "outputs": [
    {
     "data": {
      "image/png": "[encoded data removed]",
      "text/plain": [
       "<Figure size 504x504 with 1 Axes>"
      ]
     },
     "metadata": {
      "needs_background": "light"
     },
     "output_type": "display_data"
    }
   ],
   "source": [
    "fig = plt.figure(figsize=(7, 7), frameon=False)\n",
    "\n",
    "im1 = plt.pcolormesh(grid, alpha=0.5, cmap=colormap)\n",
    "im2 = plt.scatter(projetos['Coordenada x'], projetos['Coordenada y'], color=(0.1, 0.8, 0.8), s=50, marker='*')\n",
    "\n",
    "plt.show()"
   ]
  },
  {
   "cell_type": "code",
   "execution_count": 15,
   "metadata": {},
   "outputs": [],
   "source": [
    "proj_df = pd.DataFrame(projetos)"
   ]
  },
  {
   "cell_type": "code",
   "execution_count": 16,
   "metadata": {
    "scrolled": true
   },
   "outputs": [
    {
     "data": {
      "text/html": [
       "<div>\n",
       "<style scoped>\n",
       "    .dataframe tbody tr th:only-of-type {\n",
       "        vertical-align: middle;\n",
       "    }\n",
       "\n",
       "    .dataframe tbody tr th {\n",
       "        vertical-align: top;\n",
       "    }\n",
       "\n",
       "    .dataframe thead th {\n",
       "        text-align: right;\n",
       "    }\n",
       "</style>\n",
       "<table border=\"1\" class=\"dataframe\">\n",
       "  <thead>\n",
       "    <tr style=\"text-align: right;\">\n",
       "      <th></th>\n",
       "      <th>Coordenada x</th>\n",
       "      <th>Coordenada y</th>\n",
       "      <th>Bacia</th>\n",
       "      <th>Nome</th>\n",
       "      <th>Maturidade bacia</th>\n",
       "      <th>Qualidade do dado</th>\n",
       "      <th>Play</th>\n",
       "    </tr>\n",
       "  </thead>\n",
       "  <tbody>\n",
       "    <tr>\n",
       "      <th>0</th>\n",
       "      <td>74.229378</td>\n",
       "      <td>24.830246</td>\n",
       "      <td>Bacia3</td>\n",
       "      <td>Projeto 1</td>\n",
       "      <td>Estrutura pronta</td>\n",
       "      <td>Qualidade razoável</td>\n",
       "      <td>Play 2</td>\n",
       "    </tr>\n",
       "    <tr>\n",
       "      <th>1</th>\n",
       "      <td>9.119333</td>\n",
       "      <td>82.303289</td>\n",
       "      <td>Bacia7</td>\n",
       "      <td>Projeto 2</td>\n",
       "      <td>Estrutura pronta</td>\n",
       "      <td>Qualidade baixa</td>\n",
       "      <td>Play 2</td>\n",
       "    </tr>\n",
       "    <tr>\n",
       "      <th>2</th>\n",
       "      <td>54.742209</td>\n",
       "      <td>78.330890</td>\n",
       "      <td>Bacia8</td>\n",
       "      <td>Projeto 3</td>\n",
       "      <td>Estrutura pronta</td>\n",
       "      <td>Qualidade razoável</td>\n",
       "      <td>Play 4</td>\n",
       "    </tr>\n",
       "    <tr>\n",
       "      <th>3</th>\n",
       "      <td>87.173936</td>\n",
       "      <td>16.992432</td>\n",
       "      <td>Bacia3</td>\n",
       "      <td>Projeto 4</td>\n",
       "      <td>Estrutura pronta</td>\n",
       "      <td>Qualidade razoável</td>\n",
       "      <td>Play 7</td>\n",
       "    </tr>\n",
       "    <tr>\n",
       "      <th>4</th>\n",
       "      <td>25.336572</td>\n",
       "      <td>18.054157</td>\n",
       "      <td>Bacia1</td>\n",
       "      <td>Projeto 5</td>\n",
       "      <td>Estrutura pronta</td>\n",
       "      <td>Qualidade alta</td>\n",
       "      <td>Play 1</td>\n",
       "    </tr>\n",
       "    <tr>\n",
       "      <th>5</th>\n",
       "      <td>11.643534</td>\n",
       "      <td>79.476271</td>\n",
       "      <td>Bacia7</td>\n",
       "      <td>Projeto 6</td>\n",
       "      <td>Estrutura pronta</td>\n",
       "      <td>Qualidade baixa</td>\n",
       "      <td>Play 4</td>\n",
       "    </tr>\n",
       "    <tr>\n",
       "      <th>6</th>\n",
       "      <td>90.627161</td>\n",
       "      <td>87.064973</td>\n",
       "      <td>Bacia9</td>\n",
       "      <td>Projeto 7</td>\n",
       "      <td>Estrutura pronta</td>\n",
       "      <td>Qualidade razoável</td>\n",
       "      <td>Play 8</td>\n",
       "    </tr>\n",
       "    <tr>\n",
       "      <th>7</th>\n",
       "      <td>24.462413</td>\n",
       "      <td>76.482021</td>\n",
       "      <td>Bacia7</td>\n",
       "      <td>Projeto 8</td>\n",
       "      <td>Estrutura pronta</td>\n",
       "      <td>Qualidade baixa</td>\n",
       "      <td>Play 2</td>\n",
       "    </tr>\n",
       "    <tr>\n",
       "      <th>8</th>\n",
       "      <td>83.676345</td>\n",
       "      <td>59.707366</td>\n",
       "      <td>Bacia6</td>\n",
       "      <td>Projeto 9</td>\n",
       "      <td>Estrutura pronta</td>\n",
       "      <td>Qualidade baixa</td>\n",
       "      <td>Play 6</td>\n",
       "    </tr>\n",
       "    <tr>\n",
       "      <th>9</th>\n",
       "      <td>15.963294</td>\n",
       "      <td>46.030877</td>\n",
       "      <td>Bacia4</td>\n",
       "      <td>Projeto 10</td>\n",
       "      <td>Estrutura em construção</td>\n",
       "      <td>Qualidade alta</td>\n",
       "      <td>Play 2</td>\n",
       "    </tr>\n",
       "    <tr>\n",
       "      <th>10</th>\n",
       "      <td>43.206957</td>\n",
       "      <td>26.476939</td>\n",
       "      <td>Bacia2</td>\n",
       "      <td>Projeto 11</td>\n",
       "      <td>Nova fronteira</td>\n",
       "      <td>Qualidade baixa</td>\n",
       "      <td>Play 3</td>\n",
       "    </tr>\n",
       "    <tr>\n",
       "      <th>11</th>\n",
       "      <td>50.384034</td>\n",
       "      <td>14.966655</td>\n",
       "      <td>Bacia2</td>\n",
       "      <td>Projeto 12</td>\n",
       "      <td>Nova fronteira</td>\n",
       "      <td>Qualidade baixa</td>\n",
       "      <td>Play 9</td>\n",
       "    </tr>\n",
       "    <tr>\n",
       "      <th>12</th>\n",
       "      <td>42.133117</td>\n",
       "      <td>83.295336</td>\n",
       "      <td>Bacia8</td>\n",
       "      <td>Projeto 13</td>\n",
       "      <td>Estrutura pronta</td>\n",
       "      <td>Qualidade razoável</td>\n",
       "      <td>Play 1</td>\n",
       "    </tr>\n",
       "    <tr>\n",
       "      <th>13</th>\n",
       "      <td>41.335649</td>\n",
       "      <td>52.790450</td>\n",
       "      <td>Bacia5</td>\n",
       "      <td>Projeto 14</td>\n",
       "      <td>Estrutura em construção</td>\n",
       "      <td>Qualidade baixa</td>\n",
       "      <td>Play 7</td>\n",
       "    </tr>\n",
       "    <tr>\n",
       "      <th>14</th>\n",
       "      <td>45.935352</td>\n",
       "      <td>7.250533</td>\n",
       "      <td>Bacia2</td>\n",
       "      <td>Projeto 15</td>\n",
       "      <td>Nova fronteira</td>\n",
       "      <td>Qualidade baixa</td>\n",
       "      <td>Play 9</td>\n",
       "    </tr>\n",
       "    <tr>\n",
       "      <th>15</th>\n",
       "      <td>54.712166</td>\n",
       "      <td>84.084484</td>\n",
       "      <td>Bacia8</td>\n",
       "      <td>Projeto 16</td>\n",
       "      <td>Estrutura pronta</td>\n",
       "      <td>Qualidade razoável</td>\n",
       "      <td>Play 6</td>\n",
       "    </tr>\n",
       "    <tr>\n",
       "      <th>16</th>\n",
       "      <td>89.900748</td>\n",
       "      <td>14.440430</td>\n",
       "      <td>Bacia3</td>\n",
       "      <td>Projeto 17</td>\n",
       "      <td>Estrutura pronta</td>\n",
       "      <td>Qualidade razoável</td>\n",
       "      <td>Play 6</td>\n",
       "    </tr>\n",
       "    <tr>\n",
       "      <th>17</th>\n",
       "      <td>58.896320</td>\n",
       "      <td>21.066823</td>\n",
       "      <td>Bacia2</td>\n",
       "      <td>Projeto 18</td>\n",
       "      <td>Nova fronteira</td>\n",
       "      <td>Qualidade baixa</td>\n",
       "      <td>Play 1</td>\n",
       "    </tr>\n",
       "    <tr>\n",
       "      <th>18</th>\n",
       "      <td>26.576954</td>\n",
       "      <td>58.091525</td>\n",
       "      <td>Bacia4</td>\n",
       "      <td>Projeto 19</td>\n",
       "      <td>Estrutura em construção</td>\n",
       "      <td>Qualidade alta</td>\n",
       "      <td>Play 8</td>\n",
       "    </tr>\n",
       "    <tr>\n",
       "      <th>19</th>\n",
       "      <td>80.543373</td>\n",
       "      <td>7.109516</td>\n",
       "      <td>Bacia3</td>\n",
       "      <td>Projeto 20</td>\n",
       "      <td>Estrutura pronta</td>\n",
       "      <td>Qualidade razoável</td>\n",
       "      <td>Play 1</td>\n",
       "    </tr>\n",
       "  </tbody>\n",
       "</table>\n",
       "</div>"
      ],
      "text/plain": [
       "    Coordenada x  Coordenada y   Bacia        Nome         Maturidade bacia  \\\n",
       "0      74.229378     24.830246  Bacia3   Projeto 1         Estrutura pronta   \n",
       "1       9.119333     82.303289  Bacia7   Projeto 2         Estrutura pronta   \n",
       "2      54.742209     78.330890  Bacia8   Projeto 3         Estrutura pronta   \n",
       "3      87.173936     16.992432  Bacia3   Projeto 4         Estrutura pronta   \n",
       "4      25.336572     18.054157  Bacia1   Projeto 5         Estrutura pronta   \n",
       "5      11.643534     79.476271  Bacia7   Projeto 6         Estrutura pronta   \n",
       "6      90.627161     87.064973  Bacia9   Projeto 7         Estrutura pronta   \n",
       "7      24.462413     76.482021  Bacia7   Projeto 8         Estrutura pronta   \n",
       "8      83.676345     59.707366  Bacia6   Projeto 9         Estrutura pronta   \n",
       "9      15.963294     46.030877  Bacia4  Projeto 10  Estrutura em construção   \n",
       "10     43.206957     26.476939  Bacia2  Projeto 11           Nova fronteira   \n",
       "11     50.384034     14.966655  Bacia2  Projeto 12           Nova fronteira   \n",
       "12     42.133117     83.295336  Bacia8  Projeto 13         Estrutura pronta   \n",
       "13     41.335649     52.790450  Bacia5  Projeto 14  Estrutura em construção   \n",
       "14     45.935352      7.250533  Bacia2  Projeto 15           Nova fronteira   \n",
       "15     54.712166     84.084484  Bacia8  Projeto 16         Estrutura pronta   \n",
       "16     89.900748     14.440430  Bacia3  Projeto 17         Estrutura pronta   \n",
       "17     58.896320     21.066823  Bacia2  Projeto 18           Nova fronteira   \n",
       "18     26.576954     58.091525  Bacia4  Projeto 19  Estrutura em construção   \n",
       "19     80.543373      7.109516  Bacia3  Projeto 20         Estrutura pronta   \n",
       "\n",
       "     Qualidade do dado    Play  \n",
       "0   Qualidade razoável  Play 2  \n",
       "1      Qualidade baixa  Play 2  \n",
       "2   Qualidade razoável  Play 4  \n",
       "3   Qualidade razoável  Play 7  \n",
       "4       Qualidade alta  Play 1  \n",
       "5      Qualidade baixa  Play 4  \n",
       "6   Qualidade razoável  Play 8  \n",
       "7      Qualidade baixa  Play 2  \n",
       "8      Qualidade baixa  Play 6  \n",
       "9       Qualidade alta  Play 2  \n",
       "10     Qualidade baixa  Play 3  \n",
       "11     Qualidade baixa  Play 9  \n",
       "12  Qualidade razoável  Play 1  \n",
       "13     Qualidade baixa  Play 7  \n",
       "14     Qualidade baixa  Play 9  \n",
       "15  Qualidade razoável  Play 6  \n",
       "16  Qualidade razoável  Play 6  \n",
       "17     Qualidade baixa  Play 1  \n",
       "18      Qualidade alta  Play 8  \n",
       "19  Qualidade razoável  Play 1  "
      ]
     },
     "execution_count": 16,
     "metadata": {},
     "output_type": "execute_result"
    }
   ],
   "source": [
    "proj_df"
   ]
  },
  {
   "cell_type": "code",
   "execution_count": 17,
   "metadata": {},
   "outputs": [
    {
     "data": {
      "text/plain": [
       "(array(['Bacia3', 'Bacia7', 'Bacia8', 'Bacia1', 'Bacia9', 'Bacia6',\n",
       "        'Bacia4', 'Bacia2', 'Bacia5'], dtype=object),\n",
       " array(['Estrutura pronta', 'Estrutura em construção', 'Nova fronteira'],\n",
       "       dtype=object),\n",
       " array(['Qualidade razoável', 'Qualidade baixa', 'Qualidade alta'],\n",
       "       dtype=object),\n",
       " array(['Play 2', 'Play 4', 'Play 7', 'Play 1', 'Play 8', 'Play 6',\n",
       "        'Play 3', 'Play 9'], dtype=object))"
      ]
     },
     "execution_count": 17,
     "metadata": {},
     "output_type": "execute_result"
    }
   ],
   "source": [
    "proj_df['Bacia'].unique(), proj_df['Maturidade bacia'].unique(), proj_df['Qualidade do dado'].unique(), proj_df['Play'].unique()"
   ]
  },
  {
   "cell_type": "markdown",
   "metadata": {},
   "source": [
    "## Definindo parâmetros volumétricos e risco geológico"
   ]
  },
  {
   "cell_type": "code",
   "execution_count": 18,
   "metadata": {},
   "outputs": [],
   "source": [
    "soterramento_range = (1000., 5000.)\n",
    "\n",
    "pcgna_range = (0., 1.)\n",
    "\n",
    "area_range = (20., 200.)\n",
    "netpay_range = (5., 100.)\n",
    "phi_range = (0.10, 0.32)\n",
    "trapfill_range = (0.5, 1.)\n",
    "shc_range = (0.5, 1.)\n",
    "bo_range = (1.4, 1.9)\n",
    "bg_range = (0.002, 0.004)\n",
    "rgo_range = (150, 250)\n",
    "rlg_range = (0.1, 0.15)\n",
    "froleo_range = (0.15, 0.25)\n",
    "frga_range = (0.15, 0.25)\n",
    "frgna_range = (0.15, 0.25)\n",
    "frcond_range = (0.15, 0.25)"
   ]
  },
  {
   "cell_type": "markdown",
   "metadata": {},
   "source": [
    "### TODO: colocar correlação nas variáveis aleatórias"
   ]
  },
  {
   "cell_type": "code",
   "execution_count": 19,
   "metadata": {},
   "outputs": [],
   "source": [
    "plays_completo = {}\n",
    "for p in plays:\n",
    "    plays_completo[copy.copy(p)] = {}\n",
    "    \n",
    "    loc, scale = soterramento_range[0], soterramento_range[1]-soterramento_range[0]\n",
    "    plays_completo[copy.copy(p)]['Soterramento'] = stats.uniform(loc, scale).rvs(2)\n",
    "    \n",
    "    loc, scale = pcgna_range[0], pcgna_range[1] - pcgna_range[0]\n",
    "    plays_completo[copy.copy(p)]['pcgna'] = stats.uniform(loc, scale).rvs(2)\n",
    "    \n",
    "    loc, scale = area_range[0], area_range[1] - area_range[0]\n",
    "    plays_completo[copy.copy(p)]['area'] = stats.uniform(loc, scale).rvs(2)\n",
    "    \n",
    "    loc, scale = netpay_range[0], netpay_range[1] - netpay_range[0]\n",
    "    plays_completo[copy.copy(p)]['netpay'] = stats.uniform(loc, scale).rvs(2)\n",
    "    \n",
    "    loc, scale = phi_range[0], phi_range[1] - phi_range[0]\n",
    "    plays_completo[copy.copy(p)]['phi'] = stats.uniform(loc, scale).rvs(2)\n",
    "    \n",
    "    loc, scale = trapfill_range[0], trapfill_range[1] - trapfill_range[0]\n",
    "    plays_completo[copy.copy(p)]['trapfill'] = stats.uniform(loc, scale).rvs(2)\n",
    "    \n",
    "    loc, scale = shc_range[0], shc_range[1] - shc_range[0]\n",
    "    plays_completo[copy.copy(p)]['shc'] = stats.uniform(loc, scale).rvs(2)\n",
    "    \n",
    "    loc, scale = bo_range[0], bo_range[1] - bo_range[0]\n",
    "    plays_completo[copy.copy(p)]['bo'] = stats.uniform(loc, scale).rvs(2)\n",
    "    \n",
    "    loc, scale = bg_range[0], bg_range[1] - bg_range[0]\n",
    "    plays_completo[copy.copy(p)]['bg'] = stats.uniform(loc, scale).rvs(2)\n",
    "    \n",
    "    loc, scale = rgo_range[0], rgo_range[1] - rgo_range[0]\n",
    "    plays_completo[copy.copy(p)]['rgo'] = stats.uniform(loc, scale).rvs(2)\n",
    "    \n",
    "    loc, scale = rlg_range[0], rlg_range[1] - rlg_range[0]\n",
    "    plays_completo[copy.copy(p)]['rlg'] = stats.uniform(loc, scale).rvs(2)\n",
    "    \n",
    "    loc, scale = froleo_range[0], froleo_range[1] - froleo_range[0]\n",
    "    plays_completo[copy.copy(p)]['froleo'] = stats.uniform(loc, scale).rvs(2)\n",
    "    \n",
    "    loc, scale = frga_range[0], frga_range[1] - frga_range[0]\n",
    "    plays_completo[copy.copy(p)]['frga'] = stats.uniform(loc, scale).rvs(2)\n",
    "    \n",
    "    loc, scale = frgna_range[0], frgna_range[1] - frgna_range[0]\n",
    "    plays_completo[copy.copy(p)]['frgna'] = stats.uniform(loc, scale).rvs(2)\n",
    "    \n",
    "    loc, scale = frcond_range[0], frcond_range[1] - frcond_range[0]\n",
    "    plays_completo[copy.copy(p)]['frcond'] = stats.uniform(loc, scale).rvs(2)"
   ]
  },
  {
   "cell_type": "code",
   "execution_count": 20,
   "metadata": {},
   "outputs": [
    {
     "data": {
      "text/plain": [
       "{'Play 1': {'Soterramento': array([4890.8558918 , 1856.89152674]),\n",
       "  'pcgna': array([0.70752501, 0.39746597]),\n",
       "  'area': array([37.83660647, 78.07543905]),\n",
       "  'netpay': array([57.01818578, 33.16370157]),\n",
       "  'phi': array([0.17606918, 0.22701367]),\n",
       "  'trapfill': array([0.65625982, 0.93099313]),\n",
       "  'shc': array([0.61479481, 0.69869121]),\n",
       "  'bo': array([1.89396543, 1.54967768]),\n",
       "  'bg': array([0.00389883, 0.00367235]),\n",
       "  'rgo': array([212.00228825, 223.52369886]),\n",
       "  'rlg': array([0.13990256, 0.14434019]),\n",
       "  'froleo': array([0.17866769, 0.21596216]),\n",
       "  'frga': array([0.23645073, 0.20481016]),\n",
       "  'frgna': array([0.21556895, 0.23386785]),\n",
       "  'frcond': array([0.19916865, 0.22230481])},\n",
       " 'Play 2': {'Soterramento': array([1307.17648579, 1218.11860196]),\n",
       "  'pcgna': array([0.52571505, 0.35787264]),\n",
       "  'area': array([ 56.60351246, 193.76783214]),\n",
       "  'netpay': array([17.46434021, 89.13426393]),\n",
       "  'phi': array([0.11870141, 0.14883934]),\n",
       "  'trapfill': array([0.73729103, 0.92696322]),\n",
       "  'shc': array([0.98360614, 0.63103397]),\n",
       "  'bo': array([1.54723298, 1.68698409]),\n",
       "  'bg': array([0.00212551, 0.00228062]),\n",
       "  'rgo': array([172.97435863, 189.19013576]),\n",
       "  'rlg': array([0.12174134, 0.10447826]),\n",
       "  'froleo': array([0.19520014, 0.15608607]),\n",
       "  'frga': array([0.17471213, 0.18347919]),\n",
       "  'frgna': array([0.21939294, 0.23514818]),\n",
       "  'frcond': array([0.18003832, 0.23815728])},\n",
       " 'Play 3': {'Soterramento': array([3289.38141336, 4408.28346966]),\n",
       "  'pcgna': array([0.20656873, 0.34754174]),\n",
       "  'area': array([133.09338792, 180.50021906]),\n",
       "  'netpay': array([27.78895947, 84.20960119]),\n",
       "  'phi': array([0.13896029, 0.2872496 ]),\n",
       "  'trapfill': array([0.98523369, 0.73604994]),\n",
       "  'shc': array([0.61085892, 0.59965347]),\n",
       "  'bo': array([1.54108691, 1.89547995]),\n",
       "  'bg': array([0.00346324, 0.00271918]),\n",
       "  'rgo': array([249.78630821, 228.00607747]),\n",
       "  'rlg': array([0.14825388, 0.12142737]),\n",
       "  'froleo': array([0.21848884, 0.17329337]),\n",
       "  'frga': array([0.21068696, 0.22044272]),\n",
       "  'frgna': array([0.19471828, 0.15934005]),\n",
       "  'frcond': array([0.23301571, 0.20245898])},\n",
       " 'Play 4': {'Soterramento': array([1203.03082763, 4923.80789279]),\n",
       "  'pcgna': array([0.77140716, 0.08854899]),\n",
       "  'area': array([174.55835042, 191.3441161 ]),\n",
       "  'netpay': array([47.94712015, 76.71037681]),\n",
       "  'phi': array([0.21112744, 0.26369817]),\n",
       "  'trapfill': array([0.67731194, 0.63947616]),\n",
       "  'shc': array([0.98320898, 0.59087049]),\n",
       "  'bo': array([1.75913661, 1.79276205]),\n",
       "  'bg': array([0.00374897, 0.00271446]),\n",
       "  'rgo': array([220.82749302, 215.11685231]),\n",
       "  'rlg': array([0.10707712, 0.11529905]),\n",
       "  'froleo': array([0.22773473, 0.24507585]),\n",
       "  'frga': array([0.22918738, 0.15198704]),\n",
       "  'frgna': array([0.20301786, 0.23761666]),\n",
       "  'frcond': array([0.23465876, 0.21823844])},\n",
       " 'Play 5': {'Soterramento': array([3974.79215984, 3330.2828253 ]),\n",
       "  'pcgna': array([0.50430142, 0.8801169 ]),\n",
       "  'area': array([ 72.4412053 , 185.68056306]),\n",
       "  'netpay': array([39.90833691,  8.78114115]),\n",
       "  'phi': array([0.12892391, 0.26849159]),\n",
       "  'trapfill': array([0.73460048, 0.59976751]),\n",
       "  'shc': array([0.6796392 , 0.85065917]),\n",
       "  'bo': array([1.77571993, 1.6725552 ]),\n",
       "  'bg': array([0.00342178, 0.00262497]),\n",
       "  'rgo': array([211.43545217, 155.2837061 ]),\n",
       "  'rlg': array([0.10764533, 0.14171348]),\n",
       "  'froleo': array([0.20486631, 0.21103594]),\n",
       "  'frga': array([0.2004656 , 0.19027587]),\n",
       "  'frgna': array([0.24830883, 0.23914769]),\n",
       "  'frcond': array([0.15664639, 0.15329414])},\n",
       " 'Play 6': {'Soterramento': array([2136.24370094, 4279.79969375]),\n",
       "  'pcgna': array([0.52509609, 0.3308503 ]),\n",
       "  'area': array([161.03028933, 118.42539614]),\n",
       "  'netpay': array([56.32044157, 82.72274218]),\n",
       "  'phi': array([0.15786841, 0.24063035]),\n",
       "  'trapfill': array([0.9585917 , 0.58857881]),\n",
       "  'shc': array([0.76475653, 0.87836808]),\n",
       "  'bo': array([1.41524896, 1.69980612]),\n",
       "  'bg': array([0.00208522, 0.00330035]),\n",
       "  'rgo': array([157.85699127, 204.58466356]),\n",
       "  'rlg': array([0.11976364, 0.14673195]),\n",
       "  'froleo': array([0.20076143, 0.18392922]),\n",
       "  'frga': array([0.22499491, 0.16180808]),\n",
       "  'frgna': array([0.2300592 , 0.17778432]),\n",
       "  'frcond': array([0.19628499, 0.24281027])},\n",
       " 'Play 7': {'Soterramento': array([1511.23463106, 4327.01717358]),\n",
       "  'pcgna': array([0.24909087, 0.49565784]),\n",
       "  'area': array([126.12750751,  29.25808112]),\n",
       "  'netpay': array([50.95401847, 41.75845984]),\n",
       "  'phi': array([0.29578576, 0.2767198 ]),\n",
       "  'trapfill': array([0.97884595, 0.51001865]),\n",
       "  'shc': array([0.56344053, 0.62081266]),\n",
       "  'bo': array([1.5974957 , 1.84514002]),\n",
       "  'bg': array([0.0026447 , 0.00299408]),\n",
       "  'rgo': array([175.56728952, 178.99379385]),\n",
       "  'rlg': array([0.11167787, 0.10081338]),\n",
       "  'froleo': array([0.16553619, 0.23029507]),\n",
       "  'frga': array([0.1999786 , 0.18619261]),\n",
       "  'frgna': array([0.17930237, 0.22907842]),\n",
       "  'frcond': array([0.19775446, 0.24387036])},\n",
       " 'Play 8': {'Soterramento': array([2855.51343328, 3473.06136596]),\n",
       "  'pcgna': array([0.37055708, 0.03108912]),\n",
       "  'area': array([93.08932523, 45.52721803]),\n",
       "  'netpay': array([82.66066548, 42.11569904]),\n",
       "  'phi': array([0.31072792, 0.18341772]),\n",
       "  'trapfill': array([0.65042576, 0.77908599]),\n",
       "  'shc': array([0.75292924, 0.96186514]),\n",
       "  'bo': array([1.43828094, 1.78622296]),\n",
       "  'bg': array([0.00215321, 0.00299865]),\n",
       "  'rgo': array([170.71186006, 153.98782906]),\n",
       "  'rlg': array([0.11455966, 0.10597666]),\n",
       "  'froleo': array([0.18141596, 0.24432594]),\n",
       "  'frga': array([0.22871944, 0.1521225 ]),\n",
       "  'frgna': array([0.18177742, 0.16572626]),\n",
       "  'frcond': array([0.21745594, 0.21651374])},\n",
       " 'Play 9': {'Soterramento': array([3981.80303433, 2379.67875336]),\n",
       "  'pcgna': array([0.64573993, 0.89898428]),\n",
       "  'area': array([157.86384055, 188.90080629]),\n",
       "  'netpay': array([83.63037795, 53.59228789]),\n",
       "  'phi': array([0.1004564, 0.1771449]),\n",
       "  'trapfill': array([0.68359265, 0.7213182 ]),\n",
       "  'shc': array([0.73926264, 0.91088375]),\n",
       "  'bo': array([1.74621555, 1.78682248]),\n",
       "  'bg': array([0.00312206, 0.00308948]),\n",
       "  'rgo': array([178.93394075, 162.87321879]),\n",
       "  'rlg': array([0.1364543 , 0.10618662]),\n",
       "  'froleo': array([0.23156448, 0.18666354]),\n",
       "  'frga': array([0.22189414, 0.22887673]),\n",
       "  'frgna': array([0.18000719, 0.20546059]),\n",
       "  'frcond': array([0.24676275, 0.16816698])},\n",
       " 'Play 10': {'Soterramento': array([4309.36085302, 3489.41812738]),\n",
       "  'pcgna': array([0.60092609, 0.86093483]),\n",
       "  'area': array([69.96050389, 43.76854035]),\n",
       "  'netpay': array([28.19402905, 87.60583534]),\n",
       "  'phi': array([0.13254213, 0.29011152]),\n",
       "  'trapfill': array([0.68599997, 0.69651686]),\n",
       "  'shc': array([0.50580599, 0.59679616]),\n",
       "  'bo': array([1.6412065 , 1.88019538]),\n",
       "  'bg': array([0.0025536 , 0.00246251]),\n",
       "  'rgo': array([160.49143539, 246.65519435]),\n",
       "  'rlg': array([0.1392578 , 0.12239257]),\n",
       "  'froleo': array([0.21836978, 0.16138103]),\n",
       "  'frga': array([0.15658781, 0.1821959 ]),\n",
       "  'frgna': array([0.17778633, 0.15838471]),\n",
       "  'frcond': array([0.22418817, 0.24907415])}}"
      ]
     },
     "execution_count": 20,
     "metadata": {},
     "output_type": "execute_result"
    }
   ],
   "source": [
    "plays_completo"
   ]
  },
  {
   "cell_type": "markdown",
   "metadata": {},
   "source": [
    "### TODO: escalar incerteza pela qualidade do dado e maturidade da bacia"
   ]
  },
  {
   "cell_type": "markdown",
   "metadata": {},
   "source": [
    "### TODO: colocar fatores de risco com compentes por bacia, play, e prospecto"
   ]
  },
  {
   "cell_type": "code",
   "execution_count": 21,
   "metadata": {},
   "outputs": [],
   "source": [
    "def ComputeDist(p90_play, p10_play):\n",
    "    loc, scale = p90_play, p10_play - p90_play\n",
    "    p90_proj, p10_proj = sorted(stats.uniform(loc, scale).rvs(2))\n",
    "    mu = (np.log(p90_proj) + np.log(p10_proj)) / 2\n",
    "    sigma = (np.log(p10_proj)-mu) / 1.2815515655446\n",
    "    dist = stats.lognorm(s=sigma, scale=np.exp(mu))\n",
    "    return dist\n",
    "\n",
    "projetos['Soterramento'] = []\n",
    "projetos['pcgna'] = []\n",
    "projetos['area'] = []\n",
    "projetos['netpay'] = []\n",
    "projetos['phi'] = []\n",
    "projetos['trapfill'] = []\n",
    "projetos['shc'] = []\n",
    "projetos['bo'] = []\n",
    "projetos['bg'] = []\n",
    "projetos['rgo'] = []\n",
    "projetos['rlg'] = []\n",
    "projetos['froleo'] = []\n",
    "projetos['frga'] = []\n",
    "projetos['frgna'] = []\n",
    "projetos['frcond'] = []\n",
    "projetos['geração'] = []\n",
    "projetos['migração'] = []\n",
    "projetos['reservatório'] = []\n",
    "projetos['geometria'] = []\n",
    "projetos['retenção'] = []\n",
    "projetos['PS HC'] = []\n",
    "\n",
    "for k, p in enumerate(projetos['Nome']):\n",
    "    \n",
    "    play = projetos['Play'][k]\n",
    "    \n",
    "    soterr_p90_play, soterr_p10_play = sorted(plays_completo[play]['Soterramento']) # soterramento\n",
    "    pcgna_p90_play, pcgna_p10_play = sorted(plays_completo[play]['pcgna']) # pcgna \n",
    "    area_p90_play, area_p10_play = sorted(plays_completo[play]['area']) # area\n",
    "    netpay_p90_play, netpay_p10_play = sorted(plays_completo[play]['netpay']) # netpay \n",
    "    phi_p90_play, phi_p10_play = sorted(plays_completo[play]['phi']) # phi \n",
    "    trapfill_p90_play, trapfill_p10_play = sorted(plays_completo[play]['trapfill']) # trapfill \n",
    "    shc_p90_play, shc_p10_play = sorted(plays_completo[play]['shc']) # shc \n",
    "    bo_p90_play, bo_p10_play = sorted(plays_completo[play]['bo']) # bo \n",
    "    bg_p90_play, bg_p10_play = sorted(plays_completo[play]['bg']) # bg \n",
    "    rgo_p90_play, rgo_p10_play = sorted(plays_completo[play]['rgo']) # rgo \n",
    "    rlg_p90_play, rlg_p10_play = sorted(plays_completo[play]['rlg']) # rlg \n",
    "    froleo_p90_play, froleo_p10_play = sorted(plays_completo[play]['froleo']) # froleo \n",
    "    frga_p90_play, frga_p10_play = sorted(plays_completo[play]['frga']) # frga \n",
    "    frgna_p90_play, frgna_p10_play = sorted(plays_completo[play]['frgna']) # frgna\n",
    "    frcond_p90_play, frcond_p10_play = sorted(plays_completo[play]['frcond']) # frcond\n",
    "    \n",
    "    loc, scale = soterr_p90_play, soterr_p10_play - soterr_p90_play\n",
    "    soterramento = stats.uniform(loc, scale).rvs(1)[0]\n",
    "    projetos['Soterramento'].append(soterramento)\n",
    "    \n",
    "    loc, scale = pcgna_p90_play, pcgna_p10_play - pcgna_p90_play\n",
    "    pcgna = stats.uniform(loc, scale).rvs(1)[0]\n",
    "    projetos['pcgna'].append(pcgna)\n",
    "    \n",
    "    # area\n",
    "    area_dist = ComputeDist(area_p90_play, area_p10_play)\n",
    "    projetos['area'].append(area_dist)\n",
    "    # netpay\n",
    "    netpay_dist = ComputeDist(netpay_p90_play, netpay_p10_play)\n",
    "    projetos['netpay'].append(netpay_dist)\n",
    "    # phi\n",
    "    phi_dist = ComputeDist(phi_p90_play, phi_p10_play)\n",
    "    projetos['phi'].append(phi_dist)\n",
    "    # trapfill\n",
    "    trapfill_dist = ComputeDist(trapfill_p90_play, trapfill_p10_play)\n",
    "    projetos['trapfill'].append(trapfill_dist)\n",
    "    # shc\n",
    "    shc_dist = ComputeDist(shc_p90_play, shc_p10_play)\n",
    "    projetos['shc'].append(shc_dist)\n",
    "    # bo\n",
    "    bo_dist = ComputeDist(bo_p90_play, bo_p10_play)\n",
    "    projetos['bo'].append(bo_dist)\n",
    "    # bg\n",
    "    bg_dist = ComputeDist(bg_p90_play, bg_p10_play)\n",
    "    projetos['bg'].append(bg_dist)\n",
    "    # rgo\n",
    "    rgo_dist = ComputeDist(rgo_p90_play, rgo_p10_play)\n",
    "    projetos['rgo'].append(rgo_dist)\n",
    "    # rlg\n",
    "    rlg_dist = ComputeDist(rlg_p90_play, rlg_p10_play)\n",
    "    projetos['rlg'].append(rlg_dist)\n",
    "    # froleo\n",
    "    froleo_dist = ComputeDist(froleo_p90_play, froleo_p10_play)\n",
    "    projetos['froleo'].append(froleo_dist)\n",
    "    # frga\n",
    "    frga_dist = ComputeDist(frga_p90_play, frga_p10_play)\n",
    "    projetos['frga'].append(frga_dist)\n",
    "    # frgna\n",
    "    frgna_dist = ComputeDist(frgna_p90_play, frgna_p10_play)\n",
    "    projetos['frgna'].append(frgna_dist)\n",
    "    # frcond\n",
    "    frcond_dist = ComputeDist(frcond_p90_play, frcond_p10_play)\n",
    "    projetos['frcond'].append(frcond_dist)\n",
    "    \n",
    "    geracao = stats.uniform(0.4, 0.6).rvs(1)[0]\n",
    "    projetos['geração'].append(geracao)\n",
    "    migracao = stats.uniform(0.4, 0.6).rvs(1)[0]\n",
    "    projetos['migração'].append(migracao)\n",
    "    reservatorio = stats.uniform(0.4, 0.6).rvs(1)[0]\n",
    "    projetos['reservatório'].append(reservatorio)\n",
    "    geometria = stats.uniform(0.4, 0.6).rvs(1)[0]\n",
    "    projetos['geometria'].append(geometria)\n",
    "    retencao = stats.uniform(0.4, 0.6).rvs(1)[0]\n",
    "    projetos['retenção'].append(retencao)\n",
    "    projetos['PS HC'].append( geracao*migracao*reservatorio*geometria*retencao )\n",
    "    "
   ]
  },
  {
   "cell_type": "code",
   "execution_count": 22,
   "metadata": {},
   "outputs": [],
   "source": [
    "proj_df = pd.DataFrame(projetos)"
   ]
  },
  {
   "cell_type": "code",
   "execution_count": 23,
   "metadata": {},
   "outputs": [
    {
     "data": {
      "text/html": [
       "<div>\n",
       "<style scoped>\n",
       "    .dataframe tbody tr th:only-of-type {\n",
       "        vertical-align: middle;\n",
       "    }\n",
       "\n",
       "    .dataframe tbody tr th {\n",
       "        vertical-align: top;\n",
       "    }\n",
       "\n",
       "    .dataframe thead th {\n",
       "        text-align: right;\n",
       "    }\n",
       "</style>\n",
       "<table border=\"1\" class=\"dataframe\">\n",
       "  <thead>\n",
       "    <tr style=\"text-align: right;\">\n",
       "      <th></th>\n",
       "      <th>Coordenada x</th>\n",
       "      <th>Coordenada y</th>\n",
       "      <th>Bacia</th>\n",
       "      <th>Nome</th>\n",
       "      <th>Maturidade bacia</th>\n",
       "      <th>Qualidade do dado</th>\n",
       "      <th>Play</th>\n",
       "      <th>Soterramento</th>\n",
       "      <th>pcgna</th>\n",
       "      <th>area</th>\n",
       "      <th>...</th>\n",
       "      <th>froleo</th>\n",
       "      <th>frga</th>\n",
       "      <th>frgna</th>\n",
       "      <th>frcond</th>\n",
       "      <th>geração</th>\n",
       "      <th>migração</th>\n",
       "      <th>reservatório</th>\n",
       "      <th>geometria</th>\n",
       "      <th>retenção</th>\n",
       "      <th>PS HC</th>\n",
       "    </tr>\n",
       "  </thead>\n",
       "  <tbody>\n",
       "    <tr>\n",
       "      <th>0</th>\n",
       "      <td>74.229378</td>\n",
       "      <td>24.830246</td>\n",
       "      <td>Bacia3</td>\n",
       "      <td>Projeto 1</td>\n",
       "      <td>Estrutura pronta</td>\n",
       "      <td>Qualidade razoável</td>\n",
       "      <td>Play 2</td>\n",
       "      <td>1288.650151</td>\n",
       "      <td>0.377734</td>\n",
       "      <td>&lt;scipy.stats._distn_infrastructure.rv_frozen o...</td>\n",
       "      <td>...</td>\n",
       "      <td>&lt;scipy.stats._distn_infrastructure.rv_frozen o...</td>\n",
       "      <td>&lt;scipy.stats._distn_infrastructure.rv_frozen o...</td>\n",
       "      <td>&lt;scipy.stats._distn_infrastructure.rv_frozen o...</td>\n",
       "      <td>&lt;scipy.stats._distn_infrastructure.rv_frozen o...</td>\n",
       "      <td>0.949191</td>\n",
       "      <td>0.995033</td>\n",
       "      <td>0.761623</td>\n",
       "      <td>0.518609</td>\n",
       "      <td>0.632124</td>\n",
       "      <td>0.235816</td>\n",
       "    </tr>\n",
       "    <tr>\n",
       "      <th>1</th>\n",
       "      <td>9.119333</td>\n",
       "      <td>82.303289</td>\n",
       "      <td>Bacia7</td>\n",
       "      <td>Projeto 2</td>\n",
       "      <td>Estrutura pronta</td>\n",
       "      <td>Qualidade baixa</td>\n",
       "      <td>Play 2</td>\n",
       "      <td>1303.331427</td>\n",
       "      <td>0.374704</td>\n",
       "      <td>&lt;scipy.stats._distn_infrastructure.rv_frozen o...</td>\n",
       "      <td>...</td>\n",
       "      <td>&lt;scipy.stats._distn_infrastructure.rv_frozen o...</td>\n",
       "      <td>&lt;scipy.stats._distn_infrastructure.rv_frozen o...</td>\n",
       "      <td>&lt;scipy.stats._distn_infrastructure.rv_frozen o...</td>\n",
       "      <td>&lt;scipy.stats._distn_infrastructure.rv_frozen o...</td>\n",
       "      <td>0.670750</td>\n",
       "      <td>0.775253</td>\n",
       "      <td>0.991718</td>\n",
       "      <td>0.462428</td>\n",
       "      <td>0.599401</td>\n",
       "      <td>0.142940</td>\n",
       "    </tr>\n",
       "    <tr>\n",
       "      <th>2</th>\n",
       "      <td>54.742209</td>\n",
       "      <td>78.330890</td>\n",
       "      <td>Bacia8</td>\n",
       "      <td>Projeto 3</td>\n",
       "      <td>Estrutura pronta</td>\n",
       "      <td>Qualidade razoável</td>\n",
       "      <td>Play 4</td>\n",
       "      <td>2072.448587</td>\n",
       "      <td>0.092404</td>\n",
       "      <td>&lt;scipy.stats._distn_infrastructure.rv_frozen o...</td>\n",
       "      <td>...</td>\n",
       "      <td>&lt;scipy.stats._distn_infrastructure.rv_frozen o...</td>\n",
       "      <td>&lt;scipy.stats._distn_infrastructure.rv_frozen o...</td>\n",
       "      <td>&lt;scipy.stats._distn_infrastructure.rv_frozen o...</td>\n",
       "      <td>&lt;scipy.stats._distn_infrastructure.rv_frozen o...</td>\n",
       "      <td>0.483402</td>\n",
       "      <td>0.957450</td>\n",
       "      <td>0.623687</td>\n",
       "      <td>0.667991</td>\n",
       "      <td>0.525538</td>\n",
       "      <td>0.101337</td>\n",
       "    </tr>\n",
       "    <tr>\n",
       "      <th>3</th>\n",
       "      <td>87.173936</td>\n",
       "      <td>16.992432</td>\n",
       "      <td>Bacia3</td>\n",
       "      <td>Projeto 4</td>\n",
       "      <td>Estrutura pronta</td>\n",
       "      <td>Qualidade razoável</td>\n",
       "      <td>Play 7</td>\n",
       "      <td>4174.453705</td>\n",
       "      <td>0.264731</td>\n",
       "      <td>&lt;scipy.stats._distn_infrastructure.rv_frozen o...</td>\n",
       "      <td>...</td>\n",
       "      <td>&lt;scipy.stats._distn_infrastructure.rv_frozen o...</td>\n",
       "      <td>&lt;scipy.stats._distn_infrastructure.rv_frozen o...</td>\n",
       "      <td>&lt;scipy.stats._distn_infrastructure.rv_frozen o...</td>\n",
       "      <td>&lt;scipy.stats._distn_infrastructure.rv_frozen o...</td>\n",
       "      <td>0.625320</td>\n",
       "      <td>0.991333</td>\n",
       "      <td>0.529571</td>\n",
       "      <td>0.905051</td>\n",
       "      <td>0.673538</td>\n",
       "      <td>0.200116</td>\n",
       "    </tr>\n",
       "    <tr>\n",
       "      <th>4</th>\n",
       "      <td>25.336572</td>\n",
       "      <td>18.054157</td>\n",
       "      <td>Bacia1</td>\n",
       "      <td>Projeto 5</td>\n",
       "      <td>Estrutura pronta</td>\n",
       "      <td>Qualidade alta</td>\n",
       "      <td>Play 1</td>\n",
       "      <td>2631.660587</td>\n",
       "      <td>0.475625</td>\n",
       "      <td>&lt;scipy.stats._distn_infrastructure.rv_frozen o...</td>\n",
       "      <td>...</td>\n",
       "      <td>&lt;scipy.stats._distn_infrastructure.rv_frozen o...</td>\n",
       "      <td>&lt;scipy.stats._distn_infrastructure.rv_frozen o...</td>\n",
       "      <td>&lt;scipy.stats._distn_infrastructure.rv_frozen o...</td>\n",
       "      <td>&lt;scipy.stats._distn_infrastructure.rv_frozen o...</td>\n",
       "      <td>0.425047</td>\n",
       "      <td>0.729151</td>\n",
       "      <td>0.490149</td>\n",
       "      <td>0.417390</td>\n",
       "      <td>0.477651</td>\n",
       "      <td>0.030285</td>\n",
       "    </tr>\n",
       "  </tbody>\n",
       "</table>\n",
       "<p>5 rows × 28 columns</p>\n",
       "</div>"
      ],
      "text/plain": [
       "   Coordenada x  Coordenada y   Bacia       Nome  Maturidade bacia  \\\n",
       "0     74.229378     24.830246  Bacia3  Projeto 1  Estrutura pronta   \n",
       "1      9.119333     82.303289  Bacia7  Projeto 2  Estrutura pronta   \n",
       "2     54.742209     78.330890  Bacia8  Projeto 3  Estrutura pronta   \n",
       "3     87.173936     16.992432  Bacia3  Projeto 4  Estrutura pronta   \n",
       "4     25.336572     18.054157  Bacia1  Projeto 5  Estrutura pronta   \n",
       "\n",
       "    Qualidade do dado    Play  Soterramento     pcgna  \\\n",
       "0  Qualidade razoável  Play 2   1288.650151  0.377734   \n",
       "1     Qualidade baixa  Play 2   1303.331427  0.374704   \n",
       "2  Qualidade razoável  Play 4   2072.448587  0.092404   \n",
       "3  Qualidade razoável  Play 7   4174.453705  0.264731   \n",
       "4      Qualidade alta  Play 1   2631.660587  0.475625   \n",
       "\n",
       "                                                area  ...  \\\n",
       "0  <scipy.stats._distn_infrastructure.rv_frozen o...  ...   \n",
       "1  <scipy.stats._distn_infrastructure.rv_frozen o...  ...   \n",
       "2  <scipy.stats._distn_infrastructure.rv_frozen o...  ...   \n",
       "3  <scipy.stats._distn_infrastructure.rv_frozen o...  ...   \n",
       "4  <scipy.stats._distn_infrastructure.rv_frozen o...  ...   \n",
       "\n",
       "                                              froleo  \\\n",
       "0  <scipy.stats._distn_infrastructure.rv_frozen o...   \n",
       "1  <scipy.stats._distn_infrastructure.rv_frozen o...   \n",
       "2  <scipy.stats._distn_infrastructure.rv_frozen o...   \n",
       "3  <scipy.stats._distn_infrastructure.rv_frozen o...   \n",
       "4  <scipy.stats._distn_infrastructure.rv_frozen o...   \n",
       "\n",
       "                                                frga  \\\n",
       "0  <scipy.stats._distn_infrastructure.rv_frozen o...   \n",
       "1  <scipy.stats._distn_infrastructure.rv_frozen o...   \n",
       "2  <scipy.stats._distn_infrastructure.rv_frozen o...   \n",
       "3  <scipy.stats._distn_infrastructure.rv_frozen o...   \n",
       "4  <scipy.stats._distn_infrastructure.rv_frozen o...   \n",
       "\n",
       "                                               frgna  \\\n",
       "0  <scipy.stats._distn_infrastructure.rv_frozen o...   \n",
       "1  <scipy.stats._distn_infrastructure.rv_frozen o...   \n",
       "2  <scipy.stats._distn_infrastructure.rv_frozen o...   \n",
       "3  <scipy.stats._distn_infrastructure.rv_frozen o...   \n",
       "4  <scipy.stats._distn_infrastructure.rv_frozen o...   \n",
       "\n",
       "                                              frcond   geração  migração  \\\n",
       "0  <scipy.stats._distn_infrastructure.rv_frozen o...  0.949191  0.995033   \n",
       "1  <scipy.stats._distn_infrastructure.rv_frozen o...  0.670750  0.775253   \n",
       "2  <scipy.stats._distn_infrastructure.rv_frozen o...  0.483402  0.957450   \n",
       "3  <scipy.stats._distn_infrastructure.rv_frozen o...  0.625320  0.991333   \n",
       "4  <scipy.stats._distn_infrastructure.rv_frozen o...  0.425047  0.729151   \n",
       "\n",
       "  reservatório geometria  retenção     PS HC  \n",
       "0     0.761623  0.518609  0.632124  0.235816  \n",
       "1     0.991718  0.462428  0.599401  0.142940  \n",
       "2     0.623687  0.667991  0.525538  0.101337  \n",
       "3     0.529571  0.905051  0.673538  0.200116  \n",
       "4     0.490149  0.417390  0.477651  0.030285  \n",
       "\n",
       "[5 rows x 28 columns]"
      ]
     },
     "execution_count": 23,
     "metadata": {},
     "output_type": "execute_result"
    }
   ],
   "source": [
    "proj_df.head()"
   ]
  },
  {
   "cell_type": "code",
   "execution_count": 24,
   "metadata": {},
   "outputs": [
    {
     "data": {
      "text/html": [
       "<div>\n",
       "<style scoped>\n",
       "    .dataframe tbody tr th:only-of-type {\n",
       "        vertical-align: middle;\n",
       "    }\n",
       "\n",
       "    .dataframe tbody tr th {\n",
       "        vertical-align: top;\n",
       "    }\n",
       "\n",
       "    .dataframe thead th {\n",
       "        text-align: right;\n",
       "    }\n",
       "</style>\n",
       "<table border=\"1\" class=\"dataframe\">\n",
       "  <thead>\n",
       "    <tr style=\"text-align: right;\">\n",
       "      <th></th>\n",
       "      <th>geração</th>\n",
       "      <th>migração</th>\n",
       "      <th>reservatório</th>\n",
       "      <th>geometria</th>\n",
       "      <th>retenção</th>\n",
       "      <th>PS HC</th>\n",
       "    </tr>\n",
       "  </thead>\n",
       "  <tbody>\n",
       "    <tr>\n",
       "      <th>count</th>\n",
       "      <td>20.000000</td>\n",
       "      <td>20.000000</td>\n",
       "      <td>20.000000</td>\n",
       "      <td>20.000000</td>\n",
       "      <td>20.000000</td>\n",
       "      <td>20.000000</td>\n",
       "    </tr>\n",
       "    <tr>\n",
       "      <th>mean</th>\n",
       "      <td>0.645940</td>\n",
       "      <td>0.793675</td>\n",
       "      <td>0.669922</td>\n",
       "      <td>0.689582</td>\n",
       "      <td>0.747136</td>\n",
       "      <td>0.180133</td>\n",
       "    </tr>\n",
       "    <tr>\n",
       "      <th>std</th>\n",
       "      <td>0.149003</td>\n",
       "      <td>0.131636</td>\n",
       "      <td>0.197522</td>\n",
       "      <td>0.204976</td>\n",
       "      <td>0.187714</td>\n",
       "      <td>0.098377</td>\n",
       "    </tr>\n",
       "    <tr>\n",
       "      <th>min</th>\n",
       "      <td>0.425047</td>\n",
       "      <td>0.480189</td>\n",
       "      <td>0.412680</td>\n",
       "      <td>0.415916</td>\n",
       "      <td>0.424390</td>\n",
       "      <td>0.030285</td>\n",
       "    </tr>\n",
       "    <tr>\n",
       "      <th>25%</th>\n",
       "      <td>0.524188</td>\n",
       "      <td>0.727596</td>\n",
       "      <td>0.497852</td>\n",
       "      <td>0.499567</td>\n",
       "      <td>0.614311</td>\n",
       "      <td>0.117783</td>\n",
       "    </tr>\n",
       "    <tr>\n",
       "      <th>50%</th>\n",
       "      <td>0.618433</td>\n",
       "      <td>0.794694</td>\n",
       "      <td>0.648470</td>\n",
       "      <td>0.687935</td>\n",
       "      <td>0.763392</td>\n",
       "      <td>0.168703</td>\n",
       "    </tr>\n",
       "    <tr>\n",
       "      <th>75%</th>\n",
       "      <td>0.710236</td>\n",
       "      <td>0.860315</td>\n",
       "      <td>0.866739</td>\n",
       "      <td>0.887579</td>\n",
       "      <td>0.936070</td>\n",
       "      <td>0.239012</td>\n",
       "    </tr>\n",
       "    <tr>\n",
       "      <th>max</th>\n",
       "      <td>0.949191</td>\n",
       "      <td>0.995033</td>\n",
       "      <td>0.991718</td>\n",
       "      <td>0.950598</td>\n",
       "      <td>0.993864</td>\n",
       "      <td>0.357295</td>\n",
       "    </tr>\n",
       "  </tbody>\n",
       "</table>\n",
       "</div>"
      ],
      "text/plain": [
       "         geração   migração  reservatório  geometria   retenção      PS HC\n",
       "count  20.000000  20.000000     20.000000  20.000000  20.000000  20.000000\n",
       "mean    0.645940   0.793675      0.669922   0.689582   0.747136   0.180133\n",
       "std     0.149003   0.131636      0.197522   0.204976   0.187714   0.098377\n",
       "min     0.425047   0.480189      0.412680   0.415916   0.424390   0.030285\n",
       "25%     0.524188   0.727596      0.497852   0.499567   0.614311   0.117783\n",
       "50%     0.618433   0.794694      0.648470   0.687935   0.763392   0.168703\n",
       "75%     0.710236   0.860315      0.866739   0.887579   0.936070   0.239012\n",
       "max     0.949191   0.995033      0.991718   0.950598   0.993864   0.357295"
      ]
     },
     "execution_count": 24,
     "metadata": {},
     "output_type": "execute_result"
    }
   ],
   "source": [
    "proj_df[['geração', 'migração', 'reservatório', 'geometria', 'retenção', 'PS HC']].describe()"
   ]
  },
  {
   "cell_type": "code",
   "execution_count": 25,
   "metadata": {
    "scrolled": false
   },
   "outputs": [
    {
     "data": {
      "text/plain": [
       "['Coordenada x',\n",
       " 'Coordenada y',\n",
       " 'Bacia',\n",
       " 'Nome',\n",
       " 'Maturidade bacia',\n",
       " 'Qualidade do dado',\n",
       " 'Play',\n",
       " 'Soterramento',\n",
       " 'pcgna',\n",
       " 'area',\n",
       " 'netpay',\n",
       " 'phi',\n",
       " 'trapfill',\n",
       " 'shc',\n",
       " 'bo',\n",
       " 'bg',\n",
       " 'rgo',\n",
       " 'rlg',\n",
       " 'froleo',\n",
       " 'frga',\n",
       " 'frgna',\n",
       " 'frcond',\n",
       " 'geração',\n",
       " 'migração',\n",
       " 'reservatório',\n",
       " 'geometria',\n",
       " 'retenção',\n",
       " 'PS HC']"
      ]
     },
     "execution_count": 25,
     "metadata": {},
     "output_type": "execute_result"
    }
   ],
   "source": [
    "list(projetos.keys())"
   ]
  },
  {
   "cell_type": "markdown",
   "metadata": {},
   "source": [
    "## Simulação dos volumes condicionais e incondicionais (Monte Carlo)"
   ]
  },
  {
   "cell_type": "code",
   "execution_count": 26,
   "metadata": {},
   "outputs": [],
   "source": [
    "iteracoes = 1000\n",
    "\n",
    "projetos['volume oleo'] = []\n",
    "projetos['volume ga'] = []\n",
    "projetos['volume gna'] = []\n",
    "projetos['volume cond'] = []\n",
    "projetos['volume condicional'] = []\n",
    "projetos['média condicional'] = []\n",
    "projetos['volume incondicional'] = []\n",
    "projetos['média incondicional'] = []\n",
    "\n",
    "for k in range(n_projetos):\n",
    "    \n",
    "    volume_oleo_dist = []\n",
    "    volume_ga_dist = []\n",
    "    volume_gna_dist = []\n",
    "    volume_cond_dist = []\n",
    "    volume_hc_dist = []\n",
    "    volume_condicional_dist = []\n",
    "    volume_incondicional_dist = []\n",
    "    \n",
    "    for i in range(iteracoes):\n",
    "        \n",
    "        # sortear se é uma descoberta\n",
    "        descoberta = stats.uniform(0, 1).rvs(1)[0] < projetos['PS HC'][k]\n",
    "        \n",
    "        # sortear o flúido principal\n",
    "        fluido = 'óleo' if stats.uniform(0, 1).rvs(1)[0] < projetos['pcgna'][k] else 'gás'\n",
    "        \n",
    "        # dado o flúido principal, calcular volumes\n",
    "        area = projetos['area'][k].rvs(1)[0]\n",
    "        netpay = projetos['netpay'][k].rvs(1)[0]\n",
    "        phi = projetos['phi'][k].rvs(1)[0]\n",
    "        trapfill = projetos['trapfill'][k].rvs(1)[0]\n",
    "        shc = projetos['shc'][k].rvs(1)[0]\n",
    "        bo = projetos['bo'][k].rvs(1)[0]\n",
    "        bg = projetos['bg'][k].rvs(1)[0]\n",
    "        rgo = projetos['rgo'][k].rvs(1)[0]\n",
    "        rlg = projetos['rlg'][k].rvs(1)[0]\n",
    "        froleo = projetos['froleo'][k].rvs(1)[0]\n",
    "        frga = projetos['frga'][k].rvs(1)[0]\n",
    "        frgna = projetos['frgna'][k].rvs(1)[0]\n",
    "        frcond = projetos['frcond'][k].rvs(1)[0]\n",
    "        \n",
    "        if fluido == 'óleo':\n",
    "            comum = area * netpay * phi * trapfill * shc\n",
    "            volume_oleo = ((comum * froleo) / bo) / (0.159)\n",
    "            volume_ga = ((comum * rgo * frga) / bo)/(1000*0.159)\n",
    "            volume_hc = volume_oleo + volume_ga\n",
    "            volume_oleo_dist.append(volume_oleo)\n",
    "            volume_ga_dist.append(volume_ga)\n",
    "        elif fluido == 'gás':\n",
    "            comum = area * netpay * phi * trapfill * shc\n",
    "            volume_gna = ((comum * frgna) / bg) / (1000*0.159)\n",
    "            volume_cond = ((comum * rlg * frcond) / bg) / (1000*0.159)\n",
    "            volume_hc = volume_gna + volume_cond\n",
    "            volume_gna_dist.append(volume_gna)\n",
    "            volume_cond_dist.append(volume_cond)\n",
    "        \n",
    "        volume_hc_incond = volume_hc if descoberta else 0\n",
    "        volume_condicional_dist.append(volume_hc)\n",
    "        volume_incondicional_dist.append(volume_hc_incond)\n",
    "        \n",
    "    projetos['volume oleo'].append(volume_oleo_dist)\n",
    "    projetos['volume ga'].append(volume_ga_dist)\n",
    "    projetos['volume gna'].append(volume_gna_dist)\n",
    "    projetos['volume cond'].append(volume_cond_dist)\n",
    "    projetos['volume condicional'].append(volume_condicional_dist)\n",
    "    projetos['média condicional'].append(np.mean(volume_condicional_dist))\n",
    "    projetos['volume incondicional'].append(volume_incondicional_dist)\n",
    "    projetos['média incondicional'].append(np.mean(volume_incondicional_dist))"
   ]
  },
  {
   "cell_type": "code",
   "execution_count": 27,
   "metadata": {},
   "outputs": [],
   "source": [
    "proj_df = pd.DataFrame(projetos)"
   ]
  },
  {
   "cell_type": "code",
   "execution_count": 28,
   "metadata": {},
   "outputs": [
    {
     "data": {
      "text/html": [
       "<div>\n",
       "<style scoped>\n",
       "    .dataframe tbody tr th:only-of-type {\n",
       "        vertical-align: middle;\n",
       "    }\n",
       "\n",
       "    .dataframe tbody tr th {\n",
       "        vertical-align: top;\n",
       "    }\n",
       "\n",
       "    .dataframe thead th {\n",
       "        text-align: right;\n",
       "    }\n",
       "</style>\n",
       "<table border=\"1\" class=\"dataframe\">\n",
       "  <thead>\n",
       "    <tr style=\"text-align: right;\">\n",
       "      <th></th>\n",
       "      <th>Coordenada x</th>\n",
       "      <th>Coordenada y</th>\n",
       "      <th>Bacia</th>\n",
       "      <th>Nome</th>\n",
       "      <th>Maturidade bacia</th>\n",
       "      <th>Qualidade do dado</th>\n",
       "      <th>Play</th>\n",
       "      <th>Soterramento</th>\n",
       "      <th>pcgna</th>\n",
       "      <th>area</th>\n",
       "      <th>...</th>\n",
       "      <th>retenção</th>\n",
       "      <th>PS HC</th>\n",
       "      <th>volume oleo</th>\n",
       "      <th>volume ga</th>\n",
       "      <th>volume gna</th>\n",
       "      <th>volume cond</th>\n",
       "      <th>volume condicional</th>\n",
       "      <th>média condicional</th>\n",
       "      <th>volume incondicional</th>\n",
       "      <th>média incondicional</th>\n",
       "    </tr>\n",
       "  </thead>\n",
       "  <tbody>\n",
       "    <tr>\n",
       "      <th>0</th>\n",
       "      <td>74.229378</td>\n",
       "      <td>24.830246</td>\n",
       "      <td>Bacia3</td>\n",
       "      <td>Projeto 1</td>\n",
       "      <td>Estrutura pronta</td>\n",
       "      <td>Qualidade razoável</td>\n",
       "      <td>Play 2</td>\n",
       "      <td>1288.650151</td>\n",
       "      <td>0.377734</td>\n",
       "      <td>&lt;scipy.stats._distn_infrastructure.rv_frozen o...</td>\n",
       "      <td>...</td>\n",
       "      <td>0.632124</td>\n",
       "      <td>0.235816</td>\n",
       "      <td>[236.59115786256083, 223.6325538101424, 218.84...</td>\n",
       "      <td>[43.26544125479747, 41.367734817128984, 40.298...</td>\n",
       "      <td>[249.50003371281545, 206.46382189704866, 225.7...</td>\n",
       "      <td>[25.135001178104798, 23.042388603493286, 25.56...</td>\n",
       "      <td>[274.6350348909202, 229.50621050054195, 251.31...</td>\n",
       "      <td>262.618896</td>\n",
       "      <td>[0, 229.50621050054195, 251.31608462822993, 0,...</td>\n",
       "      <td>66.468913</td>\n",
       "    </tr>\n",
       "    <tr>\n",
       "      <th>1</th>\n",
       "      <td>9.119333</td>\n",
       "      <td>82.303289</td>\n",
       "      <td>Bacia7</td>\n",
       "      <td>Projeto 2</td>\n",
       "      <td>Estrutura pronta</td>\n",
       "      <td>Qualidade baixa</td>\n",
       "      <td>Play 2</td>\n",
       "      <td>1303.331427</td>\n",
       "      <td>0.374704</td>\n",
       "      <td>&lt;scipy.stats._distn_infrastructure.rv_frozen o...</td>\n",
       "      <td>...</td>\n",
       "      <td>0.599401</td>\n",
       "      <td>0.142940</td>\n",
       "      <td>[267.27183961477203, 317.1598932262552, 329.95...</td>\n",
       "      <td>[46.66372502090235, 55.77129981242236, 55.3277...</td>\n",
       "      <td>[210.41576026504188, 222.63944103175845, 198.0...</td>\n",
       "      <td>[21.151104104482616, 23.49416344711824, 19.158...</td>\n",
       "      <td>[231.5668643695245, 246.1336044788767, 217.165...</td>\n",
       "      <td>295.283661</td>\n",
       "      <td>[0, 0, 0, 0, 0, 319.21070884329447, 299.498050...</td>\n",
       "      <td>40.615802</td>\n",
       "    </tr>\n",
       "    <tr>\n",
       "      <th>2</th>\n",
       "      <td>54.742209</td>\n",
       "      <td>78.330890</td>\n",
       "      <td>Bacia8</td>\n",
       "      <td>Projeto 3</td>\n",
       "      <td>Estrutura pronta</td>\n",
       "      <td>Qualidade razoável</td>\n",
       "      <td>Play 4</td>\n",
       "      <td>2072.448587</td>\n",
       "      <td>0.092404</td>\n",
       "      <td>&lt;scipy.stats._distn_infrastructure.rv_frozen o...</td>\n",
       "      <td>...</td>\n",
       "      <td>0.525538</td>\n",
       "      <td>0.101337</td>\n",
       "      <td>[1318.4598572278492, 1466.816742368029, 1438.0...</td>\n",
       "      <td>[205.36092168452225, 230.0300251916348, 225.22...</td>\n",
       "      <td>[557.6463393568031, 625.5222142485617, 533.068...</td>\n",
       "      <td>[67.57083751602826, 69.28420094234241, 60.1759...</td>\n",
       "      <td>[625.2171768728314, 694.8064151909041, 593.244...</td>\n",
       "      <td>728.722365</td>\n",
       "      <td>[0, 0, 0, 0, 0, 0, 0, 0, 0, 0, 0, 0, 0, 0, 0, ...</td>\n",
       "      <td>75.033242</td>\n",
       "    </tr>\n",
       "    <tr>\n",
       "      <th>3</th>\n",
       "      <td>87.173936</td>\n",
       "      <td>16.992432</td>\n",
       "      <td>Bacia3</td>\n",
       "      <td>Projeto 4</td>\n",
       "      <td>Estrutura pronta</td>\n",
       "      <td>Qualidade razoável</td>\n",
       "      <td>Play 7</td>\n",
       "      <td>4174.453705</td>\n",
       "      <td>0.264731</td>\n",
       "      <td>&lt;scipy.stats._distn_infrastructure.rv_frozen o...</td>\n",
       "      <td>...</td>\n",
       "      <td>0.673538</td>\n",
       "      <td>0.200116</td>\n",
       "      <td>[297.8472361635468, 195.6486698150558, 161.728...</td>\n",
       "      <td>[52.426017915828666, 35.88090335416592, 29.056...</td>\n",
       "      <td>[183.7483413126325, 164.65568155242138, 213.22...</td>\n",
       "      <td>[20.17622407607874, 17.04398427169918, 24.8573...</td>\n",
       "      <td>[203.92456538871124, 181.69966582412056, 238.0...</td>\n",
       "      <td>196.610329</td>\n",
       "      <td>[0, 0, 238.0849566360403, 0, 0, 0, 126.6896585...</td>\n",
       "      <td>38.938221</td>\n",
       "    </tr>\n",
       "    <tr>\n",
       "      <th>4</th>\n",
       "      <td>25.336572</td>\n",
       "      <td>18.054157</td>\n",
       "      <td>Bacia1</td>\n",
       "      <td>Projeto 5</td>\n",
       "      <td>Estrutura pronta</td>\n",
       "      <td>Qualidade alta</td>\n",
       "      <td>Play 1</td>\n",
       "      <td>2631.660587</td>\n",
       "      <td>0.475625</td>\n",
       "      <td>&lt;scipy.stats._distn_infrastructure.rv_frozen o...</td>\n",
       "      <td>...</td>\n",
       "      <td>0.477651</td>\n",
       "      <td>0.030285</td>\n",
       "      <td>[139.8710297918013, 134.1493744762793, 93.3367...</td>\n",
       "      <td>[38.724389439378776, 34.222975181643534, 24.03...</td>\n",
       "      <td>[79.19330729966656, 69.06598738728948, 88.9116...</td>\n",
       "      <td>[10.808237419603804, 9.571999748651415, 12.238...</td>\n",
       "      <td>[90.00154471927036, 178.59541923118007, 78.637...</td>\n",
       "      <td>131.651528</td>\n",
       "      <td>[0, 0, 0, 0, 0, 0, 0, 0, 0, 0, 0, 0, 0, 0, 0, ...</td>\n",
       "      <td>3.212992</td>\n",
       "    </tr>\n",
       "  </tbody>\n",
       "</table>\n",
       "<p>5 rows × 36 columns</p>\n",
       "</div>"
      ],
      "text/plain": [
       "   Coordenada x  Coordenada y   Bacia       Nome  Maturidade bacia  \\\n",
       "0     74.229378     24.830246  Bacia3  Projeto 1  Estrutura pronta   \n",
       "1      9.119333     82.303289  Bacia7  Projeto 2  Estrutura pronta   \n",
       "2     54.742209     78.330890  Bacia8  Projeto 3  Estrutura pronta   \n",
       "3     87.173936     16.992432  Bacia3  Projeto 4  Estrutura pronta   \n",
       "4     25.336572     18.054157  Bacia1  Projeto 5  Estrutura pronta   \n",
       "\n",
       "    Qualidade do dado    Play  Soterramento     pcgna  \\\n",
       "0  Qualidade razoável  Play 2   1288.650151  0.377734   \n",
       "1     Qualidade baixa  Play 2   1303.331427  0.374704   \n",
       "2  Qualidade razoável  Play 4   2072.448587  0.092404   \n",
       "3  Qualidade razoável  Play 7   4174.453705  0.264731   \n",
       "4      Qualidade alta  Play 1   2631.660587  0.475625   \n",
       "\n",
       "                                                area  ...  retenção     PS HC  \\\n",
       "0  <scipy.stats._distn_infrastructure.rv_frozen o...  ...  0.632124  0.235816   \n",
       "1  <scipy.stats._distn_infrastructure.rv_frozen o...  ...  0.599401  0.142940   \n",
       "2  <scipy.stats._distn_infrastructure.rv_frozen o...  ...  0.525538  0.101337   \n",
       "3  <scipy.stats._distn_infrastructure.rv_frozen o...  ...  0.673538  0.200116   \n",
       "4  <scipy.stats._distn_infrastructure.rv_frozen o...  ...  0.477651  0.030285   \n",
       "\n",
       "                                         volume oleo  \\\n",
       "0  [236.59115786256083, 223.6325538101424, 218.84...   \n",
       "1  [267.27183961477203, 317.1598932262552, 329.95...   \n",
       "2  [1318.4598572278492, 1466.816742368029, 1438.0...   \n",
       "3  [297.8472361635468, 195.6486698150558, 161.728...   \n",
       "4  [139.8710297918013, 134.1493744762793, 93.3367...   \n",
       "\n",
       "                                           volume ga  \\\n",
       "0  [43.26544125479747, 41.367734817128984, 40.298...   \n",
       "1  [46.66372502090235, 55.77129981242236, 55.3277...   \n",
       "2  [205.36092168452225, 230.0300251916348, 225.22...   \n",
       "3  [52.426017915828666, 35.88090335416592, 29.056...   \n",
       "4  [38.724389439378776, 34.222975181643534, 24.03...   \n",
       "\n",
       "                                          volume gna  \\\n",
       "0  [249.50003371281545, 206.46382189704866, 225.7...   \n",
       "1  [210.41576026504188, 222.63944103175845, 198.0...   \n",
       "2  [557.6463393568031, 625.5222142485617, 533.068...   \n",
       "3  [183.7483413126325, 164.65568155242138, 213.22...   \n",
       "4  [79.19330729966656, 69.06598738728948, 88.9116...   \n",
       "\n",
       "                                         volume cond  \\\n",
       "0  [25.135001178104798, 23.042388603493286, 25.56...   \n",
       "1  [21.151104104482616, 23.49416344711824, 19.158...   \n",
       "2  [67.57083751602826, 69.28420094234241, 60.1759...   \n",
       "3  [20.17622407607874, 17.04398427169918, 24.8573...   \n",
       "4  [10.808237419603804, 9.571999748651415, 12.238...   \n",
       "\n",
       "                                  volume condicional média condicional  \\\n",
       "0  [274.6350348909202, 229.50621050054195, 251.31...        262.618896   \n",
       "1  [231.5668643695245, 246.1336044788767, 217.165...        295.283661   \n",
       "2  [625.2171768728314, 694.8064151909041, 593.244...        728.722365   \n",
       "3  [203.92456538871124, 181.69966582412056, 238.0...        196.610329   \n",
       "4  [90.00154471927036, 178.59541923118007, 78.637...        131.651528   \n",
       "\n",
       "                                volume incondicional média incondicional  \n",
       "0  [0, 229.50621050054195, 251.31608462822993, 0,...           66.468913  \n",
       "1  [0, 0, 0, 0, 0, 319.21070884329447, 299.498050...           40.615802  \n",
       "2  [0, 0, 0, 0, 0, 0, 0, 0, 0, 0, 0, 0, 0, 0, 0, ...           75.033242  \n",
       "3  [0, 0, 238.0849566360403, 0, 0, 0, 126.6896585...           38.938221  \n",
       "4  [0, 0, 0, 0, 0, 0, 0, 0, 0, 0, 0, 0, 0, 0, 0, ...            3.212992  \n",
       "\n",
       "[5 rows x 36 columns]"
      ]
     },
     "execution_count": 28,
     "metadata": {},
     "output_type": "execute_result"
    }
   ],
   "source": [
    "proj_df.head()"
   ]
  },
  {
   "cell_type": "code",
   "execution_count": 29,
   "metadata": {},
   "outputs": [],
   "source": [
    "def VisualizarVA(dist):\n",
    "    \n",
    "    p10, p90 = np.percentile(dist, 10), np.percentile(dist, 90)\n",
    "    \n",
    "    plt.hist(dist, bins=20, cumulative=False, density=True, align='right')\n",
    "    plt.axvline(p10, color='r')\n",
    "    plt.axvline(p90, color='r')\n",
    "    plt.xlabel('classes')\n",
    "    plt.ylabel('probabilidade acumulada');"
   ]
  },
  {
   "cell_type": "code",
   "execution_count": 30,
   "metadata": {},
   "outputs": [
    {
     "data": {
      "image/png": "[encoded data removed]",
      "text/plain": [
       "<Figure size 432x288 with 1 Axes>"
      ]
     },
     "metadata": {
      "needs_background": "light"
     },
     "output_type": "display_data"
    },
    {
     "data": {
      "image/png": "[encoded data removed]",
      "text/plain": [
       "<Figure size 432x288 with 1 Axes>"
      ]
     },
     "metadata": {
      "needs_background": "light"
     },
     "output_type": "display_data"
    },
    {
     "data": {
      "image/png": "[encoded data removed]",
      "text/plain": [
       "<Figure size 432x288 with 1 Axes>"
      ]
     },
     "metadata": {
      "needs_background": "light"
     },
     "output_type": "display_data"
    },
    {
     "data": {
      "image/png": "[encoded data removed]",
      "text/plain": [
       "<Figure size 432x288 with 1 Axes>"
      ]
     },
     "metadata": {
      "needs_background": "light"
     },
     "output_type": "display_data"
    },
    {
     "data": {
      "image/png": "[encoded data removed]",
      "text/plain": [
       "<Figure size 432x288 with 1 Axes>"
      ]
     },
     "metadata": {
      "needs_background": "light"
     },
     "output_type": "display_data"
    },
    {
     "data": {
      "image/png": "[encoded data removed]",
      "text/plain": [
       "<Figure size 432x288 with 1 Axes>"
      ]
     },
     "metadata": {
      "needs_background": "light"
     },
     "output_type": "display_data"
    },
    {
     "data": {
      "image/png": "[encoded data removed]",
      "text/plain": [
       "<Figure size 432x288 with 1 Axes>"
      ]
     },
     "metadata": {
      "needs_background": "light"
     },
     "output_type": "display_data"
    },
    {
     "data": {
      "image/png": "[encoded data removed]",
      "text/plain": [
       "<Figure size 432x288 with 1 Axes>"
      ]
     },
     "metadata": {
      "needs_background": "light"
     },
     "output_type": "display_data"
    },
    {
     "data": {
      "image/png": "[encoded data removed]",
      "text/plain": [
       "<Figure size 432x288 with 1 Axes>"
      ]
     },
     "metadata": {
      "needs_background": "light"
     },
     "output_type": "display_data"
    },
    {
     "data": {
      "image/png": "[encoded data removed]",
      "text/plain": [
       "<Figure size 432x288 with 1 Axes>"
      ]
     },
     "metadata": {
      "needs_background": "light"
     },
     "output_type": "display_data"
    },
    {
     "data": {
      "image/png": "[encoded data removed]",
      "text/plain": [
       "<Figure size 432x288 with 1 Axes>"
      ]
     },
     "metadata": {
      "needs_background": "light"
     },
     "output_type": "display_data"
    },
    {
     "data": {
      "image/png": "[encoded data removed]",
      "text/plain": [
       "<Figure size 432x288 with 1 Axes>"
      ]
     },
     "metadata": {
      "needs_background": "light"
     },
     "output_type": "display_data"
    },
    {
     "data": {
      "image/png": "[encoded data removed]",
      "text/plain": [
       "<Figure size 432x288 with 1 Axes>"
      ]
     },
     "metadata": {
      "needs_background": "light"
     },
     "output_type": "display_data"
    },
    {
     "data": {
      "image/png": "[encoded data removed]",
      "text/plain": [
       "<Figure size 432x288 with 1 Axes>"
      ]
     },
     "metadata": {
      "needs_background": "light"
     },
     "output_type": "display_data"
    },
    {
     "data": {
      "image/png": "[encoded data removed]",
      "text/plain": [
       "<Figure size 432x288 with 1 Axes>"
      ]
     },
     "metadata": {
      "needs_background": "light"
     },
     "output_type": "display_data"
    },
    {
     "data": {
      "image/png": "[encoded data removed]",
      "text/plain": [
       "<Figure size 432x288 with 1 Axes>"
      ]
     },
     "metadata": {
      "needs_background": "light"
     },
     "output_type": "display_data"
    },
    {
     "data": {
      "image/png": "[encoded data removed]",
      "text/plain": [
       "<Figure size 432x288 with 1 Axes>"
      ]
     },
     "metadata": {
      "needs_background": "light"
     },
     "output_type": "display_data"
    },
    {
     "data": {
      "image/png": "[encoded data removed]",
      "text/plain": [
       "<Figure size 432x288 with 1 Axes>"
      ]
     },
     "metadata": {
      "needs_background": "light"
     },
     "output_type": "display_data"
    },
    {
     "data": {
      "image/png": "[encoded data removed]",
      "text/plain": [
       "<Figure size 432x288 with 1 Axes>"
      ]
     },
     "metadata": {
      "needs_background": "light"
     },
     "output_type": "display_data"
    },
    {
     "data": {
      "image/png": "[encoded data removed]",
      "text/plain": [
       "<Figure size 432x288 with 1 Axes>"
      ]
     },
     "metadata": {
      "needs_background": "light"
     },
     "output_type": "display_data"
    }
   ],
   "source": [
    "for i in range(n_projetos):\n",
    "    plt.figure(i)\n",
    "    VisualizarVA(projetos['volume condicional'][i])"
   ]
  },
  {
   "cell_type": "code",
   "execution_count": 31,
   "metadata": {},
   "outputs": [
    {
     "data": {
      "image/png": "[encoded data removed]",
      "text/plain": [
       "<Figure size 432x288 with 1 Axes>"
      ]
     },
     "metadata": {
      "needs_background": "light"
     },
     "output_type": "display_data"
    },
    {
     "data": {
      "image/png": "[encoded data removed]",
      "text/plain": [
       "<Figure size 432x288 with 1 Axes>"
      ]
     },
     "metadata": {
      "needs_background": "light"
     },
     "output_type": "display_data"
    },
    {
     "data": {
      "image/png": "[encoded data removed]",
      "text/plain": [
       "<Figure size 432x288 with 1 Axes>"
      ]
     },
     "metadata": {
      "needs_background": "light"
     },
     "output_type": "display_data"
    },
    {
     "data": {
      "image/png": "[encoded data removed]",
      "text/plain": [
       "<Figure size 432x288 with 1 Axes>"
      ]
     },
     "metadata": {
      "needs_background": "light"
     },
     "output_type": "display_data"
    },
    {
     "data": {
      "image/png": "[encoded data removed]",
      "text/plain": [
       "<Figure size 432x288 with 1 Axes>"
      ]
     },
     "metadata": {
      "needs_background": "light"
     },
     "output_type": "display_data"
    },
    {
     "data": {
      "image/png": "[encoded data removed]",
      "text/plain": [
       "<Figure size 432x288 with 1 Axes>"
      ]
     },
     "metadata": {
      "needs_background": "light"
     },
     "output_type": "display_data"
    },
    {
     "data": {
      "image/png": "[encoded data removed]",
      "text/plain": [
       "<Figure size 432x288 with 1 Axes>"
      ]
     },
     "metadata": {
      "needs_background": "light"
     },
     "output_type": "display_data"
    },
    {
     "data": {
      "image/png": "[encoded data removed]",
      "text/plain": [
       "<Figure size 432x288 with 1 Axes>"
      ]
     },
     "metadata": {
      "needs_background": "light"
     },
     "output_type": "display_data"
    },
    {
     "data": {
      "image/png": "[encoded data removed]",
      "text/plain": [
       "<Figure size 432x288 with 1 Axes>"
      ]
     },
     "metadata": {
      "needs_background": "light"
     },
     "output_type": "display_data"
    },
    {
     "data": {
      "image/png": "[encoded data removed]",
      "text/plain": [
       "<Figure size 432x288 with 1 Axes>"
      ]
     },
     "metadata": {
      "needs_background": "light"
     },
     "output_type": "display_data"
    },
    {
     "data": {
      "image/png": "[encoded data removed]",
      "text/plain": [
       "<Figure size 432x288 with 1 Axes>"
      ]
     },
     "metadata": {
      "needs_background": "light"
     },
     "output_type": "display_data"
    },
    {
     "data": {
      "image/png": "[encoded data removed]",
      "text/plain": [
       "<Figure size 432x288 with 1 Axes>"
      ]
     },
     "metadata": {
      "needs_background": "light"
     },
     "output_type": "display_data"
    },
    {
     "data": {
      "image/png": "[encoded data removed]",
      "text/plain": [
       "<Figure size 432x288 with 1 Axes>"
      ]
     },
     "metadata": {
      "needs_background": "light"
     },
     "output_type": "display_data"
    },
    {
     "data": {
      "image/png": "[encoded data removed]",
      "text/plain": [
       "<Figure size 432x288 with 1 Axes>"
      ]
     },
     "metadata": {
      "needs_background": "light"
     },
     "output_type": "display_data"
    },
    {
     "data": {
      "image/png": "[encoded data removed]",
      "text/plain": [
       "<Figure size 432x288 with 1 Axes>"
      ]
     },
     "metadata": {
      "needs_background": "light"
     },
     "output_type": "display_data"
    },
    {
     "data": {
      "image/png": "[encoded data removed]",
      "text/plain": [
       "<Figure size 432x288 with 1 Axes>"
      ]
     },
     "metadata": {
      "needs_background": "light"
     },
     "output_type": "display_data"
    },
    {
     "data": {
      "image/png": "[encoded data removed]",
      "text/plain": [
       "<Figure size 432x288 with 1 Axes>"
      ]
     },
     "metadata": {
      "needs_background": "light"
     },
     "output_type": "display_data"
    },
    {
     "data": {
      "image/png": "[encoded data removed]",
      "text/plain": [
       "<Figure size 432x288 with 1 Axes>"
      ]
     },
     "metadata": {
      "needs_background": "light"
     },
     "output_type": "display_data"
    },
    {
     "data": {
      "image/png": "[encoded data removed]",
      "text/plain": [
       "<Figure size 432x288 with 1 Axes>"
      ]
     },
     "metadata": {
      "needs_background": "light"
     },
     "output_type": "display_data"
    },
    {
     "data": {
      "image/png": "[encoded data removed]",
      "text/plain": [
       "<Figure size 432x288 with 1 Axes>"
      ]
     },
     "metadata": {
      "needs_background": "light"
     },
     "output_type": "display_data"
    }
   ],
   "source": [
    "for i in range(n_projetos):\n",
    "    plt.figure(i)\n",
    "    VisualizarVA(projetos['volume incondicional'][i])"
   ]
  },
  {
   "cell_type": "markdown",
   "metadata": {},
   "source": [
    "## Calibração econômica: $f(volume) \\rightarrow VPL$"
   ]
  },
  {
   "cell_type": "markdown",
   "metadata": {},
   "source": [
    "### TODO: variar calibração por maturidade da bacia"
   ]
  },
  {
   "cell_type": "code",
   "execution_count": 32,
   "metadata": {},
   "outputs": [],
   "source": [
    "def AvalEcon(vol, fixo, unit):\n",
    "    vpl = - fixo + (vol * unit)\n",
    "    return vpl\n",
    "\n",
    "def CalibEcon(dist, fixo, unit):\n",
    "    vpl_dist = []\n",
    "    for v in dist:\n",
    "        vpl = AvalEcon(v, fixo, unit)\n",
    "        vpl_dist.append(vpl)\n",
    "    return vpl_dist"
   ]
  },
  {
   "cell_type": "code",
   "execution_count": 33,
   "metadata": {},
   "outputs": [],
   "source": [
    "projetos['VPL condicional'] = []\n",
    "projetos['VPL incondicional'] = []\n",
    "projetos['VPL condicional médio'] = []\n",
    "projetos['VPL incondicional médio'] = []\n",
    "for i in range(n_projetos):\n",
    "    vpl_dist_cond = CalibEcon(projetos['volume condicional'][i], fixo=1000, unit=5)\n",
    "    vpl_dist_incond = CalibEcon(projetos['volume incondicional'][i], fixo=1000, unit=5)\n",
    "    projetos['VPL condicional'].append(copy.copy(vpl_dist_cond))\n",
    "    projetos['VPL incondicional'].append(copy.copy(vpl_dist_incond))\n",
    "    projetos['VPL condicional médio'].append(np.mean(vpl_dist_cond))\n",
    "    projetos['VPL incondicional médio'].append(np.mean(vpl_dist_incond))"
   ]
  },
  {
   "cell_type": "code",
   "execution_count": 34,
   "metadata": {},
   "outputs": [
    {
     "data": {
      "image/png": "[encoded data removed]",
      "text/plain": [
       "<Figure size 432x288 with 1 Axes>"
      ]
     },
     "metadata": {
      "needs_background": "light"
     },
     "output_type": "display_data"
    },
    {
     "data": {
      "image/png": "[encoded data removed]",
      "text/plain": [
       "<Figure size 432x288 with 1 Axes>"
      ]
     },
     "metadata": {
      "needs_background": "light"
     },
     "output_type": "display_data"
    },
    {
     "data": {
      "image/png": "[encoded data removed]",
      "text/plain": [
       "<Figure size 432x288 with 1 Axes>"
      ]
     },
     "metadata": {
      "needs_background": "light"
     },
     "output_type": "display_data"
    },
    {
     "data": {
      "image/png": "[encoded data removed]",
      "text/plain": [
       "<Figure size 432x288 with 1 Axes>"
      ]
     },
     "metadata": {
      "needs_background": "light"
     },
     "output_type": "display_data"
    },
    {
     "data": {
      "image/png": "[encoded data removed]",
      "text/plain": [
       "<Figure size 432x288 with 1 Axes>"
      ]
     },
     "metadata": {
      "needs_background": "light"
     },
     "output_type": "display_data"
    },
    {
     "data": {
      "image/png": "[encoded data removed]",
      "text/plain": [
       "<Figure size 432x288 with 1 Axes>"
      ]
     },
     "metadata": {
      "needs_background": "light"
     },
     "output_type": "display_data"
    },
    {
     "data": {
      "image/png": "[encoded data removed]",
      "text/plain": [
       "<Figure size 432x288 with 1 Axes>"
      ]
     },
     "metadata": {
      "needs_background": "light"
     },
     "output_type": "display_data"
    },
    {
     "data": {
      "image/png": "[encoded data removed]",
      "text/plain": [
       "<Figure size 432x288 with 1 Axes>"
      ]
     },
     "metadata": {
      "needs_background": "light"
     },
     "output_type": "display_data"
    },
    {
     "data": {
      "image/png": "[encoded data removed]",
      "text/plain": [
       "<Figure size 432x288 with 1 Axes>"
      ]
     },
     "metadata": {
      "needs_background": "light"
     },
     "output_type": "display_data"
    },
    {
     "data": {
      "image/png": "[encoded data removed]",
      "text/plain": [
       "<Figure size 432x288 with 1 Axes>"
      ]
     },
     "metadata": {
      "needs_background": "light"
     },
     "output_type": "display_data"
    },
    {
     "data": {
      "image/png": "[encoded data removed]",
      "text/plain": [
       "<Figure size 432x288 with 1 Axes>"
      ]
     },
     "metadata": {
      "needs_background": "light"
     },
     "output_type": "display_data"
    },
    {
     "data": {
      "image/png": "[encoded data removed]",
      "text/plain": [
       "<Figure size 432x288 with 1 Axes>"
      ]
     },
     "metadata": {
      "needs_background": "light"
     },
     "output_type": "display_data"
    },
    {
     "data": {
      "image/png": "[encoded data removed]",
      "text/plain": [
       "<Figure size 432x288 with 1 Axes>"
      ]
     },
     "metadata": {
      "needs_background": "light"
     },
     "output_type": "display_data"
    },
    {
     "data": {
      "image/png": "[encoded data removed]",
      "text/plain": [
       "<Figure size 432x288 with 1 Axes>"
      ]
     },
     "metadata": {
      "needs_background": "light"
     },
     "output_type": "display_data"
    },
    {
     "data": {
      "image/png": "[encoded data removed]",
      "text/plain": [
       "<Figure size 432x288 with 1 Axes>"
      ]
     },
     "metadata": {
      "needs_background": "light"
     },
     "output_type": "display_data"
    },
    {
     "data": {
      "image/png": "[encoded data removed]",
      "text/plain": [
       "<Figure size 432x288 with 1 Axes>"
      ]
     },
     "metadata": {
      "needs_background": "light"
     },
     "output_type": "display_data"
    },
    {
     "data": {
      "image/png": "[encoded data removed]",
      "text/plain": [
       "<Figure size 432x288 with 1 Axes>"
      ]
     },
     "metadata": {
      "needs_background": "light"
     },
     "output_type": "display_data"
    },
    {
     "data": {
      "image/png": "[encoded data removed]",
      "text/plain": [
       "<Figure size 432x288 with 1 Axes>"
      ]
     },
     "metadata": {
      "needs_background": "light"
     },
     "output_type": "display_data"
    },
    {
     "data": {
      "image/png": "[encoded data removed]",
      "text/plain": [
       "<Figure size 432x288 with 1 Axes>"
      ]
     },
     "metadata": {
      "needs_background": "light"
     },
     "output_type": "display_data"
    },
    {
     "data": {
      "image/png": "[encoded data removed]",
      "text/plain": [
       "<Figure size 432x288 with 1 Axes>"
      ]
     },
     "metadata": {
      "needs_background": "light"
     },
     "output_type": "display_data"
    }
   ],
   "source": [
    "for i in range(n_projetos):\n",
    "    plt.figure(i)\n",
    "    VisualizarVA(projetos['VPL condicional'][i])"
   ]
  },
  {
   "cell_type": "code",
   "execution_count": 35,
   "metadata": {},
   "outputs": [],
   "source": [
    "proj_df = pd.DataFrame(projetos)"
   ]
  },
  {
   "cell_type": "code",
   "execution_count": 36,
   "metadata": {},
   "outputs": [
    {
     "data": {
      "text/html": [
       "<div>\n",
       "<style scoped>\n",
       "    .dataframe tbody tr th:only-of-type {\n",
       "        vertical-align: middle;\n",
       "    }\n",
       "\n",
       "    .dataframe tbody tr th {\n",
       "        vertical-align: top;\n",
       "    }\n",
       "\n",
       "    .dataframe thead th {\n",
       "        text-align: right;\n",
       "    }\n",
       "</style>\n",
       "<table border=\"1\" class=\"dataframe\">\n",
       "  <thead>\n",
       "    <tr style=\"text-align: right;\">\n",
       "      <th></th>\n",
       "      <th>Coordenada x</th>\n",
       "      <th>Coordenada y</th>\n",
       "      <th>Bacia</th>\n",
       "      <th>Nome</th>\n",
       "      <th>Maturidade bacia</th>\n",
       "      <th>Qualidade do dado</th>\n",
       "      <th>Play</th>\n",
       "      <th>Soterramento</th>\n",
       "      <th>pcgna</th>\n",
       "      <th>area</th>\n",
       "      <th>...</th>\n",
       "      <th>volume gna</th>\n",
       "      <th>volume cond</th>\n",
       "      <th>volume condicional</th>\n",
       "      <th>média condicional</th>\n",
       "      <th>volume incondicional</th>\n",
       "      <th>média incondicional</th>\n",
       "      <th>VPL condicional</th>\n",
       "      <th>VPL incondicional</th>\n",
       "      <th>VPL condicional médio</th>\n",
       "      <th>VPL incondicional médio</th>\n",
       "    </tr>\n",
       "  </thead>\n",
       "  <tbody>\n",
       "    <tr>\n",
       "      <th>0</th>\n",
       "      <td>74.229378</td>\n",
       "      <td>24.830246</td>\n",
       "      <td>Bacia3</td>\n",
       "      <td>Projeto 1</td>\n",
       "      <td>Estrutura pronta</td>\n",
       "      <td>Qualidade razoável</td>\n",
       "      <td>Play 2</td>\n",
       "      <td>1288.650151</td>\n",
       "      <td>0.377734</td>\n",
       "      <td>&lt;scipy.stats._distn_infrastructure.rv_frozen o...</td>\n",
       "      <td>...</td>\n",
       "      <td>[249.50003371281545, 206.46382189704866, 225.7...</td>\n",
       "      <td>[25.135001178104798, 23.042388603493286, 25.56...</td>\n",
       "      <td>[274.6350348909202, 229.50621050054195, 251.31...</td>\n",
       "      <td>262.618896</td>\n",
       "      <td>[0, 229.50621050054195, 251.31608462822993, 0,...</td>\n",
       "      <td>66.468913</td>\n",
       "      <td>[373.1751744546011, 147.53105250270983, 256.58...</td>\n",
       "      <td>[-1000, 147.53105250270983, 256.5804231411496,...</td>\n",
       "      <td>313.094481</td>\n",
       "      <td>-667.655435</td>\n",
       "    </tr>\n",
       "    <tr>\n",
       "      <th>1</th>\n",
       "      <td>9.119333</td>\n",
       "      <td>82.303289</td>\n",
       "      <td>Bacia7</td>\n",
       "      <td>Projeto 2</td>\n",
       "      <td>Estrutura pronta</td>\n",
       "      <td>Qualidade baixa</td>\n",
       "      <td>Play 2</td>\n",
       "      <td>1303.331427</td>\n",
       "      <td>0.374704</td>\n",
       "      <td>&lt;scipy.stats._distn_infrastructure.rv_frozen o...</td>\n",
       "      <td>...</td>\n",
       "      <td>[210.41576026504188, 222.63944103175845, 198.0...</td>\n",
       "      <td>[21.151104104482616, 23.49416344711824, 19.158...</td>\n",
       "      <td>[231.5668643695245, 246.1336044788767, 217.165...</td>\n",
       "      <td>295.283661</td>\n",
       "      <td>[0, 0, 0, 0, 0, 319.21070884329447, 299.498050...</td>\n",
       "      <td>40.615802</td>\n",
       "      <td>[157.8343218476225, 230.66802239438357, 85.827...</td>\n",
       "      <td>[-1000, -1000, -1000, -1000, -1000, 596.053544...</td>\n",
       "      <td>476.418307</td>\n",
       "      <td>-796.920988</td>\n",
       "    </tr>\n",
       "    <tr>\n",
       "      <th>2</th>\n",
       "      <td>54.742209</td>\n",
       "      <td>78.330890</td>\n",
       "      <td>Bacia8</td>\n",
       "      <td>Projeto 3</td>\n",
       "      <td>Estrutura pronta</td>\n",
       "      <td>Qualidade razoável</td>\n",
       "      <td>Play 4</td>\n",
       "      <td>2072.448587</td>\n",
       "      <td>0.092404</td>\n",
       "      <td>&lt;scipy.stats._distn_infrastructure.rv_frozen o...</td>\n",
       "      <td>...</td>\n",
       "      <td>[557.6463393568031, 625.5222142485617, 533.068...</td>\n",
       "      <td>[67.57083751602826, 69.28420094234241, 60.1759...</td>\n",
       "      <td>[625.2171768728314, 694.8064151909041, 593.244...</td>\n",
       "      <td>728.722365</td>\n",
       "      <td>[0, 0, 0, 0, 0, 0, 0, 0, 0, 0, 0, 0, 0, 0, 0, ...</td>\n",
       "      <td>75.033242</td>\n",
       "      <td>[2126.0858843641568, 2474.03207595452, 1966.22...</td>\n",
       "      <td>[-1000, -1000, -1000, -1000, -1000, -1000, -10...</td>\n",
       "      <td>2643.611826</td>\n",
       "      <td>-624.833789</td>\n",
       "    </tr>\n",
       "    <tr>\n",
       "      <th>3</th>\n",
       "      <td>87.173936</td>\n",
       "      <td>16.992432</td>\n",
       "      <td>Bacia3</td>\n",
       "      <td>Projeto 4</td>\n",
       "      <td>Estrutura pronta</td>\n",
       "      <td>Qualidade razoável</td>\n",
       "      <td>Play 7</td>\n",
       "      <td>4174.453705</td>\n",
       "      <td>0.264731</td>\n",
       "      <td>&lt;scipy.stats._distn_infrastructure.rv_frozen o...</td>\n",
       "      <td>...</td>\n",
       "      <td>[183.7483413126325, 164.65568155242138, 213.22...</td>\n",
       "      <td>[20.17622407607874, 17.04398427169918, 24.8573...</td>\n",
       "      <td>[203.92456538871124, 181.69966582412056, 238.0...</td>\n",
       "      <td>196.610329</td>\n",
       "      <td>[0, 0, 238.0849566360403, 0, 0, 0, 126.6896585...</td>\n",
       "      <td>38.938221</td>\n",
       "      <td>[19.62282694355622, -91.50167087939724, 190.42...</td>\n",
       "      <td>[-1000, -1000, 190.42478318020153, -1000, -100...</td>\n",
       "      <td>-16.948353</td>\n",
       "      <td>-805.308894</td>\n",
       "    </tr>\n",
       "    <tr>\n",
       "      <th>4</th>\n",
       "      <td>25.336572</td>\n",
       "      <td>18.054157</td>\n",
       "      <td>Bacia1</td>\n",
       "      <td>Projeto 5</td>\n",
       "      <td>Estrutura pronta</td>\n",
       "      <td>Qualidade alta</td>\n",
       "      <td>Play 1</td>\n",
       "      <td>2631.660587</td>\n",
       "      <td>0.475625</td>\n",
       "      <td>&lt;scipy.stats._distn_infrastructure.rv_frozen o...</td>\n",
       "      <td>...</td>\n",
       "      <td>[79.19330729966656, 69.06598738728948, 88.9116...</td>\n",
       "      <td>[10.808237419603804, 9.571999748651415, 12.238...</td>\n",
       "      <td>[90.00154471927036, 178.59541923118007, 78.637...</td>\n",
       "      <td>131.651528</td>\n",
       "      <td>[0, 0, 0, 0, 0, 0, 0, 0, 0, 0, 0, 0, 0, 0, 0, ...</td>\n",
       "      <td>3.212992</td>\n",
       "      <td>[-549.9922764036482, -107.02290384409957, -606...</td>\n",
       "      <td>[-1000, -1000, -1000, -1000, -1000, -1000, -10...</td>\n",
       "      <td>-341.742361</td>\n",
       "      <td>-983.935042</td>\n",
       "    </tr>\n",
       "  </tbody>\n",
       "</table>\n",
       "<p>5 rows × 40 columns</p>\n",
       "</div>"
      ],
      "text/plain": [
       "   Coordenada x  Coordenada y   Bacia       Nome  Maturidade bacia  \\\n",
       "0     74.229378     24.830246  Bacia3  Projeto 1  Estrutura pronta   \n",
       "1      9.119333     82.303289  Bacia7  Projeto 2  Estrutura pronta   \n",
       "2     54.742209     78.330890  Bacia8  Projeto 3  Estrutura pronta   \n",
       "3     87.173936     16.992432  Bacia3  Projeto 4  Estrutura pronta   \n",
       "4     25.336572     18.054157  Bacia1  Projeto 5  Estrutura pronta   \n",
       "\n",
       "    Qualidade do dado    Play  Soterramento     pcgna  \\\n",
       "0  Qualidade razoável  Play 2   1288.650151  0.377734   \n",
       "1     Qualidade baixa  Play 2   1303.331427  0.374704   \n",
       "2  Qualidade razoável  Play 4   2072.448587  0.092404   \n",
       "3  Qualidade razoável  Play 7   4174.453705  0.264731   \n",
       "4      Qualidade alta  Play 1   2631.660587  0.475625   \n",
       "\n",
       "                                                area  ...  \\\n",
       "0  <scipy.stats._distn_infrastructure.rv_frozen o...  ...   \n",
       "1  <scipy.stats._distn_infrastructure.rv_frozen o...  ...   \n",
       "2  <scipy.stats._distn_infrastructure.rv_frozen o...  ...   \n",
       "3  <scipy.stats._distn_infrastructure.rv_frozen o...  ...   \n",
       "4  <scipy.stats._distn_infrastructure.rv_frozen o...  ...   \n",
       "\n",
       "                                          volume gna  \\\n",
       "0  [249.50003371281545, 206.46382189704866, 225.7...   \n",
       "1  [210.41576026504188, 222.63944103175845, 198.0...   \n",
       "2  [557.6463393568031, 625.5222142485617, 533.068...   \n",
       "3  [183.7483413126325, 164.65568155242138, 213.22...   \n",
       "4  [79.19330729966656, 69.06598738728948, 88.9116...   \n",
       "\n",
       "                                         volume cond  \\\n",
       "0  [25.135001178104798, 23.042388603493286, 25.56...   \n",
       "1  [21.151104104482616, 23.49416344711824, 19.158...   \n",
       "2  [67.57083751602826, 69.28420094234241, 60.1759...   \n",
       "3  [20.17622407607874, 17.04398427169918, 24.8573...   \n",
       "4  [10.808237419603804, 9.571999748651415, 12.238...   \n",
       "\n",
       "                                  volume condicional média condicional  \\\n",
       "0  [274.6350348909202, 229.50621050054195, 251.31...        262.618896   \n",
       "1  [231.5668643695245, 246.1336044788767, 217.165...        295.283661   \n",
       "2  [625.2171768728314, 694.8064151909041, 593.244...        728.722365   \n",
       "3  [203.92456538871124, 181.69966582412056, 238.0...        196.610329   \n",
       "4  [90.00154471927036, 178.59541923118007, 78.637...        131.651528   \n",
       "\n",
       "                                volume incondicional média incondicional  \\\n",
       "0  [0, 229.50621050054195, 251.31608462822993, 0,...           66.468913   \n",
       "1  [0, 0, 0, 0, 0, 319.21070884329447, 299.498050...           40.615802   \n",
       "2  [0, 0, 0, 0, 0, 0, 0, 0, 0, 0, 0, 0, 0, 0, 0, ...           75.033242   \n",
       "3  [0, 0, 238.0849566360403, 0, 0, 0, 126.6896585...           38.938221   \n",
       "4  [0, 0, 0, 0, 0, 0, 0, 0, 0, 0, 0, 0, 0, 0, 0, ...            3.212992   \n",
       "\n",
       "                                     VPL condicional  \\\n",
       "0  [373.1751744546011, 147.53105250270983, 256.58...   \n",
       "1  [157.8343218476225, 230.66802239438357, 85.827...   \n",
       "2  [2126.0858843641568, 2474.03207595452, 1966.22...   \n",
       "3  [19.62282694355622, -91.50167087939724, 190.42...   \n",
       "4  [-549.9922764036482, -107.02290384409957, -606...   \n",
       "\n",
       "                                   VPL incondicional VPL condicional médio  \\\n",
       "0  [-1000, 147.53105250270983, 256.5804231411496,...            313.094481   \n",
       "1  [-1000, -1000, -1000, -1000, -1000, 596.053544...            476.418307   \n",
       "2  [-1000, -1000, -1000, -1000, -1000, -1000, -10...           2643.611826   \n",
       "3  [-1000, -1000, 190.42478318020153, -1000, -100...            -16.948353   \n",
       "4  [-1000, -1000, -1000, -1000, -1000, -1000, -10...           -341.742361   \n",
       "\n",
       "  VPL incondicional médio  \n",
       "0             -667.655435  \n",
       "1             -796.920988  \n",
       "2             -624.833789  \n",
       "3             -805.308894  \n",
       "4             -983.935042  \n",
       "\n",
       "[5 rows x 40 columns]"
      ]
     },
     "execution_count": 36,
     "metadata": {},
     "output_type": "execute_result"
    }
   ],
   "source": [
    "proj_df.head()"
   ]
  },
  {
   "cell_type": "markdown",
   "metadata": {},
   "source": [
    "## Calculando custo por poço perfurado"
   ]
  },
  {
   "cell_type": "code",
   "execution_count": 37,
   "metadata": {},
   "outputs": [],
   "source": [
    "def CustoPoco(soterramento, maturidade):\n",
    "    unit_loc = {'Nova fronteira': 2,\n",
    "            'Estrutura em construção': 1.5,\n",
    "            'Estrutura pronta': 1}\n",
    "    unit = 20000\n",
    "    custo = soterramento*unit*unit_loc[maturidade]\n",
    "    return custo / 10**6\n",
    "    "
   ]
  },
  {
   "cell_type": "code",
   "execution_count": 38,
   "metadata": {},
   "outputs": [],
   "source": [
    "projetos['Custo do poço'] = []\n",
    "for i in range(n_projetos):\n",
    "    projetos['Custo do poço'].append(CustoPoco(projetos['Soterramento'][i], projetos['Maturidade bacia'][i]))"
   ]
  },
  {
   "cell_type": "code",
   "execution_count": 39,
   "metadata": {},
   "outputs": [],
   "source": [
    "proj_df = pd.DataFrame(projetos)"
   ]
  },
  {
   "cell_type": "code",
   "execution_count": 40,
   "metadata": {},
   "outputs": [
    {
     "data": {
      "text/html": [
       "<div>\n",
       "<style scoped>\n",
       "    .dataframe tbody tr th:only-of-type {\n",
       "        vertical-align: middle;\n",
       "    }\n",
       "\n",
       "    .dataframe tbody tr th {\n",
       "        vertical-align: top;\n",
       "    }\n",
       "\n",
       "    .dataframe thead th {\n",
       "        text-align: right;\n",
       "    }\n",
       "</style>\n",
       "<table border=\"1\" class=\"dataframe\">\n",
       "  <thead>\n",
       "    <tr style=\"text-align: right;\">\n",
       "      <th></th>\n",
       "      <th>Coordenada x</th>\n",
       "      <th>Coordenada y</th>\n",
       "      <th>Bacia</th>\n",
       "      <th>Nome</th>\n",
       "      <th>Maturidade bacia</th>\n",
       "      <th>Qualidade do dado</th>\n",
       "      <th>Play</th>\n",
       "      <th>Soterramento</th>\n",
       "      <th>pcgna</th>\n",
       "      <th>area</th>\n",
       "      <th>...</th>\n",
       "      <th>volume cond</th>\n",
       "      <th>volume condicional</th>\n",
       "      <th>média condicional</th>\n",
       "      <th>volume incondicional</th>\n",
       "      <th>média incondicional</th>\n",
       "      <th>VPL condicional</th>\n",
       "      <th>VPL incondicional</th>\n",
       "      <th>VPL condicional médio</th>\n",
       "      <th>VPL incondicional médio</th>\n",
       "      <th>Custo do poço</th>\n",
       "    </tr>\n",
       "  </thead>\n",
       "  <tbody>\n",
       "    <tr>\n",
       "      <th>0</th>\n",
       "      <td>74.229378</td>\n",
       "      <td>24.830246</td>\n",
       "      <td>Bacia3</td>\n",
       "      <td>Projeto 1</td>\n",
       "      <td>Estrutura pronta</td>\n",
       "      <td>Qualidade razoável</td>\n",
       "      <td>Play 2</td>\n",
       "      <td>1288.650151</td>\n",
       "      <td>0.377734</td>\n",
       "      <td>&lt;scipy.stats._distn_infrastructure.rv_frozen o...</td>\n",
       "      <td>...</td>\n",
       "      <td>[25.135001178104798, 23.042388603493286, 25.56...</td>\n",
       "      <td>[274.6350348909202, 229.50621050054195, 251.31...</td>\n",
       "      <td>262.618896</td>\n",
       "      <td>[0, 229.50621050054195, 251.31608462822993, 0,...</td>\n",
       "      <td>66.468913</td>\n",
       "      <td>[373.1751744546011, 147.53105250270983, 256.58...</td>\n",
       "      <td>[-1000, 147.53105250270983, 256.5804231411496,...</td>\n",
       "      <td>313.094481</td>\n",
       "      <td>-667.655435</td>\n",
       "      <td>25.773003</td>\n",
       "    </tr>\n",
       "    <tr>\n",
       "      <th>1</th>\n",
       "      <td>9.119333</td>\n",
       "      <td>82.303289</td>\n",
       "      <td>Bacia7</td>\n",
       "      <td>Projeto 2</td>\n",
       "      <td>Estrutura pronta</td>\n",
       "      <td>Qualidade baixa</td>\n",
       "      <td>Play 2</td>\n",
       "      <td>1303.331427</td>\n",
       "      <td>0.374704</td>\n",
       "      <td>&lt;scipy.stats._distn_infrastructure.rv_frozen o...</td>\n",
       "      <td>...</td>\n",
       "      <td>[21.151104104482616, 23.49416344711824, 19.158...</td>\n",
       "      <td>[231.5668643695245, 246.1336044788767, 217.165...</td>\n",
       "      <td>295.283661</td>\n",
       "      <td>[0, 0, 0, 0, 0, 319.21070884329447, 299.498050...</td>\n",
       "      <td>40.615802</td>\n",
       "      <td>[157.8343218476225, 230.66802239438357, 85.827...</td>\n",
       "      <td>[-1000, -1000, -1000, -1000, -1000, 596.053544...</td>\n",
       "      <td>476.418307</td>\n",
       "      <td>-796.920988</td>\n",
       "      <td>26.066629</td>\n",
       "    </tr>\n",
       "    <tr>\n",
       "      <th>2</th>\n",
       "      <td>54.742209</td>\n",
       "      <td>78.330890</td>\n",
       "      <td>Bacia8</td>\n",
       "      <td>Projeto 3</td>\n",
       "      <td>Estrutura pronta</td>\n",
       "      <td>Qualidade razoável</td>\n",
       "      <td>Play 4</td>\n",
       "      <td>2072.448587</td>\n",
       "      <td>0.092404</td>\n",
       "      <td>&lt;scipy.stats._distn_infrastructure.rv_frozen o...</td>\n",
       "      <td>...</td>\n",
       "      <td>[67.57083751602826, 69.28420094234241, 60.1759...</td>\n",
       "      <td>[625.2171768728314, 694.8064151909041, 593.244...</td>\n",
       "      <td>728.722365</td>\n",
       "      <td>[0, 0, 0, 0, 0, 0, 0, 0, 0, 0, 0, 0, 0, 0, 0, ...</td>\n",
       "      <td>75.033242</td>\n",
       "      <td>[2126.0858843641568, 2474.03207595452, 1966.22...</td>\n",
       "      <td>[-1000, -1000, -1000, -1000, -1000, -1000, -10...</td>\n",
       "      <td>2643.611826</td>\n",
       "      <td>-624.833789</td>\n",
       "      <td>41.448972</td>\n",
       "    </tr>\n",
       "    <tr>\n",
       "      <th>3</th>\n",
       "      <td>87.173936</td>\n",
       "      <td>16.992432</td>\n",
       "      <td>Bacia3</td>\n",
       "      <td>Projeto 4</td>\n",
       "      <td>Estrutura pronta</td>\n",
       "      <td>Qualidade razoável</td>\n",
       "      <td>Play 7</td>\n",
       "      <td>4174.453705</td>\n",
       "      <td>0.264731</td>\n",
       "      <td>&lt;scipy.stats._distn_infrastructure.rv_frozen o...</td>\n",
       "      <td>...</td>\n",
       "      <td>[20.17622407607874, 17.04398427169918, 24.8573...</td>\n",
       "      <td>[203.92456538871124, 181.69966582412056, 238.0...</td>\n",
       "      <td>196.610329</td>\n",
       "      <td>[0, 0, 238.0849566360403, 0, 0, 0, 126.6896585...</td>\n",
       "      <td>38.938221</td>\n",
       "      <td>[19.62282694355622, -91.50167087939724, 190.42...</td>\n",
       "      <td>[-1000, -1000, 190.42478318020153, -1000, -100...</td>\n",
       "      <td>-16.948353</td>\n",
       "      <td>-805.308894</td>\n",
       "      <td>83.489074</td>\n",
       "    </tr>\n",
       "    <tr>\n",
       "      <th>4</th>\n",
       "      <td>25.336572</td>\n",
       "      <td>18.054157</td>\n",
       "      <td>Bacia1</td>\n",
       "      <td>Projeto 5</td>\n",
       "      <td>Estrutura pronta</td>\n",
       "      <td>Qualidade alta</td>\n",
       "      <td>Play 1</td>\n",
       "      <td>2631.660587</td>\n",
       "      <td>0.475625</td>\n",
       "      <td>&lt;scipy.stats._distn_infrastructure.rv_frozen o...</td>\n",
       "      <td>...</td>\n",
       "      <td>[10.808237419603804, 9.571999748651415, 12.238...</td>\n",
       "      <td>[90.00154471927036, 178.59541923118007, 78.637...</td>\n",
       "      <td>131.651528</td>\n",
       "      <td>[0, 0, 0, 0, 0, 0, 0, 0, 0, 0, 0, 0, 0, 0, 0, ...</td>\n",
       "      <td>3.212992</td>\n",
       "      <td>[-549.9922764036482, -107.02290384409957, -606...</td>\n",
       "      <td>[-1000, -1000, -1000, -1000, -1000, -1000, -10...</td>\n",
       "      <td>-341.742361</td>\n",
       "      <td>-983.935042</td>\n",
       "      <td>52.633212</td>\n",
       "    </tr>\n",
       "  </tbody>\n",
       "</table>\n",
       "<p>5 rows × 41 columns</p>\n",
       "</div>"
      ],
      "text/plain": [
       "   Coordenada x  Coordenada y   Bacia       Nome  Maturidade bacia  \\\n",
       "0     74.229378     24.830246  Bacia3  Projeto 1  Estrutura pronta   \n",
       "1      9.119333     82.303289  Bacia7  Projeto 2  Estrutura pronta   \n",
       "2     54.742209     78.330890  Bacia8  Projeto 3  Estrutura pronta   \n",
       "3     87.173936     16.992432  Bacia3  Projeto 4  Estrutura pronta   \n",
       "4     25.336572     18.054157  Bacia1  Projeto 5  Estrutura pronta   \n",
       "\n",
       "    Qualidade do dado    Play  Soterramento     pcgna  \\\n",
       "0  Qualidade razoável  Play 2   1288.650151  0.377734   \n",
       "1     Qualidade baixa  Play 2   1303.331427  0.374704   \n",
       "2  Qualidade razoável  Play 4   2072.448587  0.092404   \n",
       "3  Qualidade razoável  Play 7   4174.453705  0.264731   \n",
       "4      Qualidade alta  Play 1   2631.660587  0.475625   \n",
       "\n",
       "                                                area  ...  \\\n",
       "0  <scipy.stats._distn_infrastructure.rv_frozen o...  ...   \n",
       "1  <scipy.stats._distn_infrastructure.rv_frozen o...  ...   \n",
       "2  <scipy.stats._distn_infrastructure.rv_frozen o...  ...   \n",
       "3  <scipy.stats._distn_infrastructure.rv_frozen o...  ...   \n",
       "4  <scipy.stats._distn_infrastructure.rv_frozen o...  ...   \n",
       "\n",
       "                                         volume cond  \\\n",
       "0  [25.135001178104798, 23.042388603493286, 25.56...   \n",
       "1  [21.151104104482616, 23.49416344711824, 19.158...   \n",
       "2  [67.57083751602826, 69.28420094234241, 60.1759...   \n",
       "3  [20.17622407607874, 17.04398427169918, 24.8573...   \n",
       "4  [10.808237419603804, 9.571999748651415, 12.238...   \n",
       "\n",
       "                                  volume condicional média condicional  \\\n",
       "0  [274.6350348909202, 229.50621050054195, 251.31...        262.618896   \n",
       "1  [231.5668643695245, 246.1336044788767, 217.165...        295.283661   \n",
       "2  [625.2171768728314, 694.8064151909041, 593.244...        728.722365   \n",
       "3  [203.92456538871124, 181.69966582412056, 238.0...        196.610329   \n",
       "4  [90.00154471927036, 178.59541923118007, 78.637...        131.651528   \n",
       "\n",
       "                                volume incondicional média incondicional  \\\n",
       "0  [0, 229.50621050054195, 251.31608462822993, 0,...           66.468913   \n",
       "1  [0, 0, 0, 0, 0, 319.21070884329447, 299.498050...           40.615802   \n",
       "2  [0, 0, 0, 0, 0, 0, 0, 0, 0, 0, 0, 0, 0, 0, 0, ...           75.033242   \n",
       "3  [0, 0, 238.0849566360403, 0, 0, 0, 126.6896585...           38.938221   \n",
       "4  [0, 0, 0, 0, 0, 0, 0, 0, 0, 0, 0, 0, 0, 0, 0, ...            3.212992   \n",
       "\n",
       "                                     VPL condicional  \\\n",
       "0  [373.1751744546011, 147.53105250270983, 256.58...   \n",
       "1  [157.8343218476225, 230.66802239438357, 85.827...   \n",
       "2  [2126.0858843641568, 2474.03207595452, 1966.22...   \n",
       "3  [19.62282694355622, -91.50167087939724, 190.42...   \n",
       "4  [-549.9922764036482, -107.02290384409957, -606...   \n",
       "\n",
       "                                   VPL incondicional VPL condicional médio  \\\n",
       "0  [-1000, 147.53105250270983, 256.5804231411496,...            313.094481   \n",
       "1  [-1000, -1000, -1000, -1000, -1000, 596.053544...            476.418307   \n",
       "2  [-1000, -1000, -1000, -1000, -1000, -1000, -10...           2643.611826   \n",
       "3  [-1000, -1000, 190.42478318020153, -1000, -100...            -16.948353   \n",
       "4  [-1000, -1000, -1000, -1000, -1000, -1000, -10...           -341.742361   \n",
       "\n",
       "  VPL incondicional médio Custo do poço  \n",
       "0             -667.655435     25.773003  \n",
       "1             -796.920988     26.066629  \n",
       "2             -624.833789     41.448972  \n",
       "3             -805.308894     83.489074  \n",
       "4             -983.935042     52.633212  \n",
       "\n",
       "[5 rows x 41 columns]"
      ]
     },
     "execution_count": 40,
     "metadata": {},
     "output_type": "execute_result"
    }
   ],
   "source": [
    "proj_df.head()"
   ]
  },
  {
   "cell_type": "markdown",
   "metadata": {},
   "source": [
    "## Calculando tempo de execução por poço perfurado"
   ]
  },
  {
   "cell_type": "code",
   "execution_count": 41,
   "metadata": {},
   "outputs": [],
   "source": [
    "def TempoExecucao(soterramento, maturidade):\n",
    "    unit_loc = {'Nova fronteira': 3,\n",
    "            'Estrutura em construção': 2,\n",
    "            'Estrutura pronta': 1}\n",
    "    unit = (100 / 5000)\n",
    "    tempo = soterramento*unit*unit_loc[maturidade]\n",
    "    return tempo"
   ]
  },
  {
   "cell_type": "code",
   "execution_count": 42,
   "metadata": {},
   "outputs": [],
   "source": [
    "projetos['Tempo de execução'] = []\n",
    "for i in range(n_projetos):\n",
    "    projetos['Tempo de execução'].append(TempoExecucao(projetos['Soterramento'][i], projetos['Maturidade bacia'][i]))"
   ]
  },
  {
   "cell_type": "code",
   "execution_count": 43,
   "metadata": {},
   "outputs": [],
   "source": [
    "proj_df = pd.DataFrame(projetos)"
   ]
  },
  {
   "cell_type": "code",
   "execution_count": 44,
   "metadata": {},
   "outputs": [
    {
     "data": {
      "text/html": [
       "<div>\n",
       "<style scoped>\n",
       "    .dataframe tbody tr th:only-of-type {\n",
       "        vertical-align: middle;\n",
       "    }\n",
       "\n",
       "    .dataframe tbody tr th {\n",
       "        vertical-align: top;\n",
       "    }\n",
       "\n",
       "    .dataframe thead th {\n",
       "        text-align: right;\n",
       "    }\n",
       "</style>\n",
       "<table border=\"1\" class=\"dataframe\">\n",
       "  <thead>\n",
       "    <tr style=\"text-align: right;\">\n",
       "      <th></th>\n",
       "      <th>Coordenada x</th>\n",
       "      <th>Coordenada y</th>\n",
       "      <th>Bacia</th>\n",
       "      <th>Nome</th>\n",
       "      <th>Maturidade bacia</th>\n",
       "      <th>Qualidade do dado</th>\n",
       "      <th>Play</th>\n",
       "      <th>Soterramento</th>\n",
       "      <th>pcgna</th>\n",
       "      <th>area</th>\n",
       "      <th>...</th>\n",
       "      <th>volume condicional</th>\n",
       "      <th>média condicional</th>\n",
       "      <th>volume incondicional</th>\n",
       "      <th>média incondicional</th>\n",
       "      <th>VPL condicional</th>\n",
       "      <th>VPL incondicional</th>\n",
       "      <th>VPL condicional médio</th>\n",
       "      <th>VPL incondicional médio</th>\n",
       "      <th>Custo do poço</th>\n",
       "      <th>Tempo de execução</th>\n",
       "    </tr>\n",
       "  </thead>\n",
       "  <tbody>\n",
       "    <tr>\n",
       "      <th>0</th>\n",
       "      <td>74.229378</td>\n",
       "      <td>24.830246</td>\n",
       "      <td>Bacia3</td>\n",
       "      <td>Projeto 1</td>\n",
       "      <td>Estrutura pronta</td>\n",
       "      <td>Qualidade razoável</td>\n",
       "      <td>Play 2</td>\n",
       "      <td>1288.650151</td>\n",
       "      <td>0.377734</td>\n",
       "      <td>&lt;scipy.stats._distn_infrastructure.rv_frozen o...</td>\n",
       "      <td>...</td>\n",
       "      <td>[274.6350348909202, 229.50621050054195, 251.31...</td>\n",
       "      <td>262.618896</td>\n",
       "      <td>[0, 229.50621050054195, 251.31608462822993, 0,...</td>\n",
       "      <td>66.468913</td>\n",
       "      <td>[373.1751744546011, 147.53105250270983, 256.58...</td>\n",
       "      <td>[-1000, 147.53105250270983, 256.5804231411496,...</td>\n",
       "      <td>313.094481</td>\n",
       "      <td>-667.655435</td>\n",
       "      <td>25.773003</td>\n",
       "      <td>25.773003</td>\n",
       "    </tr>\n",
       "    <tr>\n",
       "      <th>1</th>\n",
       "      <td>9.119333</td>\n",
       "      <td>82.303289</td>\n",
       "      <td>Bacia7</td>\n",
       "      <td>Projeto 2</td>\n",
       "      <td>Estrutura pronta</td>\n",
       "      <td>Qualidade baixa</td>\n",
       "      <td>Play 2</td>\n",
       "      <td>1303.331427</td>\n",
       "      <td>0.374704</td>\n",
       "      <td>&lt;scipy.stats._distn_infrastructure.rv_frozen o...</td>\n",
       "      <td>...</td>\n",
       "      <td>[231.5668643695245, 246.1336044788767, 217.165...</td>\n",
       "      <td>295.283661</td>\n",
       "      <td>[0, 0, 0, 0, 0, 319.21070884329447, 299.498050...</td>\n",
       "      <td>40.615802</td>\n",
       "      <td>[157.8343218476225, 230.66802239438357, 85.827...</td>\n",
       "      <td>[-1000, -1000, -1000, -1000, -1000, 596.053544...</td>\n",
       "      <td>476.418307</td>\n",
       "      <td>-796.920988</td>\n",
       "      <td>26.066629</td>\n",
       "      <td>26.066629</td>\n",
       "    </tr>\n",
       "    <tr>\n",
       "      <th>2</th>\n",
       "      <td>54.742209</td>\n",
       "      <td>78.330890</td>\n",
       "      <td>Bacia8</td>\n",
       "      <td>Projeto 3</td>\n",
       "      <td>Estrutura pronta</td>\n",
       "      <td>Qualidade razoável</td>\n",
       "      <td>Play 4</td>\n",
       "      <td>2072.448587</td>\n",
       "      <td>0.092404</td>\n",
       "      <td>&lt;scipy.stats._distn_infrastructure.rv_frozen o...</td>\n",
       "      <td>...</td>\n",
       "      <td>[625.2171768728314, 694.8064151909041, 593.244...</td>\n",
       "      <td>728.722365</td>\n",
       "      <td>[0, 0, 0, 0, 0, 0, 0, 0, 0, 0, 0, 0, 0, 0, 0, ...</td>\n",
       "      <td>75.033242</td>\n",
       "      <td>[2126.0858843641568, 2474.03207595452, 1966.22...</td>\n",
       "      <td>[-1000, -1000, -1000, -1000, -1000, -1000, -10...</td>\n",
       "      <td>2643.611826</td>\n",
       "      <td>-624.833789</td>\n",
       "      <td>41.448972</td>\n",
       "      <td>41.448972</td>\n",
       "    </tr>\n",
       "    <tr>\n",
       "      <th>3</th>\n",
       "      <td>87.173936</td>\n",
       "      <td>16.992432</td>\n",
       "      <td>Bacia3</td>\n",
       "      <td>Projeto 4</td>\n",
       "      <td>Estrutura pronta</td>\n",
       "      <td>Qualidade razoável</td>\n",
       "      <td>Play 7</td>\n",
       "      <td>4174.453705</td>\n",
       "      <td>0.264731</td>\n",
       "      <td>&lt;scipy.stats._distn_infrastructure.rv_frozen o...</td>\n",
       "      <td>...</td>\n",
       "      <td>[203.92456538871124, 181.69966582412056, 238.0...</td>\n",
       "      <td>196.610329</td>\n",
       "      <td>[0, 0, 238.0849566360403, 0, 0, 0, 126.6896585...</td>\n",
       "      <td>38.938221</td>\n",
       "      <td>[19.62282694355622, -91.50167087939724, 190.42...</td>\n",
       "      <td>[-1000, -1000, 190.42478318020153, -1000, -100...</td>\n",
       "      <td>-16.948353</td>\n",
       "      <td>-805.308894</td>\n",
       "      <td>83.489074</td>\n",
       "      <td>83.489074</td>\n",
       "    </tr>\n",
       "    <tr>\n",
       "      <th>4</th>\n",
       "      <td>25.336572</td>\n",
       "      <td>18.054157</td>\n",
       "      <td>Bacia1</td>\n",
       "      <td>Projeto 5</td>\n",
       "      <td>Estrutura pronta</td>\n",
       "      <td>Qualidade alta</td>\n",
       "      <td>Play 1</td>\n",
       "      <td>2631.660587</td>\n",
       "      <td>0.475625</td>\n",
       "      <td>&lt;scipy.stats._distn_infrastructure.rv_frozen o...</td>\n",
       "      <td>...</td>\n",
       "      <td>[90.00154471927036, 178.59541923118007, 78.637...</td>\n",
       "      <td>131.651528</td>\n",
       "      <td>[0, 0, 0, 0, 0, 0, 0, 0, 0, 0, 0, 0, 0, 0, 0, ...</td>\n",
       "      <td>3.212992</td>\n",
       "      <td>[-549.9922764036482, -107.02290384409957, -606...</td>\n",
       "      <td>[-1000, -1000, -1000, -1000, -1000, -1000, -10...</td>\n",
       "      <td>-341.742361</td>\n",
       "      <td>-983.935042</td>\n",
       "      <td>52.633212</td>\n",
       "      <td>52.633212</td>\n",
       "    </tr>\n",
       "  </tbody>\n",
       "</table>\n",
       "<p>5 rows × 42 columns</p>\n",
       "</div>"
      ],
      "text/plain": [
       "   Coordenada x  Coordenada y   Bacia       Nome  Maturidade bacia  \\\n",
       "0     74.229378     24.830246  Bacia3  Projeto 1  Estrutura pronta   \n",
       "1      9.119333     82.303289  Bacia7  Projeto 2  Estrutura pronta   \n",
       "2     54.742209     78.330890  Bacia8  Projeto 3  Estrutura pronta   \n",
       "3     87.173936     16.992432  Bacia3  Projeto 4  Estrutura pronta   \n",
       "4     25.336572     18.054157  Bacia1  Projeto 5  Estrutura pronta   \n",
       "\n",
       "    Qualidade do dado    Play  Soterramento     pcgna  \\\n",
       "0  Qualidade razoável  Play 2   1288.650151  0.377734   \n",
       "1     Qualidade baixa  Play 2   1303.331427  0.374704   \n",
       "2  Qualidade razoável  Play 4   2072.448587  0.092404   \n",
       "3  Qualidade razoável  Play 7   4174.453705  0.264731   \n",
       "4      Qualidade alta  Play 1   2631.660587  0.475625   \n",
       "\n",
       "                                                area  ...  \\\n",
       "0  <scipy.stats._distn_infrastructure.rv_frozen o...  ...   \n",
       "1  <scipy.stats._distn_infrastructure.rv_frozen o...  ...   \n",
       "2  <scipy.stats._distn_infrastructure.rv_frozen o...  ...   \n",
       "3  <scipy.stats._distn_infrastructure.rv_frozen o...  ...   \n",
       "4  <scipy.stats._distn_infrastructure.rv_frozen o...  ...   \n",
       "\n",
       "                                  volume condicional média condicional  \\\n",
       "0  [274.6350348909202, 229.50621050054195, 251.31...        262.618896   \n",
       "1  [231.5668643695245, 246.1336044788767, 217.165...        295.283661   \n",
       "2  [625.2171768728314, 694.8064151909041, 593.244...        728.722365   \n",
       "3  [203.92456538871124, 181.69966582412056, 238.0...        196.610329   \n",
       "4  [90.00154471927036, 178.59541923118007, 78.637...        131.651528   \n",
       "\n",
       "                                volume incondicional média incondicional  \\\n",
       "0  [0, 229.50621050054195, 251.31608462822993, 0,...           66.468913   \n",
       "1  [0, 0, 0, 0, 0, 319.21070884329447, 299.498050...           40.615802   \n",
       "2  [0, 0, 0, 0, 0, 0, 0, 0, 0, 0, 0, 0, 0, 0, 0, ...           75.033242   \n",
       "3  [0, 0, 238.0849566360403, 0, 0, 0, 126.6896585...           38.938221   \n",
       "4  [0, 0, 0, 0, 0, 0, 0, 0, 0, 0, 0, 0, 0, 0, 0, ...            3.212992   \n",
       "\n",
       "                                     VPL condicional  \\\n",
       "0  [373.1751744546011, 147.53105250270983, 256.58...   \n",
       "1  [157.8343218476225, 230.66802239438357, 85.827...   \n",
       "2  [2126.0858843641568, 2474.03207595452, 1966.22...   \n",
       "3  [19.62282694355622, -91.50167087939724, 190.42...   \n",
       "4  [-549.9922764036482, -107.02290384409957, -606...   \n",
       "\n",
       "                                   VPL incondicional VPL condicional médio  \\\n",
       "0  [-1000, 147.53105250270983, 256.5804231411496,...            313.094481   \n",
       "1  [-1000, -1000, -1000, -1000, -1000, 596.053544...            476.418307   \n",
       "2  [-1000, -1000, -1000, -1000, -1000, -1000, -10...           2643.611826   \n",
       "3  [-1000, -1000, 190.42478318020153, -1000, -100...            -16.948353   \n",
       "4  [-1000, -1000, -1000, -1000, -1000, -1000, -10...           -341.742361   \n",
       "\n",
       "  VPL incondicional médio Custo do poço Tempo de execução  \n",
       "0             -667.655435     25.773003         25.773003  \n",
       "1             -796.920988     26.066629         26.066629  \n",
       "2             -624.833789     41.448972         41.448972  \n",
       "3             -805.308894     83.489074         83.489074  \n",
       "4             -983.935042     52.633212         52.633212  \n",
       "\n",
       "[5 rows x 42 columns]"
      ]
     },
     "execution_count": 44,
     "metadata": {},
     "output_type": "execute_result"
    }
   ],
   "source": [
    "proj_df.head()"
   ]
  },
  {
   "cell_type": "markdown",
   "metadata": {},
   "source": [
    "## Atribuindo contratos aos projetos"
   ]
  },
  {
   "cell_type": "code",
   "execution_count": 52,
   "metadata": {},
   "outputs": [],
   "source": [
    "duracao = [1, 2, 3, 4, 5]\n",
    "projetos['Início do Contrato'] = []\n",
    "projetos['Final do Contrato'] = []\n",
    "for i in range(n_projetos):\n",
    "    inicio = np.random.randint(0, 365*5)\n",
    "    final = inicio + 365*np.random.choice(duracao)\n",
    "    projetos['Início do Contrato'].append(copy.copy(inicio))\n",
    "    projetos['Final do Contrato'].append(copy.copy(final))"
   ]
  },
  {
   "cell_type": "code",
   "execution_count": 53,
   "metadata": {},
   "outputs": [],
   "source": [
    "proj_df = pd.DataFrame(projetos)"
   ]
  },
  {
   "cell_type": "code",
   "execution_count": 54,
   "metadata": {},
   "outputs": [
    {
     "data": {
      "text/html": [
       "<div>\n",
       "<style scoped>\n",
       "    .dataframe tbody tr th:only-of-type {\n",
       "        vertical-align: middle;\n",
       "    }\n",
       "\n",
       "    .dataframe tbody tr th {\n",
       "        vertical-align: top;\n",
       "    }\n",
       "\n",
       "    .dataframe thead th {\n",
       "        text-align: right;\n",
       "    }\n",
       "</style>\n",
       "<table border=\"1\" class=\"dataframe\">\n",
       "  <thead>\n",
       "    <tr style=\"text-align: right;\">\n",
       "      <th></th>\n",
       "      <th>Coordenada x</th>\n",
       "      <th>Coordenada y</th>\n",
       "      <th>Bacia</th>\n",
       "      <th>Nome</th>\n",
       "      <th>Maturidade bacia</th>\n",
       "      <th>Qualidade do dado</th>\n",
       "      <th>Play</th>\n",
       "      <th>Soterramento</th>\n",
       "      <th>pcgna</th>\n",
       "      <th>area</th>\n",
       "      <th>...</th>\n",
       "      <th>volume incondicional</th>\n",
       "      <th>média incondicional</th>\n",
       "      <th>VPL condicional</th>\n",
       "      <th>VPL incondicional</th>\n",
       "      <th>VPL condicional médio</th>\n",
       "      <th>VPL incondicional médio</th>\n",
       "      <th>Custo do poço</th>\n",
       "      <th>Tempo de execução</th>\n",
       "      <th>Início do Contrato</th>\n",
       "      <th>Final do Contrato</th>\n",
       "    </tr>\n",
       "  </thead>\n",
       "  <tbody>\n",
       "    <tr>\n",
       "      <th>0</th>\n",
       "      <td>74.229378</td>\n",
       "      <td>24.830246</td>\n",
       "      <td>Bacia3</td>\n",
       "      <td>Projeto 1</td>\n",
       "      <td>Estrutura pronta</td>\n",
       "      <td>Qualidade razoável</td>\n",
       "      <td>Play 2</td>\n",
       "      <td>1288.650151</td>\n",
       "      <td>0.377734</td>\n",
       "      <td>&lt;scipy.stats._distn_infrastructure.rv_frozen o...</td>\n",
       "      <td>...</td>\n",
       "      <td>[0, 229.50621050054195, 251.31608462822993, 0,...</td>\n",
       "      <td>66.468913</td>\n",
       "      <td>[373.1751744546011, 147.53105250270983, 256.58...</td>\n",
       "      <td>[-1000, 147.53105250270983, 256.5804231411496,...</td>\n",
       "      <td>313.094481</td>\n",
       "      <td>-667.655435</td>\n",
       "      <td>25.773003</td>\n",
       "      <td>25.773003</td>\n",
       "      <td>133</td>\n",
       "      <td>863</td>\n",
       "    </tr>\n",
       "    <tr>\n",
       "      <th>1</th>\n",
       "      <td>9.119333</td>\n",
       "      <td>82.303289</td>\n",
       "      <td>Bacia7</td>\n",
       "      <td>Projeto 2</td>\n",
       "      <td>Estrutura pronta</td>\n",
       "      <td>Qualidade baixa</td>\n",
       "      <td>Play 2</td>\n",
       "      <td>1303.331427</td>\n",
       "      <td>0.374704</td>\n",
       "      <td>&lt;scipy.stats._distn_infrastructure.rv_frozen o...</td>\n",
       "      <td>...</td>\n",
       "      <td>[0, 0, 0, 0, 0, 319.21070884329447, 299.498050...</td>\n",
       "      <td>40.615802</td>\n",
       "      <td>[157.8343218476225, 230.66802239438357, 85.827...</td>\n",
       "      <td>[-1000, -1000, -1000, -1000, -1000, 596.053544...</td>\n",
       "      <td>476.418307</td>\n",
       "      <td>-796.920988</td>\n",
       "      <td>26.066629</td>\n",
       "      <td>26.066629</td>\n",
       "      <td>394</td>\n",
       "      <td>1854</td>\n",
       "    </tr>\n",
       "    <tr>\n",
       "      <th>2</th>\n",
       "      <td>54.742209</td>\n",
       "      <td>78.330890</td>\n",
       "      <td>Bacia8</td>\n",
       "      <td>Projeto 3</td>\n",
       "      <td>Estrutura pronta</td>\n",
       "      <td>Qualidade razoável</td>\n",
       "      <td>Play 4</td>\n",
       "      <td>2072.448587</td>\n",
       "      <td>0.092404</td>\n",
       "      <td>&lt;scipy.stats._distn_infrastructure.rv_frozen o...</td>\n",
       "      <td>...</td>\n",
       "      <td>[0, 0, 0, 0, 0, 0, 0, 0, 0, 0, 0, 0, 0, 0, 0, ...</td>\n",
       "      <td>75.033242</td>\n",
       "      <td>[2126.0858843641568, 2474.03207595452, 1966.22...</td>\n",
       "      <td>[-1000, -1000, -1000, -1000, -1000, -1000, -10...</td>\n",
       "      <td>2643.611826</td>\n",
       "      <td>-624.833789</td>\n",
       "      <td>41.448972</td>\n",
       "      <td>41.448972</td>\n",
       "      <td>1747</td>\n",
       "      <td>2842</td>\n",
       "    </tr>\n",
       "    <tr>\n",
       "      <th>3</th>\n",
       "      <td>87.173936</td>\n",
       "      <td>16.992432</td>\n",
       "      <td>Bacia3</td>\n",
       "      <td>Projeto 4</td>\n",
       "      <td>Estrutura pronta</td>\n",
       "      <td>Qualidade razoável</td>\n",
       "      <td>Play 7</td>\n",
       "      <td>4174.453705</td>\n",
       "      <td>0.264731</td>\n",
       "      <td>&lt;scipy.stats._distn_infrastructure.rv_frozen o...</td>\n",
       "      <td>...</td>\n",
       "      <td>[0, 0, 238.0849566360403, 0, 0, 0, 126.6896585...</td>\n",
       "      <td>38.938221</td>\n",
       "      <td>[19.62282694355622, -91.50167087939724, 190.42...</td>\n",
       "      <td>[-1000, -1000, 190.42478318020153, -1000, -100...</td>\n",
       "      <td>-16.948353</td>\n",
       "      <td>-805.308894</td>\n",
       "      <td>83.489074</td>\n",
       "      <td>83.489074</td>\n",
       "      <td>1126</td>\n",
       "      <td>1491</td>\n",
       "    </tr>\n",
       "    <tr>\n",
       "      <th>4</th>\n",
       "      <td>25.336572</td>\n",
       "      <td>18.054157</td>\n",
       "      <td>Bacia1</td>\n",
       "      <td>Projeto 5</td>\n",
       "      <td>Estrutura pronta</td>\n",
       "      <td>Qualidade alta</td>\n",
       "      <td>Play 1</td>\n",
       "      <td>2631.660587</td>\n",
       "      <td>0.475625</td>\n",
       "      <td>&lt;scipy.stats._distn_infrastructure.rv_frozen o...</td>\n",
       "      <td>...</td>\n",
       "      <td>[0, 0, 0, 0, 0, 0, 0, 0, 0, 0, 0, 0, 0, 0, 0, ...</td>\n",
       "      <td>3.212992</td>\n",
       "      <td>[-549.9922764036482, -107.02290384409957, -606...</td>\n",
       "      <td>[-1000, -1000, -1000, -1000, -1000, -1000, -10...</td>\n",
       "      <td>-341.742361</td>\n",
       "      <td>-983.935042</td>\n",
       "      <td>52.633212</td>\n",
       "      <td>52.633212</td>\n",
       "      <td>818</td>\n",
       "      <td>1183</td>\n",
       "    </tr>\n",
       "  </tbody>\n",
       "</table>\n",
       "<p>5 rows × 44 columns</p>\n",
       "</div>"
      ],
      "text/plain": [
       "   Coordenada x  Coordenada y   Bacia       Nome  Maturidade bacia  \\\n",
       "0     74.229378     24.830246  Bacia3  Projeto 1  Estrutura pronta   \n",
       "1      9.119333     82.303289  Bacia7  Projeto 2  Estrutura pronta   \n",
       "2     54.742209     78.330890  Bacia8  Projeto 3  Estrutura pronta   \n",
       "3     87.173936     16.992432  Bacia3  Projeto 4  Estrutura pronta   \n",
       "4     25.336572     18.054157  Bacia1  Projeto 5  Estrutura pronta   \n",
       "\n",
       "    Qualidade do dado    Play  Soterramento     pcgna  \\\n",
       "0  Qualidade razoável  Play 2   1288.650151  0.377734   \n",
       "1     Qualidade baixa  Play 2   1303.331427  0.374704   \n",
       "2  Qualidade razoável  Play 4   2072.448587  0.092404   \n",
       "3  Qualidade razoável  Play 7   4174.453705  0.264731   \n",
       "4      Qualidade alta  Play 1   2631.660587  0.475625   \n",
       "\n",
       "                                                area  ...  \\\n",
       "0  <scipy.stats._distn_infrastructure.rv_frozen o...  ...   \n",
       "1  <scipy.stats._distn_infrastructure.rv_frozen o...  ...   \n",
       "2  <scipy.stats._distn_infrastructure.rv_frozen o...  ...   \n",
       "3  <scipy.stats._distn_infrastructure.rv_frozen o...  ...   \n",
       "4  <scipy.stats._distn_infrastructure.rv_frozen o...  ...   \n",
       "\n",
       "                                volume incondicional média incondicional  \\\n",
       "0  [0, 229.50621050054195, 251.31608462822993, 0,...           66.468913   \n",
       "1  [0, 0, 0, 0, 0, 319.21070884329447, 299.498050...           40.615802   \n",
       "2  [0, 0, 0, 0, 0, 0, 0, 0, 0, 0, 0, 0, 0, 0, 0, ...           75.033242   \n",
       "3  [0, 0, 238.0849566360403, 0, 0, 0, 126.6896585...           38.938221   \n",
       "4  [0, 0, 0, 0, 0, 0, 0, 0, 0, 0, 0, 0, 0, 0, 0, ...            3.212992   \n",
       "\n",
       "                                     VPL condicional  \\\n",
       "0  [373.1751744546011, 147.53105250270983, 256.58...   \n",
       "1  [157.8343218476225, 230.66802239438357, 85.827...   \n",
       "2  [2126.0858843641568, 2474.03207595452, 1966.22...   \n",
       "3  [19.62282694355622, -91.50167087939724, 190.42...   \n",
       "4  [-549.9922764036482, -107.02290384409957, -606...   \n",
       "\n",
       "                                   VPL incondicional VPL condicional médio  \\\n",
       "0  [-1000, 147.53105250270983, 256.5804231411496,...            313.094481   \n",
       "1  [-1000, -1000, -1000, -1000, -1000, 596.053544...            476.418307   \n",
       "2  [-1000, -1000, -1000, -1000, -1000, -1000, -10...           2643.611826   \n",
       "3  [-1000, -1000, 190.42478318020153, -1000, -100...            -16.948353   \n",
       "4  [-1000, -1000, -1000, -1000, -1000, -1000, -10...           -341.742361   \n",
       "\n",
       "  VPL incondicional médio Custo do poço Tempo de execução Início do Contrato  \\\n",
       "0             -667.655435     25.773003         25.773003                133   \n",
       "1             -796.920988     26.066629         26.066629                394   \n",
       "2             -624.833789     41.448972         41.448972               1747   \n",
       "3             -805.308894     83.489074         83.489074               1126   \n",
       "4             -983.935042     52.633212         52.633212                818   \n",
       "\n",
       "  Final do Contrato  \n",
       "0               863  \n",
       "1              1854  \n",
       "2              2842  \n",
       "3              1491  \n",
       "4              1183  \n",
       "\n",
       "[5 rows x 44 columns]"
      ]
     },
     "execution_count": 54,
     "metadata": {},
     "output_type": "execute_result"
    }
   ],
   "source": [
    "proj_df.head()"
   ]
  },
  {
   "cell_type": "markdown",
   "metadata": {},
   "source": [
    "## Visualizando métricas dos projetos para controle de qualidade dos dados"
   ]
  },
  {
   "cell_type": "code",
   "execution_count": null,
   "metadata": {},
   "outputs": [],
   "source": []
  },
  {
   "cell_type": "code",
   "execution_count": null,
   "metadata": {},
   "outputs": [],
   "source": []
  }
 ],
 "metadata": {
  "kernelspec": {
   "display_name": "Python 3",
   "language": "python",
   "name": "python3"
  },
  "language_info": {
   "codemirror_mode": {
    "name": "ipython",
    "version": 3
   },
   "file_extension": ".py",
   "mimetype": "text/x-python",
   "name": "python",
   "nbconvert_exporter": "python",
   "pygments_lexer": "ipython3",
   "version": "3.8.3"
  }
 },
 "nbformat": 4,
 "nbformat_minor": 4
}
