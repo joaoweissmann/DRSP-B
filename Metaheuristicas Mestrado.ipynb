{
 "cells": [
  {
   "cell_type": "markdown",
   "metadata": {},
   "source": [
    "# Metaheurísticas"
   ]
  },
  {
   "cell_type": "markdown",
   "metadata": {},
   "source": [
    "## Representação de uma solução viável (ideia inicial)"
   ]
  },
  {
   "cell_type": "markdown",
   "metadata": {},
   "source": [
    "- Cada sonda guarda uma lista (array) de projetos executados por ela (map <sonda, lista>)\n",
    "\n",
    "    - guardar projeto e tempos de início e término\n",
    "\n",
    "- Manter um contador de gastos (geral e por tipo de projeto)\n",
    "\n",
    "- Cada sonda guarda uma lista de janelas de tempo disponíveis\n",
    "\n",
    "- Cada sonda guarda uma lista de possíveis projetos (heap, com key por critério guloso)"
   ]
  },
  {
   "cell_type": "markdown",
   "metadata": {},
   "source": [
    "## Representação de uma solução viável (segunda versão)"
   ]
  },
  {
   "cell_type": "markdown",
   "metadata": {},
   "source": [
    "- Cada sonda quarda uma lista duplamente encadeada de atividades\n",
    "\n",
    "    - Atividades podem ser janelas de tempo ou alocações de projetos\n",
    "    \n",
    "    - Cada item da lista contém (atividade, prev, inicio, final)\n",
    "\n",
    "- Manter um contador de gastos (geral e por tipo de projeto)\n",
    "\n",
    "- Cada sonda guarda uma lista de possíveis projetos (heap, com key por critério guloso)"
   ]
  },
  {
   "cell_type": "markdown",
   "metadata": {},
   "source": [
    "## Estruturas de dados"
   ]
  },
  {
   "cell_type": "markdown",
   "metadata": {},
   "source": [
    "- Linked list:\n",
    "\n",
    "- Heap:"
   ]
  },
  {
   "cell_type": "markdown",
   "metadata": {},
   "source": [
    "# Critérios gulosos"
   ]
  },
  {
   "cell_type": "markdown",
   "metadata": {},
   "source": [
    "- lucro\n",
    "\n",
    "- lucro / custo\n",
    "\n",
    "- lucro / duração\n",
    "\n",
    "- lucro / distância"
   ]
  },
  {
   "cell_type": "markdown",
   "metadata": {},
   "source": [
    "## Heurística de construção"
   ]
  },
  {
   "cell_type": "markdown",
   "metadata": {},
   "source": [
    "1. Escolher uma sonda\n",
    "2. Escolher um projeto (dentro da heap de possíveis projetos)\n",
    "3. Alocar na sonda\n",
    "    - se for inviável (pelo tempo), tentar realocar até k projetos (menos restritivos dentro da janela do projeto a ser inserido)\n",
    "    - ou tentar realocar por sliding window\n",
    "4. Atualizar dados (gastos, janelas de tempo, projetos possíveis)\n",
    "5. Repetir até restrições serem alcançadas\n"
   ]
  },
  {
   "cell_type": "markdown",
   "metadata": {},
   "source": [
    "## Heurística de refinamento (busca local)"
   ]
  },
  {
   "cell_type": "markdown",
   "metadata": {},
   "source": [
    "### Estrutura de vizinhança 1: Inserir projeto ainda não escolhido\n",
    "\n",
    "- Escolher projeto por critério guloso (dentro dos não selecionados)\n",
    "\n",
    "- Tentar inserir sem remover ninguém\n",
    "\n",
    "- Se for inviável, então, dentro da janela do projeto a ser inserido:\n",
    "\n",
    "    - percorrer todos os projetos e escolher o maior ganho / menor perda, ao inserir o novo projeto (sliding window)\n",
    "    \n",
    "    - ou tentar realocar até k projetos (os k menos restritivos dentro da janela do projeto a ser inserido)"
   ]
  },
  {
   "cell_type": "markdown",
   "metadata": {},
   "source": [
    "### Estrutura de vizinhança 2: Remover k projetos e preencher com heurística de construção\n",
    "\n",
    "- Posso variar k projetos a serem removidos\n",
    "\n",
    "- Posso variar critério de remoção e reconstrução para maior diversificação\n"
   ]
  },
  {
   "cell_type": "markdown",
   "metadata": {},
   "source": [
    "## Crossover"
   ]
  },
  {
   "cell_type": "markdown",
   "metadata": {},
   "source": [
    "### Ideia 1: quando a instância tem mais de uma sonda\n",
    "\n",
    "Dadas duas soluções possíveis:\n",
    "\n",
    "- Dividir as sondas em dois conjuntos\n",
    "\n",
    "- Para a primeira solução, escolher o primeiro conjunto de sondas (solução parcial)\n",
    "\n",
    "- Para a segunda solução, escolher o segundo conjunto de sondas (solução complementar)\n",
    "\n",
    "- Remover aleatoriamente projetos que estejam tanto na solução parcial, quanto na complementar\n",
    "\n",
    "- Unir solução parcial com solução complementar\n",
    "\n",
    "- Para cada sonda\n",
    "\n",
    "    - Preencher buracos com heurística de construção"
   ]
  },
  {
   "cell_type": "markdown",
   "metadata": {},
   "source": [
    "### Idéia 2: mais genérica\n",
    "\n",
    "Dadas duas soluções possíveis, para cada sonda:\n",
    "\n",
    "- Dividir os projetos em dois grupos\n",
    "\n",
    "- Para a primeira solução, escolher o primeiro conjunto de projetos (solução parcial)\n",
    "\n",
    "- Para a segunda solução, escolher o segundo conjunto de projetos (solução complementar)\n",
    "\n",
    "- Remover aleatoriamente projetos que estejam tanto na solução parcial, quanto na complementar\n",
    "\n",
    "- Para cada projeto da solução complementar:\n",
    "\n",
    "    - Tentar inserir na solução parcial usando heurística de construção (projetos já selecionados)\n",
    "    \n",
    "- Preencher buracos com heurística de construção"
   ]
  },
  {
   "cell_type": "markdown",
   "metadata": {},
   "source": [
    "## Decodificador BRKGA"
   ]
  },
  {
   "cell_type": "markdown",
   "metadata": {},
   "source": [
    "### Representação:\n",
    "\n",
    "- Cada projeto recebe um número aleatório entre 0 e 1\n",
    "\n",
    "### Ideia:\n",
    "\n",
    "- Usar a heurística de construção, simplificada:\n",
    "\n",
    "    - Critério guloso: ordem dos números aleatórios\n",
    "    \n",
    "    - Eficiência: não pegar pesado em tentar viabilizar a inserção de projetos inviáveis\n",
    "\n",
    "- Construir parte da população inicial com GRASP"
   ]
  },
  {
   "cell_type": "markdown",
   "metadata": {},
   "source": [
    "## Lendo dados"
   ]
  },
  {
   "cell_type": "code",
   "execution_count": null,
   "metadata": {},
   "outputs": [],
   "source": [
    "import copy"
   ]
  },
  {
   "cell_type": "code",
   "execution_count": null,
   "metadata": {},
   "outputs": [],
   "source": [
    "ls"
   ]
  },
  {
   "cell_type": "code",
   "execution_count": null,
   "metadata": {},
   "outputs": [],
   "source": [
    "coords_x = []\n",
    "coords_y = []\n",
    "bacias = []\n",
    "nomes = []\n",
    "maturidades = []\n",
    "qualidades = []\n",
    "plays = []\n",
    "soterramentos = []\n",
    "pcgnas = []\n",
    "geracao = []\n",
    "migracao = []\n",
    "reservatorio = []\n",
    "geometria = []\n",
    "retencao = []\n",
    "pshc = []\n",
    "mc_vol = []#print ('sonda: ', sonda, ' inserindo projeto ', projeto, ' nos tempos ', release, ' e ', \n",
    "                \n",
    "mi_vol = []\n",
    "mc_vpl = []\n",
    "mi_vpl = []\n",
    "custos = []\n",
    "tempos_exec = []\n",
    "inicio_janela = []\n",
    "final_janela = []\n",
    "sondas_x = []\n",
    "sondas_y = []\n",
    "\n",
    "data = {\n",
    "    1: coords_x,\n",
    "    2: coords_y,\n",
    "    3: bacias,\n",
    "    4: nomes,\n",
    "    5: maturidades,\n",
    "    6: qualidades,\n",
    "    7: plays,\n",
    "    8: soterramentos,\n",
    "    9: pcgnas,\n",
    "    10: geracao,\n",
    "    11: migracao,\n",
    "    12: reservatorio,\n",
    "    13: geometria,\n",
    "    14: retencao,\n",
    "    15: pshc,\n",
    "    16: mc_vol,\n",
    "    17: mi_vol,\n",
    "    18: mc_vpl,\n",
    "    19: mi_vpl,\n",
    "    20: custos,\n",
    "    21: tempos_exec,\n",
    "    22: inicio_janela,\n",
    "    23: final_janela,\n",
    "    25: sondas_x,\n",
    "    26: sondas_y\n",
    "}\n",
    "\n",
    "with open('instancia_10projetos_2sondas.dat', 'r') as f:\n",
    "    for i, line in enumerate(f):\n",
    "        if i == 0:\n",
    "            (n_projetos, custo_total) = int(line.split()[0]), float(line.split()[1])\n",
    "        elif i == 24:\n",
    "            n_sondas = int(line.split()[0])\n",
    "        else:\n",
    "            for elem in line.split('[')[1].split(']')[0].split(','):\n",
    "                try:\n",
    "                    data[i].append(float(elem))\n",
    "                except:\n",
    "                    data[i].append(elem)"
   ]
  },
  {
   "cell_type": "code",
   "execution_count": null,
   "metadata": {},
   "outputs": [],
   "source": [
    "n_projetos"
   ]
  },
  {
   "cell_type": "code",
   "execution_count": null,
   "metadata": {},
   "outputs": [],
   "source": [
    "custo_total"
   ]
  },
  {
   "cell_type": "code",
   "execution_count": null,
   "metadata": {},
   "outputs": [],
   "source": [
    "n_sondas"
   ]
  },
  {
   "cell_type": "code",
   "execution_count": null,
   "metadata": {},
   "outputs": [],
   "source": [
    "def ConstruirSolucao(dados, n_projetos, n_sondas, custo_total, t_init, t_final, delta_t, criterio='lucro/custo'):\n",
    "    \n",
    "    import math\n",
    "    import copy\n",
    "    import numpy as np\n",
    "    import heapq\n",
    "    \n",
    "    dados_local = copy.deepcopy(dados)\n",
    "    \n",
    "    n_periodos = ((t_final - t_init) // delta_t) + 1\n",
    "    \n",
    "    # convertendo dados de tempo para períodos -------------- TODO: verificar se não está somando 1 a mais\n",
    "    # ------------------------------------------------------- TODO: posso fazer isso como pré-processamento\n",
    "    for i in range(n_projetos):\n",
    "        dados_local[21][i] = (dados_local[21][i] // delta_t) + 1\n",
    "        dados_local[22][i] = (dados_local[22][i] // delta_t)\n",
    "        dados_local[23][i] = (dados_local[23][i] // delta_t)\n",
    "    \n",
    "    # calculando tempo de deslocamento entre projetos: ---------- TODO: posso fazer isso como pré-processamento\n",
    "    desloc = []\n",
    "    lag = n_sondas\n",
    "    for i in range(n_projetos+n_sondas):\n",
    "        desloc.append([])\n",
    "        for j in range(n_projetos+n_sondas):\n",
    "            if (i<n_sondas) and (j<n_sondas):\n",
    "                dist = math.sqrt( (dados[25][i] - dados[25][j])**2 + (dados[26][i] - dados[26][j])**2 )\n",
    "            elif (i<n_sondas) and not(j<n_sondas):\n",
    "                dist = math.sqrt( (dados[25][i] - dados[1][j-lag])**2 + (dados[25][i] - dados[2][j-lag])**2 )\n",
    "            elif not(i<n_sondas) and (j<n_sondas):\n",
    "                dist = math.sqrt( (dados[1][i-lag] - dados[26][j])**2 + (dados[2][i-lag] - dados[26][j])**2 )\n",
    "            else:\n",
    "                dist = math.sqrt( (dados[1][i-lag] - dados[1][j-lag])**2 + (dados[2][i-lag] - dados[2][j-lag])**2 )\n",
    "            \n",
    "            # converte para períodos: --------------------- TODO : verificar se não está somando 1 a mais\n",
    "            if delta_t == 1:\n",
    "                desloc[i].append(dist)\n",
    "            else:\n",
    "                desloc[i].append((dist // delta_t) + 1)\n",
    "    \n",
    "    # inicializando solução\n",
    "    s = {i:[] for i in range(n_sondas)}\n",
    "    \n",
    "    # inicializando janelas de tempo, por sonda\n",
    "    s_janelas = {i:[[-1, [0, n_periodos]]] for i in range(n_sondas)}\n",
    "    \n",
    "    # inicializando lista de candidatos, por sonda\n",
    "    s_candidatos = {i:[] for i in range(n_sondas)}\n",
    "    \n",
    "    # armazena lista de candidatos como uma heap: ------- OBS: valores keys multiplicados por -1 (MaxHeap)\n",
    "    # ---------------------------------- TODO: posso ordenar projetos pelo critério guloso como pré-processamento?\n",
    "    for i in range(n_sondas):\n",
    "        for j in range(n_projetos):\n",
    "            criterio_val = dados_local[19][j] / dados_local[20][j]\n",
    "            heapq.heappush( s_candidatos[i], (-criterio_val, j) )\n",
    "    \n",
    "    # inicializa contador de gastos total\n",
    "    gastos = 0\n",
    "    \n",
    "    proj_usados = set()\n",
    "    sondas = set([i for i in range(n_sondas)])\n",
    "    \n",
    "    fitness = 0\n",
    "    \n",
    "    while (gastos <= custo_total and sondas):\n",
    "        \n",
    "        # escolher uma sonda\n",
    "        sonda = np.random.choice(list(sondas))\n",
    "        \n",
    "        # escolher um projeto\n",
    "        projeto = heapq.heappop(s_candidatos[sonda])[1]\n",
    "        \n",
    "        # se sonda não tem mais candidatos, remover ela da lista\n",
    "        if s_candidatos[sonda] == []:\n",
    "            sondas.remove(sonda)\n",
    "        \n",
    "        # se projeto já foi escolhido, pular\n",
    "        if (projeto in proj_usados):\n",
    "            continue\n",
    "        \n",
    "        # se existe janela disponível na sonda\n",
    "        aloc = False\n",
    "        proc = dados_local[21][projeto]\n",
    "        for i, (prev, janela) in enumerate(s_janelas[sonda]):\n",
    "            release = max(janela[0], dados_local[22][projeto])\n",
    "            due = min(janela[1], dados_local[23][projeto])\n",
    "            if prev == -1:\n",
    "                setup = desloc[sonda][projeto + lag]\n",
    "            else:\n",
    "                setup = desloc[prev + lag][projeto + lag]\n",
    "            if ( release + proc + setup <= due ):\n",
    "                \n",
    "                #print ('sonda: ', sonda, ' inserindo projeto ', projeto, ' nos tempos ', release, ' e ', \n",
    "                #       release+setup+proc, ' dentro da janela ', janela[0], janela[1])\n",
    "                \n",
    "                # alocar\n",
    "                s[sonda].append((copy.copy(projeto), copy.copy(release), copy.copy(release+setup+proc)))\n",
    "                proj_usados.add(copy.copy(projeto))\n",
    "                fitness += dados_local[19][projeto]\n",
    "                aloc = True\n",
    "                \n",
    "                # atualizar janela da sonda\n",
    "                \n",
    "                if ( (int(janela[0])==int(release)) and (int(janela[1])==int(release+setup+proc)) ):\n",
    "                    # remover janela\n",
    "                    s_janelas[sonda].pop(i)\n",
    "                    \n",
    "                    #https://www.youtube.com/watch?v=3pUdUX5Gagcprint ('janela toda preenchida pelo projeto')\n",
    "                    \n",
    "                elif (int(janela[0])==int(release)):\n",
    "                    # atualizar release da janela e colocar o prev como o projeto alocado\n",
    "                    s_janelas[sonda][i][0] = copy.copy(projeto)\n",
    "                    s_janelas[sonda][i][1][0] = copy.copy(release + setup + proc)\n",
    "                    \n",
    "                    #print ('projeto preenche inicio da janela')\n",
    "                    \n",
    "                elif (int(janela[1])==int(release+setup+proc)):\n",
    "                    # atualiza due da janela, mantendo o prev\n",
    "                    s_janelas[sonda][i][1][1] = copy.copy(release)\n",
    "                    \n",
    "                    #print ('projeto preenche final da janela')\n",
    "                    \n",
    "                else:\n",
    "                    # abrir janela antes da release, cujo prev é o prev original\n",
    "                    s_janelas[sonda].insert(i, [copy.copy(prev), [copy.copy(janela[0]), copy.copy(release)]])\n",
    "                    # e atualizar prev e release da janela original\n",
    "                    s_janelas[sonda][i+1][0] = copy.copy(projeto)\n",
    "                    s_janelas[sonda][i+1][1][0] = copy.copy(release + setup + proc)\n",
    "                    \n",
    "                    #print ('projeto preenche meio da janela')\n",
    "                    \n",
    "                break\n",
    "            else:\n",
    "                # senão, tentar realocar projetos ---------------------------------- TODO\n",
    "                pass\n",
    "        \n",
    "        # atualizar dados de gastos\n",
    "        if (aloc):\n",
    "            gastos += dados_local[20][projeto]\n",
    "    \n",
    "    return fitness, s, s_janelas, s_candidatos"
   ]
  },
  {
   "cell_type": "code",
   "execution_count": null,
   "metadata": {},
   "outputs": [],
   "source": [
    "t_init, t_final, delta_t = 0, 5*12*4*7, 7"
   ]
  },
  {
   "cell_type": "code",
   "execution_count": null,
   "metadata": {},
   "outputs": [],
   "source": [
    "ConstruirSolucao(data, n_projetos, n_sondas, custo_total, t_init, t_final, delta_t)"
   ]
  },
  {
   "cell_type": "code",
   "execution_count": null,
   "metadata": {},
   "outputs": [],
   "source": [
    "def BuscaLocalSoft():\n",
    "    \n",
    "    return"
   ]
  },
  {
   "cell_type": "code",
   "execution_count": null,
   "metadata": {},
   "outputs": [],
   "source": [
    "def BuscarLocalHard():\n",
    "    \n",
    "    return"
   ]
  },
  {
   "cell_type": "code",
   "execution_count": null,
   "metadata": {},
   "outputs": [],
   "source": [
    "def GRASP():\n",
    "    \n",
    "    return"
   ]
  },
  {
   "cell_type": "code",
   "execution_count": null,
   "metadata": {},
   "outputs": [],
   "source": []
  },
  {
   "cell_type": "code",
   "execution_count": null,
   "metadata": {},
   "outputs": [],
   "source": []
  }
 ],
 "metadata": {
  "kernelspec": {
   "display_name": "Python 3",
   "language": "python",
   "name": "python3"
  },
  "language_info": {
   "codemirror_mode": {
    "name": "ipython",
    "version": 3
   },
   "file_extension": ".py",
   "mimetype": "text/x-python",
   "name": "python",
   "nbconvert_exporter": "python",
   "pygments_lexer": "ipython3",
   "version": "3.8.3"
  }
 },
 "nbformat": 4,
 "nbformat_minor": 4
}
