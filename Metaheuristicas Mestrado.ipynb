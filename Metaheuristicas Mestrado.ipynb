{
 "cells": [
  {
   "cell_type": "markdown",
   "metadata": {},
   "source": [
    "# Trabalhos concluídos"
   ]
  },
  {
   "cell_type": "markdown",
   "metadata": {},
   "source": [
    "1. Revisão bibliográfica e texto base\n",
    "2. Formulação matemática CTP\n",
    "3. Formulação matemática TI\n",
    "4. Gerador de instâncias sintéticas\n",
    "5. Modelo CPLEX para formulação CTP\n",
    "6. Modelo CPLEX para formulação TI"
   ]
  },
  {
   "cell_type": "markdown",
   "metadata": {},
   "source": [
    "# Metaheurísticas"
   ]
  },
  {
   "cell_type": "markdown",
   "metadata": {},
   "source": [
    "## Representação de uma solução viável (ideia inicial)"
   ]
  },
  {
   "cell_type": "markdown",
   "metadata": {},
   "source": [
    "- Cada sonda guarda uma lista (array) de projetos executados por ela (map <sonda, lista>)\n",
    "\n",
    "    - guardar projeto e tempos de início e término\n",
    "\n",
    "- Manter um contador de gastos (geral e por tipo de projeto)\n",
    "\n",
    "- Cada sonda guarda uma lista de janelas de tempo disponíveis\n",
    "\n",
    "- Cada sonda guarda uma lista de possíveis projetos (heap, com key por critério guloso)"
   ]
  },
  {
   "cell_type": "markdown",
   "metadata": {},
   "source": [
    "## Representação de uma solução viável (segunda versão)"
   ]
  },
  {
   "cell_type": "markdown",
   "metadata": {},
   "source": [
    "- Cada sonda guarda uma lista duplamente encadeada de atividades\n",
    "\n",
    "    - Atividades podem ser janelas de tempo ou alocações de projetos\n",
    "    \n",
    "    - Cada item da lista contém (atividade, inicio, final)\n",
    "\n",
    "- Manter um contador de gastos (geral e por tipo de projeto)\n",
    "\n",
    "- Cada sonda guarda uma lista de possíveis projetos (heap, com key por critério guloso)"
   ]
  },
  {
   "cell_type": "markdown",
   "metadata": {},
   "source": [
    "## Estruturas de dados"
   ]
  },
  {
   "cell_type": "markdown",
   "metadata": {},
   "source": [
    "- Doubly Linked list: representação da solução\n",
    "\n",
    "- Heap: candidatos a serem inseridos na solução"
   ]
  },
  {
   "cell_type": "markdown",
   "metadata": {},
   "source": [
    "# Critérios gulosos"
   ]
  },
  {
   "cell_type": "markdown",
   "metadata": {},
   "source": [
    "- lucro\n",
    "\n",
    "- lucro / custo\n",
    "\n",
    "- lucro / duração\n",
    "\n",
    "- lucro / distância"
   ]
  },
  {
   "cell_type": "markdown",
   "metadata": {},
   "source": [
    "## Heurística de construção"
   ]
  },
  {
   "cell_type": "markdown",
   "metadata": {},
   "source": [
    "1. Escolher uma sonda\n",
    "2. Escolher um projeto (dentro da heap de possíveis projetos)\n",
    "3. Alocar na sonda\n",
    "    - se for inviável (pelo tempo), tentar realocar até k projetos (menos restritivos dentro da janela do projeto a ser inserido)\n",
    "    - ou tentar realocar por sliding window\n",
    "4. Atualizar dados (gastos, janelas de tempo, projetos possíveis)\n",
    "5. Repetir até restrições serem alcançadas\n"
   ]
  },
  {
   "cell_type": "markdown",
   "metadata": {},
   "source": [
    "## Heurística de refinamento (busca local)"
   ]
  },
  {
   "cell_type": "markdown",
   "metadata": {},
   "source": [
    "### Estrutura de vizinhança 1: Inserir projeto ainda não escolhido\n",
    "\n",
    "- Escolher projeto por critério guloso (dentro dos não selecionados)\n",
    "\n",
    "- Tentar inserir sem remover ninguém\n",
    "\n",
    "- Se for inviável, então, dentro da janela do projeto a ser inserido:\n",
    "\n",
    "    - percorrer todos os projetos e escolher o maior ganho / menor perda, ao inserir o novo projeto (sliding window)\n",
    "    \n",
    "    - ou tentar realocar até k projetos (os k menos restritivos dentro da janela do projeto a ser inserido)"
   ]
  },
  {
   "cell_type": "markdown",
   "metadata": {},
   "source": [
    "### Estrutura de vizinhança 2: Remover k projetos e preencher com heurística de construção\n",
    "\n",
    "- Posso variar k projetos a serem removidos\n",
    "\n",
    "- Posso variar critério de remoção e reconstrução para maior diversificação\n"
   ]
  },
  {
   "cell_type": "markdown",
   "metadata": {},
   "source": [
    "## Crossover"
   ]
  },
  {
   "cell_type": "markdown",
   "metadata": {},
   "source": [
    "### Ideia 1: quando a instância tem mais de uma sonda\n",
    "\n",
    "Dadas duas soluções possíveis:\n",
    "\n",
    "- Dividir as sondas em dois conjuntos\n",
    "\n",
    "- Para a primeira solução, escolher o primeiro conjunto de sondas (solução parcial)\n",
    "\n",
    "- Para a segunda solução, escolher o segundo conjunto de sondas (solução complementar)\n",
    "\n",
    "- Remover aleatoriamente projetos que estejam tanto na solução parcial, quanto na complementar\n",
    "\n",
    "- Unir solução parcial com solução complementar\n",
    "\n",
    "- Para cada sonda\n",
    "\n",
    "    - Preencher buracos com heurística de construção"
   ]
  },
  {
   "cell_type": "markdown",
   "metadata": {},
   "source": [
    "### Idéia 2: mais genérica\n",
    "\n",
    "Dadas duas soluções possíveis, para cada sonda:\n",
    "\n",
    "- Dividir os projetos em dois grupos\n",
    "\n",
    "- Para a primeira solução, escolher o primeiro conjunto de projetos (solução parcial)\n",
    "\n",
    "- Para a segunda solução, escolher o segundo conjunto de projetos (solução complementar)\n",
    "\n",
    "- Remover aleatoriamente projetos que estejam tanto na solução parcial, quanto na complementar\n",
    "\n",
    "- Para cada projeto da solução complementar:\n",
    "\n",
    "    - Tentar inserir na solução parcial usando heurística de construção (projetos já selecionados)\n",
    "    \n",
    "- Preencher buracos com heurística de construção"
   ]
  },
  {
   "cell_type": "markdown",
   "metadata": {},
   "source": [
    "## Decodificador BRKGA"
   ]
  },
  {
   "cell_type": "markdown",
   "metadata": {},
   "source": [
    "### Representação:\n",
    "\n",
    "- Cada projeto recebe um número aleatório entre 0 e 1\n",
    "\n",
    "### Ideia:\n",
    "\n",
    "- Usar a heurística de construção, simplificada:\n",
    "\n",
    "    - Critério guloso: ordem dos números aleatórios\n",
    "    \n",
    "    - Eficiência: não pegar pesado em tentar viabilizar a inserção de projetos inviáveis\n",
    "\n",
    "- Construir parte da população inicial com GRASP"
   ]
  },
  {
   "cell_type": "markdown",
   "metadata": {},
   "source": [
    "## Lendo dados"
   ]
  },
  {
   "cell_type": "code",
   "execution_count": 1,
   "metadata": {},
   "outputs": [],
   "source": [
    "import copy"
   ]
  },
  {
   "cell_type": "code",
   "execution_count": 2,
   "metadata": {},
   "outputs": [
    {
     "name": "stdout",
     "output_type": "stream",
     "text": [
      " instancia_100projetos_10sondas.dat   instancia_300projetos_20sondas.dat\r\n",
      " instancia_100projetos_20sondas.dat   instancia_300projetos_2sondas.dat\r\n",
      " instancia_100projetos_2sondas.dat    instancia_300projetos_5sondas.dat\r\n",
      " instancia_100projetos_5sondas.dat    instancia_30projetos_2sondas.dat\r\n",
      " instancia_10projetos_2sondas.dat     instancia_500projetos_10sondas.dat\r\n",
      " instancia_200projetos_10sondas.dat   instancia_500projetos_20sondas.dat\r\n",
      " instancia_200projetos_20sondas.dat   instancia_500projetos_2sondas.dat\r\n",
      " instancia_200projetos_2sondas.dat    instancia_500projetos_5sondas.dat\r\n",
      " instancia_200projetos_5sondas.dat    instancia_50projetos_2sondas.dat\r\n",
      " instancia_20projetos_2sondas.dat    'Metaheuristicas Mestrado.ipynb'\r\n",
      " instancia_300projetos_10sondas.dat   synthetic_instance_generator.ipynb\r\n"
     ]
    }
   ],
   "source": [
    "ls"
   ]
  },
  {
   "cell_type": "code",
   "execution_count": 3,
   "metadata": {},
   "outputs": [],
   "source": [
    "coords_x = []\n",
    "coords_y = []\n",
    "bacias = []\n",
    "nomes = []\n",
    "maturidades = []\n",
    "qualidades = []\n",
    "plays = []\n",
    "soterramentos = []\n",
    "pcgnas = []\n",
    "geracao = []\n",
    "migracao = []\n",
    "reservatorio = []\n",
    "geometria = []\n",
    "retencao = []\n",
    "pshc = []\n",
    "mc_vol = []#print ('sonda: ', sonda, ' inserindo projeto ', projeto, ' nos tempos ', release, ' e ', \n",
    "                \n",
    "mi_vol = []\n",
    "mc_vpl = []\n",
    "mi_vpl = []\n",
    "custos = []\n",
    "tempos_exec = []\n",
    "inicio_janela = []\n",
    "final_janela = []\n",
    "sondas_x = []\n",
    "sondas_y = []\n",
    "\n",
    "data = {\n",
    "    1: coords_x,\n",
    "    2: coords_y,\n",
    "    3: bacias,\n",
    "    4: nomes,\n",
    "    5: maturidades,\n",
    "    6: qualidades,\n",
    "    7: plays,\n",
    "    8: soterramentos,\n",
    "    9: pcgnas,\n",
    "    10: geracao,\n",
    "    11: migracao,\n",
    "    12: reservatorio,\n",
    "    13: geometria,\n",
    "    14: retencao,\n",
    "    15: pshc,\n",
    "    16: mc_vol,\n",
    "    17: mi_vol,\n",
    "    18: mc_vpl,\n",
    "    19: mi_vpl,\n",
    "    20: custos,\n",
    "    21: tempos_exec,\n",
    "    22: inicio_janela,\n",
    "    23: final_janela,\n",
    "    25: sondas_x,\n",
    "    26: sondas_y\n",
    "}\n",
    "\n",
    "with open('instancia_10projetos_2sondas.dat', 'r') as f:\n",
    "    for i, line in enumerate(f):\n",
    "        if i == 0:\n",
    "            (n_projetos, custo_total) = int(line.split()[0]), float(line.split()[1])\n",
    "        elif i == 24:\n",
    "            n_sondas = int(line.split()[0])\n",
    "        else:\n",
    "            for elem in line.split('[')[1].split(']')[0].split(','):\n",
    "                try:\n",
    "                    data[i].append(float(elem))\n",
    "                except:\n",
    "                    data[i].append(elem)"
   ]
  },
  {
   "cell_type": "code",
   "execution_count": 4,
   "metadata": {},
   "outputs": [
    {
     "data": {
      "text/plain": [
       "10"
      ]
     },
     "execution_count": 4,
     "metadata": {},
     "output_type": "execute_result"
    }
   ],
   "source": [
    "n_projetos"
   ]
  },
  {
   "cell_type": "code",
   "execution_count": 5,
   "metadata": {},
   "outputs": [
    {
     "data": {
      "text/plain": [
       "524.1181725752178"
      ]
     },
     "execution_count": 5,
     "metadata": {},
     "output_type": "execute_result"
    }
   ],
   "source": [
    "custo_total"
   ]
  },
  {
   "cell_type": "code",
   "execution_count": 6,
   "metadata": {},
   "outputs": [
    {
     "data": {
      "text/plain": [
       "2"
      ]
     },
     "execution_count": 6,
     "metadata": {},
     "output_type": "execute_result"
    }
   ],
   "source": [
    "n_sondas"
   ]
  },
  {
   "cell_type": "markdown",
   "metadata": {},
   "source": [
    "## Implementação da primeira heurística de construção"
   ]
  },
  {
   "cell_type": "code",
   "execution_count": 7,
   "metadata": {},
   "outputs": [],
   "source": [
    "def ConstruirSolucao(dados, n_projetos, n_sondas, custo_total, t_init, t_final, delta_t, criterio='lucro/custo'):\n",
    "    \n",
    "    import math\n",
    "    import copy\n",
    "    import numpy as np\n",
    "    import heapq\n",
    "    \n",
    "    dados_local = copy.deepcopy(dados)\n",
    "    \n",
    "    n_periodos = ((t_final - t_init) // delta_t) + 1\n",
    "    \n",
    "    # convertendo dados de tempo para períodos -------------- TODO: verificar se não está somando 1 a mais\n",
    "    # ------------------------------------------------------- TODO: posso fazer isso como pré-processamento\n",
    "    for i in range(n_projetos):\n",
    "        dados_local[21][i] = (dados_local[21][i] // delta_t) + 1\n",
    "        dados_local[22][i] = (dados_local[22][i] // delta_t)\n",
    "        dados_local[23][i] = (dados_local[23][i] // delta_t)\n",
    "    \n",
    "    # calculando tempo de deslocamento entre projetos: ---------- TODO: posso fazer isso como pré-processamento\n",
    "    desloc = []\n",
    "    lag = n_sondas\n",
    "    for i in range(n_projetos+n_sondas):\n",
    "        desloc.append([])\n",
    "        for j in range(n_projetos+n_sondas):\n",
    "            if (i<n_sondas) and (j<n_sondas):\n",
    "                dist = math.sqrt( (dados[25][i] - dados[25][j])**2 + (dados[26][i] - dados[26][j])**2 )\n",
    "            elif (i<n_sondas) and not(j<n_sondas):\n",
    "                dist = math.sqrt( (dados[25][i] - dados[1][j-lag])**2 + (dados[25][i] - dados[2][j-lag])**2 )\n",
    "            elif not(i<n_sondas) and (j<n_sondas):\n",
    "                dist = math.sqrt( (dados[1][i-lag] - dados[26][j])**2 + (dados[2][i-lag] - dados[26][j])**2 )\n",
    "            else:\n",
    "                dist = math.sqrt( (dados[1][i-lag] - dados[1][j-lag])**2 + (dados[2][i-lag] - dados[2][j-lag])**2 )\n",
    "            \n",
    "            # converte para períodos: --------------------- TODO : verificar se não está somando 1 a mais\n",
    "            if delta_t == 1:\n",
    "                desloc[i].append(dist)\n",
    "            else:\n",
    "                desloc[i].append((dist // delta_t) + 1)\n",
    "    \n",
    "    # inicializando solução\n",
    "    s = {i:[] for i in range(n_sondas)}\n",
    "    \n",
    "    # inicializando janelas de tempo, por sonda\n",
    "    s_janelas = {i:[[-1, [0, n_periodos]]] for i in range(n_sondas)}\n",
    "    \n",
    "    # inicializando lista de candidatos, por sonda\n",
    "    s_candidatos = {i:[] for i in range(n_sondas)}\n",
    "    \n",
    "    # armazena lista de candidatos como uma heap: ------- OBS: valores keys multiplicados por -1 (MaxHeap)\n",
    "    # ---------------------------------- TODO: posso ordenar projetos pelo critério guloso como pré-processamento?\n",
    "    for i in range(n_sondas):\n",
    "        for j in range(n_projetos):\n",
    "            criterio_val = dados_local[19][j] / dados_local[20][j]\n",
    "            heapq.heappush( s_candidatos[i], (-criterio_val, j) )\n",
    "    \n",
    "    # inicializa contador de gastos total\n",
    "    gastos = 0\n",
    "    \n",
    "    proj_usados = set()\n",
    "    sondas = set([i for i in range(n_sondas)])\n",
    "    \n",
    "    fitness = 0\n",
    "    \n",
    "    while (gastos < custo_total and sondas):\n",
    "        \n",
    "        # escolher uma sonda\n",
    "        sonda = np.random.choice(list(sondas))\n",
    "        \n",
    "        # escolher um projeto\n",
    "        projeto = heapq.heappop(s_candidatos[sonda])[1]\n",
    "        \n",
    "        # se sonda não tem mais candidatos, remover ela da lista\n",
    "        if s_candidatos[sonda] == []:\n",
    "            sondas.remove(sonda)\n",
    "        \n",
    "        # se projeto já foi escolhido, pular\n",
    "        if (projeto in proj_usados):\n",
    "            continue\n",
    "        \n",
    "        # se existe janela disponível na sonda\n",
    "        aloc = False\n",
    "        proc = dados_local[21][projeto]\n",
    "        for i, (prev, janela) in enumerate(s_janelas[sonda]):\n",
    "            release = max(janela[0], dados_local[22][projeto])\n",
    "            due = min(janela[1], dados_local[23][projeto])\n",
    "            if prev == -1:\n",
    "                setup = desloc[sonda][projeto + lag]\n",
    "            else:\n",
    "                setup = desloc[prev + lag][projeto + lag]\n",
    "            if ( release + proc + setup <= due ):\n",
    "                \n",
    "                #print ('sonda: ', sonda, ' inserindo projeto ', projeto, ' nos tempos ', release, ' e ', \n",
    "                #       release+setup+proc, ' dentro da janela ', janela[0], janela[1])\n",
    "                \n",
    "                # alocar\n",
    "                s[sonda].append((copy.copy(projeto), copy.copy(release), copy.copy(release+setup+proc)))\n",
    "                proj_usados.add(copy.copy(projeto))\n",
    "                fitness += dados_local[19][projeto]\n",
    "                aloc = True\n",
    "                \n",
    "                # atualizar janela da sonda\n",
    "                \n",
    "                if ( (int(janela[0])==int(release)) and (int(janela[1])==int(release+setup+proc)) ):\n",
    "                    # remover janela\n",
    "                    s_janelas[sonda].pop(i)\n",
    "                    \n",
    "                    # print ('janela toda preenchida pelo projeto')\n",
    "                    \n",
    "                elif (int(janela[0])==int(release)):\n",
    "                    # atualizar release da janela e colocar o prev como o projeto alocado\n",
    "                    s_janelas[sonda][i][0] = copy.copy(projeto)\n",
    "                    s_janelas[sonda][i][1][0] = copy.copy(release + setup + proc)\n",
    "                    \n",
    "                    #print ('projeto preenche inicio da janela')\n",
    "                    \n",
    "                elif (int(janela[1])==int(release+setup+proc)):\n",
    "                    # atualiza due da janela, mantendo o prev\n",
    "                    s_janelas[sonda][i][1][1] = copy.copy(release)\n",
    "                    \n",
    "                    #print ('projeto preenche final da janela')\n",
    "                    \n",
    "                else:\n",
    "                    # abrir janela antes da release, cujo prev é o prev original\n",
    "                    s_janelas[sonda].insert(i, [copy.copy(prev), [copy.copy(janela[0]), copy.copy(release)]])\n",
    "                    # e atualizar prev e release da janela original\n",
    "                    s_janelas[sonda][i+1][0] = copy.copy(projeto)\n",
    "                    s_janelas[sonda][i+1][1][0] = copy.copy(release + setup + proc)\n",
    "                    \n",
    "                    #print ('projeto preenche meio da janela')\n",
    "                    \n",
    "                break\n",
    "            else:\n",
    "                # senão, tentar realocar projetos ---------------------------------- TODO\n",
    "                pass\n",
    "        \n",
    "        # atualizar dados de gastos\n",
    "        if (aloc):\n",
    "            gastos += dados_local[20][projeto]\n",
    "    \n",
    "    return fitness, s, s_janelas, s_candidatos"
   ]
  },
  {
   "cell_type": "code",
   "execution_count": 8,
   "metadata": {},
   "outputs": [],
   "source": [
    "t_init, t_final, delta_t = 0, 5*12*4*7, 7"
   ]
  },
  {
   "cell_type": "code",
   "execution_count": 9,
   "metadata": {},
   "outputs": [
    {
     "data": {
      "text/plain": [
       "(2306.9334613304236,\n",
       " {0: [(5, 116.0, 141.0), (6, 15.0, 50.0), (4, 176.0, 214.0), (7, 50.0, 89.0)],\n",
       "  1: [(9, 156.0, 197.0)]},\n",
       " {0: [[-1, [0, 15.0]],\n",
       "   [7, [89.0, 116.0]],\n",
       "   [5, [141.0, 176.0]],\n",
       "   [4, [214.0, 241]]],\n",
       "  1: [[-1, [0, 156.0]], [9, [197.0, 241]]]},\n",
       " {0: [(-1.568047372229324, 1),\n",
       "   (1.0954842694646125, 8),\n",
       "   (4.898278979284376, 0),\n",
       "   (4.058794717521798, 2)],\n",
       "  1: [(-2.139619506696249, 7),\n",
       "   (-1.659527893552874, 3),\n",
       "   (-1.568047372229324, 1),\n",
       "   (1.0954842694646125, 8),\n",
       "   (4.898278979284376, 0),\n",
       "   (4.058794717521798, 2)]})"
      ]
     },
     "execution_count": 9,
     "metadata": {},
     "output_type": "execute_result"
    }
   ],
   "source": [
    "ConstruirSolucao(data, n_projetos, n_sondas, custo_total, t_init, t_final, delta_t)"
   ]
  },
  {
   "cell_type": "markdown",
   "metadata": {},
   "source": [
    "## Classe para lista duplamente encadeada"
   ]
  },
  {
   "cell_type": "code",
   "execution_count": 10,
   "metadata": {},
   "outputs": [],
   "source": [
    "class Node:\n",
    "    \n",
    "    \"\"\"\n",
    "    Documentação:\n",
    "    \"\"\"\n",
    "    \n",
    "    def __init__(self, data=None):\n",
    "        self.data = data\n",
    "        self.next = None\n",
    "        self.prev = None\n",
    "    \n",
    "\n",
    "class DoublyLinkedList:\n",
    "    \n",
    "    \"\"\"\n",
    "    Documentação:\n",
    "    \"\"\"\n",
    "    \n",
    "    def __init__(self, nodes=None):\n",
    "        self.head = None\n",
    "        if nodes is not None:\n",
    "            node = Node(data=nodes.pop(0))\n",
    "            self.head = node\n",
    "            for elem in nodes:\n",
    "                new_node = Node(data=elem)\n",
    "                node.next = new_node\n",
    "                new_node.prev = node\n",
    "                node = node.next\n",
    "    \n",
    "    def __iter__(self):\n",
    "        node = self.head\n",
    "        while node is not None:\n",
    "            yield node\n",
    "            node = node.next\n",
    "    \n",
    "    def add_node_begining(self, value_to_add):\n",
    "        new_node = Node(data=value_to_add)\n",
    "        \n",
    "        if not self.head:\n",
    "            self.head = new_node\n",
    "            return\n",
    "        \n",
    "        new_node.next = self.head\n",
    "        self.head.prev = new_node\n",
    "        self.head = new_node\n",
    "    \n",
    "    def add_node_end(self, value_to_add):\n",
    "        \n",
    "        new_node = Node(data=value_to_add)\n",
    "        \n",
    "        if not self.head:\n",
    "            self.head = new_node\n",
    "            return\n",
    "        \n",
    "        for curr in self:\n",
    "            pass\n",
    "        curr.next = new_node\n",
    "        new_node.prev = curr\n",
    "    \n",
    "    def add_node_after_node(self, value_to_add, node_ref):\n",
    "        new_node = Node(data=value_to_add)\n",
    "        new_node.next = node_ref.next\n",
    "        new_node.prev = node_ref\n",
    "        node_ref.next.prev = new_node\n",
    "        node_ref.next = new_node\n",
    "    \n",
    "    def add_node_before_node(self, value_to_add, node_ref):\n",
    "        new_node = Node(data=value_to_add)\n",
    "        if node_ref == self.head:\n",
    "            self.head.prev = new_node\n",
    "            new_node.next = self.head\n",
    "            self.head = new_node\n",
    "        else:\n",
    "            node_ref.prev.next = new_node\n",
    "            new_node.prev = node_ref.prev\n",
    "            new_node.next = node_ref\n",
    "            node_ref.prev = new_node\n",
    "    \n",
    "    def remove_node_by_ref(self, node):\n",
    "        if node == self.head:\n",
    "            node.next.prev = None\n",
    "            self.head = node.next\n",
    "            del node\n",
    "        else:\n",
    "            node.next.prev = node.prev\n",
    "            node.prev.next = node.next\n",
    "            del node\n",
    "    \n",
    "    def find_value(self, value):\n",
    "        for node in self:\n",
    "            if node.data == value: break\n",
    "        return node"
   ]
  },
  {
   "cell_type": "markdown",
   "metadata": {},
   "source": [
    "## Testando lista encadeada"
   ]
  },
  {
   "cell_type": "code",
   "execution_count": 11,
   "metadata": {},
   "outputs": [],
   "source": [
    "dll = DoublyLinkedList()"
   ]
  },
  {
   "cell_type": "code",
   "execution_count": 12,
   "metadata": {},
   "outputs": [],
   "source": [
    "dll = DoublyLinkedList(nodes=[1, 2, 3])"
   ]
  },
  {
   "cell_type": "code",
   "execution_count": 13,
   "metadata": {},
   "outputs": [
    {
     "name": "stdout",
     "output_type": "stream",
     "text": [
      "1\n",
      "2\n",
      "3\n"
     ]
    }
   ],
   "source": [
    "for item in dll:\n",
    "    print (item.data)"
   ]
  },
  {
   "cell_type": "code",
   "execution_count": 14,
   "metadata": {},
   "outputs": [],
   "source": [
    "dll = DoublyLinkedList()"
   ]
  },
  {
   "cell_type": "code",
   "execution_count": 15,
   "metadata": {},
   "outputs": [],
   "source": [
    "for item in dll:\n",
    "    print (item.data)"
   ]
  },
  {
   "cell_type": "code",
   "execution_count": 16,
   "metadata": {},
   "outputs": [],
   "source": [
    "dll.add_node_begining(value_to_add=1)"
   ]
  },
  {
   "cell_type": "code",
   "execution_count": 17,
   "metadata": {},
   "outputs": [
    {
     "name": "stdout",
     "output_type": "stream",
     "text": [
      "1\n"
     ]
    }
   ],
   "source": [
    "for item in dll:\n",
    "    print (item.data)"
   ]
  },
  {
   "cell_type": "code",
   "execution_count": 18,
   "metadata": {},
   "outputs": [],
   "source": [
    "dll.add_node_begining(value_to_add=2)"
   ]
  },
  {
   "cell_type": "code",
   "execution_count": 19,
   "metadata": {},
   "outputs": [
    {
     "name": "stdout",
     "output_type": "stream",
     "text": [
      "2\n",
      "1\n"
     ]
    }
   ],
   "source": [
    "for item in dll:\n",
    "    print (item.data)"
   ]
  },
  {
   "cell_type": "code",
   "execution_count": 20,
   "metadata": {},
   "outputs": [],
   "source": [
    "dll.add_node_begining(value_to_add=3)"
   ]
  },
  {
   "cell_type": "code",
   "execution_count": 21,
   "metadata": {},
   "outputs": [
    {
     "name": "stdout",
     "output_type": "stream",
     "text": [
      "3\n",
      "2\n",
      "1\n"
     ]
    }
   ],
   "source": [
    "for item in dll:\n",
    "    print (item.data)"
   ]
  },
  {
   "cell_type": "code",
   "execution_count": 22,
   "metadata": {},
   "outputs": [],
   "source": [
    "dll.add_node_begining(value_to_add=4)"
   ]
  },
  {
   "cell_type": "code",
   "execution_count": 23,
   "metadata": {},
   "outputs": [
    {
     "name": "stdout",
     "output_type": "stream",
     "text": [
      "4\n",
      "3\n",
      "2\n",
      "1\n"
     ]
    }
   ],
   "source": [
    "for item in dll:\n",
    "    print (item.data)"
   ]
  },
  {
   "cell_type": "code",
   "execution_count": 24,
   "metadata": {},
   "outputs": [],
   "source": [
    "dll.add_node_end(value_to_add=5)"
   ]
  },
  {
   "cell_type": "code",
   "execution_count": 25,
   "metadata": {},
   "outputs": [
    {
     "name": "stdout",
     "output_type": "stream",
     "text": [
      "4\n",
      "3\n",
      "2\n",
      "1\n",
      "5\n"
     ]
    }
   ],
   "source": [
    "for item in dll:\n",
    "    print (item.data)"
   ]
  },
  {
   "cell_type": "code",
   "execution_count": 26,
   "metadata": {},
   "outputs": [],
   "source": [
    "dll.add_node_end(value_to_add=6)"
   ]
  },
  {
   "cell_type": "code",
   "execution_count": 27,
   "metadata": {},
   "outputs": [
    {
     "name": "stdout",
     "output_type": "stream",
     "text": [
      "4\n",
      "3\n",
      "2\n",
      "1\n",
      "5\n",
      "6\n"
     ]
    }
   ],
   "source": [
    "for item in dll:\n",
    "    print (item.data)"
   ]
  },
  {
   "cell_type": "code",
   "execution_count": 28,
   "metadata": {},
   "outputs": [],
   "source": [
    "node = dll.find_value(1)"
   ]
  },
  {
   "cell_type": "code",
   "execution_count": 29,
   "metadata": {},
   "outputs": [
    {
     "data": {
      "text/plain": [
       "1"
      ]
     },
     "execution_count": 29,
     "metadata": {},
     "output_type": "execute_result"
    }
   ],
   "source": [
    "node.data"
   ]
  },
  {
   "cell_type": "code",
   "execution_count": 30,
   "metadata": {},
   "outputs": [
    {
     "data": {
      "text/plain": [
       "5"
      ]
     },
     "execution_count": 30,
     "metadata": {},
     "output_type": "execute_result"
    }
   ],
   "source": [
    "node.next.data"
   ]
  },
  {
   "cell_type": "code",
   "execution_count": 31,
   "metadata": {},
   "outputs": [
    {
     "data": {
      "text/plain": [
       "2"
      ]
     },
     "execution_count": 31,
     "metadata": {},
     "output_type": "execute_result"
    }
   ],
   "source": [
    "node.prev.data"
   ]
  },
  {
   "cell_type": "code",
   "execution_count": 32,
   "metadata": {},
   "outputs": [],
   "source": [
    "dll.remove_node_by_ref(node)"
   ]
  },
  {
   "cell_type": "code",
   "execution_count": 33,
   "metadata": {},
   "outputs": [
    {
     "name": "stdout",
     "output_type": "stream",
     "text": [
      "4\n",
      "3\n",
      "2\n",
      "5\n",
      "6\n"
     ]
    }
   ],
   "source": [
    "for item in dll:\n",
    "    print (item.data)"
   ]
  },
  {
   "cell_type": "code",
   "execution_count": 34,
   "metadata": {},
   "outputs": [],
   "source": [
    "node_ref = dll.find_value(2)"
   ]
  },
  {
   "cell_type": "code",
   "execution_count": 35,
   "metadata": {},
   "outputs": [],
   "source": [
    "dll.add_node_after_node(value_to_add='X', node_ref=node_ref)"
   ]
  },
  {
   "cell_type": "code",
   "execution_count": 36,
   "metadata": {},
   "outputs": [
    {
     "name": "stdout",
     "output_type": "stream",
     "text": [
      "4\n",
      "3\n",
      "2\n",
      "X\n",
      "5\n",
      "6\n"
     ]
    }
   ],
   "source": [
    "for item in dll:\n",
    "    print (item.data)"
   ]
  },
  {
   "cell_type": "code",
   "execution_count": 37,
   "metadata": {},
   "outputs": [],
   "source": [
    "dll.add_node_before_node(value_to_add=\"Y\", node_ref=node_ref)"
   ]
  },
  {
   "cell_type": "code",
   "execution_count": 38,
   "metadata": {},
   "outputs": [
    {
     "name": "stdout",
     "output_type": "stream",
     "text": [
      "4\n",
      "3\n",
      "Y\n",
      "2\n",
      "X\n",
      "5\n",
      "6\n"
     ]
    }
   ],
   "source": [
    "for item in dll:\n",
    "    print (item.data)"
   ]
  },
  {
   "cell_type": "markdown",
   "metadata": {},
   "source": [
    "## Implementação da segunda ideia para heurística de construção"
   ]
  },
  {
   "cell_type": "code",
   "execution_count": 42,
   "metadata": {},
   "outputs": [],
   "source": [
    "def ConstruirSolucao(dados, n_projetos, n_sondas, custo_total, t_init, t_final, delta_t, criterio='lucro/custo'):\n",
    "    \n",
    "    import math\n",
    "    import copy\n",
    "    import numpy as np\n",
    "    import heapq\n",
    "    \n",
    "    dados_local = copy.deepcopy(dados)\n",
    "    \n",
    "    n_periodos = ((t_final - t_init) // delta_t) + 1\n",
    "    \n",
    "    # convertendo dados de tempo para períodos -------------- TODO: verificar se não está somando 1 a mais\n",
    "    # ------------------------------------------------------- TODO: posso fazer isso como pré-processamento\n",
    "    for i in range(n_projetos):\n",
    "        dados_local[21][i] = (dados_local[21][i] // delta_t) + 1\n",
    "        dados_local[22][i] = (dados_local[22][i] // delta_t)\n",
    "        dados_local[23][i] = (dados_local[23][i] // delta_t)\n",
    "    \n",
    "    # calculando tempo de deslocamento entre projetos: ---------- TODO: posso fazer isso como pré-processamento\n",
    "    desloc = []\n",
    "    lag = n_sondas\n",
    "    for i in range(n_projetos+n_sondas):\n",
    "        desloc.append([])\n",
    "        for j in range(n_projetos+n_sondas):\n",
    "            if (i<n_sondas) and (j<n_sondas):\n",
    "                dist = math.sqrt( (dados[25][i] - dados[25][j])**2 + (dados[26][i] - dados[26][j])**2 )\n",
    "            elif (i<n_sondas) and not(j<n_sondas):\n",
    "                dist = math.sqrt( (dados[25][i] - dados[1][j-lag])**2 + (dados[25][i] - dados[2][j-lag])**2 )\n",
    "            elif not(i<n_sondas) and (j<n_sondas):\n",
    "                dist = math.sqrt( (dados[1][i-lag] - dados[26][j])**2 + (dados[2][i-lag] - dados[26][j])**2 )\n",
    "            else:\n",
    "                dist = math.sqrt( (dados[1][i-lag] - dados[1][j-lag])**2 + (dados[2][i-lag] - dados[2][j-lag])**2 )\n",
    "            \n",
    "            # converte para períodos: --------------------- TODO : verificar se não está somando 1 a mais\n",
    "            if delta_t == 1:\n",
    "                desloc[i].append(dist)\n",
    "            else:\n",
    "                desloc[i].append((dist // delta_t) + 1)\n",
    "    \n",
    "    # inicializando solução\n",
    "    s = {i:DoublyLinkedList(nodes=[[-1, 0, n_periodos]]) for i in range(n_sondas)}\n",
    "    \n",
    "    # inicializando lista de candidatos, por sonda\n",
    "    s_candidatos = {i:[] for i in range(n_sondas)}\n",
    "    \n",
    "    # armazena lista de candidatos como uma heap: ------- OBS: valores keys multiplicados por -1 (MaxHeap)\n",
    "    # ---------------------------------- TODO: posso ordenar projetos pelo critério guloso como pré-processamento?\n",
    "    for i in range(n_sondas):\n",
    "        for j in range(n_projetos):\n",
    "            criterio_val = dados_local[19][j] / dados_local[20][j]\n",
    "            heapq.heappush( s_candidatos[i], (-criterio_val, j) )\n",
    "    \n",
    "    # inicializa contador de gastos total\n",
    "    gastos = 0\n",
    "    \n",
    "    proj_usados = set()\n",
    "    sondas = set([i for i in range(n_sondas)])\n",
    "    \n",
    "    fitness = 0\n",
    "    \n",
    "    while (gastos < custo_total and sondas):\n",
    "        \n",
    "        # escolher uma sonda\n",
    "        sonda = np.random.choice(list(sondas))\n",
    "        \n",
    "        # escolher um projeto\n",
    "        projeto = heapq.heappop(s_candidatos[sonda])[1]\n",
    "        \n",
    "        # se sonda não tem mais candidatos, remover ela da lista\n",
    "        if s_candidatos[sonda] == []:\n",
    "            sondas.remove(sonda)\n",
    "        \n",
    "        # se projeto já foi escolhido, pular\n",
    "        if (projeto in proj_usados):\n",
    "            continue\n",
    "        \n",
    "        aloc = False\n",
    "        proc = dados_local[21][projeto]\n",
    "        \n",
    "        # percorre atividades da sonda para ver se existe janela disponível na sonda\n",
    "        for i, node in enumerate(s[sonda]):\n",
    "            \n",
    "            # se node não for de janela de tempo, pular\n",
    "            if (node.data[0] != -1):\n",
    "                continue\n",
    "            \n",
    "            release = max(node.data[1], dados_local[22][projeto])\n",
    "            due = min(node.data[2], dados_local[23][projeto])\n",
    "            \n",
    "            # se node for head, considerar origem da sonda\n",
    "            if node.prev == None:\n",
    "                setup = desloc[sonda][projeto + lag]\n",
    "            # senão, considerar projeto anterior\n",
    "            else:\n",
    "                setup = desloc[node.prev.data[0] + lag][projeto + lag]\n",
    "            \n",
    "            # se consigo colocar o projeto dentro da janela\n",
    "            if (release + proc + setup <= due):\n",
    "                \n",
    "                #print ('sonda: ', sonda, ' inserindo projeto ', projeto, ' nos tempos ', release, ' e ', \n",
    "                #       release+setup+proc, ' dentro da janela ', janela[0], janela[1])\n",
    "                \n",
    "                # alocar\n",
    "                proj_usados.add(copy.copy(projeto))\n",
    "                fitness += dados_local[19][projeto]\n",
    "                aloc = True\n",
    "                inicio = copy.copy(release)\n",
    "                final = copy.copy(release + setup + proc)\n",
    "                \n",
    "                # se projeto preenche janela toda\n",
    "                if ( (int(node.data[1])==int(inicio)) and (int(node.data[2])==int(final)) ):\n",
    "                    \n",
    "                    # substituir janela pela alocação do projeto\n",
    "                    node.data = [copy.copy(projeto), inicio, final]\n",
    "                \n",
    "                # senão, se projeto preenche início da janela    \n",
    "                elif (int(node.data[1])==int(inicio)):\n",
    "                    \n",
    "                    # atualizar release da janela\n",
    "                    node.data[1] = final\n",
    "                    \n",
    "                    # inserir projeto antes da janela\n",
    "                    s[sonda].add_node_before_node(value_to_add=[projeto, inicio, final], node_ref=node)\n",
    "                \n",
    "                # senão, se projeto preenche final da janela\n",
    "                elif (int(node.data[2])==int(final)):\n",
    "                    \n",
    "                    # atualiza a due da janela\n",
    "                    node.data[2] = inicio\n",
    "                    \n",
    "                    # inserir projeto depois da janela\n",
    "                    s[sonda].add_node_after_node(value_to_add=[projeto, inicio, final], node_ref=node)\n",
    "                \n",
    "                # senão, se projeto preenche o meio da janela\n",
    "                else:\n",
    "                    \n",
    "                    # atualiza release da janela\n",
    "                    temp = copy.copy(node.data[1])\n",
    "                    node.data[1] = final\n",
    "                    \n",
    "                    # insere janela nova antes da janela original\n",
    "                    s[sonda].add_node_before_node(value_to_add=[-1, temp, inicio], node_ref=node)\n",
    "                    \n",
    "                    # insere projeto antes da janela original\n",
    "                    s[sonda].add_node_before_node(value_to_add=[projeto, inicio, final], node_ref=node)\n",
    "                    \n",
    "                break\n",
    "            else:\n",
    "                # senão, tentar realocar projetos ---------------------------------- TODO\n",
    "                \n",
    "                # 1. verificar se janela da sonda tem interceção com janela do projeto\n",
    "                # 2. se sim, \n",
    "                #              consigo antecipar o prev? quanto?\n",
    "                #              consigo postergar o next? quanto?\n",
    "                #              somando, é viável inserir projeto?\n",
    "                #              se sim, fazer modificações\n",
    "                \n",
    "                \n",
    "                pass\n",
    "        \n",
    "        # atualizar dados de gastos\n",
    "        if (aloc):\n",
    "            gastos += dados_local[20][projeto]\n",
    "    \n",
    "    return fitness, s, s_candidatos"
   ]
  },
  {
   "cell_type": "code",
   "execution_count": 54,
   "metadata": {},
   "outputs": [],
   "source": [
    "t_init, t_final, delta_t = 0, 5*12*4*7, 7"
   ]
  },
  {
   "cell_type": "code",
   "execution_count": 76,
   "metadata": {},
   "outputs": [],
   "source": [
    "f, s, _ = ConstruirSolucao(data, n_projetos, n_sondas, custo_total, t_init, t_final, delta_t)"
   ]
  },
  {
   "cell_type": "code",
   "execution_count": 77,
   "metadata": {},
   "outputs": [
    {
     "data": {
      "text/plain": [
       "2306.933461330424"
      ]
     },
     "execution_count": 77,
     "metadata": {},
     "output_type": "execute_result"
    }
   ],
   "source": [
    "f"
   ]
  },
  {
   "cell_type": "code",
   "execution_count": 78,
   "metadata": {},
   "outputs": [
    {
     "name": "stdout",
     "output_type": "stream",
     "text": [
      "0 [-1, 0, 15.0]\n",
      "0 [6, 15.0, 50.0]\n",
      "0 [-1, 50.0, 176.0]\n",
      "0 [4, 176.0, 212.0]\n",
      "0 [-1, 212.0, 241]\n",
      "1 [-1, 0, 5.0]\n",
      "1 [7, 5.0, 49.0]\n",
      "1 [-1, 49.0, 116.0]\n",
      "1 [5, 116.0, 141.0]\n",
      "1 [-1, 141.0, 156.0]\n",
      "1 [9, 156.0, 199.0]\n",
      "1 [-1, 199.0, 241]\n"
     ]
    }
   ],
   "source": [
    "for i in range(n_sondas):\n",
    "    for node in s[i]:\n",
    "        print (i, node.data)"
   ]
  },
  {
   "cell_type": "code",
   "execution_count": null,
   "metadata": {},
   "outputs": [],
   "source": []
  },
  {
   "cell_type": "code",
   "execution_count": null,
   "metadata": {},
   "outputs": [],
   "source": []
  },
  {
   "cell_type": "code",
   "execution_count": null,
   "metadata": {},
   "outputs": [],
   "source": []
  },
  {
   "cell_type": "code",
   "execution_count": null,
   "metadata": {},
   "outputs": [],
   "source": [
    "def BuscaLocalSoft():\n",
    "    \n",
    "    return"
   ]
  },
  {
   "cell_type": "code",
   "execution_count": null,
   "metadata": {},
   "outputs": [],
   "source": [
    "def BuscarLocalHard():\n",
    "    \n",
    "    return"
   ]
  },
  {
   "cell_type": "code",
   "execution_count": null,
   "metadata": {},
   "outputs": [],
   "source": [
    "def GRASP():\n",
    "    \n",
    "    return"
   ]
  },
  {
   "cell_type": "code",
   "execution_count": null,
   "metadata": {},
   "outputs": [],
   "source": []
  },
  {
   "cell_type": "code",
   "execution_count": null,
   "metadata": {},
   "outputs": [],
   "source": []
  }
 ],
 "metadata": {
  "kernelspec": {
   "display_name": "Python 3",
   "language": "python",
   "name": "python3"
  },
  "language_info": {
   "codemirror_mode": {
    "name": "ipython",
    "version": 3
   },
   "file_extension": ".py",
   "mimetype": "text/x-python",
   "name": "python",
   "nbconvert_exporter": "python",
   "pygments_lexer": "ipython3",
   "version": "3.8.3"
  }
 },
 "nbformat": 4,
 "nbformat_minor": 4
}
